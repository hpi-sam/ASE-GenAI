{
 "cells": [
  {
   "cell_type": "markdown",
   "metadata": {},
   "source": [
    "# Assignment 3 - Task 1\n",
    "\n",
    "Group: David, Chrisitan\n",
    "\n",
    "Goal: Measure impact of distribution shifts in the `Worker.profession` input feature."
   ]
  },
  {
   "cell_type": "code",
   "execution_count": 1,
   "metadata": {},
   "outputs": [
    {
     "name": "stderr",
     "output_type": "stream",
     "text": [
      "2025-02-09 14:56:21.812343: I tensorflow/core/util/port.cc:153] oneDNN custom operations are on. You may see slightly different numerical results due to floating-point round-off errors from different computation orders. To turn them off, set the environment variable `TF_ENABLE_ONEDNN_OPTS=0`.\n",
      "2025-02-09 14:56:24.117857: E external/local_xla/xla/stream_executor/cuda/cuda_fft.cc:477] Unable to register cuFFT factory: Attempting to register factory for plugin cuFFT when one has already been registered\n",
      "WARNING: All log messages before absl::InitializeLog() is called are written to STDERR\n",
      "E0000 00:00:1739109385.064640     921 cuda_dnn.cc:8310] Unable to register cuDNN factory: Attempting to register factory for plugin cuDNN when one has already been registered\n",
      "E0000 00:00:1739109385.348340     921 cuda_blas.cc:1418] Unable to register cuBLAS factory: Attempting to register factory for plugin cuBLAS when one has already been registered\n",
      "2025-02-09 14:56:28.004707: I tensorflow/core/platform/cpu_feature_guard.cc:210] This TensorFlow binary is optimized to use available CPU instructions in performance-critical operations.\n",
      "To enable the following instructions: AVX2 AVX_VNNI FMA, in other operations, rebuild TensorFlow with the appropriate compiler flags.\n"
     ]
    },
    {
     "data": {
      "text/html": [
       "\n",
       "<p style=\"margin:0px;\">🌲 Try <a href=\"https://ydf.readthedocs.io/en/latest/\" target=\"_blank\">YDF</a>, the successor of\n",
       "    <a href=\"https://www.tensorflow.org/decision_forests\" target=\"_blank\">TensorFlow\n",
       "        Decision Forests</a> using the same algorithms but with more features and faster\n",
       "    training!\n",
       "</p>\n",
       "<div style=\"display: flex; flex-wrap: wrap; margin:5px;max-width: 880px;\">\n",
       "    <div style=\"flex: 1; border-radius: 10px; background-color: F0F0F0; padding: 5px;\">\n",
       "        <p\n",
       "            style=\"font-weight: bold; margin:0px;text-align: center;border-bottom: 1px solid #C0C0C0;margin-bottom: 4px;\">\n",
       "            Old code</p>\n",
       "        <pre style=\"overflow-wrap: anywhere; overflow: auto; margin:0px;font-size: 9pt;\">\n",
       "import tensorflow_decision_forests as tfdf\n",
       "\n",
       "tf_ds = tfdf.keras.pd_dataframe_to_tf_dataset(ds, label=\"l\")\n",
       "model = tfdf.keras.RandomForestModel(label=\"l\")\n",
       "model.fit(tf_ds)\n",
       "</pre>\n",
       "    </div>\n",
       "    <div style=\"width: 5px;\"></div>\n",
       "    <div style=\"flex: 1; border-radius: 10px; background-color: F0F0F0; padding: 5px;\">\n",
       "        <p\n",
       "            style=\"font-weight: bold; margin:0px;text-align: center;border-bottom: 1px solid #C0C0C0;margin-bottom: 4px;\">\n",
       "            New code</p>\n",
       "        <pre style=\"overflow-wrap: anywhere; overflow: auto; margin:0px;font-size: 9pt;\">\n",
       "import ydf\n",
       "\n",
       "model = ydf.RandomForestLearner(label=\"l\").train(ds)\n",
       "</pre>\n",
       "    </div>\n",
       "</div>\n",
       "<p style=\"margin:0px;font-size: 9pt;\">(Learn more in the <a\n",
       "        href=\"https://ydf.readthedocs.io/en/latest/tutorial/migrating_to_ydf/\" target=\"_blank\">migration\n",
       "        guide</a>)</p>\n"
      ],
      "text/plain": [
       "<IPython.core.display.HTML object>"
      ]
     },
     "metadata": {},
     "output_type": "display_data"
    }
   ],
   "source": [
    "import pandas as pd\n",
    "import numpy as np\n",
    "import sklearn\n",
    "import json\n",
    "\n",
    "import os\n",
    "# Keep using Keras 2\n",
    "os.environ['TF_USE_LEGACY_KERAS'] = '1'\n",
    "\n",
    "import tensorflow_decision_forests as tfdf"
   ]
  },
  {
   "cell_type": "markdown",
   "metadata": {},
   "source": [
    "## Dataset preparation\n",
    "\n",
    "In preparation we split the dataset into \"Students\" (i.e. \"Graduates\" and \"Undergraduates\") and \"Non-Students\".\n",
    "\n",
    "We split the \"Students\" dataset into a training and holdout set by a factor of `0.2`.\n",
    "To ensure an even distribution of `GroundTruth` values across both sets, we split the \"Students\" dataset by `GroundTruth` value, and randomly select 20% of each for the holdout set."
   ]
  },
  {
   "cell_type": "code",
   "execution_count": 13,
   "metadata": {},
   "outputs": [],
   "source": [
    "df = pd.read_csv('answerList_data.csv')\n",
    "\n",
    "# Split dataset into students and non-students\n",
    "def split_dataset(df):\n",
    "    students = ['Undergraduate_Student', 'Graduate_Student']\n",
    "    students_df = df[df['Worker.profession'].isin(students)]\n",
    "    non_students_df = df[~df['Worker.profession'].isin(students)]\n",
    "    return students_df, non_students_df\n",
    "\n",
    "students_df, non_students_df = split_dataset(df)\n",
    "\n",
    "# Split dataframe into train and test set\n",
    "def split_train_test(df, factor=0.2):\n",
    "    df_gt = df[df['GroundTruth'] == 1]\n",
    "    df_ngt = df[df['GroundTruth'] == 0]\n",
    "    df_gt_train, df_gt_test = sklearn.model_selection.train_test_split(df_gt, test_size=factor)\n",
    "    df_ngt_train, df_ngt_test = sklearn.model_selection.train_test_split(df_ngt, test_size=factor)\n",
    "    df_train = pd.concat([df_gt_train, df_ngt_train], ignore_index=True).drop(columns=['TN', 'FN', 'TP', 'FP'])\n",
    "    df_test = pd.concat([df_gt_test, df_ngt_test], ignore_index=True).drop(columns=['TN', 'FN', 'TP', 'FP'])\n",
    "    return df_train, df_test\n",
    "\n",
    "students_train_df, students_test_df = split_train_test(students_df)"
   ]
  },
  {
   "cell_type": "code",
   "execution_count": 14,
   "metadata": {},
   "outputs": [],
   "source": [
    "# Convert dataframes to datasets\n",
    "label = \"GroundTruth\"\n",
    "\n",
    "students_train_ds = tfdf.keras.pd_dataframe_to_tf_dataset(students_train_df, label=label)\n",
    "students_test_ds = tfdf.keras.pd_dataframe_to_tf_dataset(students_test_df, label=label)"
   ]
  },
  {
   "cell_type": "markdown",
   "metadata": {},
   "source": [
    "## Classifier training\n",
    "\n",
    "We use the `tfdf` module and train the student classifier using a random forest model with a tuner."
   ]
  },
  {
   "cell_type": "code",
   "execution_count": 15,
   "metadata": {},
   "outputs": [
    {
     "name": "stdout",
     "output_type": "stream",
     "text": [
      "Use /tmp/tmpcodpymw1 as temporary training directory\n",
      "Reading training dataset...\n",
      "Training tensor examples:\n",
      "Features: {'Answer.ID': <tf.Tensor 'data:0' shape=(None,) dtype=int64>, 'FailingMethod': <tf.Tensor 'data_1:0' shape=(None,) dtype=string>, 'Question.ID': <tf.Tensor 'data_2:0' shape=(None,) dtype=int64>, 'Answer.duration': <tf.Tensor 'data_3:0' shape=(None,) dtype=float64>, 'Answer.confidence': <tf.Tensor 'data_4:0' shape=(None,) dtype=int64>, 'Answer.difficulty': <tf.Tensor 'data_5:0' shape=(None,) dtype=int64>, 'Answer.option': <tf.Tensor 'data_6:0' shape=(None,) dtype=string>, 'Answer.order': <tf.Tensor 'data_7:0' shape=(None,) dtype=int64>, 'Answer.explanation': <tf.Tensor 'data_8:0' shape=(None,) dtype=string>, 'Code.LOC': <tf.Tensor 'data_9:0' shape=(None,) dtype=int64>, 'Code.complexity': <tf.Tensor 'data_10:0' shape=(None,) dtype=int64>, 'Worker.ID': <tf.Tensor 'data_11:0' shape=(None,) dtype=string>, 'Worker.score': <tf.Tensor 'data_12:0' shape=(None,) dtype=int64>, 'Worker.profession': <tf.Tensor 'data_13:0' shape=(None,) dtype=string>, 'Worker.yearsOfExperience': <tf.Tensor 'data_14:0' shape=(None,) dtype=float64>, 'Worker.age': <tf.Tensor 'data_15:0' shape=(None,) dtype=int64>, 'Worker.gender': <tf.Tensor 'data_16:0' shape=(None,) dtype=string>, 'Worker.whereLearnedToCode': <tf.Tensor 'data_17:0' shape=(None,) dtype=string>, 'Worker.country': <tf.Tensor 'data_18:0' shape=(None,) dtype=string>, 'Worker.programmingLanguage': <tf.Tensor 'data_19:0' shape=(None,) dtype=string>}\n",
      "Label: Tensor(\"data_20:0\", shape=(None,), dtype=int64)\n",
      "Weights: None\n",
      "Normalized tensor features:\n",
      " {'Answer.ID': SemanticTensor(semantic=<Semantic.NUMERICAL: 1>, tensor=<tf.Tensor 'Cast:0' shape=(None,) dtype=float32>), 'FailingMethod': SemanticTensor(semantic=<Semantic.CATEGORICAL: 2>, tensor=<tf.Tensor 'data_1:0' shape=(None,) dtype=string>), 'Question.ID': SemanticTensor(semantic=<Semantic.NUMERICAL: 1>, tensor=<tf.Tensor 'Cast_1:0' shape=(None,) dtype=float32>), 'Answer.duration': SemanticTensor(semantic=<Semantic.NUMERICAL: 1>, tensor=<tf.Tensor 'Cast_2:0' shape=(None,) dtype=float32>), 'Answer.confidence': SemanticTensor(semantic=<Semantic.NUMERICAL: 1>, tensor=<tf.Tensor 'Cast_3:0' shape=(None,) dtype=float32>), 'Answer.difficulty': SemanticTensor(semantic=<Semantic.NUMERICAL: 1>, tensor=<tf.Tensor 'Cast_4:0' shape=(None,) dtype=float32>), 'Answer.option': SemanticTensor(semantic=<Semantic.CATEGORICAL: 2>, tensor=<tf.Tensor 'data_6:0' shape=(None,) dtype=string>), 'Answer.order': SemanticTensor(semantic=<Semantic.NUMERICAL: 1>, tensor=<tf.Tensor 'Cast_5:0' shape=(None,) dtype=float32>), 'Answer.explanation': SemanticTensor(semantic=<Semantic.CATEGORICAL: 2>, tensor=<tf.Tensor 'data_8:0' shape=(None,) dtype=string>), 'Code.LOC': SemanticTensor(semantic=<Semantic.NUMERICAL: 1>, tensor=<tf.Tensor 'Cast_6:0' shape=(None,) dtype=float32>), 'Code.complexity': SemanticTensor(semantic=<Semantic.NUMERICAL: 1>, tensor=<tf.Tensor 'Cast_7:0' shape=(None,) dtype=float32>), 'Worker.ID': SemanticTensor(semantic=<Semantic.CATEGORICAL: 2>, tensor=<tf.Tensor 'data_11:0' shape=(None,) dtype=string>), 'Worker.score': SemanticTensor(semantic=<Semantic.NUMERICAL: 1>, tensor=<tf.Tensor 'Cast_8:0' shape=(None,) dtype=float32>), 'Worker.profession': SemanticTensor(semantic=<Semantic.CATEGORICAL: 2>, tensor=<tf.Tensor 'data_13:0' shape=(None,) dtype=string>), 'Worker.yearsOfExperience': SemanticTensor(semantic=<Semantic.NUMERICAL: 1>, tensor=<tf.Tensor 'Cast_9:0' shape=(None,) dtype=float32>), 'Worker.age': SemanticTensor(semantic=<Semantic.NUMERICAL: 1>, tensor=<tf.Tensor 'Cast_10:0' shape=(None,) dtype=float32>), 'Worker.gender': SemanticTensor(semantic=<Semantic.CATEGORICAL: 2>, tensor=<tf.Tensor 'data_16:0' shape=(None,) dtype=string>), 'Worker.whereLearnedToCode': SemanticTensor(semantic=<Semantic.CATEGORICAL: 2>, tensor=<tf.Tensor 'data_17:0' shape=(None,) dtype=string>), 'Worker.country': SemanticTensor(semantic=<Semantic.CATEGORICAL: 2>, tensor=<tf.Tensor 'data_18:0' shape=(None,) dtype=string>), 'Worker.programmingLanguage': SemanticTensor(semantic=<Semantic.CATEGORICAL: 2>, tensor=<tf.Tensor 'data_19:0' shape=(None,) dtype=string>)}\n",
      "Training dataset read in 0:00:00.321924. Found 645 examples.\n",
      "Training model...\n",
      "Model trained in 0:05:03.480241\n",
      "Compiling model...\n",
      "Model compiled.\n"
     ]
    },
    {
     "data": {
      "text/plain": [
       "<tf_keras.src.callbacks.History at 0x7f85a536c820>"
      ]
     },
     "execution_count": 15,
     "metadata": {},
     "output_type": "execute_result"
    }
   ],
   "source": [
    "# Train classifier\n",
    "#\n",
    "# Skip if previously trained model and train/test split has been saved\n",
    "\n",
    "tuner = tfdf.tuner.RandomSearch(num_trials=50, use_predefined_hps=True)\n",
    "students_classifier = tfdf.keras.RandomForestModel(tuner=tuner)\n",
    "\n",
    "students_classifier.fit(students_train_ds, verbose=2)"
   ]
  },
  {
   "cell_type": "code",
   "execution_count": 18,
   "metadata": {},
   "outputs": [
    {
     "name": "stdout",
     "output_type": "stream",
     "text": [
      "INFO:tensorflow:Assets written to: models/students_classifier/assets\n"
     ]
    },
    {
     "name": "stderr",
     "output_type": "stream",
     "text": [
      "INFO:tensorflow:Assets written to: models/students_classifier/assets\n"
     ]
    }
   ],
   "source": [
    "# Optionally save trained classifier model and train/test split used\n",
    "\n",
    "path = \"models/students_classifier\"\n",
    "overwrite = True\n",
    "if (not os.path.isdir(path)) or overwrite:\n",
    "    students_classifier.save(path, overwrite=overwrite)\n",
    "\n",
    "    students_train_id = students_train_df['Answer.ID'].to_list()\n",
    "    students_test_id = students_test_df['Answer.ID'].to_list()\n",
    "    with open(path + '_split.txt', 'w', encoding='utf-8') as f:\n",
    "        json.dump({'train_id': students_train_id, 'test_id': students_test_id}, f)"
   ]
  },
  {
   "cell_type": "code",
   "execution_count": 19,
   "metadata": {},
   "outputs": [
    {
     "name": "stderr",
     "output_type": "stream",
     "text": [
      "2025-02-09 15:23:16.877566: I tensorflow_decision_forests/tensorflow/ops/inference/kernel.cc:1206] Loading model from path models/students_classifier/assets/ with prefix 89ee8a69c34f409e\n",
      "I0000 00:00:1739110999.791129    2397 decision_forest.cc:761] Model loaded with 300 root(s), 20866 node(s), and 19 input feature(s).\n",
      "I0000 00:00:1739110999.791171    2397 abstract_model.cc:1404] Engine \"RandomForestGeneric\" built\n",
      "2025-02-09 15:23:19.791186: I tensorflow_decision_forests/tensorflow/ops/inference/kernel.cc:1035] Use fast generic engine\n"
     ]
    }
   ],
   "source": [
    "# Optionally load a previously saved model and train/test split used\n",
    "import tensorflow as tf\n",
    "\n",
    "def load_model(path):\n",
    "    classifier = tf.keras.models.load_model(path)\n",
    "    with open(path + '_split.txt', 'r') as f:\n",
    "        split = json.load(f)\n",
    "    train_id = split['train_id']\n",
    "    test_id = split['test_id']\n",
    "    train_df = df[df['Answer.ID'].isin(train_id)].drop(columns=['TN', 'FN', 'TP', 'FP'])\n",
    "    test_df = df[df['Answer.ID'].isin(test_id)].drop(columns=['TN', 'FN', 'TP', 'FP'])\n",
    "    return classifier, train_df, test_df\n",
    "\n",
    "path = \"models/students_classifier\"\n",
    "students_classifier, students_train_df, students_test_df = load_model(path)\n",
    "\n",
    "label = \"GroundTruth\"\n",
    "students_train_ds = tfdf.keras.pd_dataframe_to_tf_dataset(students_train_df, label=label)\n",
    "students_test_ds = tfdf.keras.pd_dataframe_to_tf_dataset(students_test_df, label=label)"
   ]
  },
  {
   "cell_type": "markdown",
   "metadata": {},
   "source": [
    "## Classifier evaluation\n",
    "\n",
    "To evaluate the performance of the student classifier we compile loss, precision, and recall on the holdout (i.e. test) set."
   ]
  },
  {
   "cell_type": "code",
   "execution_count": 20,
   "metadata": {},
   "outputs": [
    {
     "name": "stdout",
     "output_type": "stream",
     "text": [
      "1/1 [==============================] - 0s 166ms/step - loss: 0.0000e+00 - precision: 1.0000 - recall: 0.6129\n",
      "loss: 0.0000\n",
      "precision: 1.0000\n",
      "recall: 0.6129\n"
     ]
    }
   ],
   "source": [
    "students_classifier.compile(metrics=['Precision', 'Recall'])\n",
    "students_classifier_evaluation = students_classifier.evaluate(students_test_ds, return_dict=True)\n",
    "\n",
    "for metric, value in students_classifier_evaluation.items():\n",
    "    print(f\"{metric}: {value:.4f}\")"
   ]
  },
  {
   "cell_type": "markdown",
   "metadata": {},
   "source": [
    "In this instance, the random forest classifier with a tuner running 100 trials, the loss is at `0.0000`, precision is at `1.0000`, and recall is at `0.6129`.\n",
    "\n",
    "### Predictions\n",
    "\n",
    "Additionally, we generate a plot to visualize how often the classifier predicted true/false."
   ]
  },
  {
   "cell_type": "code",
   "execution_count": 21,
   "metadata": {},
   "outputs": [
    {
     "name": "stdout",
     "output_type": "stream",
     "text": [
      "1/1 - 0s - 52ms/epoch - 52ms/step\n"
     ]
    }
   ],
   "source": [
    "students_classifier_predictions = students_classifier.predict(students_test_ds, verbose=2)"
   ]
  },
  {
   "cell_type": "code",
   "execution_count": 22,
   "metadata": {},
   "outputs": [
    {
     "data": {
      "image/png": "[encoded data removed]",
      "text/plain": [
       "<Figure size 640x480 with 1 Axes>"
      ]
     },
     "metadata": {},
     "output_type": "display_data"
    }
   ],
   "source": [
    "def get_test_eval(dataframe):\n",
    "    test_eval = dataframe.copy()\n",
    "    test_eval['Prediction'] = students_classifier_predictions\n",
    "    test_eval['PredictionRounded'] = students_classifier_predictions\n",
    "    test_eval.PredictionRounded = test_eval.PredictionRounded.round()\n",
    "    test_eval['RightPrediction'] = np.where(test_eval['PredictionRounded'] == test_eval['GroundTruth'], True, False)\n",
    "    test_eval['ExplanationLength'] = test_eval['Answer.explanation'].str.len()\n",
    "    return test_eval\n",
    "\n",
    "students_test_eval_df = get_test_eval(students_test_df)\n",
    "students_test_eval_plot = students_test_eval_df['PredictionRounded'].value_counts().plot(kind='bar')"
   ]
  },
  {
   "cell_type": "markdown",
   "metadata": {},
   "source": [
    "## Distribution shifts in holdout set\n",
    "\n",
    "To explore distribution shifts based on the `Worker.profession` input feature, we gradually add explanations from non-students, split off earlier.\n",
    "\n",
    "We decided on adding entries in small batches of 10 over a comparatively large number of rounds, 150 in total, while evaluating the changes in loss, precision, and recall after each round."
   ]
  },
  {
   "cell_type": "code",
   "execution_count": 33,
   "metadata": {},
   "outputs": [
    {
     "name": "stdout",
     "output_type": "stream",
     "text": [
      "1/1 [==============================] - 0s 167ms/step - loss: 0.0000e+00 - precision: 1.0000 - recall: 0.6129\n",
      "1/1 [==============================] - 0s 27ms/step - loss: 0.0000e+00 - precision: 1.0000 - recall: 0.6250\n",
      "1/1 [==============================] - 0s 27ms/step - loss: 0.0000e+00 - precision: 1.0000 - recall: 0.6250\n",
      "1/1 [==============================] - 0s 29ms/step - loss: 0.0000e+00 - precision: 1.0000 - recall: 0.6250\n",
      "1/1 [==============================] - 0s 30ms/step - loss: 0.0000e+00 - precision: 1.0000 - recall: 0.6176\n",
      "1/1 [==============================] - 0s 27ms/step - loss: 0.0000e+00 - precision: 1.0000 - recall: 0.6389\n",
      "1/1 [==============================] - 0s 30ms/step - loss: 0.0000e+00 - precision: 1.0000 - recall: 0.6389\n",
      "1/1 [==============================] - 0s 25ms/step - loss: 0.0000e+00 - precision: 1.0000 - recall: 0.6154\n",
      "1/1 [==============================] - 0s 24ms/step - loss: 0.0000e+00 - precision: 1.0000 - recall: 0.5952\n",
      "1/1 [==============================] - 0s 27ms/step - loss: 0.0000e+00 - precision: 1.0000 - recall: 0.5952\n",
      "1/1 [==============================] - 0s 28ms/step - loss: 0.0000e+00 - precision: 1.0000 - recall: 0.5909\n",
      "1/1 [==============================] - 0s 30ms/step - loss: 0.0000e+00 - precision: 1.0000 - recall: 0.6000\n",
      "1/1 [==============================] - 0s 26ms/step - loss: 0.0000e+00 - precision: 1.0000 - recall: 0.6250\n",
      "1/1 [==============================] - 0s 26ms/step - loss: 0.0000e+00 - precision: 1.0000 - recall: 0.6400\n",
      "1/1 [==============================] - 0s 26ms/step - loss: 0.0000e+00 - precision: 1.0000 - recall: 0.6154\n",
      "1/1 [==============================] - 0s 30ms/step - loss: 0.0000e+00 - precision: 1.0000 - recall: 0.6000\n",
      "1/1 [==============================] - 0s 27ms/step - loss: 0.0000e+00 - precision: 1.0000 - recall: 0.6000\n",
      "1/1 [==============================] - 0s 30ms/step - loss: 0.0000e+00 - precision: 1.0000 - recall: 0.6207\n",
      "1/1 [==============================] - 0s 30ms/step - loss: 0.0000e+00 - precision: 1.0000 - recall: 0.6333\n",
      "1/1 [==============================] - 0s 30ms/step - loss: 0.0000e+00 - precision: 1.0000 - recall: 0.6452\n",
      "1/1 [==============================] - 0s 27ms/step - loss: 0.0000e+00 - precision: 1.0000 - recall: 0.6250\n",
      "1/1 [==============================] - 0s 30ms/step - loss: 0.0000e+00 - precision: 1.0000 - recall: 0.6176\n",
      "1/1 [==============================] - 0s 29ms/step - loss: 0.0000e+00 - precision: 1.0000 - recall: 0.6176\n",
      "1/1 [==============================] - 0s 31ms/step - loss: 0.0000e+00 - precision: 1.0000 - recall: 0.6197\n",
      "1/1 [==============================] - 0s 30ms/step - loss: 0.0000e+00 - precision: 0.9787 - recall: 0.6301\n",
      "1/1 [==============================] - 0s 30ms/step - loss: 0.0000e+00 - precision: 0.9792 - recall: 0.6351\n",
      "1/1 [==============================] - 0s 31ms/step - loss: 0.0000e+00 - precision: 0.9804 - recall: 0.6494\n",
      "1/1 [==============================] - 0s 35ms/step - loss: 0.0000e+00 - precision: 0.9808 - recall: 0.6538\n",
      "1/1 [==============================] - 0s 29ms/step - loss: 0.0000e+00 - precision: 0.9808 - recall: 0.6538\n",
      "1/1 [==============================] - 0s 32ms/step - loss: 0.0000e+00 - precision: 0.9808 - recall: 0.6456\n",
      "1/1 [==============================] - 0s 33ms/step - loss: 0.0000e+00 - precision: 0.9811 - recall: 0.6500\n",
      "1/1 [==============================] - 0s 34ms/step - loss: 0.0000e+00 - precision: 0.9815 - recall: 0.6543\n",
      "1/1 [==============================] - 0s 33ms/step - loss: 0.0000e+00 - precision: 0.9818 - recall: 0.6506\n",
      "1/1 [==============================] - 0s 34ms/step - loss: 0.0000e+00 - precision: 0.9818 - recall: 0.6506\n",
      "1/1 [==============================] - 0s 34ms/step - loss: 0.0000e+00 - precision: 0.9821 - recall: 0.6471\n",
      "1/1 [==============================] - 0s 36ms/step - loss: 0.0000e+00 - precision: 0.9833 - recall: 0.6629\n",
      "1/1 [==============================] - 0s 35ms/step - loss: 0.0000e+00 - precision: 0.9833 - recall: 0.6484\n",
      "1/1 [==============================] - 0s 36ms/step - loss: 0.0000e+00 - precision: 0.9833 - recall: 0.6484\n",
      "1/1 [==============================] - 0s 37ms/step - loss: 0.0000e+00 - precision: 0.9833 - recall: 0.6344\n",
      "1/1 [==============================] - 0s 40ms/step - loss: 0.0000e+00 - precision: 0.9839 - recall: 0.6421\n",
      "1/1 [==============================] - 0s 36ms/step - loss: 0.0000e+00 - precision: 0.9841 - recall: 0.6458\n",
      "1/1 [==============================] - 0s 35ms/step - loss: 0.0000e+00 - precision: 0.9844 - recall: 0.6495\n",
      "1/1 [==============================] - 0s 35ms/step - loss: 0.0000e+00 - precision: 0.9846 - recall: 0.6531\n",
      "1/1 [==============================] - 0s 35ms/step - loss: 0.0000e+00 - precision: 0.9848 - recall: 0.6566\n",
      "1/1 [==============================] - 0s 38ms/step - loss: 0.0000e+00 - precision: 0.9851 - recall: 0.6471\n",
      "1/1 [==============================] - 0s 34ms/step - loss: 0.0000e+00 - precision: 0.9855 - recall: 0.6476\n",
      "1/1 [==============================] - 0s 37ms/step - loss: 0.0000e+00 - precision: 0.9857 - recall: 0.6509\n",
      "1/1 [==============================] - 0s 38ms/step - loss: 0.0000e+00 - precision: 0.9859 - recall: 0.6542\n",
      "1/1 [==============================] - 0s 37ms/step - loss: 0.0000e+00 - precision: 0.9861 - recall: 0.6455\n",
      "1/1 [==============================] - 0s 35ms/step - loss: 0.0000e+00 - precision: 0.9863 - recall: 0.6486\n",
      "1/1 [==============================] - 0s 39ms/step - loss: 0.0000e+00 - precision: 0.9867 - recall: 0.6491\n",
      "1/1 [==============================] - 0s 38ms/step - loss: 0.0000e+00 - precision: 0.9867 - recall: 0.6491\n",
      "1/1 [==============================] - 0s 39ms/step - loss: 0.0000e+00 - precision: 0.9870 - recall: 0.6496\n",
      "1/1 [==============================] - 0s 38ms/step - loss: 0.0000e+00 - precision: 0.9872 - recall: 0.6525\n",
      "1/1 [==============================] - 0s 38ms/step - loss: 0.0000e+00 - precision: 0.9873 - recall: 0.6446\n",
      "1/1 [==============================] - 0s 38ms/step - loss: 0.0000e+00 - precision: 0.9877 - recall: 0.6452\n",
      "1/1 [==============================] - 0s 38ms/step - loss: 0.0000e+00 - precision: 0.9877 - recall: 0.6452\n",
      "1/1 [==============================] - 0s 40ms/step - loss: 0.0000e+00 - precision: 0.9878 - recall: 0.6480\n",
      "1/1 [==============================] - 0s 39ms/step - loss: 0.0000e+00 - precision: 0.9878 - recall: 0.6429\n",
      "1/1 [==============================] - 0s 40ms/step - loss: 0.0000e+00 - precision: 0.9882 - recall: 0.6512\n",
      "1/1 [==============================] - 0s 41ms/step - loss: 0.0000e+00 - precision: 0.9885 - recall: 0.6565\n",
      "1/1 [==============================] - 0s 40ms/step - loss: 0.0000e+00 - precision: 0.9889 - recall: 0.6642\n",
      "1/1 [==============================] - 0s 45ms/step - loss: 0.0000e+00 - precision: 0.9891 - recall: 0.6691\n",
      "1/1 [==============================] - 0s 42ms/step - loss: 0.0000e+00 - precision: 0.9894 - recall: 0.6691\n",
      "1/1 [==============================] - 0s 44ms/step - loss: 0.0000e+00 - precision: 0.9894 - recall: 0.6691\n",
      "1/1 [==============================] - 0s 43ms/step - loss: 0.0000e+00 - precision: 0.9895 - recall: 0.6714\n",
      "1/1 [==============================] - 0s 43ms/step - loss: 0.0000e+00 - precision: 0.9898 - recall: 0.6690\n",
      "1/1 [==============================] - 0s 45ms/step - loss: 0.0000e+00 - precision: 0.9898 - recall: 0.6644\n",
      "1/1 [==============================] - 0s 46ms/step - loss: 0.0000e+00 - precision: 0.9900 - recall: 0.6689\n",
      "1/1 [==============================] - 0s 45ms/step - loss: 0.0000e+00 - precision: 0.9900 - recall: 0.6689\n",
      "1/1 [==============================] - 0s 44ms/step - loss: 0.0000e+00 - precision: 0.9901 - recall: 0.6711\n",
      "1/1 [==============================] - 0s 43ms/step - loss: 0.0000e+00 - precision: 0.9902 - recall: 0.6733\n",
      "1/1 [==============================] - 0s 46ms/step - loss: 0.0000e+00 - precision: 0.9904 - recall: 0.6732\n",
      "1/1 [==============================] - 0s 47ms/step - loss: 0.0000e+00 - precision: 0.9907 - recall: 0.6815\n",
      "1/1 [==============================] - 0s 42ms/step - loss: 0.0000e+00 - precision: 0.9909 - recall: 0.6812\n",
      "1/1 [==============================] - 0s 47ms/step - loss: 0.0000e+00 - precision: 0.9909 - recall: 0.6812\n",
      "1/1 [==============================] - 0s 45ms/step - loss: 0.0000e+00 - precision: 0.9909 - recall: 0.6812\n",
      "1/1 [==============================] - 0s 44ms/step - loss: 0.0000e+00 - precision: 0.9912 - recall: 0.6848\n",
      "1/1 [==============================] - 0s 49ms/step - loss: 0.0000e+00 - precision: 0.9913 - recall: 0.6826\n",
      "1/1 [==============================] - 0s 43ms/step - loss: 0.0000e+00 - precision: 0.9914 - recall: 0.6845\n",
      "1/1 [==============================] - 0s 45ms/step - loss: 0.0000e+00 - precision: 0.9917 - recall: 0.6919\n",
      "1/1 [==============================] - 0s 45ms/step - loss: 0.0000e+00 - precision: 0.9919 - recall: 0.6932\n",
      "1/1 [==============================] - 0s 45ms/step - loss: 0.0000e+00 - precision: 0.9919 - recall: 0.6910\n",
      "2/2 [==============================] - 0s 12ms/step - loss: 0.0000e+00 - precision: 0.9922 - recall: 0.6978\n",
      "2/2 [==============================] - 0s 12ms/step - loss: 0.0000e+00 - precision: 0.9923 - recall: 0.7011\n",
      "2/2 [==============================] - 0s 8ms/step - loss: 0.0000e+00 - precision: 0.9924 - recall: 0.7043\n",
      "2/2 [==============================] - 0s 11ms/step - loss: 0.0000e+00 - precision: 0.9925 - recall: 0.7000\n",
      "2/2 [==============================] - 0s 9ms/step - loss: 0.0000e+00 - precision: 0.9926 - recall: 0.7031\n",
      "2/2 [==============================] - 0s 12ms/step - loss: 0.0000e+00 - precision: 0.9926 - recall: 0.6959\n",
      "2/2 [==============================] - 0s 13ms/step - loss: 0.0000e+00 - precision: 0.9926 - recall: 0.6959\n",
      "2/2 [==============================] - 0s 9ms/step - loss: 0.0000e+00 - precision: 0.9928 - recall: 0.6990\n",
      "2/2 [==============================] - 0s 10ms/step - loss: 0.0000e+00 - precision: 0.9928 - recall: 0.7005\n",
      "2/2 [==============================] - 0s 12ms/step - loss: 0.0000e+00 - precision: 0.9929 - recall: 0.7020\n",
      "2/2 [==============================] - 0s 11ms/step - loss: 0.0000e+00 - precision: 0.9931 - recall: 0.7010\n",
      "2/2 [==============================] - 0s 12ms/step - loss: 0.0000e+00 - precision: 0.9931 - recall: 0.7010\n",
      "2/2 [==============================] - 0s 13ms/step - loss: 0.0000e+00 - precision: 0.9932 - recall: 0.7039\n",
      "2/2 [==============================] - 0s 14ms/step - loss: 0.0000e+00 - precision: 0.9932 - recall: 0.7019\n",
      "2/2 [==============================] - 0s 13ms/step - loss: 0.0000e+00 - precision: 0.9932 - recall: 0.7000\n",
      "2/2 [==============================] - 0s 14ms/step - loss: 0.0000e+00 - precision: 0.9934 - recall: 0.7042\n",
      "2/2 [==============================] - 0s 15ms/step - loss: 0.0000e+00 - precision: 0.9934 - recall: 0.7009\n",
      "2/2 [==============================] - 0s 12ms/step - loss: 0.0000e+00 - precision: 0.9935 - recall: 0.7005\n",
      "2/2 [==============================] - 0s 12ms/step - loss: 0.0000e+00 - precision: 0.9936 - recall: 0.6982\n",
      "2/2 [==============================] - 0s 16ms/step - loss: 0.0000e+00 - precision: 0.9937 - recall: 0.7022\n",
      "2/2 [==============================] - 0s 15ms/step - loss: 0.0000e+00 - precision: 0.9938 - recall: 0.7048\n",
      "2/2 [==============================] - 0s 14ms/step - loss: 0.0000e+00 - precision: 0.9939 - recall: 0.7043\n",
      "2/2 [==============================] - 0s 13ms/step - loss: 0.0000e+00 - precision: 0.9939 - recall: 0.7043\n",
      "2/2 [==============================] - 0s 17ms/step - loss: 0.0000e+00 - precision: 0.9939 - recall: 0.7069\n",
      "2/2 [==============================] - 0s 17ms/step - loss: 0.0000e+00 - precision: 0.9940 - recall: 0.7064\n",
      "2/2 [==============================] - 0s 22ms/step - loss: 0.0000e+00 - precision: 0.9940 - recall: 0.7076\n",
      "2/2 [==============================] - 0s 19ms/step - loss: 0.0000e+00 - precision: 0.9941 - recall: 0.7101\n",
      "2/2 [==============================] - 0s 17ms/step - loss: 0.0000e+00 - precision: 0.9941 - recall: 0.7101\n",
      "2/2 [==============================] - 0s 16ms/step - loss: 0.0000e+00 - precision: 0.9942 - recall: 0.7083\n",
      "2/2 [==============================] - 0s 19ms/step - loss: 0.0000e+00 - precision: 0.9942 - recall: 0.7078\n",
      "2/2 [==============================] - 0s 16ms/step - loss: 0.0000e+00 - precision: 0.9943 - recall: 0.7061\n",
      "2/2 [==============================] - 0s 17ms/step - loss: 0.0000e+00 - precision: 0.9943 - recall: 0.7085\n",
      "2/2 [==============================] - 0s 15ms/step - loss: 0.0000e+00 - precision: 0.9944 - recall: 0.7097\n",
      "2/2 [==============================] - 0s 16ms/step - loss: 0.0000e+00 - precision: 0.9944 - recall: 0.7120\n",
      "2/2 [==============================] - -1s -934882us/step - loss: 0.0000e+00 - precision: 0.9945 - recall: 0.7143\n",
      "2/2 [==============================] - 0s 19ms/step - loss: 0.0000e+00 - precision: 0.9945 - recall: 0.7087\n",
      "2/2 [==============================] - 0s 16ms/step - loss: 0.0000e+00 - precision: 0.9946 - recall: 0.7121\n",
      "2/2 [==============================] - 0s 17ms/step - loss: 0.0000e+00 - precision: 0.9946 - recall: 0.7143\n",
      "2/2 [==============================] - 0s 18ms/step - loss: 0.0000e+00 - precision: 0.9947 - recall: 0.7165\n",
      "2/2 [==============================] - 0s 24ms/step - loss: 0.0000e+00 - precision: 0.9947 - recall: 0.7159\n",
      "2/2 [==============================] - 0s 24ms/step - loss: 0.0000e+00 - precision: 0.9948 - recall: 0.7201\n",
      "2/2 [==============================] - 0s 19ms/step - loss: 0.0000e+00 - precision: 0.9948 - recall: 0.7201\n",
      "2/2 [==============================] - 0s 27ms/step - loss: 0.0000e+00 - precision: 0.9949 - recall: 0.7196\n",
      "2/2 [==============================] - 0s 19ms/step - loss: 0.0000e+00 - precision: 0.9949 - recall: 0.7206\n",
      "2/2 [==============================] - 0s 21ms/step - loss: 0.0000e+00 - precision: 0.9949 - recall: 0.7216\n",
      "2/2 [==============================] - 0s 22ms/step - loss: 0.0000e+00 - precision: 0.9949 - recall: 0.7216\n",
      "2/2 [==============================] - 0s 19ms/step - loss: 0.0000e+00 - precision: 0.9950 - recall: 0.7236\n",
      "2/2 [==============================] - 0s 19ms/step - loss: 0.0000e+00 - precision: 0.9951 - recall: 0.7276\n",
      "2/2 [==============================] - 0s 19ms/step - loss: 0.0000e+00 - precision: 0.9951 - recall: 0.7270\n",
      "2/2 [==============================] - 0s 20ms/step - loss: 0.0000e+00 - precision: 0.9952 - recall: 0.7279\n",
      "2/2 [==============================] - 0s 23ms/step - loss: 0.0000e+00 - precision: 0.9952 - recall: 0.7247\n",
      "2/2 [==============================] - 0s 20ms/step - loss: 0.0000e+00 - precision: 0.9953 - recall: 0.7276\n",
      "2/2 [==============================] - 0s 20ms/step - loss: 0.0000e+00 - precision: 0.9953 - recall: 0.7260\n",
      "2/2 [==============================] - 0s 22ms/step - loss: 0.0000e+00 - precision: 0.9953 - recall: 0.7270\n",
      "2/2 [==============================] - 0s 24ms/step - loss: 0.0000e+00 - precision: 0.9953 - recall: 0.7245\n",
      "2/2 [==============================] - 0s 23ms/step - loss: 0.0000e+00 - precision: 0.9954 - recall: 0.7239\n",
      "2/2 [==============================] - 0s 26ms/step - loss: 0.0000e+00 - precision: 0.9954 - recall: 0.7233\n",
      "2/2 [==============================] - 0s 27ms/step - loss: 0.0000e+00 - precision: 0.9954 - recall: 0.7209\n",
      "2/2 [==============================] - 0s 26ms/step - loss: 0.0000e+00 - precision: 0.9955 - recall: 0.7228\n",
      "2/2 [==============================] - 0s 25ms/step - loss: 0.0000e+00 - precision: 0.9955 - recall: 0.7237\n",
      "2/2 [==============================] - 0s 26ms/step - loss: 0.0000e+00 - precision: 0.9955 - recall: 0.7231\n",
      "2/2 [==============================] - 0s 30ms/step - loss: 0.0000e+00 - precision: 0.9956 - recall: 0.7249\n",
      "2/2 [==============================] - 0s 22ms/step - loss: 0.0000e+00 - precision: 0.9956 - recall: 0.7267\n",
      "2/2 [==============================] - 0s 26ms/step - loss: 0.0000e+00 - precision: 0.9956 - recall: 0.7276\n",
      "2/2 [==============================] - 0s 25ms/step - loss: 0.0000e+00 - precision: 0.9956 - recall: 0.7261\n",
      "2/2 [==============================] - 0s 25ms/step - loss: 0.0000e+00 - precision: 0.9957 - recall: 0.7287\n"
     ]
    }
   ],
   "source": [
    "students_classifier.compile(metrics=['Precision', 'Recall'])\n",
    "\n",
    "def generate_shift_evaluations(classifier, students_test_df, non_students_df, batch_size, rounds):\n",
    "    non_students_shuffled_df = sklearn.utils.shuffle(non_students_df).drop(columns=['TP', 'TN', 'FP', 'FN'])\n",
    "    label = \"GroundTruth\"\n",
    "    evaluations = []\n",
    "\n",
    "    for i in range(1, rounds):\n",
    "        test_df = students_test_df.copy()\n",
    "        test_df = pd.concat([test_df, non_students_shuffled_df.iloc[0:i*batch_size]])\n",
    "        test_ds = tfdf.keras.pd_dataframe_to_tf_dataset(test_df, label=label)\n",
    "        evaluations.append(classifier.evaluate(test_ds, return_dict=True))\n",
    "    return df.from_records(evaluations)\n",
    "\n",
    "shift_evaluations_df = generate_shift_evaluations(students_classifier, students_test_df, non_students_df, batch_size=10, rounds=150)"
   ]
  },
  {
   "cell_type": "code",
   "execution_count": 34,
   "metadata": {},
   "outputs": [
    {
     "data": {
      "text/plain": [
       "array([<Axes: >, <Axes: >, <Axes: >], dtype=object)"
      ]
     },
     "execution_count": 34,
     "metadata": {},
     "output_type": "execute_result"
    },
    {
     "data": {
      "image/png": "[encoded data removed]",
      "text/plain": [
       "<Figure size 640x480 with 3 Axes>"
      ]
     },
     "metadata": {},
     "output_type": "display_data"
    }
   ],
   "source": [
    "shift_evaluations_df.plot(subplots=True)"
   ]
  },
  {
   "cell_type": "markdown",
   "metadata": {},
   "source": [
    "As is visible on the plots loss remains unchanged across the rounds. This behaviour was consistent across multiple runs of the above randomization. Precision stayed stable at `1.0` for most runs, for a  small number of rounds the precision dropped abruptly, then steadily climbed back up, however the value only ever dropped by at most about `0.02`.\n",
    "\n",
    "The recall, in contrast, fluctuates a bit more during the first about 25 rounds. In the majority of randomized runs the recall rises steeply or fluctuates around the original value, but never drops far below it. As the rounds go on the value climbs to about, or just above, `0.7` and remains relatively stable towards the end."
   ]
  },
  {
   "cell_type": "markdown",
   "metadata": {},
   "source": [
    "## Classifier training while adding non-students\n",
    "\n",
    "We gradually add non-student entries to the students dataset, and repeatedly train new classifiers on the combined set, in order to determine the impact the non-students have on the classifier performance.\n",
    "\n",
    "We add non-students entries in batches of 100 over a total of 16 rounds.\n",
    "\n",
    "Due to the number of rounds we use a tuner with less trials for classifier training. During each round the existing train/test split is kept the same, to which the new entries are being added."
   ]
  },
  {
   "cell_type": "code",
   "execution_count": null,
   "metadata": {},
   "outputs": [
    {
     "name": "stderr",
     "output_type": "stream",
     "text": [
      "  0%|          | 0/16 [00:00<?, ?it/s]"
     ]
    },
    {
     "name": "stdout",
     "output_type": "stream",
     "text": [
      "Use /tmp/tmp9omj27as as temporary training directory\n",
      "Reading training dataset...\n",
      "Training tensor examples:\n",
      "Features: {'Answer.ID': <tf.Tensor 'data:0' shape=(None,) dtype=int64>, 'FailingMethod': <tf.Tensor 'data_1:0' shape=(None,) dtype=string>, 'Question.ID': <tf.Tensor 'data_2:0' shape=(None,) dtype=int64>, 'Answer.duration': <tf.Tensor 'data_3:0' shape=(None,) dtype=float64>, 'Answer.confidence': <tf.Tensor 'data_4:0' shape=(None,) dtype=int64>, 'Answer.difficulty': <tf.Tensor 'data_5:0' shape=(None,) dtype=int64>, 'Answer.option': <tf.Tensor 'data_6:0' shape=(None,) dtype=string>, 'Answer.order': <tf.Tensor 'data_7:0' shape=(None,) dtype=int64>, 'Answer.explanation': <tf.Tensor 'data_8:0' shape=(None,) dtype=string>, 'Code.LOC': <tf.Tensor 'data_9:0' shape=(None,) dtype=int64>, 'Code.complexity': <tf.Tensor 'data_10:0' shape=(None,) dtype=int64>, 'Worker.ID': <tf.Tensor 'data_11:0' shape=(None,) dtype=string>, 'Worker.score': <tf.Tensor 'data_12:0' shape=(None,) dtype=int64>, 'Worker.profession': <tf.Tensor 'data_13:0' shape=(None,) dtype=string>, 'Worker.yearsOfExperience': <tf.Tensor 'data_14:0' shape=(None,) dtype=float64>, 'Worker.age': <tf.Tensor 'data_15:0' shape=(None,) dtype=int64>, 'Worker.gender': <tf.Tensor 'data_16:0' shape=(None,) dtype=string>, 'Worker.whereLearnedToCode': <tf.Tensor 'data_17:0' shape=(None,) dtype=string>, 'Worker.country': <tf.Tensor 'data_18:0' shape=(None,) dtype=string>, 'Worker.programmingLanguage': <tf.Tensor 'data_19:0' shape=(None,) dtype=string>}\n",
      "Label: Tensor(\"data_20:0\", shape=(None,), dtype=int64)\n",
      "Weights: None\n",
      "Normalized tensor features:\n",
      " {'Answer.ID': SemanticTensor(semantic=<Semantic.NUMERICAL: 1>, tensor=<tf.Tensor 'Cast:0' shape=(None,) dtype=float32>), 'FailingMethod': SemanticTensor(semantic=<Semantic.CATEGORICAL: 2>, tensor=<tf.Tensor 'data_1:0' shape=(None,) dtype=string>), 'Question.ID': SemanticTensor(semantic=<Semantic.NUMERICAL: 1>, tensor=<tf.Tensor 'Cast_1:0' shape=(None,) dtype=float32>), 'Answer.duration': SemanticTensor(semantic=<Semantic.NUMERICAL: 1>, tensor=<tf.Tensor 'Cast_2:0' shape=(None,) dtype=float32>), 'Answer.confidence': SemanticTensor(semantic=<Semantic.NUMERICAL: 1>, tensor=<tf.Tensor 'Cast_3:0' shape=(None,) dtype=float32>), 'Answer.difficulty': SemanticTensor(semantic=<Semantic.NUMERICAL: 1>, tensor=<tf.Tensor 'Cast_4:0' shape=(None,) dtype=float32>), 'Answer.option': SemanticTensor(semantic=<Semantic.CATEGORICAL: 2>, tensor=<tf.Tensor 'data_6:0' shape=(None,) dtype=string>), 'Answer.order': SemanticTensor(semantic=<Semantic.NUMERICAL: 1>, tensor=<tf.Tensor 'Cast_5:0' shape=(None,) dtype=float32>), 'Answer.explanation': SemanticTensor(semantic=<Semantic.CATEGORICAL: 2>, tensor=<tf.Tensor 'data_8:0' shape=(None,) dtype=string>), 'Code.LOC': SemanticTensor(semantic=<Semantic.NUMERICAL: 1>, tensor=<tf.Tensor 'Cast_6:0' shape=(None,) dtype=float32>), 'Code.complexity': SemanticTensor(semantic=<Semantic.NUMERICAL: 1>, tensor=<tf.Tensor 'Cast_7:0' shape=(None,) dtype=float32>), 'Worker.ID': SemanticTensor(semantic=<Semantic.CATEGORICAL: 2>, tensor=<tf.Tensor 'data_11:0' shape=(None,) dtype=string>), 'Worker.score': SemanticTensor(semantic=<Semantic.NUMERICAL: 1>, tensor=<tf.Tensor 'Cast_8:0' shape=(None,) dtype=float32>), 'Worker.profession': SemanticTensor(semantic=<Semantic.CATEGORICAL: 2>, tensor=<tf.Tensor 'data_13:0' shape=(None,) dtype=string>), 'Worker.yearsOfExperience': SemanticTensor(semantic=<Semantic.NUMERICAL: 1>, tensor=<tf.Tensor 'Cast_9:0' shape=(None,) dtype=float32>), 'Worker.age': SemanticTensor(semantic=<Semantic.NUMERICAL: 1>, tensor=<tf.Tensor 'Cast_10:0' shape=(None,) dtype=float32>), 'Worker.gender': SemanticTensor(semantic=<Semantic.CATEGORICAL: 2>, tensor=<tf.Tensor 'data_16:0' shape=(None,) dtype=string>), 'Worker.whereLearnedToCode': SemanticTensor(semantic=<Semantic.CATEGORICAL: 2>, tensor=<tf.Tensor 'data_17:0' shape=(None,) dtype=string>), 'Worker.country': SemanticTensor(semantic=<Semantic.CATEGORICAL: 2>, tensor=<tf.Tensor 'data_18:0' shape=(None,) dtype=string>), 'Worker.programmingLanguage': SemanticTensor(semantic=<Semantic.CATEGORICAL: 2>, tensor=<tf.Tensor 'data_19:0' shape=(None,) dtype=string>)}\n",
      "Training dataset read in 0:00:00.335214. Found 725 examples.\n",
      "Training model...\n",
      "Model trained in 0:01:14.691621\n",
      "Compiling model...\n",
      "Model compiled.\n",
      "1/1 [==============================] - 0s 190ms/step - loss: 0.0000e+00 - precision: 1.0000 - recall: 0.4000\n"
     ]
    },
    {
     "name": "stderr",
     "output_type": "stream",
     "text": [
      "  6%|▋         | 1/16 [01:15<18:53, 75.57s/it]"
     ]
    },
    {
     "name": "stdout",
     "output_type": "stream",
     "text": [
      "Use /tmp/tmpmmnd2j1u as temporary training directory\n",
      "Reading training dataset...\n",
      "Training tensor examples:\n",
      "Features: {'Answer.ID': <tf.Tensor 'data:0' shape=(None,) dtype=int64>, 'FailingMethod': <tf.Tensor 'data_1:0' shape=(None,) dtype=string>, 'Question.ID': <tf.Tensor 'data_2:0' shape=(None,) dtype=int64>, 'Answer.duration': <tf.Tensor 'data_3:0' shape=(None,) dtype=float64>, 'Answer.confidence': <tf.Tensor 'data_4:0' shape=(None,) dtype=int64>, 'Answer.difficulty': <tf.Tensor 'data_5:0' shape=(None,) dtype=int64>, 'Answer.option': <tf.Tensor 'data_6:0' shape=(None,) dtype=string>, 'Answer.order': <tf.Tensor 'data_7:0' shape=(None,) dtype=int64>, 'Answer.explanation': <tf.Tensor 'data_8:0' shape=(None,) dtype=string>, 'Code.LOC': <tf.Tensor 'data_9:0' shape=(None,) dtype=int64>, 'Code.complexity': <tf.Tensor 'data_10:0' shape=(None,) dtype=int64>, 'Worker.ID': <tf.Tensor 'data_11:0' shape=(None,) dtype=string>, 'Worker.score': <tf.Tensor 'data_12:0' shape=(None,) dtype=int64>, 'Worker.profession': <tf.Tensor 'data_13:0' shape=(None,) dtype=string>, 'Worker.yearsOfExperience': <tf.Tensor 'data_14:0' shape=(None,) dtype=float64>, 'Worker.age': <tf.Tensor 'data_15:0' shape=(None,) dtype=int64>, 'Worker.gender': <tf.Tensor 'data_16:0' shape=(None,) dtype=string>, 'Worker.whereLearnedToCode': <tf.Tensor 'data_17:0' shape=(None,) dtype=string>, 'Worker.country': <tf.Tensor 'data_18:0' shape=(None,) dtype=string>, 'Worker.programmingLanguage': <tf.Tensor 'data_19:0' shape=(None,) dtype=string>}\n",
      "Label: Tensor(\"data_20:0\", shape=(None,), dtype=int64)\n",
      "Weights: None\n",
      "Normalized tensor features:\n",
      " {'Answer.ID': SemanticTensor(semantic=<Semantic.NUMERICAL: 1>, tensor=<tf.Tensor 'Cast:0' shape=(None,) dtype=float32>), 'FailingMethod': SemanticTensor(semantic=<Semantic.CATEGORICAL: 2>, tensor=<tf.Tensor 'data_1:0' shape=(None,) dtype=string>), 'Question.ID': SemanticTensor(semantic=<Semantic.NUMERICAL: 1>, tensor=<tf.Tensor 'Cast_1:0' shape=(None,) dtype=float32>), 'Answer.duration': SemanticTensor(semantic=<Semantic.NUMERICAL: 1>, tensor=<tf.Tensor 'Cast_2:0' shape=(None,) dtype=float32>), 'Answer.confidence': SemanticTensor(semantic=<Semantic.NUMERICAL: 1>, tensor=<tf.Tensor 'Cast_3:0' shape=(None,) dtype=float32>), 'Answer.difficulty': SemanticTensor(semantic=<Semantic.NUMERICAL: 1>, tensor=<tf.Tensor 'Cast_4:0' shape=(None,) dtype=float32>), 'Answer.option': SemanticTensor(semantic=<Semantic.CATEGORICAL: 2>, tensor=<tf.Tensor 'data_6:0' shape=(None,) dtype=string>), 'Answer.order': SemanticTensor(semantic=<Semantic.NUMERICAL: 1>, tensor=<tf.Tensor 'Cast_5:0' shape=(None,) dtype=float32>), 'Answer.explanation': SemanticTensor(semantic=<Semantic.CATEGORICAL: 2>, tensor=<tf.Tensor 'data_8:0' shape=(None,) dtype=string>), 'Code.LOC': SemanticTensor(semantic=<Semantic.NUMERICAL: 1>, tensor=<tf.Tensor 'Cast_6:0' shape=(None,) dtype=float32>), 'Code.complexity': SemanticTensor(semantic=<Semantic.NUMERICAL: 1>, tensor=<tf.Tensor 'Cast_7:0' shape=(None,) dtype=float32>), 'Worker.ID': SemanticTensor(semantic=<Semantic.CATEGORICAL: 2>, tensor=<tf.Tensor 'data_11:0' shape=(None,) dtype=string>), 'Worker.score': SemanticTensor(semantic=<Semantic.NUMERICAL: 1>, tensor=<tf.Tensor 'Cast_8:0' shape=(None,) dtype=float32>), 'Worker.profession': SemanticTensor(semantic=<Semantic.CATEGORICAL: 2>, tensor=<tf.Tensor 'data_13:0' shape=(None,) dtype=string>), 'Worker.yearsOfExperience': SemanticTensor(semantic=<Semantic.NUMERICAL: 1>, tensor=<tf.Tensor 'Cast_9:0' shape=(None,) dtype=float32>), 'Worker.age': SemanticTensor(semantic=<Semantic.NUMERICAL: 1>, tensor=<tf.Tensor 'Cast_10:0' shape=(None,) dtype=float32>), 'Worker.gender': SemanticTensor(semantic=<Semantic.CATEGORICAL: 2>, tensor=<tf.Tensor 'data_16:0' shape=(None,) dtype=string>), 'Worker.whereLearnedToCode': SemanticTensor(semantic=<Semantic.CATEGORICAL: 2>, tensor=<tf.Tensor 'data_17:0' shape=(None,) dtype=string>), 'Worker.country': SemanticTensor(semantic=<Semantic.CATEGORICAL: 2>, tensor=<tf.Tensor 'data_18:0' shape=(None,) dtype=string>), 'Worker.programmingLanguage': SemanticTensor(semantic=<Semantic.CATEGORICAL: 2>, tensor=<tf.Tensor 'data_19:0' shape=(None,) dtype=string>)}\n",
      "Training dataset read in 0:00:00.292588. Found 805 examples.\n",
      "Training model...\n",
      "Model trained in 0:01:22.672015\n",
      "Compiling model...\n",
      "Model compiled.\n",
      "1/1 [==============================] - 0s 226ms/step - loss: 0.0000e+00 - precision: 1.0000 - recall: 0.5250\n"
     ]
    },
    {
     "name": "stderr",
     "output_type": "stream",
     "text": [
      " 12%|█▎        | 2/16 [02:39<18:43, 80.22s/it]"
     ]
    },
    {
     "name": "stdout",
     "output_type": "stream",
     "text": [
      "Use /tmp/tmpby1gzzz0 as temporary training directory\n",
      "Reading training dataset...\n",
      "Training tensor examples:\n",
      "Features: {'Answer.ID': <tf.Tensor 'data:0' shape=(None,) dtype=int64>, 'FailingMethod': <tf.Tensor 'data_1:0' shape=(None,) dtype=string>, 'Question.ID': <tf.Tensor 'data_2:0' shape=(None,) dtype=int64>, 'Answer.duration': <tf.Tensor 'data_3:0' shape=(None,) dtype=float64>, 'Answer.confidence': <tf.Tensor 'data_4:0' shape=(None,) dtype=int64>, 'Answer.difficulty': <tf.Tensor 'data_5:0' shape=(None,) dtype=int64>, 'Answer.option': <tf.Tensor 'data_6:0' shape=(None,) dtype=string>, 'Answer.order': <tf.Tensor 'data_7:0' shape=(None,) dtype=int64>, 'Answer.explanation': <tf.Tensor 'data_8:0' shape=(None,) dtype=string>, 'Code.LOC': <tf.Tensor 'data_9:0' shape=(None,) dtype=int64>, 'Code.complexity': <tf.Tensor 'data_10:0' shape=(None,) dtype=int64>, 'Worker.ID': <tf.Tensor 'data_11:0' shape=(None,) dtype=string>, 'Worker.score': <tf.Tensor 'data_12:0' shape=(None,) dtype=int64>, 'Worker.profession': <tf.Tensor 'data_13:0' shape=(None,) dtype=string>, 'Worker.yearsOfExperience': <tf.Tensor 'data_14:0' shape=(None,) dtype=float64>, 'Worker.age': <tf.Tensor 'data_15:0' shape=(None,) dtype=int64>, 'Worker.gender': <tf.Tensor 'data_16:0' shape=(None,) dtype=string>, 'Worker.whereLearnedToCode': <tf.Tensor 'data_17:0' shape=(None,) dtype=string>, 'Worker.country': <tf.Tensor 'data_18:0' shape=(None,) dtype=string>, 'Worker.programmingLanguage': <tf.Tensor 'data_19:0' shape=(None,) dtype=string>}\n",
      "Label: Tensor(\"data_20:0\", shape=(None,), dtype=int64)\n",
      "Weights: None\n",
      "Normalized tensor features:\n",
      " {'Answer.ID': SemanticTensor(semantic=<Semantic.NUMERICAL: 1>, tensor=<tf.Tensor 'Cast:0' shape=(None,) dtype=float32>), 'FailingMethod': SemanticTensor(semantic=<Semantic.CATEGORICAL: 2>, tensor=<tf.Tensor 'data_1:0' shape=(None,) dtype=string>), 'Question.ID': SemanticTensor(semantic=<Semantic.NUMERICAL: 1>, tensor=<tf.Tensor 'Cast_1:0' shape=(None,) dtype=float32>), 'Answer.duration': SemanticTensor(semantic=<Semantic.NUMERICAL: 1>, tensor=<tf.Tensor 'Cast_2:0' shape=(None,) dtype=float32>), 'Answer.confidence': SemanticTensor(semantic=<Semantic.NUMERICAL: 1>, tensor=<tf.Tensor 'Cast_3:0' shape=(None,) dtype=float32>), 'Answer.difficulty': SemanticTensor(semantic=<Semantic.NUMERICAL: 1>, tensor=<tf.Tensor 'Cast_4:0' shape=(None,) dtype=float32>), 'Answer.option': SemanticTensor(semantic=<Semantic.CATEGORICAL: 2>, tensor=<tf.Tensor 'data_6:0' shape=(None,) dtype=string>), 'Answer.order': SemanticTensor(semantic=<Semantic.NUMERICAL: 1>, tensor=<tf.Tensor 'Cast_5:0' shape=(None,) dtype=float32>), 'Answer.explanation': SemanticTensor(semantic=<Semantic.CATEGORICAL: 2>, tensor=<tf.Tensor 'data_8:0' shape=(None,) dtype=string>), 'Code.LOC': SemanticTensor(semantic=<Semantic.NUMERICAL: 1>, tensor=<tf.Tensor 'Cast_6:0' shape=(None,) dtype=float32>), 'Code.complexity': SemanticTensor(semantic=<Semantic.NUMERICAL: 1>, tensor=<tf.Tensor 'Cast_7:0' shape=(None,) dtype=float32>), 'Worker.ID': SemanticTensor(semantic=<Semantic.CATEGORICAL: 2>, tensor=<tf.Tensor 'data_11:0' shape=(None,) dtype=string>), 'Worker.score': SemanticTensor(semantic=<Semantic.NUMERICAL: 1>, tensor=<tf.Tensor 'Cast_8:0' shape=(None,) dtype=float32>), 'Worker.profession': SemanticTensor(semantic=<Semantic.CATEGORICAL: 2>, tensor=<tf.Tensor 'data_13:0' shape=(None,) dtype=string>), 'Worker.yearsOfExperience': SemanticTensor(semantic=<Semantic.NUMERICAL: 1>, tensor=<tf.Tensor 'Cast_9:0' shape=(None,) dtype=float32>), 'Worker.age': SemanticTensor(semantic=<Semantic.NUMERICAL: 1>, tensor=<tf.Tensor 'Cast_10:0' shape=(None,) dtype=float32>), 'Worker.gender': SemanticTensor(semantic=<Semantic.CATEGORICAL: 2>, tensor=<tf.Tensor 'data_16:0' shape=(None,) dtype=string>), 'Worker.whereLearnedToCode': SemanticTensor(semantic=<Semantic.CATEGORICAL: 2>, tensor=<tf.Tensor 'data_17:0' shape=(None,) dtype=string>), 'Worker.country': SemanticTensor(semantic=<Semantic.CATEGORICAL: 2>, tensor=<tf.Tensor 'data_18:0' shape=(None,) dtype=string>), 'Worker.programmingLanguage': SemanticTensor(semantic=<Semantic.CATEGORICAL: 2>, tensor=<tf.Tensor 'data_19:0' shape=(None,) dtype=string>)}\n",
      "Training dataset read in 0:00:00.287961. Found 884 examples.\n",
      "Training model...\n",
      "Model trained in 0:01:33.026053\n",
      "Compiling model...\n",
      "Model compiled.\n",
      "1/1 [==============================] - 0s 190ms/step - loss: 0.0000e+00 - precision: 1.0000 - recall: 0.7045\n"
     ]
    },
    {
     "name": "stderr",
     "output_type": "stream",
     "text": [
      " 19%|█▉        | 3/16 [04:12<18:43, 86.42s/it]"
     ]
    },
    {
     "name": "stdout",
     "output_type": "stream",
     "text": [
      "Use /tmp/tmpzkgafg0w as temporary training directory\n",
      "Reading training dataset...\n",
      "Training tensor examples:\n",
      "Features: {'Answer.ID': <tf.Tensor 'data:0' shape=(None,) dtype=int64>, 'FailingMethod': <tf.Tensor 'data_1:0' shape=(None,) dtype=string>, 'Question.ID': <tf.Tensor 'data_2:0' shape=(None,) dtype=int64>, 'Answer.duration': <tf.Tensor 'data_3:0' shape=(None,) dtype=float64>, 'Answer.confidence': <tf.Tensor 'data_4:0' shape=(None,) dtype=int64>, 'Answer.difficulty': <tf.Tensor 'data_5:0' shape=(None,) dtype=int64>, 'Answer.option': <tf.Tensor 'data_6:0' shape=(None,) dtype=string>, 'Answer.order': <tf.Tensor 'data_7:0' shape=(None,) dtype=int64>, 'Answer.explanation': <tf.Tensor 'data_8:0' shape=(None,) dtype=string>, 'Code.LOC': <tf.Tensor 'data_9:0' shape=(None,) dtype=int64>, 'Code.complexity': <tf.Tensor 'data_10:0' shape=(None,) dtype=int64>, 'Worker.ID': <tf.Tensor 'data_11:0' shape=(None,) dtype=string>, 'Worker.score': <tf.Tensor 'data_12:0' shape=(None,) dtype=int64>, 'Worker.profession': <tf.Tensor 'data_13:0' shape=(None,) dtype=string>, 'Worker.yearsOfExperience': <tf.Tensor 'data_14:0' shape=(None,) dtype=float64>, 'Worker.age': <tf.Tensor 'data_15:0' shape=(None,) dtype=int64>, 'Worker.gender': <tf.Tensor 'data_16:0' shape=(None,) dtype=string>, 'Worker.whereLearnedToCode': <tf.Tensor 'data_17:0' shape=(None,) dtype=string>, 'Worker.country': <tf.Tensor 'data_18:0' shape=(None,) dtype=string>, 'Worker.programmingLanguage': <tf.Tensor 'data_19:0' shape=(None,) dtype=string>}\n",
      "Label: Tensor(\"data_20:0\", shape=(None,), dtype=int64)\n",
      "Weights: None\n",
      "Normalized tensor features:\n",
      " {'Answer.ID': SemanticTensor(semantic=<Semantic.NUMERICAL: 1>, tensor=<tf.Tensor 'Cast:0' shape=(None,) dtype=float32>), 'FailingMethod': SemanticTensor(semantic=<Semantic.CATEGORICAL: 2>, tensor=<tf.Tensor 'data_1:0' shape=(None,) dtype=string>), 'Question.ID': SemanticTensor(semantic=<Semantic.NUMERICAL: 1>, tensor=<tf.Tensor 'Cast_1:0' shape=(None,) dtype=float32>), 'Answer.duration': SemanticTensor(semantic=<Semantic.NUMERICAL: 1>, tensor=<tf.Tensor 'Cast_2:0' shape=(None,) dtype=float32>), 'Answer.confidence': SemanticTensor(semantic=<Semantic.NUMERICAL: 1>, tensor=<tf.Tensor 'Cast_3:0' shape=(None,) dtype=float32>), 'Answer.difficulty': SemanticTensor(semantic=<Semantic.NUMERICAL: 1>, tensor=<tf.Tensor 'Cast_4:0' shape=(None,) dtype=float32>), 'Answer.option': SemanticTensor(semantic=<Semantic.CATEGORICAL: 2>, tensor=<tf.Tensor 'data_6:0' shape=(None,) dtype=string>), 'Answer.order': SemanticTensor(semantic=<Semantic.NUMERICAL: 1>, tensor=<tf.Tensor 'Cast_5:0' shape=(None,) dtype=float32>), 'Answer.explanation': SemanticTensor(semantic=<Semantic.CATEGORICAL: 2>, tensor=<tf.Tensor 'data_8:0' shape=(None,) dtype=string>), 'Code.LOC': SemanticTensor(semantic=<Semantic.NUMERICAL: 1>, tensor=<tf.Tensor 'Cast_6:0' shape=(None,) dtype=float32>), 'Code.complexity': SemanticTensor(semantic=<Semantic.NUMERICAL: 1>, tensor=<tf.Tensor 'Cast_7:0' shape=(None,) dtype=float32>), 'Worker.ID': SemanticTensor(semantic=<Semantic.CATEGORICAL: 2>, tensor=<tf.Tensor 'data_11:0' shape=(None,) dtype=string>), 'Worker.score': SemanticTensor(semantic=<Semantic.NUMERICAL: 1>, tensor=<tf.Tensor 'Cast_8:0' shape=(None,) dtype=float32>), 'Worker.profession': SemanticTensor(semantic=<Semantic.CATEGORICAL: 2>, tensor=<tf.Tensor 'data_13:0' shape=(None,) dtype=string>), 'Worker.yearsOfExperience': SemanticTensor(semantic=<Semantic.NUMERICAL: 1>, tensor=<tf.Tensor 'Cast_9:0' shape=(None,) dtype=float32>), 'Worker.age': SemanticTensor(semantic=<Semantic.NUMERICAL: 1>, tensor=<tf.Tensor 'Cast_10:0' shape=(None,) dtype=float32>), 'Worker.gender': SemanticTensor(semantic=<Semantic.CATEGORICAL: 2>, tensor=<tf.Tensor 'data_16:0' shape=(None,) dtype=string>), 'Worker.whereLearnedToCode': SemanticTensor(semantic=<Semantic.CATEGORICAL: 2>, tensor=<tf.Tensor 'data_17:0' shape=(None,) dtype=string>), 'Worker.country': SemanticTensor(semantic=<Semantic.CATEGORICAL: 2>, tensor=<tf.Tensor 'data_18:0' shape=(None,) dtype=string>), 'Worker.programmingLanguage': SemanticTensor(semantic=<Semantic.CATEGORICAL: 2>, tensor=<tf.Tensor 'data_19:0' shape=(None,) dtype=string>)}\n",
      "Training dataset read in 0:00:00.307550. Found 964 examples.\n",
      "Training model...\n",
      "Model trained in 0:01:42.241742\n",
      "Compiling model...\n",
      "Model compiled.\n",
      "1/1 [==============================] - 0s 234ms/step - loss: 0.0000e+00 - precision: 1.0000 - recall: 0.5833\n"
     ]
    },
    {
     "name": "stderr",
     "output_type": "stream",
     "text": [
      " 25%|██▌       | 4/16 [05:56<18:36, 93.04s/it]"
     ]
    },
    {
     "name": "stdout",
     "output_type": "stream",
     "text": [
      "Use /tmp/tmpj5l9ld30 as temporary training directory\n",
      "Reading training dataset...\n",
      "Training tensor examples:\n",
      "Features: {'Answer.ID': <tf.Tensor 'data:0' shape=(None,) dtype=int64>, 'FailingMethod': <tf.Tensor 'data_1:0' shape=(None,) dtype=string>, 'Question.ID': <tf.Tensor 'data_2:0' shape=(None,) dtype=int64>, 'Answer.duration': <tf.Tensor 'data_3:0' shape=(None,) dtype=float64>, 'Answer.confidence': <tf.Tensor 'data_4:0' shape=(None,) dtype=int64>, 'Answer.difficulty': <tf.Tensor 'data_5:0' shape=(None,) dtype=int64>, 'Answer.option': <tf.Tensor 'data_6:0' shape=(None,) dtype=string>, 'Answer.order': <tf.Tensor 'data_7:0' shape=(None,) dtype=int64>, 'Answer.explanation': <tf.Tensor 'data_8:0' shape=(None,) dtype=string>, 'Code.LOC': <tf.Tensor 'data_9:0' shape=(None,) dtype=int64>, 'Code.complexity': <tf.Tensor 'data_10:0' shape=(None,) dtype=int64>, 'Worker.ID': <tf.Tensor 'data_11:0' shape=(None,) dtype=string>, 'Worker.score': <tf.Tensor 'data_12:0' shape=(None,) dtype=int64>, 'Worker.profession': <tf.Tensor 'data_13:0' shape=(None,) dtype=string>, 'Worker.yearsOfExperience': <tf.Tensor 'data_14:0' shape=(None,) dtype=float64>, 'Worker.age': <tf.Tensor 'data_15:0' shape=(None,) dtype=int64>, 'Worker.gender': <tf.Tensor 'data_16:0' shape=(None,) dtype=string>, 'Worker.whereLearnedToCode': <tf.Tensor 'data_17:0' shape=(None,) dtype=string>, 'Worker.country': <tf.Tensor 'data_18:0' shape=(None,) dtype=string>, 'Worker.programmingLanguage': <tf.Tensor 'data_19:0' shape=(None,) dtype=string>}\n",
      "Label: Tensor(\"data_20:0\", shape=(None,), dtype=int64)\n",
      "Weights: None\n",
      "Normalized tensor features:\n",
      " {'Answer.ID': SemanticTensor(semantic=<Semantic.NUMERICAL: 1>, tensor=<tf.Tensor 'Cast:0' shape=(None,) dtype=float32>), 'FailingMethod': SemanticTensor(semantic=<Semantic.CATEGORICAL: 2>, tensor=<tf.Tensor 'data_1:0' shape=(None,) dtype=string>), 'Question.ID': SemanticTensor(semantic=<Semantic.NUMERICAL: 1>, tensor=<tf.Tensor 'Cast_1:0' shape=(None,) dtype=float32>), 'Answer.duration': SemanticTensor(semantic=<Semantic.NUMERICAL: 1>, tensor=<tf.Tensor 'Cast_2:0' shape=(None,) dtype=float32>), 'Answer.confidence': SemanticTensor(semantic=<Semantic.NUMERICAL: 1>, tensor=<tf.Tensor 'Cast_3:0' shape=(None,) dtype=float32>), 'Answer.difficulty': SemanticTensor(semantic=<Semantic.NUMERICAL: 1>, tensor=<tf.Tensor 'Cast_4:0' shape=(None,) dtype=float32>), 'Answer.option': SemanticTensor(semantic=<Semantic.CATEGORICAL: 2>, tensor=<tf.Tensor 'data_6:0' shape=(None,) dtype=string>), 'Answer.order': SemanticTensor(semantic=<Semantic.NUMERICAL: 1>, tensor=<tf.Tensor 'Cast_5:0' shape=(None,) dtype=float32>), 'Answer.explanation': SemanticTensor(semantic=<Semantic.CATEGORICAL: 2>, tensor=<tf.Tensor 'data_8:0' shape=(None,) dtype=string>), 'Code.LOC': SemanticTensor(semantic=<Semantic.NUMERICAL: 1>, tensor=<tf.Tensor 'Cast_6:0' shape=(None,) dtype=float32>), 'Code.complexity': SemanticTensor(semantic=<Semantic.NUMERICAL: 1>, tensor=<tf.Tensor 'Cast_7:0' shape=(None,) dtype=float32>), 'Worker.ID': SemanticTensor(semantic=<Semantic.CATEGORICAL: 2>, tensor=<tf.Tensor 'data_11:0' shape=(None,) dtype=string>), 'Worker.score': SemanticTensor(semantic=<Semantic.NUMERICAL: 1>, tensor=<tf.Tensor 'Cast_8:0' shape=(None,) dtype=float32>), 'Worker.profession': SemanticTensor(semantic=<Semantic.CATEGORICAL: 2>, tensor=<tf.Tensor 'data_13:0' shape=(None,) dtype=string>), 'Worker.yearsOfExperience': SemanticTensor(semantic=<Semantic.NUMERICAL: 1>, tensor=<tf.Tensor 'Cast_9:0' shape=(None,) dtype=float32>), 'Worker.age': SemanticTensor(semantic=<Semantic.NUMERICAL: 1>, tensor=<tf.Tensor 'Cast_10:0' shape=(None,) dtype=float32>), 'Worker.gender': SemanticTensor(semantic=<Semantic.CATEGORICAL: 2>, tensor=<tf.Tensor 'data_16:0' shape=(None,) dtype=string>), 'Worker.whereLearnedToCode': SemanticTensor(semantic=<Semantic.CATEGORICAL: 2>, tensor=<tf.Tensor 'data_17:0' shape=(None,) dtype=string>), 'Worker.country': SemanticTensor(semantic=<Semantic.CATEGORICAL: 2>, tensor=<tf.Tensor 'data_18:0' shape=(None,) dtype=string>), 'Worker.programmingLanguage': SemanticTensor(semantic=<Semantic.CATEGORICAL: 2>, tensor=<tf.Tensor 'data_19:0' shape=(None,) dtype=string>)}\n",
      "Training dataset read in 0:00:00.291751. Found 1043 examples.\n",
      "Training model...\n",
      "Model trained in 0:01:53.033761\n",
      "Compiling model...\n",
      "Model compiled.\n",
      "1/1 [==============================] - 0s 238ms/step - loss: 0.0000e+00 - precision: 1.0000 - recall: 0.7308\n"
     ]
    },
    {
     "name": "stderr",
     "output_type": "stream",
     "text": [
      " 31%|███▏      | 5/16 [07:49<18:26, 100.56s/it]"
     ]
    },
    {
     "name": "stdout",
     "output_type": "stream",
     "text": [
      "Use /tmp/tmp47trzl9q as temporary training directory\n",
      "Reading training dataset...\n",
      "Training tensor examples:\n",
      "Features: {'Answer.ID': <tf.Tensor 'data:0' shape=(None,) dtype=int64>, 'FailingMethod': <tf.Tensor 'data_1:0' shape=(None,) dtype=string>, 'Question.ID': <tf.Tensor 'data_2:0' shape=(None,) dtype=int64>, 'Answer.duration': <tf.Tensor 'data_3:0' shape=(None,) dtype=float64>, 'Answer.confidence': <tf.Tensor 'data_4:0' shape=(None,) dtype=int64>, 'Answer.difficulty': <tf.Tensor 'data_5:0' shape=(None,) dtype=int64>, 'Answer.option': <tf.Tensor 'data_6:0' shape=(None,) dtype=string>, 'Answer.order': <tf.Tensor 'data_7:0' shape=(None,) dtype=int64>, 'Answer.explanation': <tf.Tensor 'data_8:0' shape=(None,) dtype=string>, 'Code.LOC': <tf.Tensor 'data_9:0' shape=(None,) dtype=int64>, 'Code.complexity': <tf.Tensor 'data_10:0' shape=(None,) dtype=int64>, 'Worker.ID': <tf.Tensor 'data_11:0' shape=(None,) dtype=string>, 'Worker.score': <tf.Tensor 'data_12:0' shape=(None,) dtype=int64>, 'Worker.profession': <tf.Tensor 'data_13:0' shape=(None,) dtype=string>, 'Worker.yearsOfExperience': <tf.Tensor 'data_14:0' shape=(None,) dtype=float64>, 'Worker.age': <tf.Tensor 'data_15:0' shape=(None,) dtype=int64>, 'Worker.gender': <tf.Tensor 'data_16:0' shape=(None,) dtype=string>, 'Worker.whereLearnedToCode': <tf.Tensor 'data_17:0' shape=(None,) dtype=string>, 'Worker.country': <tf.Tensor 'data_18:0' shape=(None,) dtype=string>, 'Worker.programmingLanguage': <tf.Tensor 'data_19:0' shape=(None,) dtype=string>}\n",
      "Label: Tensor(\"data_20:0\", shape=(None,), dtype=int64)\n",
      "Weights: None\n",
      "Normalized tensor features:\n",
      " {'Answer.ID': SemanticTensor(semantic=<Semantic.NUMERICAL: 1>, tensor=<tf.Tensor 'Cast:0' shape=(None,) dtype=float32>), 'FailingMethod': SemanticTensor(semantic=<Semantic.CATEGORICAL: 2>, tensor=<tf.Tensor 'data_1:0' shape=(None,) dtype=string>), 'Question.ID': SemanticTensor(semantic=<Semantic.NUMERICAL: 1>, tensor=<tf.Tensor 'Cast_1:0' shape=(None,) dtype=float32>), 'Answer.duration': SemanticTensor(semantic=<Semantic.NUMERICAL: 1>, tensor=<tf.Tensor 'Cast_2:0' shape=(None,) dtype=float32>), 'Answer.confidence': SemanticTensor(semantic=<Semantic.NUMERICAL: 1>, tensor=<tf.Tensor 'Cast_3:0' shape=(None,) dtype=float32>), 'Answer.difficulty': SemanticTensor(semantic=<Semantic.NUMERICAL: 1>, tensor=<tf.Tensor 'Cast_4:0' shape=(None,) dtype=float32>), 'Answer.option': SemanticTensor(semantic=<Semantic.CATEGORICAL: 2>, tensor=<tf.Tensor 'data_6:0' shape=(None,) dtype=string>), 'Answer.order': SemanticTensor(semantic=<Semantic.NUMERICAL: 1>, tensor=<tf.Tensor 'Cast_5:0' shape=(None,) dtype=float32>), 'Answer.explanation': SemanticTensor(semantic=<Semantic.CATEGORICAL: 2>, tensor=<tf.Tensor 'data_8:0' shape=(None,) dtype=string>), 'Code.LOC': SemanticTensor(semantic=<Semantic.NUMERICAL: 1>, tensor=<tf.Tensor 'Cast_6:0' shape=(None,) dtype=float32>), 'Code.complexity': SemanticTensor(semantic=<Semantic.NUMERICAL: 1>, tensor=<tf.Tensor 'Cast_7:0' shape=(None,) dtype=float32>), 'Worker.ID': SemanticTensor(semantic=<Semantic.CATEGORICAL: 2>, tensor=<tf.Tensor 'data_11:0' shape=(None,) dtype=string>), 'Worker.score': SemanticTensor(semantic=<Semantic.NUMERICAL: 1>, tensor=<tf.Tensor 'Cast_8:0' shape=(None,) dtype=float32>), 'Worker.profession': SemanticTensor(semantic=<Semantic.CATEGORICAL: 2>, tensor=<tf.Tensor 'data_13:0' shape=(None,) dtype=string>), 'Worker.yearsOfExperience': SemanticTensor(semantic=<Semantic.NUMERICAL: 1>, tensor=<tf.Tensor 'Cast_9:0' shape=(None,) dtype=float32>), 'Worker.age': SemanticTensor(semantic=<Semantic.NUMERICAL: 1>, tensor=<tf.Tensor 'Cast_10:0' shape=(None,) dtype=float32>), 'Worker.gender': SemanticTensor(semantic=<Semantic.CATEGORICAL: 2>, tensor=<tf.Tensor 'data_16:0' shape=(None,) dtype=string>), 'Worker.whereLearnedToCode': SemanticTensor(semantic=<Semantic.CATEGORICAL: 2>, tensor=<tf.Tensor 'data_17:0' shape=(None,) dtype=string>), 'Worker.country': SemanticTensor(semantic=<Semantic.CATEGORICAL: 2>, tensor=<tf.Tensor 'data_18:0' shape=(None,) dtype=string>), 'Worker.programmingLanguage': SemanticTensor(semantic=<Semantic.CATEGORICAL: 2>, tensor=<tf.Tensor 'data_19:0' shape=(None,) dtype=string>)}\n",
      "Training dataset read in 0:00:00.295284. Found 1123 examples.\n",
      "Training model...\n",
      "Model trained in 0:02:05.367109\n",
      "Compiling model...\n",
      "Model compiled.\n",
      "1/1 [==============================] - 0s 227ms/step - loss: 0.0000e+00 - precision: 1.0000 - recall: 0.7857\n"
     ]
    },
    {
     "name": "stderr",
     "output_type": "stream",
     "text": [
      " 38%|███▊      | 6/16 [09:56<18:12, 109.30s/it]"
     ]
    },
    {
     "name": "stdout",
     "output_type": "stream",
     "text": [
      "Use /tmp/tmpnzh_17z6 as temporary training directory\n",
      "Reading training dataset...\n",
      "Training tensor examples:\n",
      "Features: {'Answer.ID': <tf.Tensor 'data:0' shape=(None,) dtype=int64>, 'FailingMethod': <tf.Tensor 'data_1:0' shape=(None,) dtype=string>, 'Question.ID': <tf.Tensor 'data_2:0' shape=(None,) dtype=int64>, 'Answer.duration': <tf.Tensor 'data_3:0' shape=(None,) dtype=float64>, 'Answer.confidence': <tf.Tensor 'data_4:0' shape=(None,) dtype=int64>, 'Answer.difficulty': <tf.Tensor 'data_5:0' shape=(None,) dtype=int64>, 'Answer.option': <tf.Tensor 'data_6:0' shape=(None,) dtype=string>, 'Answer.order': <tf.Tensor 'data_7:0' shape=(None,) dtype=int64>, 'Answer.explanation': <tf.Tensor 'data_8:0' shape=(None,) dtype=string>, 'Code.LOC': <tf.Tensor 'data_9:0' shape=(None,) dtype=int64>, 'Code.complexity': <tf.Tensor 'data_10:0' shape=(None,) dtype=int64>, 'Worker.ID': <tf.Tensor 'data_11:0' shape=(None,) dtype=string>, 'Worker.score': <tf.Tensor 'data_12:0' shape=(None,) dtype=int64>, 'Worker.profession': <tf.Tensor 'data_13:0' shape=(None,) dtype=string>, 'Worker.yearsOfExperience': <tf.Tensor 'data_14:0' shape=(None,) dtype=float64>, 'Worker.age': <tf.Tensor 'data_15:0' shape=(None,) dtype=int64>, 'Worker.gender': <tf.Tensor 'data_16:0' shape=(None,) dtype=string>, 'Worker.whereLearnedToCode': <tf.Tensor 'data_17:0' shape=(None,) dtype=string>, 'Worker.country': <tf.Tensor 'data_18:0' shape=(None,) dtype=string>, 'Worker.programmingLanguage': <tf.Tensor 'data_19:0' shape=(None,) dtype=string>}\n",
      "Label: Tensor(\"data_20:0\", shape=(None,), dtype=int64)\n",
      "Weights: None\n",
      "Normalized tensor features:\n",
      " {'Answer.ID': SemanticTensor(semantic=<Semantic.NUMERICAL: 1>, tensor=<tf.Tensor 'Cast:0' shape=(None,) dtype=float32>), 'FailingMethod': SemanticTensor(semantic=<Semantic.CATEGORICAL: 2>, tensor=<tf.Tensor 'data_1:0' shape=(None,) dtype=string>), 'Question.ID': SemanticTensor(semantic=<Semantic.NUMERICAL: 1>, tensor=<tf.Tensor 'Cast_1:0' shape=(None,) dtype=float32>), 'Answer.duration': SemanticTensor(semantic=<Semantic.NUMERICAL: 1>, tensor=<tf.Tensor 'Cast_2:0' shape=(None,) dtype=float32>), 'Answer.confidence': SemanticTensor(semantic=<Semantic.NUMERICAL: 1>, tensor=<tf.Tensor 'Cast_3:0' shape=(None,) dtype=float32>), 'Answer.difficulty': SemanticTensor(semantic=<Semantic.NUMERICAL: 1>, tensor=<tf.Tensor 'Cast_4:0' shape=(None,) dtype=float32>), 'Answer.option': SemanticTensor(semantic=<Semantic.CATEGORICAL: 2>, tensor=<tf.Tensor 'data_6:0' shape=(None,) dtype=string>), 'Answer.order': SemanticTensor(semantic=<Semantic.NUMERICAL: 1>, tensor=<tf.Tensor 'Cast_5:0' shape=(None,) dtype=float32>), 'Answer.explanation': SemanticTensor(semantic=<Semantic.CATEGORICAL: 2>, tensor=<tf.Tensor 'data_8:0' shape=(None,) dtype=string>), 'Code.LOC': SemanticTensor(semantic=<Semantic.NUMERICAL: 1>, tensor=<tf.Tensor 'Cast_6:0' shape=(None,) dtype=float32>), 'Code.complexity': SemanticTensor(semantic=<Semantic.NUMERICAL: 1>, tensor=<tf.Tensor 'Cast_7:0' shape=(None,) dtype=float32>), 'Worker.ID': SemanticTensor(semantic=<Semantic.CATEGORICAL: 2>, tensor=<tf.Tensor 'data_11:0' shape=(None,) dtype=string>), 'Worker.score': SemanticTensor(semantic=<Semantic.NUMERICAL: 1>, tensor=<tf.Tensor 'Cast_8:0' shape=(None,) dtype=float32>), 'Worker.profession': SemanticTensor(semantic=<Semantic.CATEGORICAL: 2>, tensor=<tf.Tensor 'data_13:0' shape=(None,) dtype=string>), 'Worker.yearsOfExperience': SemanticTensor(semantic=<Semantic.NUMERICAL: 1>, tensor=<tf.Tensor 'Cast_9:0' shape=(None,) dtype=float32>), 'Worker.age': SemanticTensor(semantic=<Semantic.NUMERICAL: 1>, tensor=<tf.Tensor 'Cast_10:0' shape=(None,) dtype=float32>), 'Worker.gender': SemanticTensor(semantic=<Semantic.CATEGORICAL: 2>, tensor=<tf.Tensor 'data_16:0' shape=(None,) dtype=string>), 'Worker.whereLearnedToCode': SemanticTensor(semantic=<Semantic.CATEGORICAL: 2>, tensor=<tf.Tensor 'data_17:0' shape=(None,) dtype=string>), 'Worker.country': SemanticTensor(semantic=<Semantic.CATEGORICAL: 2>, tensor=<tf.Tensor 'data_18:0' shape=(None,) dtype=string>), 'Worker.programmingLanguage': SemanticTensor(semantic=<Semantic.CATEGORICAL: 2>, tensor=<tf.Tensor 'data_19:0' shape=(None,) dtype=string>)}\n",
      "Training dataset read in 0:00:00.302397. Found 1203 examples.\n",
      "Training model...\n",
      "Model trained in 0:02:17.068975\n",
      "Compiling model...\n",
      "Model compiled.\n",
      "1/1 [==============================] - 0s 264ms/step - loss: 0.0000e+00 - precision: 1.0000 - recall: 0.7966\n"
     ]
    },
    {
     "name": "stderr",
     "output_type": "stream",
     "text": [
      " 44%|████▍     | 7/16 [12:14<17:48, 118.67s/it]"
     ]
    },
    {
     "name": "stdout",
     "output_type": "stream",
     "text": [
      "Use /tmp/tmpmet6el64 as temporary training directory\n",
      "Reading training dataset...\n",
      "Training tensor examples:\n",
      "Features: {'Answer.ID': <tf.Tensor 'data:0' shape=(None,) dtype=int64>, 'FailingMethod': <tf.Tensor 'data_1:0' shape=(None,) dtype=string>, 'Question.ID': <tf.Tensor 'data_2:0' shape=(None,) dtype=int64>, 'Answer.duration': <tf.Tensor 'data_3:0' shape=(None,) dtype=float64>, 'Answer.confidence': <tf.Tensor 'data_4:0' shape=(None,) dtype=int64>, 'Answer.difficulty': <tf.Tensor 'data_5:0' shape=(None,) dtype=int64>, 'Answer.option': <tf.Tensor 'data_6:0' shape=(None,) dtype=string>, 'Answer.order': <tf.Tensor 'data_7:0' shape=(None,) dtype=int64>, 'Answer.explanation': <tf.Tensor 'data_8:0' shape=(None,) dtype=string>, 'Code.LOC': <tf.Tensor 'data_9:0' shape=(None,) dtype=int64>, 'Code.complexity': <tf.Tensor 'data_10:0' shape=(None,) dtype=int64>, 'Worker.ID': <tf.Tensor 'data_11:0' shape=(None,) dtype=string>, 'Worker.score': <tf.Tensor 'data_12:0' shape=(None,) dtype=int64>, 'Worker.profession': <tf.Tensor 'data_13:0' shape=(None,) dtype=string>, 'Worker.yearsOfExperience': <tf.Tensor 'data_14:0' shape=(None,) dtype=float64>, 'Worker.age': <tf.Tensor 'data_15:0' shape=(None,) dtype=int64>, 'Worker.gender': <tf.Tensor 'data_16:0' shape=(None,) dtype=string>, 'Worker.whereLearnedToCode': <tf.Tensor 'data_17:0' shape=(None,) dtype=string>, 'Worker.country': <tf.Tensor 'data_18:0' shape=(None,) dtype=string>, 'Worker.programmingLanguage': <tf.Tensor 'data_19:0' shape=(None,) dtype=string>}\n",
      "Label: Tensor(\"data_20:0\", shape=(None,), dtype=int64)\n",
      "Weights: None\n",
      "Normalized tensor features:\n",
      " {'Answer.ID': SemanticTensor(semantic=<Semantic.NUMERICAL: 1>, tensor=<tf.Tensor 'Cast:0' shape=(None,) dtype=float32>), 'FailingMethod': SemanticTensor(semantic=<Semantic.CATEGORICAL: 2>, tensor=<tf.Tensor 'data_1:0' shape=(None,) dtype=string>), 'Question.ID': SemanticTensor(semantic=<Semantic.NUMERICAL: 1>, tensor=<tf.Tensor 'Cast_1:0' shape=(None,) dtype=float32>), 'Answer.duration': SemanticTensor(semantic=<Semantic.NUMERICAL: 1>, tensor=<tf.Tensor 'Cast_2:0' shape=(None,) dtype=float32>), 'Answer.confidence': SemanticTensor(semantic=<Semantic.NUMERICAL: 1>, tensor=<tf.Tensor 'Cast_3:0' shape=(None,) dtype=float32>), 'Answer.difficulty': SemanticTensor(semantic=<Semantic.NUMERICAL: 1>, tensor=<tf.Tensor 'Cast_4:0' shape=(None,) dtype=float32>), 'Answer.option': SemanticTensor(semantic=<Semantic.CATEGORICAL: 2>, tensor=<tf.Tensor 'data_6:0' shape=(None,) dtype=string>), 'Answer.order': SemanticTensor(semantic=<Semantic.NUMERICAL: 1>, tensor=<tf.Tensor 'Cast_5:0' shape=(None,) dtype=float32>), 'Answer.explanation': SemanticTensor(semantic=<Semantic.CATEGORICAL: 2>, tensor=<tf.Tensor 'data_8:0' shape=(None,) dtype=string>), 'Code.LOC': SemanticTensor(semantic=<Semantic.NUMERICAL: 1>, tensor=<tf.Tensor 'Cast_6:0' shape=(None,) dtype=float32>), 'Code.complexity': SemanticTensor(semantic=<Semantic.NUMERICAL: 1>, tensor=<tf.Tensor 'Cast_7:0' shape=(None,) dtype=float32>), 'Worker.ID': SemanticTensor(semantic=<Semantic.CATEGORICAL: 2>, tensor=<tf.Tensor 'data_11:0' shape=(None,) dtype=string>), 'Worker.score': SemanticTensor(semantic=<Semantic.NUMERICAL: 1>, tensor=<tf.Tensor 'Cast_8:0' shape=(None,) dtype=float32>), 'Worker.profession': SemanticTensor(semantic=<Semantic.CATEGORICAL: 2>, tensor=<tf.Tensor 'data_13:0' shape=(None,) dtype=string>), 'Worker.yearsOfExperience': SemanticTensor(semantic=<Semantic.NUMERICAL: 1>, tensor=<tf.Tensor 'Cast_9:0' shape=(None,) dtype=float32>), 'Worker.age': SemanticTensor(semantic=<Semantic.NUMERICAL: 1>, tensor=<tf.Tensor 'Cast_10:0' shape=(None,) dtype=float32>), 'Worker.gender': SemanticTensor(semantic=<Semantic.CATEGORICAL: 2>, tensor=<tf.Tensor 'data_16:0' shape=(None,) dtype=string>), 'Worker.whereLearnedToCode': SemanticTensor(semantic=<Semantic.CATEGORICAL: 2>, tensor=<tf.Tensor 'data_17:0' shape=(None,) dtype=string>), 'Worker.country': SemanticTensor(semantic=<Semantic.CATEGORICAL: 2>, tensor=<tf.Tensor 'data_18:0' shape=(None,) dtype=string>), 'Worker.programmingLanguage': SemanticTensor(semantic=<Semantic.CATEGORICAL: 2>, tensor=<tf.Tensor 'data_19:0' shape=(None,) dtype=string>)}\n",
      "Training dataset read in 0:00:00.335715. Found 1282 examples.\n",
      "Training model...\n",
      "Model trained in 0:02:29.337875\n",
      "Compiling model...\n",
      "Model compiled.\n",
      "1/1 [==============================] - 0s 214ms/step - loss: 0.0000e+00 - precision: 1.0000 - recall: 0.8571\n"
     ]
    },
    {
     "name": "stderr",
     "output_type": "stream",
     "text": [
      " 50%|█████     | 8/16 [14:44<17:09, 128.72s/it]"
     ]
    },
    {
     "name": "stdout",
     "output_type": "stream",
     "text": [
      "Use /tmp/tmppl75ibdw as temporary training directory\n",
      "Reading training dataset...\n",
      "Training tensor examples:\n",
      "Features: {'Answer.ID': <tf.Tensor 'data:0' shape=(None,) dtype=int64>, 'FailingMethod': <tf.Tensor 'data_1:0' shape=(None,) dtype=string>, 'Question.ID': <tf.Tensor 'data_2:0' shape=(None,) dtype=int64>, 'Answer.duration': <tf.Tensor 'data_3:0' shape=(None,) dtype=float64>, 'Answer.confidence': <tf.Tensor 'data_4:0' shape=(None,) dtype=int64>, 'Answer.difficulty': <tf.Tensor 'data_5:0' shape=(None,) dtype=int64>, 'Answer.option': <tf.Tensor 'data_6:0' shape=(None,) dtype=string>, 'Answer.order': <tf.Tensor 'data_7:0' shape=(None,) dtype=int64>, 'Answer.explanation': <tf.Tensor 'data_8:0' shape=(None,) dtype=string>, 'Code.LOC': <tf.Tensor 'data_9:0' shape=(None,) dtype=int64>, 'Code.complexity': <tf.Tensor 'data_10:0' shape=(None,) dtype=int64>, 'Worker.ID': <tf.Tensor 'data_11:0' shape=(None,) dtype=string>, 'Worker.score': <tf.Tensor 'data_12:0' shape=(None,) dtype=int64>, 'Worker.profession': <tf.Tensor 'data_13:0' shape=(None,) dtype=string>, 'Worker.yearsOfExperience': <tf.Tensor 'data_14:0' shape=(None,) dtype=float64>, 'Worker.age': <tf.Tensor 'data_15:0' shape=(None,) dtype=int64>, 'Worker.gender': <tf.Tensor 'data_16:0' shape=(None,) dtype=string>, 'Worker.whereLearnedToCode': <tf.Tensor 'data_17:0' shape=(None,) dtype=string>, 'Worker.country': <tf.Tensor 'data_18:0' shape=(None,) dtype=string>, 'Worker.programmingLanguage': <tf.Tensor 'data_19:0' shape=(None,) dtype=string>}\n",
      "Label: Tensor(\"data_20:0\", shape=(None,), dtype=int64)\n",
      "Weights: None\n",
      "Normalized tensor features:\n",
      " {'Answer.ID': SemanticTensor(semantic=<Semantic.NUMERICAL: 1>, tensor=<tf.Tensor 'Cast:0' shape=(None,) dtype=float32>), 'FailingMethod': SemanticTensor(semantic=<Semantic.CATEGORICAL: 2>, tensor=<tf.Tensor 'data_1:0' shape=(None,) dtype=string>), 'Question.ID': SemanticTensor(semantic=<Semantic.NUMERICAL: 1>, tensor=<tf.Tensor 'Cast_1:0' shape=(None,) dtype=float32>), 'Answer.duration': SemanticTensor(semantic=<Semantic.NUMERICAL: 1>, tensor=<tf.Tensor 'Cast_2:0' shape=(None,) dtype=float32>), 'Answer.confidence': SemanticTensor(semantic=<Semantic.NUMERICAL: 1>, tensor=<tf.Tensor 'Cast_3:0' shape=(None,) dtype=float32>), 'Answer.difficulty': SemanticTensor(semantic=<Semantic.NUMERICAL: 1>, tensor=<tf.Tensor 'Cast_4:0' shape=(None,) dtype=float32>), 'Answer.option': SemanticTensor(semantic=<Semantic.CATEGORICAL: 2>, tensor=<tf.Tensor 'data_6:0' shape=(None,) dtype=string>), 'Answer.order': SemanticTensor(semantic=<Semantic.NUMERICAL: 1>, tensor=<tf.Tensor 'Cast_5:0' shape=(None,) dtype=float32>), 'Answer.explanation': SemanticTensor(semantic=<Semantic.CATEGORICAL: 2>, tensor=<tf.Tensor 'data_8:0' shape=(None,) dtype=string>), 'Code.LOC': SemanticTensor(semantic=<Semantic.NUMERICAL: 1>, tensor=<tf.Tensor 'Cast_6:0' shape=(None,) dtype=float32>), 'Code.complexity': SemanticTensor(semantic=<Semantic.NUMERICAL: 1>, tensor=<tf.Tensor 'Cast_7:0' shape=(None,) dtype=float32>), 'Worker.ID': SemanticTensor(semantic=<Semantic.CATEGORICAL: 2>, tensor=<tf.Tensor 'data_11:0' shape=(None,) dtype=string>), 'Worker.score': SemanticTensor(semantic=<Semantic.NUMERICAL: 1>, tensor=<tf.Tensor 'Cast_8:0' shape=(None,) dtype=float32>), 'Worker.profession': SemanticTensor(semantic=<Semantic.CATEGORICAL: 2>, tensor=<tf.Tensor 'data_13:0' shape=(None,) dtype=string>), 'Worker.yearsOfExperience': SemanticTensor(semantic=<Semantic.NUMERICAL: 1>, tensor=<tf.Tensor 'Cast_9:0' shape=(None,) dtype=float32>), 'Worker.age': SemanticTensor(semantic=<Semantic.NUMERICAL: 1>, tensor=<tf.Tensor 'Cast_10:0' shape=(None,) dtype=float32>), 'Worker.gender': SemanticTensor(semantic=<Semantic.CATEGORICAL: 2>, tensor=<tf.Tensor 'data_16:0' shape=(None,) dtype=string>), 'Worker.whereLearnedToCode': SemanticTensor(semantic=<Semantic.CATEGORICAL: 2>, tensor=<tf.Tensor 'data_17:0' shape=(None,) dtype=string>), 'Worker.country': SemanticTensor(semantic=<Semantic.CATEGORICAL: 2>, tensor=<tf.Tensor 'data_18:0' shape=(None,) dtype=string>), 'Worker.programmingLanguage': SemanticTensor(semantic=<Semantic.CATEGORICAL: 2>, tensor=<tf.Tensor 'data_19:0' shape=(None,) dtype=string>)}\n",
      "Training dataset read in 0:00:00.410601. Found 1361 examples.\n",
      "Training model...\n",
      "Model trained in 0:02:42.303513\n",
      "Compiling model...\n",
      "Model compiled.\n",
      "1/1 [==============================] - 0s 225ms/step - loss: 0.0000e+00 - precision: 1.0000 - recall: 0.9130\n"
     ]
    },
    {
     "name": "stderr",
     "output_type": "stream",
     "text": [
      " 56%|█████▋    | 9/16 [17:27<16:16, 139.52s/it]"
     ]
    },
    {
     "name": "stdout",
     "output_type": "stream",
     "text": [
      "Use /tmp/tmpfinyqmtg as temporary training directory\n",
      "Reading training dataset...\n",
      "Training tensor examples:\n",
      "Features: {'Answer.ID': <tf.Tensor 'data:0' shape=(None,) dtype=int64>, 'FailingMethod': <tf.Tensor 'data_1:0' shape=(None,) dtype=string>, 'Question.ID': <tf.Tensor 'data_2:0' shape=(None,) dtype=int64>, 'Answer.duration': <tf.Tensor 'data_3:0' shape=(None,) dtype=float64>, 'Answer.confidence': <tf.Tensor 'data_4:0' shape=(None,) dtype=int64>, 'Answer.difficulty': <tf.Tensor 'data_5:0' shape=(None,) dtype=int64>, 'Answer.option': <tf.Tensor 'data_6:0' shape=(None,) dtype=string>, 'Answer.order': <tf.Tensor 'data_7:0' shape=(None,) dtype=int64>, 'Answer.explanation': <tf.Tensor 'data_8:0' shape=(None,) dtype=string>, 'Code.LOC': <tf.Tensor 'data_9:0' shape=(None,) dtype=int64>, 'Code.complexity': <tf.Tensor 'data_10:0' shape=(None,) dtype=int64>, 'Worker.ID': <tf.Tensor 'data_11:0' shape=(None,) dtype=string>, 'Worker.score': <tf.Tensor 'data_12:0' shape=(None,) dtype=int64>, 'Worker.profession': <tf.Tensor 'data_13:0' shape=(None,) dtype=string>, 'Worker.yearsOfExperience': <tf.Tensor 'data_14:0' shape=(None,) dtype=float64>, 'Worker.age': <tf.Tensor 'data_15:0' shape=(None,) dtype=int64>, 'Worker.gender': <tf.Tensor 'data_16:0' shape=(None,) dtype=string>, 'Worker.whereLearnedToCode': <tf.Tensor 'data_17:0' shape=(None,) dtype=string>, 'Worker.country': <tf.Tensor 'data_18:0' shape=(None,) dtype=string>, 'Worker.programmingLanguage': <tf.Tensor 'data_19:0' shape=(None,) dtype=string>}\n",
      "Label: Tensor(\"data_20:0\", shape=(None,), dtype=int64)\n",
      "Weights: None\n",
      "Normalized tensor features:\n",
      " {'Answer.ID': SemanticTensor(semantic=<Semantic.NUMERICAL: 1>, tensor=<tf.Tensor 'Cast:0' shape=(None,) dtype=float32>), 'FailingMethod': SemanticTensor(semantic=<Semantic.CATEGORICAL: 2>, tensor=<tf.Tensor 'data_1:0' shape=(None,) dtype=string>), 'Question.ID': SemanticTensor(semantic=<Semantic.NUMERICAL: 1>, tensor=<tf.Tensor 'Cast_1:0' shape=(None,) dtype=float32>), 'Answer.duration': SemanticTensor(semantic=<Semantic.NUMERICAL: 1>, tensor=<tf.Tensor 'Cast_2:0' shape=(None,) dtype=float32>), 'Answer.confidence': SemanticTensor(semantic=<Semantic.NUMERICAL: 1>, tensor=<tf.Tensor 'Cast_3:0' shape=(None,) dtype=float32>), 'Answer.difficulty': SemanticTensor(semantic=<Semantic.NUMERICAL: 1>, tensor=<tf.Tensor 'Cast_4:0' shape=(None,) dtype=float32>), 'Answer.option': SemanticTensor(semantic=<Semantic.CATEGORICAL: 2>, tensor=<tf.Tensor 'data_6:0' shape=(None,) dtype=string>), 'Answer.order': SemanticTensor(semantic=<Semantic.NUMERICAL: 1>, tensor=<tf.Tensor 'Cast_5:0' shape=(None,) dtype=float32>), 'Answer.explanation': SemanticTensor(semantic=<Semantic.CATEGORICAL: 2>, tensor=<tf.Tensor 'data_8:0' shape=(None,) dtype=string>), 'Code.LOC': SemanticTensor(semantic=<Semantic.NUMERICAL: 1>, tensor=<tf.Tensor 'Cast_6:0' shape=(None,) dtype=float32>), 'Code.complexity': SemanticTensor(semantic=<Semantic.NUMERICAL: 1>, tensor=<tf.Tensor 'Cast_7:0' shape=(None,) dtype=float32>), 'Worker.ID': SemanticTensor(semantic=<Semantic.CATEGORICAL: 2>, tensor=<tf.Tensor 'data_11:0' shape=(None,) dtype=string>), 'Worker.score': SemanticTensor(semantic=<Semantic.NUMERICAL: 1>, tensor=<tf.Tensor 'Cast_8:0' shape=(None,) dtype=float32>), 'Worker.profession': SemanticTensor(semantic=<Semantic.CATEGORICAL: 2>, tensor=<tf.Tensor 'data_13:0' shape=(None,) dtype=string>), 'Worker.yearsOfExperience': SemanticTensor(semantic=<Semantic.NUMERICAL: 1>, tensor=<tf.Tensor 'Cast_9:0' shape=(None,) dtype=float32>), 'Worker.age': SemanticTensor(semantic=<Semantic.NUMERICAL: 1>, tensor=<tf.Tensor 'Cast_10:0' shape=(None,) dtype=float32>), 'Worker.gender': SemanticTensor(semantic=<Semantic.CATEGORICAL: 2>, tensor=<tf.Tensor 'data_16:0' shape=(None,) dtype=string>), 'Worker.whereLearnedToCode': SemanticTensor(semantic=<Semantic.CATEGORICAL: 2>, tensor=<tf.Tensor 'data_17:0' shape=(None,) dtype=string>), 'Worker.country': SemanticTensor(semantic=<Semantic.CATEGORICAL: 2>, tensor=<tf.Tensor 'data_18:0' shape=(None,) dtype=string>), 'Worker.programmingLanguage': SemanticTensor(semantic=<Semantic.CATEGORICAL: 2>, tensor=<tf.Tensor 'data_19:0' shape=(None,) dtype=string>)}\n",
      "Training dataset read in 0:00:00.352081. Found 1440 examples.\n",
      "Training model...\n",
      "Model trained in 0:02:53.894363\n",
      "Compiling model...\n",
      "Model compiled.\n",
      "1/1 [==============================] - 0s 206ms/step - loss: 0.0000e+00 - precision: 1.0000 - recall: 0.9041\n"
     ]
    },
    {
     "name": "stderr",
     "output_type": "stream",
     "text": [
      " 62%|██████▎   | 10/16 [20:24<15:05, 150.90s/it]"
     ]
    },
    {
     "name": "stdout",
     "output_type": "stream",
     "text": [
      "Use /tmp/tmpd7nf_4db as temporary training directory\n",
      "Reading training dataset...\n",
      "Training tensor examples:\n",
      "Features: {'Answer.ID': <tf.Tensor 'data:0' shape=(None,) dtype=int64>, 'FailingMethod': <tf.Tensor 'data_1:0' shape=(None,) dtype=string>, 'Question.ID': <tf.Tensor 'data_2:0' shape=(None,) dtype=int64>, 'Answer.duration': <tf.Tensor 'data_3:0' shape=(None,) dtype=float64>, 'Answer.confidence': <tf.Tensor 'data_4:0' shape=(None,) dtype=int64>, 'Answer.difficulty': <tf.Tensor 'data_5:0' shape=(None,) dtype=int64>, 'Answer.option': <tf.Tensor 'data_6:0' shape=(None,) dtype=string>, 'Answer.order': <tf.Tensor 'data_7:0' shape=(None,) dtype=int64>, 'Answer.explanation': <tf.Tensor 'data_8:0' shape=(None,) dtype=string>, 'Code.LOC': <tf.Tensor 'data_9:0' shape=(None,) dtype=int64>, 'Code.complexity': <tf.Tensor 'data_10:0' shape=(None,) dtype=int64>, 'Worker.ID': <tf.Tensor 'data_11:0' shape=(None,) dtype=string>, 'Worker.score': <tf.Tensor 'data_12:0' shape=(None,) dtype=int64>, 'Worker.profession': <tf.Tensor 'data_13:0' shape=(None,) dtype=string>, 'Worker.yearsOfExperience': <tf.Tensor 'data_14:0' shape=(None,) dtype=float64>, 'Worker.age': <tf.Tensor 'data_15:0' shape=(None,) dtype=int64>, 'Worker.gender': <tf.Tensor 'data_16:0' shape=(None,) dtype=string>, 'Worker.whereLearnedToCode': <tf.Tensor 'data_17:0' shape=(None,) dtype=string>, 'Worker.country': <tf.Tensor 'data_18:0' shape=(None,) dtype=string>, 'Worker.programmingLanguage': <tf.Tensor 'data_19:0' shape=(None,) dtype=string>}\n",
      "Label: Tensor(\"data_20:0\", shape=(None,), dtype=int64)\n",
      "Weights: None\n",
      "Normalized tensor features:\n",
      " {'Answer.ID': SemanticTensor(semantic=<Semantic.NUMERICAL: 1>, tensor=<tf.Tensor 'Cast:0' shape=(None,) dtype=float32>), 'FailingMethod': SemanticTensor(semantic=<Semantic.CATEGORICAL: 2>, tensor=<tf.Tensor 'data_1:0' shape=(None,) dtype=string>), 'Question.ID': SemanticTensor(semantic=<Semantic.NUMERICAL: 1>, tensor=<tf.Tensor 'Cast_1:0' shape=(None,) dtype=float32>), 'Answer.duration': SemanticTensor(semantic=<Semantic.NUMERICAL: 1>, tensor=<tf.Tensor 'Cast_2:0' shape=(None,) dtype=float32>), 'Answer.confidence': SemanticTensor(semantic=<Semantic.NUMERICAL: 1>, tensor=<tf.Tensor 'Cast_3:0' shape=(None,) dtype=float32>), 'Answer.difficulty': SemanticTensor(semantic=<Semantic.NUMERICAL: 1>, tensor=<tf.Tensor 'Cast_4:0' shape=(None,) dtype=float32>), 'Answer.option': SemanticTensor(semantic=<Semantic.CATEGORICAL: 2>, tensor=<tf.Tensor 'data_6:0' shape=(None,) dtype=string>), 'Answer.order': SemanticTensor(semantic=<Semantic.NUMERICAL: 1>, tensor=<tf.Tensor 'Cast_5:0' shape=(None,) dtype=float32>), 'Answer.explanation': SemanticTensor(semantic=<Semantic.CATEGORICAL: 2>, tensor=<tf.Tensor 'data_8:0' shape=(None,) dtype=string>), 'Code.LOC': SemanticTensor(semantic=<Semantic.NUMERICAL: 1>, tensor=<tf.Tensor 'Cast_6:0' shape=(None,) dtype=float32>), 'Code.complexity': SemanticTensor(semantic=<Semantic.NUMERICAL: 1>, tensor=<tf.Tensor 'Cast_7:0' shape=(None,) dtype=float32>), 'Worker.ID': SemanticTensor(semantic=<Semantic.CATEGORICAL: 2>, tensor=<tf.Tensor 'data_11:0' shape=(None,) dtype=string>), 'Worker.score': SemanticTensor(semantic=<Semantic.NUMERICAL: 1>, tensor=<tf.Tensor 'Cast_8:0' shape=(None,) dtype=float32>), 'Worker.profession': SemanticTensor(semantic=<Semantic.CATEGORICAL: 2>, tensor=<tf.Tensor 'data_13:0' shape=(None,) dtype=string>), 'Worker.yearsOfExperience': SemanticTensor(semantic=<Semantic.NUMERICAL: 1>, tensor=<tf.Tensor 'Cast_9:0' shape=(None,) dtype=float32>), 'Worker.age': SemanticTensor(semantic=<Semantic.NUMERICAL: 1>, tensor=<tf.Tensor 'Cast_10:0' shape=(None,) dtype=float32>), 'Worker.gender': SemanticTensor(semantic=<Semantic.CATEGORICAL: 2>, tensor=<tf.Tensor 'data_16:0' shape=(None,) dtype=string>), 'Worker.whereLearnedToCode': SemanticTensor(semantic=<Semantic.CATEGORICAL: 2>, tensor=<tf.Tensor 'data_17:0' shape=(None,) dtype=string>), 'Worker.country': SemanticTensor(semantic=<Semantic.CATEGORICAL: 2>, tensor=<tf.Tensor 'data_18:0' shape=(None,) dtype=string>), 'Worker.programmingLanguage': SemanticTensor(semantic=<Semantic.CATEGORICAL: 2>, tensor=<tf.Tensor 'data_19:0' shape=(None,) dtype=string>)}\n",
      "Training dataset read in 0:00:00.305016. Found 1519 examples.\n",
      "Training model...\n",
      "Model trained in 0:03:06.844864\n",
      "Compiling model...\n",
      "Model compiled.\n",
      "1/1 [==============================] - 0s 209ms/step - loss: 0.0000e+00 - precision: 1.0000 - recall: 0.9615\n"
     ]
    },
    {
     "name": "stderr",
     "output_type": "stream",
     "text": [
      " 69%|██████▉   | 11/16 [23:31<13:30, 162.15s/it]"
     ]
    },
    {
     "name": "stdout",
     "output_type": "stream",
     "text": [
      "Use /tmp/tmpri18gp65 as temporary training directory\n",
      "Reading training dataset...\n",
      "Training tensor examples:\n",
      "Features: {'Answer.ID': <tf.Tensor 'data:0' shape=(None,) dtype=int64>, 'FailingMethod': <tf.Tensor 'data_1:0' shape=(None,) dtype=string>, 'Question.ID': <tf.Tensor 'data_2:0' shape=(None,) dtype=int64>, 'Answer.duration': <tf.Tensor 'data_3:0' shape=(None,) dtype=float64>, 'Answer.confidence': <tf.Tensor 'data_4:0' shape=(None,) dtype=int64>, 'Answer.difficulty': <tf.Tensor 'data_5:0' shape=(None,) dtype=int64>, 'Answer.option': <tf.Tensor 'data_6:0' shape=(None,) dtype=string>, 'Answer.order': <tf.Tensor 'data_7:0' shape=(None,) dtype=int64>, 'Answer.explanation': <tf.Tensor 'data_8:0' shape=(None,) dtype=string>, 'Code.LOC': <tf.Tensor 'data_9:0' shape=(None,) dtype=int64>, 'Code.complexity': <tf.Tensor 'data_10:0' shape=(None,) dtype=int64>, 'Worker.ID': <tf.Tensor 'data_11:0' shape=(None,) dtype=string>, 'Worker.score': <tf.Tensor 'data_12:0' shape=(None,) dtype=int64>, 'Worker.profession': <tf.Tensor 'data_13:0' shape=(None,) dtype=string>, 'Worker.yearsOfExperience': <tf.Tensor 'data_14:0' shape=(None,) dtype=float64>, 'Worker.age': <tf.Tensor 'data_15:0' shape=(None,) dtype=int64>, 'Worker.gender': <tf.Tensor 'data_16:0' shape=(None,) dtype=string>, 'Worker.whereLearnedToCode': <tf.Tensor 'data_17:0' shape=(None,) dtype=string>, 'Worker.country': <tf.Tensor 'data_18:0' shape=(None,) dtype=string>, 'Worker.programmingLanguage': <tf.Tensor 'data_19:0' shape=(None,) dtype=string>}\n",
      "Label: Tensor(\"data_20:0\", shape=(None,), dtype=int64)\n",
      "Weights: None\n",
      "Normalized tensor features:\n",
      " {'Answer.ID': SemanticTensor(semantic=<Semantic.NUMERICAL: 1>, tensor=<tf.Tensor 'Cast:0' shape=(None,) dtype=float32>), 'FailingMethod': SemanticTensor(semantic=<Semantic.CATEGORICAL: 2>, tensor=<tf.Tensor 'data_1:0' shape=(None,) dtype=string>), 'Question.ID': SemanticTensor(semantic=<Semantic.NUMERICAL: 1>, tensor=<tf.Tensor 'Cast_1:0' shape=(None,) dtype=float32>), 'Answer.duration': SemanticTensor(semantic=<Semantic.NUMERICAL: 1>, tensor=<tf.Tensor 'Cast_2:0' shape=(None,) dtype=float32>), 'Answer.confidence': SemanticTensor(semantic=<Semantic.NUMERICAL: 1>, tensor=<tf.Tensor 'Cast_3:0' shape=(None,) dtype=float32>), 'Answer.difficulty': SemanticTensor(semantic=<Semantic.NUMERICAL: 1>, tensor=<tf.Tensor 'Cast_4:0' shape=(None,) dtype=float32>), 'Answer.option': SemanticTensor(semantic=<Semantic.CATEGORICAL: 2>, tensor=<tf.Tensor 'data_6:0' shape=(None,) dtype=string>), 'Answer.order': SemanticTensor(semantic=<Semantic.NUMERICAL: 1>, tensor=<tf.Tensor 'Cast_5:0' shape=(None,) dtype=float32>), 'Answer.explanation': SemanticTensor(semantic=<Semantic.CATEGORICAL: 2>, tensor=<tf.Tensor 'data_8:0' shape=(None,) dtype=string>), 'Code.LOC': SemanticTensor(semantic=<Semantic.NUMERICAL: 1>, tensor=<tf.Tensor 'Cast_6:0' shape=(None,) dtype=float32>), 'Code.complexity': SemanticTensor(semantic=<Semantic.NUMERICAL: 1>, tensor=<tf.Tensor 'Cast_7:0' shape=(None,) dtype=float32>), 'Worker.ID': SemanticTensor(semantic=<Semantic.CATEGORICAL: 2>, tensor=<tf.Tensor 'data_11:0' shape=(None,) dtype=string>), 'Worker.score': SemanticTensor(semantic=<Semantic.NUMERICAL: 1>, tensor=<tf.Tensor 'Cast_8:0' shape=(None,) dtype=float32>), 'Worker.profession': SemanticTensor(semantic=<Semantic.CATEGORICAL: 2>, tensor=<tf.Tensor 'data_13:0' shape=(None,) dtype=string>), 'Worker.yearsOfExperience': SemanticTensor(semantic=<Semantic.NUMERICAL: 1>, tensor=<tf.Tensor 'Cast_9:0' shape=(None,) dtype=float32>), 'Worker.age': SemanticTensor(semantic=<Semantic.NUMERICAL: 1>, tensor=<tf.Tensor 'Cast_10:0' shape=(None,) dtype=float32>), 'Worker.gender': SemanticTensor(semantic=<Semantic.CATEGORICAL: 2>, tensor=<tf.Tensor 'data_16:0' shape=(None,) dtype=string>), 'Worker.whereLearnedToCode': SemanticTensor(semantic=<Semantic.CATEGORICAL: 2>, tensor=<tf.Tensor 'data_17:0' shape=(None,) dtype=string>), 'Worker.country': SemanticTensor(semantic=<Semantic.CATEGORICAL: 2>, tensor=<tf.Tensor 'data_18:0' shape=(None,) dtype=string>), 'Worker.programmingLanguage': SemanticTensor(semantic=<Semantic.CATEGORICAL: 2>, tensor=<tf.Tensor 'data_19:0' shape=(None,) dtype=string>)}\n",
      "Training dataset read in 0:00:00.334084. Found 1598 examples.\n",
      "Training model...\n",
      "Model trained in 0:03:18.218865\n",
      "Compiling model...\n",
      "Model compiled.\n",
      "1/1 [==============================] - 0s 198ms/step - loss: 0.0000e+00 - precision: 1.0000 - recall: 0.9756\n"
     ]
    },
    {
     "name": "stderr",
     "output_type": "stream",
     "text": [
      " 75%|███████▌  | 12/16 [26:50<11:33, 173.37s/it]"
     ]
    },
    {
     "name": "stdout",
     "output_type": "stream",
     "text": [
      "Use /tmp/tmpilxic5v8 as temporary training directory\n",
      "Reading training dataset...\n",
      "Training tensor examples:\n",
      "Features: {'Answer.ID': <tf.Tensor 'data:0' shape=(None,) dtype=int64>, 'FailingMethod': <tf.Tensor 'data_1:0' shape=(None,) dtype=string>, 'Question.ID': <tf.Tensor 'data_2:0' shape=(None,) dtype=int64>, 'Answer.duration': <tf.Tensor 'data_3:0' shape=(None,) dtype=float64>, 'Answer.confidence': <tf.Tensor 'data_4:0' shape=(None,) dtype=int64>, 'Answer.difficulty': <tf.Tensor 'data_5:0' shape=(None,) dtype=int64>, 'Answer.option': <tf.Tensor 'data_6:0' shape=(None,) dtype=string>, 'Answer.order': <tf.Tensor 'data_7:0' shape=(None,) dtype=int64>, 'Answer.explanation': <tf.Tensor 'data_8:0' shape=(None,) dtype=string>, 'Code.LOC': <tf.Tensor 'data_9:0' shape=(None,) dtype=int64>, 'Code.complexity': <tf.Tensor 'data_10:0' shape=(None,) dtype=int64>, 'Worker.ID': <tf.Tensor 'data_11:0' shape=(None,) dtype=string>, 'Worker.score': <tf.Tensor 'data_12:0' shape=(None,) dtype=int64>, 'Worker.profession': <tf.Tensor 'data_13:0' shape=(None,) dtype=string>, 'Worker.yearsOfExperience': <tf.Tensor 'data_14:0' shape=(None,) dtype=float64>, 'Worker.age': <tf.Tensor 'data_15:0' shape=(None,) dtype=int64>, 'Worker.gender': <tf.Tensor 'data_16:0' shape=(None,) dtype=string>, 'Worker.whereLearnedToCode': <tf.Tensor 'data_17:0' shape=(None,) dtype=string>, 'Worker.country': <tf.Tensor 'data_18:0' shape=(None,) dtype=string>, 'Worker.programmingLanguage': <tf.Tensor 'data_19:0' shape=(None,) dtype=string>}\n",
      "Label: Tensor(\"data_20:0\", shape=(None,), dtype=int64)\n",
      "Weights: None\n",
      "Normalized tensor features:\n",
      " {'Answer.ID': SemanticTensor(semantic=<Semantic.NUMERICAL: 1>, tensor=<tf.Tensor 'Cast:0' shape=(None,) dtype=float32>), 'FailingMethod': SemanticTensor(semantic=<Semantic.CATEGORICAL: 2>, tensor=<tf.Tensor 'data_1:0' shape=(None,) dtype=string>), 'Question.ID': SemanticTensor(semantic=<Semantic.NUMERICAL: 1>, tensor=<tf.Tensor 'Cast_1:0' shape=(None,) dtype=float32>), 'Answer.duration': SemanticTensor(semantic=<Semantic.NUMERICAL: 1>, tensor=<tf.Tensor 'Cast_2:0' shape=(None,) dtype=float32>), 'Answer.confidence': SemanticTensor(semantic=<Semantic.NUMERICAL: 1>, tensor=<tf.Tensor 'Cast_3:0' shape=(None,) dtype=float32>), 'Answer.difficulty': SemanticTensor(semantic=<Semantic.NUMERICAL: 1>, tensor=<tf.Tensor 'Cast_4:0' shape=(None,) dtype=float32>), 'Answer.option': SemanticTensor(semantic=<Semantic.CATEGORICAL: 2>, tensor=<tf.Tensor 'data_6:0' shape=(None,) dtype=string>), 'Answer.order': SemanticTensor(semantic=<Semantic.NUMERICAL: 1>, tensor=<tf.Tensor 'Cast_5:0' shape=(None,) dtype=float32>), 'Answer.explanation': SemanticTensor(semantic=<Semantic.CATEGORICAL: 2>, tensor=<tf.Tensor 'data_8:0' shape=(None,) dtype=string>), 'Code.LOC': SemanticTensor(semantic=<Semantic.NUMERICAL: 1>, tensor=<tf.Tensor 'Cast_6:0' shape=(None,) dtype=float32>), 'Code.complexity': SemanticTensor(semantic=<Semantic.NUMERICAL: 1>, tensor=<tf.Tensor 'Cast_7:0' shape=(None,) dtype=float32>), 'Worker.ID': SemanticTensor(semantic=<Semantic.CATEGORICAL: 2>, tensor=<tf.Tensor 'data_11:0' shape=(None,) dtype=string>), 'Worker.score': SemanticTensor(semantic=<Semantic.NUMERICAL: 1>, tensor=<tf.Tensor 'Cast_8:0' shape=(None,) dtype=float32>), 'Worker.profession': SemanticTensor(semantic=<Semantic.CATEGORICAL: 2>, tensor=<tf.Tensor 'data_13:0' shape=(None,) dtype=string>), 'Worker.yearsOfExperience': SemanticTensor(semantic=<Semantic.NUMERICAL: 1>, tensor=<tf.Tensor 'Cast_9:0' shape=(None,) dtype=float32>), 'Worker.age': SemanticTensor(semantic=<Semantic.NUMERICAL: 1>, tensor=<tf.Tensor 'Cast_10:0' shape=(None,) dtype=float32>), 'Worker.gender': SemanticTensor(semantic=<Semantic.CATEGORICAL: 2>, tensor=<tf.Tensor 'data_16:0' shape=(None,) dtype=string>), 'Worker.whereLearnedToCode': SemanticTensor(semantic=<Semantic.CATEGORICAL: 2>, tensor=<tf.Tensor 'data_17:0' shape=(None,) dtype=string>), 'Worker.country': SemanticTensor(semantic=<Semantic.CATEGORICAL: 2>, tensor=<tf.Tensor 'data_18:0' shape=(None,) dtype=string>), 'Worker.programmingLanguage': SemanticTensor(semantic=<Semantic.CATEGORICAL: 2>, tensor=<tf.Tensor 'data_19:0' shape=(None,) dtype=string>)}\n",
      "Training dataset read in 0:00:00.330727. Found 1677 examples.\n",
      "Training model...\n",
      "Model trained in 0:03:55.757386\n",
      "Compiling model...\n",
      "Model compiled.\n",
      "1/1 [==============================] - 0s 315ms/step - loss: 0.0000e+00 - precision: 1.0000 - recall: 0.9773\n"
     ]
    },
    {
     "name": "stderr",
     "output_type": "stream",
     "text": [
      " 81%|████████▏ | 13/16 [30:48<09:38, 192.75s/it]"
     ]
    },
    {
     "name": "stdout",
     "output_type": "stream",
     "text": [
      "Use /tmp/tmplekkka_n as temporary training directory\n",
      "Reading training dataset...\n",
      "Training tensor examples:\n",
      "Features: {'Answer.ID': <tf.Tensor 'data:0' shape=(None,) dtype=int64>, 'FailingMethod': <tf.Tensor 'data_1:0' shape=(None,) dtype=string>, 'Question.ID': <tf.Tensor 'data_2:0' shape=(None,) dtype=int64>, 'Answer.duration': <tf.Tensor 'data_3:0' shape=(None,) dtype=float64>, 'Answer.confidence': <tf.Tensor 'data_4:0' shape=(None,) dtype=int64>, 'Answer.difficulty': <tf.Tensor 'data_5:0' shape=(None,) dtype=int64>, 'Answer.option': <tf.Tensor 'data_6:0' shape=(None,) dtype=string>, 'Answer.order': <tf.Tensor 'data_7:0' shape=(None,) dtype=int64>, 'Answer.explanation': <tf.Tensor 'data_8:0' shape=(None,) dtype=string>, 'Code.LOC': <tf.Tensor 'data_9:0' shape=(None,) dtype=int64>, 'Code.complexity': <tf.Tensor 'data_10:0' shape=(None,) dtype=int64>, 'Worker.ID': <tf.Tensor 'data_11:0' shape=(None,) dtype=string>, 'Worker.score': <tf.Tensor 'data_12:0' shape=(None,) dtype=int64>, 'Worker.profession': <tf.Tensor 'data_13:0' shape=(None,) dtype=string>, 'Worker.yearsOfExperience': <tf.Tensor 'data_14:0' shape=(None,) dtype=float64>, 'Worker.age': <tf.Tensor 'data_15:0' shape=(None,) dtype=int64>, 'Worker.gender': <tf.Tensor 'data_16:0' shape=(None,) dtype=string>, 'Worker.whereLearnedToCode': <tf.Tensor 'data_17:0' shape=(None,) dtype=string>, 'Worker.country': <tf.Tensor 'data_18:0' shape=(None,) dtype=string>, 'Worker.programmingLanguage': <tf.Tensor 'data_19:0' shape=(None,) dtype=string>}\n",
      "Label: Tensor(\"data_20:0\", shape=(None,), dtype=int64)\n",
      "Weights: None\n",
      "Normalized tensor features:\n",
      " {'Answer.ID': SemanticTensor(semantic=<Semantic.NUMERICAL: 1>, tensor=<tf.Tensor 'Cast:0' shape=(None,) dtype=float32>), 'FailingMethod': SemanticTensor(semantic=<Semantic.CATEGORICAL: 2>, tensor=<tf.Tensor 'data_1:0' shape=(None,) dtype=string>), 'Question.ID': SemanticTensor(semantic=<Semantic.NUMERICAL: 1>, tensor=<tf.Tensor 'Cast_1:0' shape=(None,) dtype=float32>), 'Answer.duration': SemanticTensor(semantic=<Semantic.NUMERICAL: 1>, tensor=<tf.Tensor 'Cast_2:0' shape=(None,) dtype=float32>), 'Answer.confidence': SemanticTensor(semantic=<Semantic.NUMERICAL: 1>, tensor=<tf.Tensor 'Cast_3:0' shape=(None,) dtype=float32>), 'Answer.difficulty': SemanticTensor(semantic=<Semantic.NUMERICAL: 1>, tensor=<tf.Tensor 'Cast_4:0' shape=(None,) dtype=float32>), 'Answer.option': SemanticTensor(semantic=<Semantic.CATEGORICAL: 2>, tensor=<tf.Tensor 'data_6:0' shape=(None,) dtype=string>), 'Answer.order': SemanticTensor(semantic=<Semantic.NUMERICAL: 1>, tensor=<tf.Tensor 'Cast_5:0' shape=(None,) dtype=float32>), 'Answer.explanation': SemanticTensor(semantic=<Semantic.CATEGORICAL: 2>, tensor=<tf.Tensor 'data_8:0' shape=(None,) dtype=string>), 'Code.LOC': SemanticTensor(semantic=<Semantic.NUMERICAL: 1>, tensor=<tf.Tensor 'Cast_6:0' shape=(None,) dtype=float32>), 'Code.complexity': SemanticTensor(semantic=<Semantic.NUMERICAL: 1>, tensor=<tf.Tensor 'Cast_7:0' shape=(None,) dtype=float32>), 'Worker.ID': SemanticTensor(semantic=<Semantic.CATEGORICAL: 2>, tensor=<tf.Tensor 'data_11:0' shape=(None,) dtype=string>), 'Worker.score': SemanticTensor(semantic=<Semantic.NUMERICAL: 1>, tensor=<tf.Tensor 'Cast_8:0' shape=(None,) dtype=float32>), 'Worker.profession': SemanticTensor(semantic=<Semantic.CATEGORICAL: 2>, tensor=<tf.Tensor 'data_13:0' shape=(None,) dtype=string>), 'Worker.yearsOfExperience': SemanticTensor(semantic=<Semantic.NUMERICAL: 1>, tensor=<tf.Tensor 'Cast_9:0' shape=(None,) dtype=float32>), 'Worker.age': SemanticTensor(semantic=<Semantic.NUMERICAL: 1>, tensor=<tf.Tensor 'Cast_10:0' shape=(None,) dtype=float32>), 'Worker.gender': SemanticTensor(semantic=<Semantic.CATEGORICAL: 2>, tensor=<tf.Tensor 'data_16:0' shape=(None,) dtype=string>), 'Worker.whereLearnedToCode': SemanticTensor(semantic=<Semantic.CATEGORICAL: 2>, tensor=<tf.Tensor 'data_17:0' shape=(None,) dtype=string>), 'Worker.country': SemanticTensor(semantic=<Semantic.CATEGORICAL: 2>, tensor=<tf.Tensor 'data_18:0' shape=(None,) dtype=string>), 'Worker.programmingLanguage': SemanticTensor(semantic=<Semantic.CATEGORICAL: 2>, tensor=<tf.Tensor 'data_19:0' shape=(None,) dtype=string>)}\n",
      "Training dataset read in 0:00:00.547102. Found 1757 examples.\n",
      "Training model...\n",
      "Model trained in 0:04:33.003676\n",
      "Compiling model...\n",
      "Model compiled.\n",
      "1/1 [==============================] - 0s 380ms/step - loss: 0.0000e+00 - precision: 1.0000 - recall: 0.9780\n"
     ]
    },
    {
     "name": "stderr",
     "output_type": "stream",
     "text": [
      " 88%|████████▊ | 14/16 [35:22<07:14, 217.45s/it]"
     ]
    },
    {
     "name": "stdout",
     "output_type": "stream",
     "text": [
      "Use /tmp/tmpzclv0kgc as temporary training directory\n",
      "Reading training dataset...\n",
      "Training tensor examples:\n",
      "Features: {'Answer.ID': <tf.Tensor 'data:0' shape=(None,) dtype=int64>, 'FailingMethod': <tf.Tensor 'data_1:0' shape=(None,) dtype=string>, 'Question.ID': <tf.Tensor 'data_2:0' shape=(None,) dtype=int64>, 'Answer.duration': <tf.Tensor 'data_3:0' shape=(None,) dtype=float64>, 'Answer.confidence': <tf.Tensor 'data_4:0' shape=(None,) dtype=int64>, 'Answer.difficulty': <tf.Tensor 'data_5:0' shape=(None,) dtype=int64>, 'Answer.option': <tf.Tensor 'data_6:0' shape=(None,) dtype=string>, 'Answer.order': <tf.Tensor 'data_7:0' shape=(None,) dtype=int64>, 'Answer.explanation': <tf.Tensor 'data_8:0' shape=(None,) dtype=string>, 'Code.LOC': <tf.Tensor 'data_9:0' shape=(None,) dtype=int64>, 'Code.complexity': <tf.Tensor 'data_10:0' shape=(None,) dtype=int64>, 'Worker.ID': <tf.Tensor 'data_11:0' shape=(None,) dtype=string>, 'Worker.score': <tf.Tensor 'data_12:0' shape=(None,) dtype=int64>, 'Worker.profession': <tf.Tensor 'data_13:0' shape=(None,) dtype=string>, 'Worker.yearsOfExperience': <tf.Tensor 'data_14:0' shape=(None,) dtype=float64>, 'Worker.age': <tf.Tensor 'data_15:0' shape=(None,) dtype=int64>, 'Worker.gender': <tf.Tensor 'data_16:0' shape=(None,) dtype=string>, 'Worker.whereLearnedToCode': <tf.Tensor 'data_17:0' shape=(None,) dtype=string>, 'Worker.country': <tf.Tensor 'data_18:0' shape=(None,) dtype=string>, 'Worker.programmingLanguage': <tf.Tensor 'data_19:0' shape=(None,) dtype=string>}\n",
      "Label: Tensor(\"data_20:0\", shape=(None,), dtype=int64)\n",
      "Weights: None\n",
      "Normalized tensor features:\n",
      " {'Answer.ID': SemanticTensor(semantic=<Semantic.NUMERICAL: 1>, tensor=<tf.Tensor 'Cast:0' shape=(None,) dtype=float32>), 'FailingMethod': SemanticTensor(semantic=<Semantic.CATEGORICAL: 2>, tensor=<tf.Tensor 'data_1:0' shape=(None,) dtype=string>), 'Question.ID': SemanticTensor(semantic=<Semantic.NUMERICAL: 1>, tensor=<tf.Tensor 'Cast_1:0' shape=(None,) dtype=float32>), 'Answer.duration': SemanticTensor(semantic=<Semantic.NUMERICAL: 1>, tensor=<tf.Tensor 'Cast_2:0' shape=(None,) dtype=float32>), 'Answer.confidence': SemanticTensor(semantic=<Semantic.NUMERICAL: 1>, tensor=<tf.Tensor 'Cast_3:0' shape=(None,) dtype=float32>), 'Answer.difficulty': SemanticTensor(semantic=<Semantic.NUMERICAL: 1>, tensor=<tf.Tensor 'Cast_4:0' shape=(None,) dtype=float32>), 'Answer.option': SemanticTensor(semantic=<Semantic.CATEGORICAL: 2>, tensor=<tf.Tensor 'data_6:0' shape=(None,) dtype=string>), 'Answer.order': SemanticTensor(semantic=<Semantic.NUMERICAL: 1>, tensor=<tf.Tensor 'Cast_5:0' shape=(None,) dtype=float32>), 'Answer.explanation': SemanticTensor(semantic=<Semantic.CATEGORICAL: 2>, tensor=<tf.Tensor 'data_8:0' shape=(None,) dtype=string>), 'Code.LOC': SemanticTensor(semantic=<Semantic.NUMERICAL: 1>, tensor=<tf.Tensor 'Cast_6:0' shape=(None,) dtype=float32>), 'Code.complexity': SemanticTensor(semantic=<Semantic.NUMERICAL: 1>, tensor=<tf.Tensor 'Cast_7:0' shape=(None,) dtype=float32>), 'Worker.ID': SemanticTensor(semantic=<Semantic.CATEGORICAL: 2>, tensor=<tf.Tensor 'data_11:0' shape=(None,) dtype=string>), 'Worker.score': SemanticTensor(semantic=<Semantic.NUMERICAL: 1>, tensor=<tf.Tensor 'Cast_8:0' shape=(None,) dtype=float32>), 'Worker.profession': SemanticTensor(semantic=<Semantic.CATEGORICAL: 2>, tensor=<tf.Tensor 'data_13:0' shape=(None,) dtype=string>), 'Worker.yearsOfExperience': SemanticTensor(semantic=<Semantic.NUMERICAL: 1>, tensor=<tf.Tensor 'Cast_9:0' shape=(None,) dtype=float32>), 'Worker.age': SemanticTensor(semantic=<Semantic.NUMERICAL: 1>, tensor=<tf.Tensor 'Cast_10:0' shape=(None,) dtype=float32>), 'Worker.gender': SemanticTensor(semantic=<Semantic.CATEGORICAL: 2>, tensor=<tf.Tensor 'data_16:0' shape=(None,) dtype=string>), 'Worker.whereLearnedToCode': SemanticTensor(semantic=<Semantic.CATEGORICAL: 2>, tensor=<tf.Tensor 'data_17:0' shape=(None,) dtype=string>), 'Worker.country': SemanticTensor(semantic=<Semantic.CATEGORICAL: 2>, tensor=<tf.Tensor 'data_18:0' shape=(None,) dtype=string>), 'Worker.programmingLanguage': SemanticTensor(semantic=<Semantic.CATEGORICAL: 2>, tensor=<tf.Tensor 'data_19:0' shape=(None,) dtype=string>)}\n",
      "Training dataset read in 0:00:00.823482. Found 1836 examples.\n",
      "Training model...\n",
      "Model trained in 0:04:28.720536\n",
      "Compiling model...\n",
      "Model compiled.\n",
      "1/1 [==============================] - 0s 345ms/step - loss: 0.0000e+00 - precision: 1.0000 - recall: 0.9789\n"
     ]
    },
    {
     "name": "stderr",
     "output_type": "stream",
     "text": [
      " 94%|█████████▍| 15/16 [39:53<03:53, 233.41s/it]"
     ]
    },
    {
     "name": "stdout",
     "output_type": "stream",
     "text": [
      "Use /tmp/tmp6_e9v82r as temporary training directory\n",
      "Reading training dataset...\n",
      "Training tensor examples:\n",
      "Features: {'Answer.ID': <tf.Tensor 'data:0' shape=(None,) dtype=int64>, 'FailingMethod': <tf.Tensor 'data_1:0' shape=(None,) dtype=string>, 'Question.ID': <tf.Tensor 'data_2:0' shape=(None,) dtype=int64>, 'Answer.duration': <tf.Tensor 'data_3:0' shape=(None,) dtype=float64>, 'Answer.confidence': <tf.Tensor 'data_4:0' shape=(None,) dtype=int64>, 'Answer.difficulty': <tf.Tensor 'data_5:0' shape=(None,) dtype=int64>, 'Answer.option': <tf.Tensor 'data_6:0' shape=(None,) dtype=string>, 'Answer.order': <tf.Tensor 'data_7:0' shape=(None,) dtype=int64>, 'Answer.explanation': <tf.Tensor 'data_8:0' shape=(None,) dtype=string>, 'Code.LOC': <tf.Tensor 'data_9:0' shape=(None,) dtype=int64>, 'Code.complexity': <tf.Tensor 'data_10:0' shape=(None,) dtype=int64>, 'Worker.ID': <tf.Tensor 'data_11:0' shape=(None,) dtype=string>, 'Worker.score': <tf.Tensor 'data_12:0' shape=(None,) dtype=int64>, 'Worker.profession': <tf.Tensor 'data_13:0' shape=(None,) dtype=string>, 'Worker.yearsOfExperience': <tf.Tensor 'data_14:0' shape=(None,) dtype=float64>, 'Worker.age': <tf.Tensor 'data_15:0' shape=(None,) dtype=int64>, 'Worker.gender': <tf.Tensor 'data_16:0' shape=(None,) dtype=string>, 'Worker.whereLearnedToCode': <tf.Tensor 'data_17:0' shape=(None,) dtype=string>, 'Worker.country': <tf.Tensor 'data_18:0' shape=(None,) dtype=string>, 'Worker.programmingLanguage': <tf.Tensor 'data_19:0' shape=(None,) dtype=string>}\n",
      "Label: Tensor(\"data_20:0\", shape=(None,), dtype=int64)\n",
      "Weights: None\n",
      "Normalized tensor features:\n",
      " {'Answer.ID': SemanticTensor(semantic=<Semantic.NUMERICAL: 1>, tensor=<tf.Tensor 'Cast:0' shape=(None,) dtype=float32>), 'FailingMethod': SemanticTensor(semantic=<Semantic.CATEGORICAL: 2>, tensor=<tf.Tensor 'data_1:0' shape=(None,) dtype=string>), 'Question.ID': SemanticTensor(semantic=<Semantic.NUMERICAL: 1>, tensor=<tf.Tensor 'Cast_1:0' shape=(None,) dtype=float32>), 'Answer.duration': SemanticTensor(semantic=<Semantic.NUMERICAL: 1>, tensor=<tf.Tensor 'Cast_2:0' shape=(None,) dtype=float32>), 'Answer.confidence': SemanticTensor(semantic=<Semantic.NUMERICAL: 1>, tensor=<tf.Tensor 'Cast_3:0' shape=(None,) dtype=float32>), 'Answer.difficulty': SemanticTensor(semantic=<Semantic.NUMERICAL: 1>, tensor=<tf.Tensor 'Cast_4:0' shape=(None,) dtype=float32>), 'Answer.option': SemanticTensor(semantic=<Semantic.CATEGORICAL: 2>, tensor=<tf.Tensor 'data_6:0' shape=(None,) dtype=string>), 'Answer.order': SemanticTensor(semantic=<Semantic.NUMERICAL: 1>, tensor=<tf.Tensor 'Cast_5:0' shape=(None,) dtype=float32>), 'Answer.explanation': SemanticTensor(semantic=<Semantic.CATEGORICAL: 2>, tensor=<tf.Tensor 'data_8:0' shape=(None,) dtype=string>), 'Code.LOC': SemanticTensor(semantic=<Semantic.NUMERICAL: 1>, tensor=<tf.Tensor 'Cast_6:0' shape=(None,) dtype=float32>), 'Code.complexity': SemanticTensor(semantic=<Semantic.NUMERICAL: 1>, tensor=<tf.Tensor 'Cast_7:0' shape=(None,) dtype=float32>), 'Worker.ID': SemanticTensor(semantic=<Semantic.CATEGORICAL: 2>, tensor=<tf.Tensor 'data_11:0' shape=(None,) dtype=string>), 'Worker.score': SemanticTensor(semantic=<Semantic.NUMERICAL: 1>, tensor=<tf.Tensor 'Cast_8:0' shape=(None,) dtype=float32>), 'Worker.profession': SemanticTensor(semantic=<Semantic.CATEGORICAL: 2>, tensor=<tf.Tensor 'data_13:0' shape=(None,) dtype=string>), 'Worker.yearsOfExperience': SemanticTensor(semantic=<Semantic.NUMERICAL: 1>, tensor=<tf.Tensor 'Cast_9:0' shape=(None,) dtype=float32>), 'Worker.age': SemanticTensor(semantic=<Semantic.NUMERICAL: 1>, tensor=<tf.Tensor 'Cast_10:0' shape=(None,) dtype=float32>), 'Worker.gender': SemanticTensor(semantic=<Semantic.CATEGORICAL: 2>, tensor=<tf.Tensor 'data_16:0' shape=(None,) dtype=string>), 'Worker.whereLearnedToCode': SemanticTensor(semantic=<Semantic.CATEGORICAL: 2>, tensor=<tf.Tensor 'data_17:0' shape=(None,) dtype=string>), 'Worker.country': SemanticTensor(semantic=<Semantic.CATEGORICAL: 2>, tensor=<tf.Tensor 'data_18:0' shape=(None,) dtype=string>), 'Worker.programmingLanguage': SemanticTensor(semantic=<Semantic.CATEGORICAL: 2>, tensor=<tf.Tensor 'data_19:0' shape=(None,) dtype=string>)}\n",
      "Training dataset read in 0:00:00.601467. Found 1915 examples.\n",
      "Training model...\n",
      "Model trained in 0:04:56.923762\n",
      "Compiling model...\n",
      "Model compiled.\n",
      "1/1 [==============================] - 0s 390ms/step - loss: 0.0000e+00 - precision: 1.0000 - recall: 0.9798\n"
     ]
    },
    {
     "name": "stderr",
     "output_type": "stream",
     "text": [
      "100%|██████████| 16/16 [44:51<00:00, 168.21s/it]\n"
     ]
    }
   ],
   "source": [
    "import sklearn.model_selection\n",
    "import tqdm\n",
    "\n",
    "def batch_train_eval_classifiers(students_df, non_students_df, batch_size, rounds, tuner_trials):\n",
    "    non_students_shuffled_df = sklearn.utils.shuffle(non_students_df).drop(columns=['TP', 'TN', 'FP', 'FN'])\n",
    "    label = \"GroundTruth\"\n",
    "\n",
    "    students_gt_df = students_df[students_df['GroundTruth'] == 1].drop(columns=['TP', 'TN', 'FP', 'FN'])\n",
    "    students_ngt_df = students_df[students_df['GroundTruth'] == 0].drop(columns=['TP', 'TN', 'FP', 'FN'])\n",
    "    students_gt_train_df, students_gt_test_df = sklearn.model_selection.train_test_split(students_gt_df, test_size=0.2)\n",
    "    students_ngt_train_df, students_ngt_test_df = sklearn.model_selection.train_test_split(students_ngt_df, test_size=0.2)\n",
    "\n",
    "    combined_train_df = pd.concat([students_gt_train_df, students_ngt_train_df], ignore_index=True)\n",
    "    combined_test_df = pd.concat([students_gt_test_df, students_ngt_test_df], ignore_index=True)\n",
    "\n",
    "    classifiers = []\n",
    "\n",
    "    for i in tqdm.tqdm(range(0, rounds)):\n",
    "        start = i * batch_size\n",
    "        end = start + batch_size\n",
    "\n",
    "        new_df = non_students_shuffled_df.iloc[start:end]\n",
    "        new_gt_df = new_df[new_df['GroundTruth'] == 1]\n",
    "        new_ngt_df = new_df[new_df['GroundTruth'] == 0]\n",
    "\n",
    "        new_gt_train_df, new_gt_test_df = sklearn.model_selection.train_test_split(new_gt_df, test_size=0.2)\n",
    "        new_ngt_train_df, new_ngt_test_df = sklearn.model_selection.train_test_split(new_ngt_df, test_size=0.2)\n",
    "\n",
    "        combined_train_df = pd.concat([combined_train_df, new_gt_train_df, new_ngt_train_df])\n",
    "        combined_test_df = pd.concat([combined_test_df, new_gt_test_df, new_ngt_test_df])\n",
    "\n",
    "        try:\n",
    "            assert pd.Series(combined_train_df['Answer.ID']).is_unique and pd.Series(combined_test_df['Answer.ID']).is_unique\n",
    "        except Exception as e:\n",
    "            print(e)\n",
    "\n",
    "        combined_train_id = combined_train_df['Answer.ID'].to_list()\n",
    "        combined_test_id = combined_test_df['Answer.ID'].to_list()\n",
    "        combined_split = {'train_id': combined_train_id, 'test_id': combined_test_id}\n",
    "\n",
    "        combined_train_ds = tfdf.keras.pd_dataframe_to_tf_dataset(combined_train_df, label=label)\n",
    "        combined_test_ds = tfdf.keras.pd_dataframe_to_tf_dataset(combined_test_df, label=label)\n",
    "\n",
    "        combined_tuner = tfdf.tuner.RandomSearch(num_trials=tuner_trials, use_predefined_hps=True)\n",
    "        combined_classifier = tfdf.keras.RandomForestModel(tuner=combined_tuner)\n",
    "        combined_classifier.fit(combined_train_ds, verbose=2)\n",
    "\n",
    "        combined_classifier.compile(['Precision', 'Recall'])\n",
    "        classifiers.append({'classifier': combined_classifier, 'split': combined_split, 'evaluation': combined_classifier.evaluate(combined_test_ds, return_dict=True)})\n",
    "\n",
    "    return classifiers\n",
    "\n",
    "batch_size = 100\n",
    "rounds = 16\n",
    "tuner_trials = 10\n",
    "combined_classifiers = batch_train_eval_classifiers(students_df, non_students_df, batch_size=batch_size, rounds=rounds, tuner_trials=tuner_trials)"
   ]
  },
  {
   "cell_type": "code",
   "execution_count": null,
   "metadata": {},
   "outputs": [
    {
     "name": "stdout",
     "output_type": "stream",
     "text": [
      "INFO:tensorflow:Assets written to: models/combined_classifier_00/assets\n"
     ]
    },
    {
     "name": "stderr",
     "output_type": "stream",
     "text": [
      "INFO:tensorflow:Assets written to: models/combined_classifier_00/assets\n"
     ]
    },
    {
     "name": "stdout",
     "output_type": "stream",
     "text": [
      "INFO:tensorflow:Assets written to: models/combined_classifier_01/assets\n"
     ]
    },
    {
     "name": "stderr",
     "output_type": "stream",
     "text": [
      "INFO:tensorflow:Assets written to: models/combined_classifier_01/assets\n"
     ]
    },
    {
     "name": "stdout",
     "output_type": "stream",
     "text": [
      "INFO:tensorflow:Assets written to: models/combined_classifier_02/assets\n"
     ]
    },
    {
     "name": "stderr",
     "output_type": "stream",
     "text": [
      "INFO:tensorflow:Assets written to: models/combined_classifier_02/assets\n"
     ]
    },
    {
     "name": "stdout",
     "output_type": "stream",
     "text": [
      "INFO:tensorflow:Assets written to: models/combined_classifier_03/assets\n"
     ]
    },
    {
     "name": "stderr",
     "output_type": "stream",
     "text": [
      "INFO:tensorflow:Assets written to: models/combined_classifier_03/assets\n"
     ]
    },
    {
     "name": "stdout",
     "output_type": "stream",
     "text": [
      "INFO:tensorflow:Assets written to: models/combined_classifier_04/assets\n"
     ]
    },
    {
     "name": "stderr",
     "output_type": "stream",
     "text": [
      "INFO:tensorflow:Assets written to: models/combined_classifier_04/assets\n"
     ]
    },
    {
     "name": "stdout",
     "output_type": "stream",
     "text": [
      "INFO:tensorflow:Assets written to: models/combined_classifier_05/assets\n"
     ]
    },
    {
     "name": "stderr",
     "output_type": "stream",
     "text": [
      "INFO:tensorflow:Assets written to: models/combined_classifier_05/assets\n"
     ]
    },
    {
     "name": "stdout",
     "output_type": "stream",
     "text": [
      "INFO:tensorflow:Assets written to: models/combined_classifier_06/assets\n"
     ]
    },
    {
     "name": "stderr",
     "output_type": "stream",
     "text": [
      "INFO:tensorflow:Assets written to: models/combined_classifier_06/assets\n"
     ]
    },
    {
     "name": "stdout",
     "output_type": "stream",
     "text": [
      "INFO:tensorflow:Assets written to: models/combined_classifier_07/assets\n"
     ]
    },
    {
     "name": "stderr",
     "output_type": "stream",
     "text": [
      "INFO:tensorflow:Assets written to: models/combined_classifier_07/assets\n"
     ]
    },
    {
     "name": "stdout",
     "output_type": "stream",
     "text": [
      "INFO:tensorflow:Assets written to: models/combined_classifier_08/assets\n"
     ]
    },
    {
     "name": "stderr",
     "output_type": "stream",
     "text": [
      "INFO:tensorflow:Assets written to: models/combined_classifier_08/assets\n"
     ]
    },
    {
     "name": "stdout",
     "output_type": "stream",
     "text": [
      "INFO:tensorflow:Assets written to: models/combined_classifier_09/assets\n"
     ]
    },
    {
     "name": "stderr",
     "output_type": "stream",
     "text": [
      "INFO:tensorflow:Assets written to: models/combined_classifier_09/assets\n"
     ]
    },
    {
     "name": "stdout",
     "output_type": "stream",
     "text": [
      "INFO:tensorflow:Assets written to: models/combined_classifier_10/assets\n"
     ]
    },
    {
     "name": "stderr",
     "output_type": "stream",
     "text": [
      "INFO:tensorflow:Assets written to: models/combined_classifier_10/assets\n"
     ]
    },
    {
     "name": "stdout",
     "output_type": "stream",
     "text": [
      "INFO:tensorflow:Assets written to: models/combined_classifier_11/assets\n"
     ]
    },
    {
     "name": "stderr",
     "output_type": "stream",
     "text": [
      "INFO:tensorflow:Assets written to: models/combined_classifier_11/assets\n"
     ]
    },
    {
     "name": "stdout",
     "output_type": "stream",
     "text": [
      "INFO:tensorflow:Assets written to: models/combined_classifier_12/assets\n"
     ]
    },
    {
     "name": "stderr",
     "output_type": "stream",
     "text": [
      "INFO:tensorflow:Assets written to: models/combined_classifier_12/assets\n"
     ]
    },
    {
     "name": "stdout",
     "output_type": "stream",
     "text": [
      "INFO:tensorflow:Assets written to: models/combined_classifier_13/assets\n"
     ]
    },
    {
     "name": "stderr",
     "output_type": "stream",
     "text": [
      "INFO:tensorflow:Assets written to: models/combined_classifier_13/assets\n"
     ]
    },
    {
     "name": "stdout",
     "output_type": "stream",
     "text": [
      "INFO:tensorflow:Assets written to: models/combined_classifier_14/assets\n"
     ]
    },
    {
     "name": "stderr",
     "output_type": "stream",
     "text": [
      "INFO:tensorflow:Assets written to: models/combined_classifier_14/assets\n"
     ]
    },
    {
     "name": "stdout",
     "output_type": "stream",
     "text": [
      "INFO:tensorflow:Assets written to: models/combined_classifier_15/assets\n"
     ]
    },
    {
     "name": "stderr",
     "output_type": "stream",
     "text": [
      "INFO:tensorflow:Assets written to: models/combined_classifier_15/assets\n"
     ]
    }
   ],
   "source": [
    "# Optionally save trained classifier model and train/test split used\n",
    "#\n",
    "# note: method to load saved combined classifiers not implemented atm\n",
    "\n",
    "def save_classifier(classifier, split, path, overwrite):\n",
    "    classifier.save(path, overwrite=overwrite)\n",
    "    with open(path + '_split.txt', 'w', encoding='utf-8') as f:\n",
    "        json.dump(split, f)\n",
    "\n",
    "overwrite = True\n",
    "for index, item in enumerate(combined_classifiers):\n",
    "    path = f\"models/combined_classifier_{index:02d}\"\n",
    "    save_classifier(item['classifier'], item['split'], path, overwrite)"
   ]
  },
  {
   "cell_type": "code",
   "execution_count": 57,
   "metadata": {},
   "outputs": [
    {
     "name": "stdout",
     "output_type": "stream",
     "text": [
      "{'loss': 0.0, 'precision': 1.0, 'recall': 0.4000000059604645}\n",
      "{'loss': 0.0, 'precision': 1.0, 'recall': 0.5249999761581421}\n",
      "{'loss': 0.0, 'precision': 1.0, 'recall': 0.7045454382896423}\n",
      "{'loss': 0.0, 'precision': 1.0, 'recall': 0.5833333134651184}\n",
      "{'loss': 0.0, 'precision': 1.0, 'recall': 0.7307692170143127}\n",
      "{'loss': 0.0, 'precision': 1.0, 'recall': 0.7857142686843872}\n",
      "{'loss': 0.0, 'precision': 1.0, 'recall': 0.7966101765632629}\n",
      "{'loss': 0.0, 'precision': 1.0, 'recall': 0.8571428656578064}\n",
      "{'loss': 0.0, 'precision': 1.0, 'recall': 0.9130434989929199}\n",
      "{'loss': 0.0, 'precision': 1.0, 'recall': 0.9041095972061157}\n",
      "{'loss': 0.0, 'precision': 1.0, 'recall': 0.9615384340286255}\n",
      "{'loss': 0.0, 'precision': 1.0, 'recall': 0.9756097793579102}\n",
      "{'loss': 0.0, 'precision': 1.0, 'recall': 0.9772727489471436}\n",
      "{'loss': 0.0, 'precision': 1.0, 'recall': 0.9780219793319702}\n",
      "{'loss': 0.0, 'precision': 1.0, 'recall': 0.9789473414421082}\n",
      "{'loss': 0.0, 'precision': 1.0, 'recall': 0.9797979593276978}\n"
     ]
    }
   ],
   "source": [
    "combined_classifiers_eval = [cl['evaluation'] for cl in combined_classifiers]\n",
    "for eval in combined_classifiers_eval:\n",
    "    print(eval)"
   ]
  },
  {
   "cell_type": "code",
   "execution_count": 58,
   "metadata": {},
   "outputs": [
    {
     "data": {
      "text/plain": [
       "array([<Axes: >, <Axes: >, <Axes: >], dtype=object)"
      ]
     },
     "execution_count": 58,
     "metadata": {},
     "output_type": "execute_result"
    },
    {
     "data": {
      "image/png": "[encoded data removed]",
      "text/plain": [
       "<Figure size 640x480 with 3 Axes>"
      ]
     },
     "metadata": {},
     "output_type": "display_data"
    }
   ],
   "source": [
    "combined_classifiers_eval_df = pd.DataFrame(combined_classifiers_eval)\n",
    "combined_classifiers_eval_df.plot(subplots=True)"
   ]
  },
  {
   "cell_type": "markdown",
   "metadata": {},
   "source": [
    "As the above plot shows, the trained classifier steadily increases in accuracy as more non-student entries are added to the dataset. The initial recall is below that of the classifier trained only on student entries above. This discrepancy could be explained by the reduced number of trials used for the tuner during the repeated training of combined classifiers, a number that has been reduced in order to finish the runs in a more permissible timeframe.\n",
    "\n",
    "Still, even with the comparatively low starting value, the classifiers outperform the classification accuracy we achieved during our previous project. Since we did not split the dataset by method this time, we suspect that the more even split into train/test sets might have a positive impact on the resulting trained classifier."
   ]
  }
 ],
 "metadata": {
  "kernelspec": {
   "display_name": ".venv",
   "language": "python",
   "name": "python3"
  },
  "language_info": {
   "codemirror_mode": {
    "name": "ipython",
    "version": 3
   },
   "file_extension": ".py",
   "mimetype": "text/x-python",
   "name": "python",
   "nbconvert_exporter": "python",
   "pygments_lexer": "ipython3",
   "version": "3.10.12"
  }
 },
 "nbformat": 4,
 "nbformat_minor": 2
}
