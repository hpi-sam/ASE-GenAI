{
 "cells": [
  {
   "cell_type": "code",
   "execution_count": 18,
   "metadata": {},
   "outputs": [],
   "source": [
    "import pandas as pd\n",
    "import numpy as np\n",
    "# import tensorflow as tf\n",
    "import sklearn\n",
    "\n",
    "import os\n",
    "# Keep using Keras 2\n",
    "os.environ['TF_USE_LEGACY_KERAS'] = '1'\n",
    "\n",
    "# import tensorflow_decision_forests as tfdf\n",
    "\n",
    "import tqdm\n",
    "import re"
   ]
  },
  {
   "cell_type": "code",
   "execution_count": 2,
   "metadata": {},
   "outputs": [],
   "source": [
    "df = pd.read_csv('answerList_data.csv')\n",
    "\n",
    "def calculate_ttr(text):\n",
    "    words = str(text).split()\n",
    "    unique = set(words)\n",
    "    ttr = len(unique) / len(words)\n",
    "    return ttr\n",
    "\n",
    "df['complexity'] = df['Answer.explanation'].apply(calculate_ttr)"
   ]
  },
  {
   "cell_type": "code",
   "execution_count": 3,
   "metadata": {},
   "outputs": [],
   "source": [
    "students = ['Undergraduate_Student', 'Graduate_Student']\n",
    "students_df = df[df['Worker.profession'].isin(students)]\n",
    "others_df = df[~df['Worker.profession'].isin(students)]\n",
    "\n",
    "students_df_gt = students_df[students_df['GroundTruth'] == 1]\n",
    "students_df_ngt = students_df[students_df['GroundTruth'] == 0]\n",
    "\n",
    "students_df_gt_train, students_df_gt_test = sklearn.model_selection.train_test_split(students_df_gt, test_size=0.2)\n",
    "students_df_ngt_train, students_df_ngt_test = sklearn.model_selection.train_test_split(students_df_ngt, test_size=0.2)\n",
    "\n",
    "students_df_train = pd.concat([students_df_gt_train, students_df_ngt_train], ignore_index=True).drop(columns=['TN', 'FN', 'TP', 'FP'])\n",
    "students_df_test = pd.concat([students_df_gt_test, students_df_ngt_test], ignore_index=True).drop(columns=['TN', 'FN', 'TP', 'FP'])\n"
   ]
  },
  {
   "cell_type": "code",
   "execution_count": 45,
   "metadata": {},
   "outputs": [],
   "source": [
    "label = \"GroundTruth\"\n",
    "\n",
    "train_ds = tfdf.keras.pd_dataframe_to_tf_dataset(students_df_train, label=label)\n",
    "holdout_ds = tfdf.keras.pd_dataframe_to_tf_dataset(students_df_test, label=label)\n",
    "complete_ds = tfdf.keras.pd_dataframe_to_tf_dataset(students_df, label=label)"
   ]
  },
  {
   "cell_type": "code",
   "execution_count": 46,
   "metadata": {},
   "outputs": [
    {
     "name": "stdout",
     "output_type": "stream",
     "text": [
      "Use /var/folders/36/2qtcl0jx6r94h6345h20r6880000gn/T/tmpc2ualy2t as temporary training directory\n",
      "Reading training dataset...\n",
      "Training tensor examples:\n",
      "Features: {'Answer.ID': <tf.Tensor 'data:0' shape=(None,) dtype=int64>, 'FailingMethod': <tf.Tensor 'data_1:0' shape=(None,) dtype=string>, 'Question.ID': <tf.Tensor 'data_2:0' shape=(None,) dtype=int64>, 'Answer.duration': <tf.Tensor 'data_3:0' shape=(None,) dtype=float64>, 'Answer.confidence': <tf.Tensor 'data_4:0' shape=(None,) dtype=int64>, 'Answer.difficulty': <tf.Tensor 'data_5:0' shape=(None,) dtype=int64>, 'Answer.option': <tf.Tensor 'data_6:0' shape=(None,) dtype=string>, 'Answer.order': <tf.Tensor 'data_7:0' shape=(None,) dtype=int64>, 'Answer.explanation': <tf.Tensor 'data_8:0' shape=(None,) dtype=string>, 'Code.LOC': <tf.Tensor 'data_9:0' shape=(None,) dtype=int64>, 'Code.complexity': <tf.Tensor 'data_10:0' shape=(None,) dtype=int64>, 'Worker.ID': <tf.Tensor 'data_11:0' shape=(None,) dtype=string>, 'Worker.score': <tf.Tensor 'data_12:0' shape=(None,) dtype=int64>, 'Worker.profession': <tf.Tensor 'data_13:0' shape=(None,) dtype=string>, 'Worker.yearsOfExperience': <tf.Tensor 'data_14:0' shape=(None,) dtype=float64>, 'Worker.age': <tf.Tensor 'data_15:0' shape=(None,) dtype=int64>, 'Worker.gender': <tf.Tensor 'data_16:0' shape=(None,) dtype=string>, 'Worker.whereLearnedToCode': <tf.Tensor 'data_17:0' shape=(None,) dtype=string>, 'Worker.country': <tf.Tensor 'data_18:0' shape=(None,) dtype=string>, 'Worker.programmingLanguage': <tf.Tensor 'data_19:0' shape=(None,) dtype=string>, 'complexity': <tf.Tensor 'data_20:0' shape=(None,) dtype=float64>}\n",
      "Label: Tensor(\"data_21:0\", shape=(None,), dtype=int64)\n",
      "Weights: None\n",
      "Normalized tensor features:\n",
      " {'Answer.ID': SemanticTensor(semantic=<Semantic.NUMERICAL: 1>, tensor=<tf.Tensor 'Cast:0' shape=(None,) dtype=float32>), 'FailingMethod': SemanticTensor(semantic=<Semantic.CATEGORICAL: 2>, tensor=<tf.Tensor 'data_1:0' shape=(None,) dtype=string>), 'Question.ID': SemanticTensor(semantic=<Semantic.NUMERICAL: 1>, tensor=<tf.Tensor 'Cast_1:0' shape=(None,) dtype=float32>), 'Answer.duration': SemanticTensor(semantic=<Semantic.NUMERICAL: 1>, tensor=<tf.Tensor 'Cast_2:0' shape=(None,) dtype=float32>), 'Answer.confidence': SemanticTensor(semantic=<Semantic.NUMERICAL: 1>, tensor=<tf.Tensor 'Cast_3:0' shape=(None,) dtype=float32>), 'Answer.difficulty': SemanticTensor(semantic=<Semantic.NUMERICAL: 1>, tensor=<tf.Tensor 'Cast_4:0' shape=(None,) dtype=float32>), 'Answer.option': SemanticTensor(semantic=<Semantic.CATEGORICAL: 2>, tensor=<tf.Tensor 'data_6:0' shape=(None,) dtype=string>), 'Answer.order': SemanticTensor(semantic=<Semantic.NUMERICAL: 1>, tensor=<tf.Tensor 'Cast_5:0' shape=(None,) dtype=float32>), 'Answer.explanation': SemanticTensor(semantic=<Semantic.CATEGORICAL: 2>, tensor=<tf.Tensor 'data_8:0' shape=(None,) dtype=string>), 'Code.LOC': SemanticTensor(semantic=<Semantic.NUMERICAL: 1>, tensor=<tf.Tensor 'Cast_6:0' shape=(None,) dtype=float32>), 'Code.complexity': SemanticTensor(semantic=<Semantic.NUMERICAL: 1>, tensor=<tf.Tensor 'Cast_7:0' shape=(None,) dtype=float32>), 'Worker.ID': SemanticTensor(semantic=<Semantic.CATEGORICAL: 2>, tensor=<tf.Tensor 'data_11:0' shape=(None,) dtype=string>), 'Worker.score': SemanticTensor(semantic=<Semantic.NUMERICAL: 1>, tensor=<tf.Tensor 'Cast_8:0' shape=(None,) dtype=float32>), 'Worker.profession': SemanticTensor(semantic=<Semantic.CATEGORICAL: 2>, tensor=<tf.Tensor 'data_13:0' shape=(None,) dtype=string>), 'Worker.yearsOfExperience': SemanticTensor(semantic=<Semantic.NUMERICAL: 1>, tensor=<tf.Tensor 'Cast_9:0' shape=(None,) dtype=float32>), 'Worker.age': SemanticTensor(semantic=<Semantic.NUMERICAL: 1>, tensor=<tf.Tensor 'Cast_10:0' shape=(None,) dtype=float32>), 'Worker.gender': SemanticTensor(semantic=<Semantic.CATEGORICAL: 2>, tensor=<tf.Tensor 'data_16:0' shape=(None,) dtype=string>), 'Worker.whereLearnedToCode': SemanticTensor(semantic=<Semantic.CATEGORICAL: 2>, tensor=<tf.Tensor 'data_17:0' shape=(None,) dtype=string>), 'Worker.country': SemanticTensor(semantic=<Semantic.CATEGORICAL: 2>, tensor=<tf.Tensor 'data_18:0' shape=(None,) dtype=string>), 'Worker.programmingLanguage': SemanticTensor(semantic=<Semantic.CATEGORICAL: 2>, tensor=<tf.Tensor 'data_19:0' shape=(None,) dtype=string>), 'complexity': SemanticTensor(semantic=<Semantic.NUMERICAL: 1>, tensor=<tf.Tensor 'Cast_11:0' shape=(None,) dtype=float32>)}\n",
      "Training dataset read in 0:00:00.390735. Found 645 examples.\n",
      "Training model...\n",
      "Model trained in 0:04:13.232146\n",
      "Compiling model...\n",
      "Model compiled.\n"
     ]
    },
    {
     "data": {
      "text/plain": [
       "<tf_keras.src.callbacks.History at 0x180c784c0>"
      ]
     },
     "execution_count": 46,
     "metadata": {},
     "output_type": "execute_result"
    }
   ],
   "source": [
    "tuner = tfdf.tuner.RandomSearch(num_trials=30, use_predefined_hps=True)\n",
    "model_1 = tfdf.keras.RandomForestModel(tuner=tuner)\n",
    "\n",
    "\n",
    "model_1.fit(train_ds, verbose=2)"
   ]
  },
  {
   "cell_type": "code",
   "execution_count": 47,
   "metadata": {},
   "outputs": [
    {
     "name": "stdout",
     "output_type": "stream",
     "text": [
      "1/1 [==============================] - 0s 468ms/step - loss: 0.0000e+00 - precision: 1.0000 - recall: 0.4516\n",
      "\n",
      "loss: 0.0000\n",
      "precision: 1.0000\n",
      "recall: 0.4516\n"
     ]
    }
   ],
   "source": [
    "model_1.compile(metrics=['Precision', 'Recall'])\n",
    "evaluation = model_1.evaluate(holdout_ds, return_dict=True)\n",
    "print()\n",
    "\n",
    "for name, value in evaluation.items():\n",
    "  print(f\"{name}: {value:.4f}\")"
   ]
  },
  {
   "cell_type": "code",
   "execution_count": 48,
   "metadata": {},
   "outputs": [
    {
     "name": "stdout",
     "output_type": "stream",
     "text": [
      "1/1 - 0s - 85ms/epoch - 85ms/step\n"
     ]
    }
   ],
   "source": [
    "predictions = model_1.predict(holdout_ds, verbose=2)"
   ]
  },
  {
   "cell_type": "code",
   "execution_count": 49,
   "metadata": {},
   "outputs": [],
   "source": [
    "students_df_test_eval = students_df_test.copy()\n",
    "students_df_test_eval['Prediction'] = predictions\n",
    "students_df_test_eval['PredictionRounded'] = predictions\n",
    "students_df_test_eval.PredictionRounded = students_df_test_eval.PredictionRounded.round()\n",
    "students_df_test_eval['RightPrediction'] = np.where(students_df_test_eval['PredictionRounded'] == students_df_test_eval['GroundTruth'], True, False)\n",
    "students_df_test_eval['ExplanationLength'] = students_df_test_eval['Answer.explanation'].str.len()\n"
   ]
  },
  {
   "cell_type": "code",
   "execution_count": 50,
   "metadata": {},
   "outputs": [
    {
     "data": {
      "image/png": "[encoded data removed]",
      "text/plain": [
       "<Figure size 640x480 with 1 Axes>"
      ]
     },
     "metadata": {},
     "output_type": "display_data"
    }
   ],
   "source": [
    "plot_3 = students_df_test_eval['PredictionRounded'].value_counts().plot(kind='bar')"
   ]
  },
  {
   "cell_type": "code",
   "execution_count": 51,
   "metadata": {},
   "outputs": [
    {
     "name": "stdout",
     "output_type": "stream",
     "text": [
      "1/1 [==============================] - 0s 491ms/step - loss: 0.0000e+00 - precision: 1.0000 - recall: 0.4688\n",
      "1/1 [==============================] - 0s 272ms/step - loss: 0.0000e+00 - precision: 1.0000 - recall: 0.5143\n",
      "1/1 [==============================] - 0s 303ms/step - loss: 0.0000e+00 - precision: 1.0000 - recall: 0.5143\n",
      "1/1 [==============================] - 0s 340ms/step - loss: 0.0000e+00 - precision: 1.0000 - recall: 0.5278\n",
      "1/1 [==============================] - 0s 312ms/step - loss: 0.0000e+00 - precision: 1.0000 - recall: 0.5526\n",
      "1/1 [==============================] - 0s 279ms/step - loss: 0.0000e+00 - precision: 1.0000 - recall: 0.5366\n",
      "1/1 [==============================] - 0s 292ms/step - loss: 0.0000e+00 - precision: 1.0000 - recall: 0.5366\n",
      "1/1 [==============================] - 0s 290ms/step - loss: 0.0000e+00 - precision: 1.0000 - recall: 0.5349\n",
      "1/1 [==============================] - 0s 236ms/step - loss: 0.0000e+00 - precision: 1.0000 - recall: 0.5333\n",
      "1/1 [==============================] - 0s 237ms/step - loss: 0.0000e+00 - precision: 1.0000 - recall: 0.5435\n",
      "1/1 [==============================] - 0s 227ms/step - loss: 0.0000e+00 - precision: 1.0000 - recall: 0.5532\n",
      "1/1 [==============================] - 0s 232ms/step - loss: 0.0000e+00 - precision: 1.0000 - recall: 0.5306\n",
      "1/1 [==============================] - 0s 238ms/step - loss: 0.0000e+00 - precision: 1.0000 - recall: 0.5294\n",
      "1/1 [==============================] - 0s 238ms/step - loss: 0.0000e+00 - precision: 1.0000 - recall: 0.5294\n",
      "1/1 [==============================] - 0s 227ms/step - loss: 0.0000e+00 - precision: 1.0000 - recall: 0.5294\n",
      "1/1 [==============================] - 0s 239ms/step - loss: 0.0000e+00 - precision: 1.0000 - recall: 0.5094\n",
      "1/1 [==============================] - 0s 233ms/step - loss: 0.0000e+00 - precision: 1.0000 - recall: 0.5094\n",
      "1/1 [==============================] - 0s 237ms/step - loss: 0.0000e+00 - precision: 1.0000 - recall: 0.5357\n",
      "1/1 [==============================] - 0s 241ms/step - loss: 0.0000e+00 - precision: 1.0000 - recall: 0.5439\n",
      "1/1 [==============================] - 0s 234ms/step - loss: 0.0000e+00 - precision: 1.0000 - recall: 0.5254\n",
      "1/1 [==============================] - 0s 237ms/step - loss: 0.0000e+00 - precision: 1.0000 - recall: 0.5246\n",
      "1/1 [==============================] - 0s 251ms/step - loss: 0.0000e+00 - precision: 1.0000 - recall: 0.5312\n",
      "1/1 [==============================] - 0s 235ms/step - loss: 0.0000e+00 - precision: 1.0000 - recall: 0.5312\n",
      "1/1 [==============================] - 0s 238ms/step - loss: 0.0000e+00 - precision: 1.0000 - recall: 0.5312\n",
      "1/1 [==============================] - 0s 241ms/step - loss: 0.0000e+00 - precision: 1.0000 - recall: 0.5373\n",
      "1/1 [==============================] - 0s 238ms/step - loss: 0.0000e+00 - precision: 1.0000 - recall: 0.5429\n",
      "1/1 [==============================] - 0s 237ms/step - loss: 0.0000e+00 - precision: 1.0000 - recall: 0.5417\n",
      "1/1 [==============================] - 0s 244ms/step - loss: 0.0000e+00 - precision: 1.0000 - recall: 0.5342\n",
      "1/1 [==============================] - 0s 246ms/step - loss: 0.0000e+00 - precision: 1.0000 - recall: 0.5333\n",
      "1/1 [==============================] - 0s 238ms/step - loss: 0.0000e+00 - precision: 1.0000 - recall: 0.5325\n",
      "1/1 [==============================] - 0s 263ms/step - loss: 0.0000e+00 - precision: 1.0000 - recall: 0.5385\n",
      "1/1 [==============================] - 0s 231ms/step - loss: 0.0000e+00 - precision: 1.0000 - recall: 0.5443\n",
      "1/1 [==============================] - 0s 243ms/step - loss: 0.0000e+00 - precision: 1.0000 - recall: 0.5432\n",
      "1/1 [==============================] - 0s 301ms/step - loss: 0.0000e+00 - precision: 1.0000 - recall: 0.5581\n",
      "1/1 [==============================] - 0s 249ms/step - loss: 0.0000e+00 - precision: 1.0000 - recall: 0.5632\n",
      "1/1 [==============================] - 0s 235ms/step - loss: 0.0000e+00 - precision: 1.0000 - recall: 0.5652\n",
      "1/1 [==============================] - 0s 260ms/step - loss: 0.0000e+00 - precision: 1.0000 - recall: 0.5652\n",
      "1/1 [==============================] - 0s 240ms/step - loss: 0.0000e+00 - precision: 1.0000 - recall: 0.5579\n",
      "1/1 [==============================] - 0s 244ms/step - loss: 0.0000e+00 - precision: 1.0000 - recall: 0.5408\n",
      "1/1 [==============================] - 0s 248ms/step - loss: 0.0000e+00 - precision: 1.0000 - recall: 0.5347\n",
      "1/1 [==============================] - 0s 246ms/step - loss: 0.0000e+00 - precision: 1.0000 - recall: 0.5294\n",
      "1/1 [==============================] - 0s 236ms/step - loss: 0.0000e+00 - precision: 1.0000 - recall: 0.5294\n",
      "1/1 [==============================] - 0s 267ms/step - loss: 0.0000e+00 - precision: 1.0000 - recall: 0.5340\n",
      "1/1 [==============================] - 0s 268ms/step - loss: 0.0000e+00 - precision: 1.0000 - recall: 0.5385\n",
      "1/1 [==============================] - 0s 257ms/step - loss: 0.0000e+00 - precision: 1.0000 - recall: 0.5385\n",
      "1/1 [==============================] - 0s 285ms/step - loss: 0.0000e+00 - precision: 1.0000 - recall: 0.5283\n",
      "1/1 [==============================] - 0s 271ms/step - loss: 0.0000e+00 - precision: 1.0000 - recall: 0.5278\n",
      "1/1 [==============================] - 0s 275ms/step - loss: 0.0000e+00 - precision: 1.0000 - recall: 0.5278\n",
      "1/1 [==============================] - 0s 271ms/step - loss: 0.0000e+00 - precision: 1.0000 - recall: 0.5182\n",
      "1/1 [==============================] - 0s 257ms/step - loss: 0.0000e+00 - precision: 1.0000 - recall: 0.5089\n",
      "1/1 [==============================] - 0s 261ms/step - loss: 0.0000e+00 - precision: 1.0000 - recall: 0.5133\n",
      "1/1 [==============================] - 0s 270ms/step - loss: 0.0000e+00 - precision: 1.0000 - recall: 0.5086\n",
      "1/1 [==============================] - 0s 297ms/step - loss: 0.0000e+00 - precision: 1.0000 - recall: 0.5128\n",
      "1/1 [==============================] - 0s 286ms/step - loss: 0.0000e+00 - precision: 1.0000 - recall: 0.5085\n",
      "1/1 [==============================] - 0s 257ms/step - loss: 0.0000e+00 - precision: 1.0000 - recall: 0.5207\n",
      "1/1 [==============================] - 0s 282ms/step - loss: 0.0000e+00 - precision: 1.0000 - recall: 0.5122\n",
      "1/1 [==============================] - 0s 264ms/step - loss: 0.0000e+00 - precision: 1.0000 - recall: 0.5120\n",
      "1/1 [==============================] - 0s 272ms/step - loss: 0.0000e+00 - precision: 1.0000 - recall: 0.5159\n",
      "1/1 [==============================] - 0s 263ms/step - loss: 0.0000e+00 - precision: 1.0000 - recall: 0.5227\n",
      "1/1 [==============================] - 0s 257ms/step - loss: 0.0000e+00 - precision: 1.0000 - recall: 0.5299\n",
      "1/1 [==============================] - 0s 270ms/step - loss: 0.0000e+00 - precision: 1.0000 - recall: 0.5294\n",
      "1/1 [==============================] - 0s 281ms/step - loss: 0.0000e+00 - precision: 1.0000 - recall: 0.5328\n",
      "1/1 [==============================] - 0s 317ms/step - loss: 0.0000e+00 - precision: 1.0000 - recall: 0.5319\n",
      "1/1 [==============================] - 0s 316ms/step - loss: 0.0000e+00 - precision: 1.0000 - recall: 0.5315\n",
      "1/1 [==============================] - 0s 387ms/step - loss: 0.0000e+00 - precision: 1.0000 - recall: 0.5379\n",
      "1/1 [==============================] - 0s 329ms/step - loss: 0.0000e+00 - precision: 1.0000 - recall: 0.5411\n",
      "1/1 [==============================] - 0s 348ms/step - loss: 0.0000e+00 - precision: 1.0000 - recall: 0.5497\n",
      "1/1 [==============================] - 0s 333ms/step - loss: 0.0000e+00 - precision: 1.0000 - recall: 0.5519\n",
      "1/1 [==============================] - 0s 330ms/step - loss: 0.0000e+00 - precision: 1.0000 - recall: 0.5541\n",
      "1/1 [==============================] - 0s 294ms/step - loss: 0.0000e+00 - precision: 1.0000 - recall: 0.5570\n",
      "1/1 [==============================] - 0s 259ms/step - loss: 0.0000e+00 - precision: 1.0000 - recall: 0.5535\n",
      "1/1 [==============================] - 0s 270ms/step - loss: 0.0000e+00 - precision: 1.0000 - recall: 0.5466\n",
      "1/1 [==============================] - 0s 267ms/step - loss: 0.0000e+00 - precision: 1.0000 - recall: 0.5460\n",
      "1/1 [==============================] - 0s 260ms/step - loss: 0.0000e+00 - precision: 1.0000 - recall: 0.5460\n",
      "1/1 [==============================] - 0s 256ms/step - loss: 0.0000e+00 - precision: 1.0000 - recall: 0.5460\n",
      "1/1 [==============================] - 0s 272ms/step - loss: 0.0000e+00 - precision: 1.0000 - recall: 0.5449\n",
      "1/1 [==============================] - 0s 262ms/step - loss: 0.0000e+00 - precision: 1.0000 - recall: 0.5471\n",
      "1/1 [==============================] - 0s 265ms/step - loss: 0.0000e+00 - precision: 1.0000 - recall: 0.5465\n",
      "1/1 [==============================] - 0s 274ms/step - loss: 0.0000e+00 - precision: 1.0000 - recall: 0.5371\n",
      "1/1 [==============================] - 0s 268ms/step - loss: 0.0000e+00 - precision: 1.0000 - recall: 0.5367\n",
      "1/1 [==============================] - 0s 264ms/step - loss: 0.0000e+00 - precision: 1.0000 - recall: 0.5367\n",
      "1/1 [==============================] - 0s 277ms/step - loss: 0.0000e+00 - precision: 1.0000 - recall: 0.5337\n",
      "1/1 [==============================] - 0s 265ms/step - loss: 0.0000e+00 - precision: 1.0000 - recall: 0.5359\n",
      "2/2 [==============================] - 0s 6ms/step - loss: 0.0000e+00 - precision: 1.0000 - recall: 0.5326\n",
      "2/2 [==============================] - 0s 7ms/step - loss: 0.0000e+00 - precision: 1.0000 - recall: 0.5269\n",
      "2/2 [==============================] - 0s 6ms/step - loss: 0.0000e+00 - precision: 1.0000 - recall: 0.5238\n",
      "2/2 [==============================] - 0s 6ms/step - loss: 0.0000e+00 - precision: 1.0000 - recall: 0.5233\n",
      "2/2 [==============================] - 0s 7ms/step - loss: 0.0000e+00 - precision: 1.0000 - recall: 0.5231\n",
      "2/2 [==============================] - 0s 7ms/step - loss: 0.0000e+00 - precision: 1.0000 - recall: 0.5204\n",
      "2/2 [==============================] - 0s 7ms/step - loss: 0.0000e+00 - precision: 1.0000 - recall: 0.5178\n",
      "2/2 [==============================] - 0s 8ms/step - loss: 0.0000e+00 - precision: 1.0000 - recall: 0.5100\n",
      "2/2 [==============================] - 0s 8ms/step - loss: 0.0000e+00 - precision: 1.0000 - recall: 0.5124\n",
      "2/2 [==============================] - 0s 9ms/step - loss: 0.0000e+00 - precision: 1.0000 - recall: 0.5074\n",
      "2/2 [==============================] - 0s 9ms/step - loss: 0.0000e+00 - precision: 1.0000 - recall: 0.5049\n",
      "2/2 [==============================] - 0s 10ms/step - loss: 0.0000e+00 - precision: 1.0000 - recall: 0.5024\n",
      "2/2 [==============================] - 0s 10ms/step - loss: 0.0000e+00 - precision: 1.0000 - recall: 0.5024\n",
      "2/2 [==============================] - 0s 10ms/step - loss: 0.0000e+00 - precision: 1.0000 - recall: 0.5024\n",
      "2/2 [==============================] - 0s 11ms/step - loss: 0.0000e+00 - precision: 1.0000 - recall: 0.4977\n",
      "2/2 [==============================] - 0s 10ms/step - loss: 0.0000e+00 - precision: 1.0000 - recall: 0.4954\n",
      "2/2 [==============================] - 0s 13ms/step - loss: 0.0000e+00 - precision: 1.0000 - recall: 0.4954\n",
      "2/2 [==============================] - 0s 11ms/step - loss: 0.0000e+00 - precision: 1.0000 - recall: 0.4955\n",
      "2/2 [==============================] - 0s 12ms/step - loss: 0.0000e+00 - precision: 1.0000 - recall: 0.4955\n",
      "2/2 [==============================] - 0s 12ms/step - loss: 0.0000e+00 - precision: 1.0000 - recall: 0.5000\n",
      "2/2 [==============================] - 0s 14ms/step - loss: 0.0000e+00 - precision: 1.0000 - recall: 0.5000\n",
      "2/2 [==============================] - 0s 13ms/step - loss: 0.0000e+00 - precision: 1.0000 - recall: 0.4956\n",
      "2/2 [==============================] - 0s 12ms/step - loss: 0.0000e+00 - precision: 1.0000 - recall: 0.4914\n",
      "2/2 [==============================] - 0s 14ms/step - loss: 0.0000e+00 - precision: 1.0000 - recall: 0.4936\n",
      "2/2 [==============================] - 0s 13ms/step - loss: 0.0000e+00 - precision: 1.0000 - recall: 0.4915\n",
      "2/2 [==============================] - 0s 14ms/step - loss: 0.0000e+00 - precision: 1.0000 - recall: 0.4894\n",
      "2/2 [==============================] - 0s 15ms/step - loss: 0.0000e+00 - precision: 1.0000 - recall: 0.5021\n",
      "2/2 [==============================] - 0s 13ms/step - loss: 0.0000e+00 - precision: 1.0000 - recall: 0.5000\n",
      "2/2 [==============================] - 0s 15ms/step - loss: 0.0000e+00 - precision: 1.0000 - recall: 0.5021\n",
      "2/2 [==============================] - 0s 15ms/step - loss: 0.0000e+00 - precision: 1.0000 - recall: 0.5041\n",
      "2/2 [==============================] - 0s 15ms/step - loss: 0.0000e+00 - precision: 1.0000 - recall: 0.5041\n",
      "2/2 [==============================] - 0s 14ms/step - loss: 0.0000e+00 - precision: 1.0000 - recall: 0.5061\n",
      "2/2 [==============================] - 0s 15ms/step - loss: 0.0000e+00 - precision: 1.0000 - recall: 0.5081\n",
      "2/2 [==============================] - 0s 16ms/step - loss: 0.0000e+00 - precision: 1.0000 - recall: 0.5099\n",
      "2/2 [==============================] - 0s 16ms/step - loss: 0.0000e+00 - precision: 1.0000 - recall: 0.5118\n",
      "2/2 [==============================] - 0s 17ms/step - loss: 0.0000e+00 - precision: 1.0000 - recall: 0.5098\n",
      "2/2 [==============================] - 0s 18ms/step - loss: 0.0000e+00 - precision: 1.0000 - recall: 0.5058\n",
      "2/2 [==============================] - 0s 18ms/step - loss: 0.0000e+00 - precision: 1.0000 - recall: 0.5038\n",
      "2/2 [==============================] - 0s 19ms/step - loss: 0.0000e+00 - precision: 1.0000 - recall: 0.5076\n",
      "2/2 [==============================] - 0s 21ms/step - loss: 0.0000e+00 - precision: 1.0000 - recall: 0.5094\n",
      "2/2 [==============================] - 0s 19ms/step - loss: 0.0000e+00 - precision: 1.0000 - recall: 0.5055\n",
      "2/2 [==============================] - 0s 19ms/step - loss: 0.0000e+00 - precision: 1.0000 - recall: 0.5074\n",
      "2/2 [==============================] - 0s 19ms/step - loss: 0.0000e+00 - precision: 1.0000 - recall: 0.5109\n",
      "2/2 [==============================] - 0s 22ms/step - loss: 0.0000e+00 - precision: 1.0000 - recall: 0.5109\n",
      "2/2 [==============================] - 0s 19ms/step - loss: 0.0000e+00 - precision: 1.0000 - recall: 0.5090\n",
      "2/2 [==============================] - 0s 20ms/step - loss: 0.0000e+00 - precision: 1.0000 - recall: 0.5107\n",
      "2/2 [==============================] - 0s 23ms/step - loss: 0.0000e+00 - precision: 1.0000 - recall: 0.5125\n",
      "2/2 [==============================] - 0s 22ms/step - loss: 0.0000e+00 - precision: 1.0000 - recall: 0.5141\n",
      "2/2 [==============================] - 0s 21ms/step - loss: 0.0000e+00 - precision: 1.0000 - recall: 0.5175\n",
      "2/2 [==============================] - 0s 22ms/step - loss: 0.0000e+00 - precision: 1.0000 - recall: 0.5139\n",
      "2/2 [==============================] - 0s 24ms/step - loss: 0.0000e+00 - precision: 1.0000 - recall: 0.5172\n",
      "2/2 [==============================] - 0s 21ms/step - loss: 0.0000e+00 - precision: 1.0000 - recall: 0.5189\n",
      "2/2 [==============================] - 0s 24ms/step - loss: 0.0000e+00 - precision: 1.0000 - recall: 0.5189\n",
      "2/2 [==============================] - 0s 23ms/step - loss: 0.0000e+00 - precision: 1.0000 - recall: 0.5188\n",
      "2/2 [==============================] - 0s 24ms/step - loss: 0.0000e+00 - precision: 1.0000 - recall: 0.5203\n",
      "2/2 [==============================] - 0s 24ms/step - loss: 0.0000e+00 - precision: 1.0000 - recall: 0.5184\n",
      "2/2 [==============================] - 0s 25ms/step - loss: 0.0000e+00 - precision: 1.0000 - recall: 0.5150\n",
      "2/2 [==============================] - 0s 24ms/step - loss: 0.0000e+00 - precision: 1.0000 - recall: 0.5149\n",
      "2/2 [==============================] - 0s 27ms/step - loss: 0.0000e+00 - precision: 1.0000 - recall: 0.5132\n",
      "2/2 [==============================] - 0s 26ms/step - loss: 0.0000e+00 - precision: 1.0000 - recall: 0.5162\n",
      "2/2 [==============================] - 0s 27ms/step - loss: 0.0000e+00 - precision: 1.0000 - recall: 0.5128\n",
      "2/2 [==============================] - 0s 27ms/step - loss: 0.0000e+00 - precision: 1.0000 - recall: 0.5128\n",
      "2/2 [==============================] - 0s 29ms/step - loss: 0.0000e+00 - precision: 1.0000 - recall: 0.5127\n",
      "2/2 [==============================] - 0s 26ms/step - loss: 0.0000e+00 - precision: 1.0000 - recall: 0.5111\n",
      "2/2 [==============================] - 0s 29ms/step - loss: 0.0000e+00 - precision: 1.0000 - recall: 0.5127\n",
      "2/2 [==============================] - 0s 31ms/step - loss: 0.0000e+00 - precision: 1.0000 - recall: 0.5110\n"
     ]
    }
   ],
   "source": [
    "holdout_df = students_df_test.copy()\n",
    "others_df_shuffled = sklearn.utils.shuffle(others_df).drop(columns=['TP', 'TN', 'FP', 'FN'])\n",
    "\n",
    "set_size = 10\n",
    "evaluations = []\n",
    "\n",
    "model_1.compile(metrics=['Precision', 'Recall'])\n",
    "\n",
    "for i in range(1, 150):\n",
    "    holdout_df = students_df_test.copy()\n",
    "    holdout_df = pd.concat([holdout_df, others_df_shuffled.iloc[0:i*set_size]])\n",
    "    ds = tfdf.keras.pd_dataframe_to_tf_dataset(holdout_df, label=label)\n",
    "    evaluations.append(model_1.evaluate(ds, return_dict=True))"
   ]
  },
  {
   "cell_type": "code",
   "execution_count": 52,
   "metadata": {},
   "outputs": [
    {
     "name": "stdout",
     "output_type": "stream",
     "text": [
      "[{'loss': 0.0, 'precision': 1.0, 'recall': 0.46875}, {'loss': 0.0, 'precision': 1.0, 'recall': 0.5142857432365417}, {'loss': 0.0, 'precision': 1.0, 'recall': 0.5142857432365417}, {'loss': 0.0, 'precision': 1.0, 'recall': 0.5277777910232544}, {'loss': 0.0, 'precision': 1.0, 'recall': 0.5526315569877625}, {'loss': 0.0, 'precision': 1.0, 'recall': 0.5365853905677795}, {'loss': 0.0, 'precision': 1.0, 'recall': 0.5365853905677795}, {'loss': 0.0, 'precision': 1.0, 'recall': 0.5348837375640869}, {'loss': 0.0, 'precision': 1.0, 'recall': 0.5333333611488342}, {'loss': 0.0, 'precision': 1.0, 'recall': 0.54347825050354}, {'loss': 0.0, 'precision': 1.0, 'recall': 0.5531914830207825}, {'loss': 0.0, 'precision': 1.0, 'recall': 0.5306122303009033}, {'loss': 0.0, 'precision': 1.0, 'recall': 0.529411792755127}, {'loss': 0.0, 'precision': 1.0, 'recall': 0.529411792755127}, {'loss': 0.0, 'precision': 1.0, 'recall': 0.529411792755127}, {'loss': 0.0, 'precision': 1.0, 'recall': 0.5094339847564697}, {'loss': 0.0, 'precision': 1.0, 'recall': 0.5094339847564697}, {'loss': 0.0, 'precision': 1.0, 'recall': 0.5357142686843872}, {'loss': 0.0, 'precision': 1.0, 'recall': 0.5438596606254578}, {'loss': 0.0, 'precision': 1.0, 'recall': 0.5254237055778503}, {'loss': 0.0, 'precision': 1.0, 'recall': 0.5245901346206665}, {'loss': 0.0, 'precision': 1.0, 'recall': 0.53125}, {'loss': 0.0, 'precision': 1.0, 'recall': 0.53125}, {'loss': 0.0, 'precision': 1.0, 'recall': 0.53125}, {'loss': 0.0, 'precision': 1.0, 'recall': 0.5373134613037109}, {'loss': 0.0, 'precision': 1.0, 'recall': 0.5428571701049805}, {'loss': 0.0, 'precision': 1.0, 'recall': 0.5416666865348816}, {'loss': 0.0, 'precision': 1.0, 'recall': 0.534246563911438}, {'loss': 0.0, 'precision': 1.0, 'recall': 0.5333333611488342}, {'loss': 0.0, 'precision': 1.0, 'recall': 0.5324675440788269}, {'loss': 0.0, 'precision': 1.0, 'recall': 0.5384615659713745}, {'loss': 0.0, 'precision': 1.0, 'recall': 0.5443037748336792}, {'loss': 0.0, 'precision': 1.0, 'recall': 0.5432098507881165}, {'loss': 0.0, 'precision': 1.0, 'recall': 0.5581395626068115}, {'loss': 0.0, 'precision': 1.0, 'recall': 0.5632184147834778}, {'loss': 0.0, 'precision': 1.0, 'recall': 0.5652173757553101}, {'loss': 0.0, 'precision': 1.0, 'recall': 0.5652173757553101}, {'loss': 0.0, 'precision': 1.0, 'recall': 0.557894766330719}, {'loss': 0.0, 'precision': 1.0, 'recall': 0.5408163070678711}, {'loss': 0.0, 'precision': 1.0, 'recall': 0.5346534848213196}, {'loss': 0.0, 'precision': 1.0, 'recall': 0.529411792755127}, {'loss': 0.0, 'precision': 1.0, 'recall': 0.529411792755127}, {'loss': 0.0, 'precision': 1.0, 'recall': 0.5339806079864502}, {'loss': 0.0, 'precision': 1.0, 'recall': 0.5384615659713745}, {'loss': 0.0, 'precision': 1.0, 'recall': 0.5384615659713745}, {'loss': 0.0, 'precision': 1.0, 'recall': 0.5283018946647644}, {'loss': 0.0, 'precision': 1.0, 'recall': 0.5277777910232544}, {'loss': 0.0, 'precision': 1.0, 'recall': 0.5277777910232544}, {'loss': 0.0, 'precision': 1.0, 'recall': 0.5181818008422852}, {'loss': 0.0, 'precision': 1.0, 'recall': 0.5089285969734192}, {'loss': 0.0, 'precision': 1.0, 'recall': 0.5132743120193481}, {'loss': 0.0, 'precision': 1.0, 'recall': 0.5086206793785095}, {'loss': 0.0, 'precision': 1.0, 'recall': 0.5128205418586731}, {'loss': 0.0, 'precision': 1.0, 'recall': 0.508474588394165}, {'loss': 0.0, 'precision': 1.0, 'recall': 0.5206611752510071}, {'loss': 0.0, 'precision': 1.0, 'recall': 0.5121951103210449}, {'loss': 0.0, 'precision': 1.0, 'recall': 0.5120000243186951}, {'loss': 0.0, 'precision': 1.0, 'recall': 0.5158730149269104}, {'loss': 0.0, 'precision': 1.0, 'recall': 0.5227272510528564}, {'loss': 0.0, 'precision': 1.0, 'recall': 0.5298507213592529}, {'loss': 0.0, 'precision': 1.0, 'recall': 0.529411792755127}, {'loss': 0.0, 'precision': 1.0, 'recall': 0.5328466892242432}, {'loss': 0.0, 'precision': 1.0, 'recall': 0.5319148898124695}, {'loss': 0.0, 'precision': 1.0, 'recall': 0.5314685106277466}, {'loss': 0.0, 'precision': 1.0, 'recall': 0.5379310250282288}, {'loss': 0.0, 'precision': 1.0, 'recall': 0.5410959124565125}, {'loss': 0.0, 'precision': 1.0, 'recall': 0.5496688485145569}, {'loss': 0.0, 'precision': 1.0, 'recall': 0.551948070526123}, {'loss': 0.0, 'precision': 1.0, 'recall': 0.5541401505470276}, {'loss': 0.0, 'precision': 1.0, 'recall': 0.5569620132446289}, {'loss': 0.0, 'precision': 1.0, 'recall': 0.553459107875824}, {'loss': 0.0, 'precision': 1.0, 'recall': 0.5465838313102722}, {'loss': 0.0, 'precision': 1.0, 'recall': 0.546012282371521}, {'loss': 0.0, 'precision': 1.0, 'recall': 0.546012282371521}, {'loss': 0.0, 'precision': 1.0, 'recall': 0.546012282371521}, {'loss': 0.0, 'precision': 1.0, 'recall': 0.544910192489624}, {'loss': 0.0, 'precision': 1.0, 'recall': 0.5470588207244873}, {'loss': 0.0, 'precision': 1.0, 'recall': 0.5465116500854492}, {'loss': 0.0, 'precision': 1.0, 'recall': 0.5371428728103638}, {'loss': 0.0, 'precision': 1.0, 'recall': 0.5367231369018555}, {'loss': 0.0, 'precision': 1.0, 'recall': 0.5367231369018555}, {'loss': 0.0, 'precision': 1.0, 'recall': 0.533707857131958}, {'loss': 0.0, 'precision': 1.0, 'recall': 0.5359116196632385}, {'loss': 0.0, 'precision': 1.0, 'recall': 0.532608687877655}, {'loss': 0.0, 'precision': 1.0, 'recall': 0.5268816947937012}, {'loss': 0.0, 'precision': 1.0, 'recall': 0.523809552192688}, {'loss': 0.0, 'precision': 1.0, 'recall': 0.5233160853385925}, {'loss': 0.0, 'precision': 1.0, 'recall': 0.5230769515037537}, {'loss': 0.0, 'precision': 1.0, 'recall': 0.5204081535339355}, {'loss': 0.0, 'precision': 1.0, 'recall': 0.5177664756774902}, {'loss': 0.0, 'precision': 1.0, 'recall': 0.5099999904632568}, {'loss': 0.0, 'precision': 1.0, 'recall': 0.5124378204345703}, {'loss': 0.0, 'precision': 1.0, 'recall': 0.5073891878128052}, {'loss': 0.0, 'precision': 1.0, 'recall': 0.5048543810844421}, {'loss': 0.0, 'precision': 1.0, 'recall': 0.5024154782295227}, {'loss': 0.0, 'precision': 1.0, 'recall': 0.5024154782295227}, {'loss': 0.0, 'precision': 1.0, 'recall': 0.5023696422576904}, {'loss': 0.0, 'precision': 1.0, 'recall': 0.4976525902748108}, {'loss': 0.0, 'precision': 1.0, 'recall': 0.49537035822868347}, {'loss': 0.0, 'precision': 1.0, 'recall': 0.4954128563404083}, {'loss': 0.0, 'precision': 1.0, 'recall': 0.4954545497894287}, {'loss': 0.0, 'precision': 1.0, 'recall': 0.4954954981803894}, {'loss': 0.0, 'precision': 1.0, 'recall': 0.5}, {'loss': 0.0, 'precision': 1.0, 'recall': 0.5}, {'loss': 0.0, 'precision': 1.0, 'recall': 0.49561402201652527}, {'loss': 0.0, 'precision': 1.0, 'recall': 0.4913793206214905}, {'loss': 0.0, 'precision': 1.0, 'recall': 0.4935622215270996}, {'loss': 0.0, 'precision': 1.0, 'recall': 0.49145299196243286}, {'loss': 0.0, 'precision': 1.0, 'recall': 0.4893617033958435}, {'loss': 0.0, 'precision': 1.0, 'recall': 0.5020747184753418}, {'loss': 0.0, 'precision': 1.0, 'recall': 0.5}, {'loss': 0.0, 'precision': 1.0, 'recall': 0.5020576119422913}, {'loss': 0.0, 'precision': 1.0, 'recall': 0.5040983557701111}, {'loss': 0.0, 'precision': 1.0, 'recall': 0.5040650367736816}, {'loss': 0.0, 'precision': 1.0, 'recall': 0.5060728788375854}, {'loss': 0.0, 'precision': 1.0, 'recall': 0.5080645084381104}, {'loss': 0.0, 'precision': 1.0, 'recall': 0.5098814368247986}, {'loss': 0.0, 'precision': 1.0, 'recall': 0.5118110179901123}, {'loss': 0.0, 'precision': 1.0, 'recall': 0.5098039507865906}, {'loss': 0.0, 'precision': 1.0, 'recall': 0.5057914853096008}, {'loss': 0.0, 'precision': 1.0, 'recall': 0.5038167834281921}, {'loss': 0.0, 'precision': 1.0, 'recall': 0.5075757503509521}, {'loss': 0.0, 'precision': 1.0, 'recall': 0.5093632936477661}, {'loss': 0.0, 'precision': 1.0, 'recall': 0.5055350661277771}, {'loss': 0.0, 'precision': 1.0, 'recall': 0.5073529481887817}, {'loss': 0.0, 'precision': 1.0, 'recall': 0.510948896408081}, {'loss': 0.0, 'precision': 1.0, 'recall': 0.510869562625885}, {'loss': 0.0, 'precision': 1.0, 'recall': 0.5089605450630188}, {'loss': 0.0, 'precision': 1.0, 'recall': 0.5107142925262451}, {'loss': 0.0, 'precision': 1.0, 'recall': 0.5124555230140686}, {'loss': 0.0, 'precision': 1.0, 'recall': 0.51408451795578}, {'loss': 0.0, 'precision': 1.0, 'recall': 0.5174825191497803}, {'loss': 0.0, 'precision': 1.0, 'recall': 0.5138888955116272}, {'loss': 0.0, 'precision': 1.0, 'recall': 0.517241358757019}, {'loss': 0.0, 'precision': 1.0, 'recall': 0.5189003348350525}, {'loss': 0.0, 'precision': 1.0, 'recall': 0.5189003348350525}, {'loss': 0.0, 'precision': 1.0, 'recall': 0.5187713503837585}, {'loss': 0.0, 'precision': 1.0, 'recall': 0.5202702879905701}, {'loss': 0.0, 'precision': 1.0, 'recall': 0.5183946490287781}, {'loss': 0.0, 'precision': 1.0, 'recall': 0.514950156211853}, {'loss': 0.0, 'precision': 1.0, 'recall': 0.5148515105247498}, {'loss': 0.0, 'precision': 1.0, 'recall': 0.5131579041481018}, {'loss': 0.0, 'precision': 1.0, 'recall': 0.5162337422370911}, {'loss': 0.0, 'precision': 1.0, 'recall': 0.5128205418586731}, {'loss': 0.0, 'precision': 1.0, 'recall': 0.5128205418586731}, {'loss': 0.0, 'precision': 1.0, 'recall': 0.512738823890686}, {'loss': 0.0, 'precision': 1.0, 'recall': 0.5111111402511597}, {'loss': 0.0, 'precision': 1.0, 'recall': 0.5126582384109497}, {'loss': 0.0, 'precision': 1.0, 'recall': 0.5109717845916748}]\n"
     ]
    }
   ],
   "source": [
    "print(evaluations)"
   ]
  },
  {
   "cell_type": "code",
   "execution_count": 55,
   "metadata": {},
   "outputs": [
    {
     "data": {
      "image/png": "[encoded data removed]",
      "text/plain": [
       "<Figure size 640x480 with 1 Axes>"
      ]
     },
     "metadata": {},
     "output_type": "display_data"
    }
   ],
   "source": [
    "eval_df = df.from_records(evaluations)\n",
    "plot_1 = eval_df.plot(kind='line', y='recall')"
   ]
  },
  {
   "cell_type": "code",
   "execution_count": 63,
   "metadata": {},
   "outputs": [
    {
     "name": "stdout",
     "output_type": "stream",
     "text": [
      "Use /var/folders/36/2qtcl0jx6r94h6345h20r6880000gn/T/tmp7_7q93pw as temporary training directory\n",
      "Reading training dataset...\n",
      "Training tensor examples:\n",
      "Features: {'Answer.ID': <tf.Tensor 'data:0' shape=(None,) dtype=int64>, 'FailingMethod': <tf.Tensor 'data_1:0' shape=(None,) dtype=string>, 'Question.ID': <tf.Tensor 'data_2:0' shape=(None,) dtype=int64>, 'Answer.duration': <tf.Tensor 'data_3:0' shape=(None,) dtype=float64>, 'Answer.confidence': <tf.Tensor 'data_4:0' shape=(None,) dtype=int64>, 'Answer.difficulty': <tf.Tensor 'data_5:0' shape=(None,) dtype=int64>, 'Answer.option': <tf.Tensor 'data_6:0' shape=(None,) dtype=string>, 'Answer.order': <tf.Tensor 'data_7:0' shape=(None,) dtype=int64>, 'Answer.explanation': <tf.Tensor 'data_8:0' shape=(None,) dtype=string>, 'Code.LOC': <tf.Tensor 'data_9:0' shape=(None,) dtype=int64>, 'Code.complexity': <tf.Tensor 'data_10:0' shape=(None,) dtype=int64>, 'Worker.ID': <tf.Tensor 'data_11:0' shape=(None,) dtype=string>, 'Worker.score': <tf.Tensor 'data_12:0' shape=(None,) dtype=int64>, 'Worker.profession': <tf.Tensor 'data_13:0' shape=(None,) dtype=string>, 'Worker.yearsOfExperience': <tf.Tensor 'data_14:0' shape=(None,) dtype=float64>, 'Worker.age': <tf.Tensor 'data_15:0' shape=(None,) dtype=int64>, 'Worker.gender': <tf.Tensor 'data_16:0' shape=(None,) dtype=string>, 'Worker.whereLearnedToCode': <tf.Tensor 'data_17:0' shape=(None,) dtype=string>, 'Worker.country': <tf.Tensor 'data_18:0' shape=(None,) dtype=string>, 'Worker.programmingLanguage': <tf.Tensor 'data_19:0' shape=(None,) dtype=string>, 'complexity': <tf.Tensor 'data_20:0' shape=(None,) dtype=float64>}\n",
      "Label: Tensor(\"data_21:0\", shape=(None,), dtype=int64)\n",
      "Weights: None\n",
      "Normalized tensor features:\n",
      " {'Answer.ID': SemanticTensor(semantic=<Semantic.NUMERICAL: 1>, tensor=<tf.Tensor 'Cast:0' shape=(None,) dtype=float32>), 'FailingMethod': SemanticTensor(semantic=<Semantic.CATEGORICAL: 2>, tensor=<tf.Tensor 'data_1:0' shape=(None,) dtype=string>), 'Question.ID': SemanticTensor(semantic=<Semantic.NUMERICAL: 1>, tensor=<tf.Tensor 'Cast_1:0' shape=(None,) dtype=float32>), 'Answer.duration': SemanticTensor(semantic=<Semantic.NUMERICAL: 1>, tensor=<tf.Tensor 'Cast_2:0' shape=(None,) dtype=float32>), 'Answer.confidence': SemanticTensor(semantic=<Semantic.NUMERICAL: 1>, tensor=<tf.Tensor 'Cast_3:0' shape=(None,) dtype=float32>), 'Answer.difficulty': SemanticTensor(semantic=<Semantic.NUMERICAL: 1>, tensor=<tf.Tensor 'Cast_4:0' shape=(None,) dtype=float32>), 'Answer.option': SemanticTensor(semantic=<Semantic.CATEGORICAL: 2>, tensor=<tf.Tensor 'data_6:0' shape=(None,) dtype=string>), 'Answer.order': SemanticTensor(semantic=<Semantic.NUMERICAL: 1>, tensor=<tf.Tensor 'Cast_5:0' shape=(None,) dtype=float32>), 'Answer.explanation': SemanticTensor(semantic=<Semantic.CATEGORICAL: 2>, tensor=<tf.Tensor 'data_8:0' shape=(None,) dtype=string>), 'Code.LOC': SemanticTensor(semantic=<Semantic.NUMERICAL: 1>, tensor=<tf.Tensor 'Cast_6:0' shape=(None,) dtype=float32>), 'Code.complexity': SemanticTensor(semantic=<Semantic.NUMERICAL: 1>, tensor=<tf.Tensor 'Cast_7:0' shape=(None,) dtype=float32>), 'Worker.ID': SemanticTensor(semantic=<Semantic.CATEGORICAL: 2>, tensor=<tf.Tensor 'data_11:0' shape=(None,) dtype=string>), 'Worker.score': SemanticTensor(semantic=<Semantic.NUMERICAL: 1>, tensor=<tf.Tensor 'Cast_8:0' shape=(None,) dtype=float32>), 'Worker.profession': SemanticTensor(semantic=<Semantic.CATEGORICAL: 2>, tensor=<tf.Tensor 'data_13:0' shape=(None,) dtype=string>), 'Worker.yearsOfExperience': SemanticTensor(semantic=<Semantic.NUMERICAL: 1>, tensor=<tf.Tensor 'Cast_9:0' shape=(None,) dtype=float32>), 'Worker.age': SemanticTensor(semantic=<Semantic.NUMERICAL: 1>, tensor=<tf.Tensor 'Cast_10:0' shape=(None,) dtype=float32>), 'Worker.gender': SemanticTensor(semantic=<Semantic.CATEGORICAL: 2>, tensor=<tf.Tensor 'data_16:0' shape=(None,) dtype=string>), 'Worker.whereLearnedToCode': SemanticTensor(semantic=<Semantic.CATEGORICAL: 2>, tensor=<tf.Tensor 'data_17:0' shape=(None,) dtype=string>), 'Worker.country': SemanticTensor(semantic=<Semantic.CATEGORICAL: 2>, tensor=<tf.Tensor 'data_18:0' shape=(None,) dtype=string>), 'Worker.programmingLanguage': SemanticTensor(semantic=<Semantic.CATEGORICAL: 2>, tensor=<tf.Tensor 'data_19:0' shape=(None,) dtype=string>), 'complexity': SemanticTensor(semantic=<Semantic.NUMERICAL: 1>, tensor=<tf.Tensor 'Cast_11:0' shape=(None,) dtype=float32>)}\n",
      "Training dataset read in 0:00:00.328031. Found 645 examples.\n",
      "Training model...\n",
      "Model trained in 0:00:45.590584\n",
      "Compiling model...\n",
      "Model compiled.\n",
      "1/1 [==============================] - 0s 379ms/step - loss: 0.0000e+00 - precision: 1.0000 - recall: 0.3548\n",
      "Use /var/folders/36/2qtcl0jx6r94h6345h20r6880000gn/T/tmp6t1podw9 as temporary training directory\n",
      "Reading training dataset...\n",
      "Training tensor examples:\n",
      "Features: {'Answer.ID': <tf.Tensor 'data:0' shape=(None,) dtype=int64>, 'FailingMethod': <tf.Tensor 'data_1:0' shape=(None,) dtype=string>, 'Question.ID': <tf.Tensor 'data_2:0' shape=(None,) dtype=int64>, 'Answer.duration': <tf.Tensor 'data_3:0' shape=(None,) dtype=float64>, 'Answer.confidence': <tf.Tensor 'data_4:0' shape=(None,) dtype=int64>, 'Answer.difficulty': <tf.Tensor 'data_5:0' shape=(None,) dtype=int64>, 'Answer.option': <tf.Tensor 'data_6:0' shape=(None,) dtype=string>, 'Answer.order': <tf.Tensor 'data_7:0' shape=(None,) dtype=int64>, 'Answer.explanation': <tf.Tensor 'data_8:0' shape=(None,) dtype=string>, 'Code.LOC': <tf.Tensor 'data_9:0' shape=(None,) dtype=int64>, 'Code.complexity': <tf.Tensor 'data_10:0' shape=(None,) dtype=int64>, 'Worker.ID': <tf.Tensor 'data_11:0' shape=(None,) dtype=string>, 'Worker.score': <tf.Tensor 'data_12:0' shape=(None,) dtype=int64>, 'Worker.profession': <tf.Tensor 'data_13:0' shape=(None,) dtype=string>, 'Worker.yearsOfExperience': <tf.Tensor 'data_14:0' shape=(None,) dtype=float64>, 'Worker.age': <tf.Tensor 'data_15:0' shape=(None,) dtype=int64>, 'Worker.gender': <tf.Tensor 'data_16:0' shape=(None,) dtype=string>, 'Worker.whereLearnedToCode': <tf.Tensor 'data_17:0' shape=(None,) dtype=string>, 'Worker.country': <tf.Tensor 'data_18:0' shape=(None,) dtype=string>, 'Worker.programmingLanguage': <tf.Tensor 'data_19:0' shape=(None,) dtype=string>, 'complexity': <tf.Tensor 'data_20:0' shape=(None,) dtype=float64>}\n",
      "Label: Tensor(\"data_21:0\", shape=(None,), dtype=int64)\n",
      "Weights: None\n",
      "Normalized tensor features:\n",
      " {'Answer.ID': SemanticTensor(semantic=<Semantic.NUMERICAL: 1>, tensor=<tf.Tensor 'Cast:0' shape=(None,) dtype=float32>), 'FailingMethod': SemanticTensor(semantic=<Semantic.CATEGORICAL: 2>, tensor=<tf.Tensor 'data_1:0' shape=(None,) dtype=string>), 'Question.ID': SemanticTensor(semantic=<Semantic.NUMERICAL: 1>, tensor=<tf.Tensor 'Cast_1:0' shape=(None,) dtype=float32>), 'Answer.duration': SemanticTensor(semantic=<Semantic.NUMERICAL: 1>, tensor=<tf.Tensor 'Cast_2:0' shape=(None,) dtype=float32>), 'Answer.confidence': SemanticTensor(semantic=<Semantic.NUMERICAL: 1>, tensor=<tf.Tensor 'Cast_3:0' shape=(None,) dtype=float32>), 'Answer.difficulty': SemanticTensor(semantic=<Semantic.NUMERICAL: 1>, tensor=<tf.Tensor 'Cast_4:0' shape=(None,) dtype=float32>), 'Answer.option': SemanticTensor(semantic=<Semantic.CATEGORICAL: 2>, tensor=<tf.Tensor 'data_6:0' shape=(None,) dtype=string>), 'Answer.order': SemanticTensor(semantic=<Semantic.NUMERICAL: 1>, tensor=<tf.Tensor 'Cast_5:0' shape=(None,) dtype=float32>), 'Answer.explanation': SemanticTensor(semantic=<Semantic.CATEGORICAL: 2>, tensor=<tf.Tensor 'data_8:0' shape=(None,) dtype=string>), 'Code.LOC': SemanticTensor(semantic=<Semantic.NUMERICAL: 1>, tensor=<tf.Tensor 'Cast_6:0' shape=(None,) dtype=float32>), 'Code.complexity': SemanticTensor(semantic=<Semantic.NUMERICAL: 1>, tensor=<tf.Tensor 'Cast_7:0' shape=(None,) dtype=float32>), 'Worker.ID': SemanticTensor(semantic=<Semantic.CATEGORICAL: 2>, tensor=<tf.Tensor 'data_11:0' shape=(None,) dtype=string>), 'Worker.score': SemanticTensor(semantic=<Semantic.NUMERICAL: 1>, tensor=<tf.Tensor 'Cast_8:0' shape=(None,) dtype=float32>), 'Worker.profession': SemanticTensor(semantic=<Semantic.CATEGORICAL: 2>, tensor=<tf.Tensor 'data_13:0' shape=(None,) dtype=string>), 'Worker.yearsOfExperience': SemanticTensor(semantic=<Semantic.NUMERICAL: 1>, tensor=<tf.Tensor 'Cast_9:0' shape=(None,) dtype=float32>), 'Worker.age': SemanticTensor(semantic=<Semantic.NUMERICAL: 1>, tensor=<tf.Tensor 'Cast_10:0' shape=(None,) dtype=float32>), 'Worker.gender': SemanticTensor(semantic=<Semantic.CATEGORICAL: 2>, tensor=<tf.Tensor 'data_16:0' shape=(None,) dtype=string>), 'Worker.whereLearnedToCode': SemanticTensor(semantic=<Semantic.CATEGORICAL: 2>, tensor=<tf.Tensor 'data_17:0' shape=(None,) dtype=string>), 'Worker.country': SemanticTensor(semantic=<Semantic.CATEGORICAL: 2>, tensor=<tf.Tensor 'data_18:0' shape=(None,) dtype=string>), 'Worker.programmingLanguage': SemanticTensor(semantic=<Semantic.CATEGORICAL: 2>, tensor=<tf.Tensor 'data_19:0' shape=(None,) dtype=string>), 'complexity': SemanticTensor(semantic=<Semantic.NUMERICAL: 1>, tensor=<tf.Tensor 'Cast_11:0' shape=(None,) dtype=float32>)}\n",
      "Training dataset read in 0:00:00.317859. Found 725 examples.\n",
      "Training model...\n",
      "Model trained in 0:00:51.169228\n",
      "Compiling model...\n",
      "Model compiled.\n",
      "1/1 [==============================] - 0s 401ms/step - loss: 0.0000e+00 - precision: 1.0000 - recall: 0.4286\n",
      "Use /var/folders/36/2qtcl0jx6r94h6345h20r6880000gn/T/tmpms07t_r7 as temporary training directory\n",
      "Reading training dataset...\n",
      "Training tensor examples:\n",
      "Features: {'Answer.ID': <tf.Tensor 'data:0' shape=(None,) dtype=int64>, 'FailingMethod': <tf.Tensor 'data_1:0' shape=(None,) dtype=string>, 'Question.ID': <tf.Tensor 'data_2:0' shape=(None,) dtype=int64>, 'Answer.duration': <tf.Tensor 'data_3:0' shape=(None,) dtype=float64>, 'Answer.confidence': <tf.Tensor 'data_4:0' shape=(None,) dtype=int64>, 'Answer.difficulty': <tf.Tensor 'data_5:0' shape=(None,) dtype=int64>, 'Answer.option': <tf.Tensor 'data_6:0' shape=(None,) dtype=string>, 'Answer.order': <tf.Tensor 'data_7:0' shape=(None,) dtype=int64>, 'Answer.explanation': <tf.Tensor 'data_8:0' shape=(None,) dtype=string>, 'Code.LOC': <tf.Tensor 'data_9:0' shape=(None,) dtype=int64>, 'Code.complexity': <tf.Tensor 'data_10:0' shape=(None,) dtype=int64>, 'Worker.ID': <tf.Tensor 'data_11:0' shape=(None,) dtype=string>, 'Worker.score': <tf.Tensor 'data_12:0' shape=(None,) dtype=int64>, 'Worker.profession': <tf.Tensor 'data_13:0' shape=(None,) dtype=string>, 'Worker.yearsOfExperience': <tf.Tensor 'data_14:0' shape=(None,) dtype=float64>, 'Worker.age': <tf.Tensor 'data_15:0' shape=(None,) dtype=int64>, 'Worker.gender': <tf.Tensor 'data_16:0' shape=(None,) dtype=string>, 'Worker.whereLearnedToCode': <tf.Tensor 'data_17:0' shape=(None,) dtype=string>, 'Worker.country': <tf.Tensor 'data_18:0' shape=(None,) dtype=string>, 'Worker.programmingLanguage': <tf.Tensor 'data_19:0' shape=(None,) dtype=string>, 'complexity': <tf.Tensor 'data_20:0' shape=(None,) dtype=float64>}\n",
      "Label: Tensor(\"data_21:0\", shape=(None,), dtype=int64)\n",
      "Weights: None\n",
      "Normalized tensor features:\n",
      " {'Answer.ID': SemanticTensor(semantic=<Semantic.NUMERICAL: 1>, tensor=<tf.Tensor 'Cast:0' shape=(None,) dtype=float32>), 'FailingMethod': SemanticTensor(semantic=<Semantic.CATEGORICAL: 2>, tensor=<tf.Tensor 'data_1:0' shape=(None,) dtype=string>), 'Question.ID': SemanticTensor(semantic=<Semantic.NUMERICAL: 1>, tensor=<tf.Tensor 'Cast_1:0' shape=(None,) dtype=float32>), 'Answer.duration': SemanticTensor(semantic=<Semantic.NUMERICAL: 1>, tensor=<tf.Tensor 'Cast_2:0' shape=(None,) dtype=float32>), 'Answer.confidence': SemanticTensor(semantic=<Semantic.NUMERICAL: 1>, tensor=<tf.Tensor 'Cast_3:0' shape=(None,) dtype=float32>), 'Answer.difficulty': SemanticTensor(semantic=<Semantic.NUMERICAL: 1>, tensor=<tf.Tensor 'Cast_4:0' shape=(None,) dtype=float32>), 'Answer.option': SemanticTensor(semantic=<Semantic.CATEGORICAL: 2>, tensor=<tf.Tensor 'data_6:0' shape=(None,) dtype=string>), 'Answer.order': SemanticTensor(semantic=<Semantic.NUMERICAL: 1>, tensor=<tf.Tensor 'Cast_5:0' shape=(None,) dtype=float32>), 'Answer.explanation': SemanticTensor(semantic=<Semantic.CATEGORICAL: 2>, tensor=<tf.Tensor 'data_8:0' shape=(None,) dtype=string>), 'Code.LOC': SemanticTensor(semantic=<Semantic.NUMERICAL: 1>, tensor=<tf.Tensor 'Cast_6:0' shape=(None,) dtype=float32>), 'Code.complexity': SemanticTensor(semantic=<Semantic.NUMERICAL: 1>, tensor=<tf.Tensor 'Cast_7:0' shape=(None,) dtype=float32>), 'Worker.ID': SemanticTensor(semantic=<Semantic.CATEGORICAL: 2>, tensor=<tf.Tensor 'data_11:0' shape=(None,) dtype=string>), 'Worker.score': SemanticTensor(semantic=<Semantic.NUMERICAL: 1>, tensor=<tf.Tensor 'Cast_8:0' shape=(None,) dtype=float32>), 'Worker.profession': SemanticTensor(semantic=<Semantic.CATEGORICAL: 2>, tensor=<tf.Tensor 'data_13:0' shape=(None,) dtype=string>), 'Worker.yearsOfExperience': SemanticTensor(semantic=<Semantic.NUMERICAL: 1>, tensor=<tf.Tensor 'Cast_9:0' shape=(None,) dtype=float32>), 'Worker.age': SemanticTensor(semantic=<Semantic.NUMERICAL: 1>, tensor=<tf.Tensor 'Cast_10:0' shape=(None,) dtype=float32>), 'Worker.gender': SemanticTensor(semantic=<Semantic.CATEGORICAL: 2>, tensor=<tf.Tensor 'data_16:0' shape=(None,) dtype=string>), 'Worker.whereLearnedToCode': SemanticTensor(semantic=<Semantic.CATEGORICAL: 2>, tensor=<tf.Tensor 'data_17:0' shape=(None,) dtype=string>), 'Worker.country': SemanticTensor(semantic=<Semantic.CATEGORICAL: 2>, tensor=<tf.Tensor 'data_18:0' shape=(None,) dtype=string>), 'Worker.programmingLanguage': SemanticTensor(semantic=<Semantic.CATEGORICAL: 2>, tensor=<tf.Tensor 'data_19:0' shape=(None,) dtype=string>), 'complexity': SemanticTensor(semantic=<Semantic.NUMERICAL: 1>, tensor=<tf.Tensor 'Cast_11:0' shape=(None,) dtype=float32>)}\n",
      "Training dataset read in 0:00:00.319455. Found 805 examples.\n",
      "Training model...\n",
      "Model trained in 0:00:58.763600\n",
      "Compiling model...\n",
      "Model compiled.\n",
      "1/1 [==============================] - 0s 398ms/step - loss: 0.0000e+00 - precision: 1.0000 - recall: 0.2632\n",
      "Use /var/folders/36/2qtcl0jx6r94h6345h20r6880000gn/T/tmpn6t7c9dc as temporary training directory\n",
      "Reading training dataset...\n",
      "Training tensor examples:\n",
      "Features: {'Answer.ID': <tf.Tensor 'data:0' shape=(None,) dtype=int64>, 'FailingMethod': <tf.Tensor 'data_1:0' shape=(None,) dtype=string>, 'Question.ID': <tf.Tensor 'data_2:0' shape=(None,) dtype=int64>, 'Answer.duration': <tf.Tensor 'data_3:0' shape=(None,) dtype=float64>, 'Answer.confidence': <tf.Tensor 'data_4:0' shape=(None,) dtype=int64>, 'Answer.difficulty': <tf.Tensor 'data_5:0' shape=(None,) dtype=int64>, 'Answer.option': <tf.Tensor 'data_6:0' shape=(None,) dtype=string>, 'Answer.order': <tf.Tensor 'data_7:0' shape=(None,) dtype=int64>, 'Answer.explanation': <tf.Tensor 'data_8:0' shape=(None,) dtype=string>, 'Code.LOC': <tf.Tensor 'data_9:0' shape=(None,) dtype=int64>, 'Code.complexity': <tf.Tensor 'data_10:0' shape=(None,) dtype=int64>, 'Worker.ID': <tf.Tensor 'data_11:0' shape=(None,) dtype=string>, 'Worker.score': <tf.Tensor 'data_12:0' shape=(None,) dtype=int64>, 'Worker.profession': <tf.Tensor 'data_13:0' shape=(None,) dtype=string>, 'Worker.yearsOfExperience': <tf.Tensor 'data_14:0' shape=(None,) dtype=float64>, 'Worker.age': <tf.Tensor 'data_15:0' shape=(None,) dtype=int64>, 'Worker.gender': <tf.Tensor 'data_16:0' shape=(None,) dtype=string>, 'Worker.whereLearnedToCode': <tf.Tensor 'data_17:0' shape=(None,) dtype=string>, 'Worker.country': <tf.Tensor 'data_18:0' shape=(None,) dtype=string>, 'Worker.programmingLanguage': <tf.Tensor 'data_19:0' shape=(None,) dtype=string>, 'complexity': <tf.Tensor 'data_20:0' shape=(None,) dtype=float64>}\n",
      "Label: Tensor(\"data_21:0\", shape=(None,), dtype=int64)\n",
      "Weights: None\n",
      "Normalized tensor features:\n",
      " {'Answer.ID': SemanticTensor(semantic=<Semantic.NUMERICAL: 1>, tensor=<tf.Tensor 'Cast:0' shape=(None,) dtype=float32>), 'FailingMethod': SemanticTensor(semantic=<Semantic.CATEGORICAL: 2>, tensor=<tf.Tensor 'data_1:0' shape=(None,) dtype=string>), 'Question.ID': SemanticTensor(semantic=<Semantic.NUMERICAL: 1>, tensor=<tf.Tensor 'Cast_1:0' shape=(None,) dtype=float32>), 'Answer.duration': SemanticTensor(semantic=<Semantic.NUMERICAL: 1>, tensor=<tf.Tensor 'Cast_2:0' shape=(None,) dtype=float32>), 'Answer.confidence': SemanticTensor(semantic=<Semantic.NUMERICAL: 1>, tensor=<tf.Tensor 'Cast_3:0' shape=(None,) dtype=float32>), 'Answer.difficulty': SemanticTensor(semantic=<Semantic.NUMERICAL: 1>, tensor=<tf.Tensor 'Cast_4:0' shape=(None,) dtype=float32>), 'Answer.option': SemanticTensor(semantic=<Semantic.CATEGORICAL: 2>, tensor=<tf.Tensor 'data_6:0' shape=(None,) dtype=string>), 'Answer.order': SemanticTensor(semantic=<Semantic.NUMERICAL: 1>, tensor=<tf.Tensor 'Cast_5:0' shape=(None,) dtype=float32>), 'Answer.explanation': SemanticTensor(semantic=<Semantic.CATEGORICAL: 2>, tensor=<tf.Tensor 'data_8:0' shape=(None,) dtype=string>), 'Code.LOC': SemanticTensor(semantic=<Semantic.NUMERICAL: 1>, tensor=<tf.Tensor 'Cast_6:0' shape=(None,) dtype=float32>), 'Code.complexity': SemanticTensor(semantic=<Semantic.NUMERICAL: 1>, tensor=<tf.Tensor 'Cast_7:0' shape=(None,) dtype=float32>), 'Worker.ID': SemanticTensor(semantic=<Semantic.CATEGORICAL: 2>, tensor=<tf.Tensor 'data_11:0' shape=(None,) dtype=string>), 'Worker.score': SemanticTensor(semantic=<Semantic.NUMERICAL: 1>, tensor=<tf.Tensor 'Cast_8:0' shape=(None,) dtype=float32>), 'Worker.profession': SemanticTensor(semantic=<Semantic.CATEGORICAL: 2>, tensor=<tf.Tensor 'data_13:0' shape=(None,) dtype=string>), 'Worker.yearsOfExperience': SemanticTensor(semantic=<Semantic.NUMERICAL: 1>, tensor=<tf.Tensor 'Cast_9:0' shape=(None,) dtype=float32>), 'Worker.age': SemanticTensor(semantic=<Semantic.NUMERICAL: 1>, tensor=<tf.Tensor 'Cast_10:0' shape=(None,) dtype=float32>), 'Worker.gender': SemanticTensor(semantic=<Semantic.CATEGORICAL: 2>, tensor=<tf.Tensor 'data_16:0' shape=(None,) dtype=string>), 'Worker.whereLearnedToCode': SemanticTensor(semantic=<Semantic.CATEGORICAL: 2>, tensor=<tf.Tensor 'data_17:0' shape=(None,) dtype=string>), 'Worker.country': SemanticTensor(semantic=<Semantic.CATEGORICAL: 2>, tensor=<tf.Tensor 'data_18:0' shape=(None,) dtype=string>), 'Worker.programmingLanguage': SemanticTensor(semantic=<Semantic.CATEGORICAL: 2>, tensor=<tf.Tensor 'data_19:0' shape=(None,) dtype=string>), 'complexity': SemanticTensor(semantic=<Semantic.NUMERICAL: 1>, tensor=<tf.Tensor 'Cast_11:0' shape=(None,) dtype=float32>)}\n",
      "Training dataset read in 0:00:00.318372. Found 885 examples.\n",
      "Training model...\n",
      "Model trained in 0:01:06.262032\n",
      "Compiling model...\n",
      "Model compiled.\n",
      "1/1 [==============================] - 0s 394ms/step - loss: 0.0000e+00 - precision: 1.0000 - recall: 0.4286\n",
      "Use /var/folders/36/2qtcl0jx6r94h6345h20r6880000gn/T/tmpeooqojki as temporary training directory\n",
      "Reading training dataset...\n",
      "Training tensor examples:\n",
      "Features: {'Answer.ID': <tf.Tensor 'data:0' shape=(None,) dtype=int64>, 'FailingMethod': <tf.Tensor 'data_1:0' shape=(None,) dtype=string>, 'Question.ID': <tf.Tensor 'data_2:0' shape=(None,) dtype=int64>, 'Answer.duration': <tf.Tensor 'data_3:0' shape=(None,) dtype=float64>, 'Answer.confidence': <tf.Tensor 'data_4:0' shape=(None,) dtype=int64>, 'Answer.difficulty': <tf.Tensor 'data_5:0' shape=(None,) dtype=int64>, 'Answer.option': <tf.Tensor 'data_6:0' shape=(None,) dtype=string>, 'Answer.order': <tf.Tensor 'data_7:0' shape=(None,) dtype=int64>, 'Answer.explanation': <tf.Tensor 'data_8:0' shape=(None,) dtype=string>, 'Code.LOC': <tf.Tensor 'data_9:0' shape=(None,) dtype=int64>, 'Code.complexity': <tf.Tensor 'data_10:0' shape=(None,) dtype=int64>, 'Worker.ID': <tf.Tensor 'data_11:0' shape=(None,) dtype=string>, 'Worker.score': <tf.Tensor 'data_12:0' shape=(None,) dtype=int64>, 'Worker.profession': <tf.Tensor 'data_13:0' shape=(None,) dtype=string>, 'Worker.yearsOfExperience': <tf.Tensor 'data_14:0' shape=(None,) dtype=float64>, 'Worker.age': <tf.Tensor 'data_15:0' shape=(None,) dtype=int64>, 'Worker.gender': <tf.Tensor 'data_16:0' shape=(None,) dtype=string>, 'Worker.whereLearnedToCode': <tf.Tensor 'data_17:0' shape=(None,) dtype=string>, 'Worker.country': <tf.Tensor 'data_18:0' shape=(None,) dtype=string>, 'Worker.programmingLanguage': <tf.Tensor 'data_19:0' shape=(None,) dtype=string>, 'complexity': <tf.Tensor 'data_20:0' shape=(None,) dtype=float64>}\n",
      "Label: Tensor(\"data_21:0\", shape=(None,), dtype=int64)\n",
      "Weights: None\n",
      "Normalized tensor features:\n",
      " {'Answer.ID': SemanticTensor(semantic=<Semantic.NUMERICAL: 1>, tensor=<tf.Tensor 'Cast:0' shape=(None,) dtype=float32>), 'FailingMethod': SemanticTensor(semantic=<Semantic.CATEGORICAL: 2>, tensor=<tf.Tensor 'data_1:0' shape=(None,) dtype=string>), 'Question.ID': SemanticTensor(semantic=<Semantic.NUMERICAL: 1>, tensor=<tf.Tensor 'Cast_1:0' shape=(None,) dtype=float32>), 'Answer.duration': SemanticTensor(semantic=<Semantic.NUMERICAL: 1>, tensor=<tf.Tensor 'Cast_2:0' shape=(None,) dtype=float32>), 'Answer.confidence': SemanticTensor(semantic=<Semantic.NUMERICAL: 1>, tensor=<tf.Tensor 'Cast_3:0' shape=(None,) dtype=float32>), 'Answer.difficulty': SemanticTensor(semantic=<Semantic.NUMERICAL: 1>, tensor=<tf.Tensor 'Cast_4:0' shape=(None,) dtype=float32>), 'Answer.option': SemanticTensor(semantic=<Semantic.CATEGORICAL: 2>, tensor=<tf.Tensor 'data_6:0' shape=(None,) dtype=string>), 'Answer.order': SemanticTensor(semantic=<Semantic.NUMERICAL: 1>, tensor=<tf.Tensor 'Cast_5:0' shape=(None,) dtype=float32>), 'Answer.explanation': SemanticTensor(semantic=<Semantic.CATEGORICAL: 2>, tensor=<tf.Tensor 'data_8:0' shape=(None,) dtype=string>), 'Code.LOC': SemanticTensor(semantic=<Semantic.NUMERICAL: 1>, tensor=<tf.Tensor 'Cast_6:0' shape=(None,) dtype=float32>), 'Code.complexity': SemanticTensor(semantic=<Semantic.NUMERICAL: 1>, tensor=<tf.Tensor 'Cast_7:0' shape=(None,) dtype=float32>), 'Worker.ID': SemanticTensor(semantic=<Semantic.CATEGORICAL: 2>, tensor=<tf.Tensor 'data_11:0' shape=(None,) dtype=string>), 'Worker.score': SemanticTensor(semantic=<Semantic.NUMERICAL: 1>, tensor=<tf.Tensor 'Cast_8:0' shape=(None,) dtype=float32>), 'Worker.profession': SemanticTensor(semantic=<Semantic.CATEGORICAL: 2>, tensor=<tf.Tensor 'data_13:0' shape=(None,) dtype=string>), 'Worker.yearsOfExperience': SemanticTensor(semantic=<Semantic.NUMERICAL: 1>, tensor=<tf.Tensor 'Cast_9:0' shape=(None,) dtype=float32>), 'Worker.age': SemanticTensor(semantic=<Semantic.NUMERICAL: 1>, tensor=<tf.Tensor 'Cast_10:0' shape=(None,) dtype=float32>), 'Worker.gender': SemanticTensor(semantic=<Semantic.CATEGORICAL: 2>, tensor=<tf.Tensor 'data_16:0' shape=(None,) dtype=string>), 'Worker.whereLearnedToCode': SemanticTensor(semantic=<Semantic.CATEGORICAL: 2>, tensor=<tf.Tensor 'data_17:0' shape=(None,) dtype=string>), 'Worker.country': SemanticTensor(semantic=<Semantic.CATEGORICAL: 2>, tensor=<tf.Tensor 'data_18:0' shape=(None,) dtype=string>), 'Worker.programmingLanguage': SemanticTensor(semantic=<Semantic.CATEGORICAL: 2>, tensor=<tf.Tensor 'data_19:0' shape=(None,) dtype=string>), 'complexity': SemanticTensor(semantic=<Semantic.NUMERICAL: 1>, tensor=<tf.Tensor 'Cast_11:0' shape=(None,) dtype=float32>)}\n",
      "Training dataset read in 0:00:00.308468. Found 965 examples.\n",
      "Training model...\n",
      "Model trained in 0:01:13.979659\n",
      "Compiling model...\n",
      "Model compiled.\n",
      "1/1 [==============================] - 0s 358ms/step - loss: 0.0000e+00 - precision: 1.0000 - recall: 0.5652\n",
      "Use /var/folders/36/2qtcl0jx6r94h6345h20r6880000gn/T/tmpf35sabm1 as temporary training directory\n",
      "Reading training dataset...\n",
      "Training tensor examples:\n",
      "Features: {'Answer.ID': <tf.Tensor 'data:0' shape=(None,) dtype=int64>, 'FailingMethod': <tf.Tensor 'data_1:0' shape=(None,) dtype=string>, 'Question.ID': <tf.Tensor 'data_2:0' shape=(None,) dtype=int64>, 'Answer.duration': <tf.Tensor 'data_3:0' shape=(None,) dtype=float64>, 'Answer.confidence': <tf.Tensor 'data_4:0' shape=(None,) dtype=int64>, 'Answer.difficulty': <tf.Tensor 'data_5:0' shape=(None,) dtype=int64>, 'Answer.option': <tf.Tensor 'data_6:0' shape=(None,) dtype=string>, 'Answer.order': <tf.Tensor 'data_7:0' shape=(None,) dtype=int64>, 'Answer.explanation': <tf.Tensor 'data_8:0' shape=(None,) dtype=string>, 'Code.LOC': <tf.Tensor 'data_9:0' shape=(None,) dtype=int64>, 'Code.complexity': <tf.Tensor 'data_10:0' shape=(None,) dtype=int64>, 'Worker.ID': <tf.Tensor 'data_11:0' shape=(None,) dtype=string>, 'Worker.score': <tf.Tensor 'data_12:0' shape=(None,) dtype=int64>, 'Worker.profession': <tf.Tensor 'data_13:0' shape=(None,) dtype=string>, 'Worker.yearsOfExperience': <tf.Tensor 'data_14:0' shape=(None,) dtype=float64>, 'Worker.age': <tf.Tensor 'data_15:0' shape=(None,) dtype=int64>, 'Worker.gender': <tf.Tensor 'data_16:0' shape=(None,) dtype=string>, 'Worker.whereLearnedToCode': <tf.Tensor 'data_17:0' shape=(None,) dtype=string>, 'Worker.country': <tf.Tensor 'data_18:0' shape=(None,) dtype=string>, 'Worker.programmingLanguage': <tf.Tensor 'data_19:0' shape=(None,) dtype=string>, 'complexity': <tf.Tensor 'data_20:0' shape=(None,) dtype=float64>}\n",
      "Label: Tensor(\"data_21:0\", shape=(None,), dtype=int64)\n",
      "Weights: None\n",
      "Normalized tensor features:\n",
      " {'Answer.ID': SemanticTensor(semantic=<Semantic.NUMERICAL: 1>, tensor=<tf.Tensor 'Cast:0' shape=(None,) dtype=float32>), 'FailingMethod': SemanticTensor(semantic=<Semantic.CATEGORICAL: 2>, tensor=<tf.Tensor 'data_1:0' shape=(None,) dtype=string>), 'Question.ID': SemanticTensor(semantic=<Semantic.NUMERICAL: 1>, tensor=<tf.Tensor 'Cast_1:0' shape=(None,) dtype=float32>), 'Answer.duration': SemanticTensor(semantic=<Semantic.NUMERICAL: 1>, tensor=<tf.Tensor 'Cast_2:0' shape=(None,) dtype=float32>), 'Answer.confidence': SemanticTensor(semantic=<Semantic.NUMERICAL: 1>, tensor=<tf.Tensor 'Cast_3:0' shape=(None,) dtype=float32>), 'Answer.difficulty': SemanticTensor(semantic=<Semantic.NUMERICAL: 1>, tensor=<tf.Tensor 'Cast_4:0' shape=(None,) dtype=float32>), 'Answer.option': SemanticTensor(semantic=<Semantic.CATEGORICAL: 2>, tensor=<tf.Tensor 'data_6:0' shape=(None,) dtype=string>), 'Answer.order': SemanticTensor(semantic=<Semantic.NUMERICAL: 1>, tensor=<tf.Tensor 'Cast_5:0' shape=(None,) dtype=float32>), 'Answer.explanation': SemanticTensor(semantic=<Semantic.CATEGORICAL: 2>, tensor=<tf.Tensor 'data_8:0' shape=(None,) dtype=string>), 'Code.LOC': SemanticTensor(semantic=<Semantic.NUMERICAL: 1>, tensor=<tf.Tensor 'Cast_6:0' shape=(None,) dtype=float32>), 'Code.complexity': SemanticTensor(semantic=<Semantic.NUMERICAL: 1>, tensor=<tf.Tensor 'Cast_7:0' shape=(None,) dtype=float32>), 'Worker.ID': SemanticTensor(semantic=<Semantic.CATEGORICAL: 2>, tensor=<tf.Tensor 'data_11:0' shape=(None,) dtype=string>), 'Worker.score': SemanticTensor(semantic=<Semantic.NUMERICAL: 1>, tensor=<tf.Tensor 'Cast_8:0' shape=(None,) dtype=float32>), 'Worker.profession': SemanticTensor(semantic=<Semantic.CATEGORICAL: 2>, tensor=<tf.Tensor 'data_13:0' shape=(None,) dtype=string>), 'Worker.yearsOfExperience': SemanticTensor(semantic=<Semantic.NUMERICAL: 1>, tensor=<tf.Tensor 'Cast_9:0' shape=(None,) dtype=float32>), 'Worker.age': SemanticTensor(semantic=<Semantic.NUMERICAL: 1>, tensor=<tf.Tensor 'Cast_10:0' shape=(None,) dtype=float32>), 'Worker.gender': SemanticTensor(semantic=<Semantic.CATEGORICAL: 2>, tensor=<tf.Tensor 'data_16:0' shape=(None,) dtype=string>), 'Worker.whereLearnedToCode': SemanticTensor(semantic=<Semantic.CATEGORICAL: 2>, tensor=<tf.Tensor 'data_17:0' shape=(None,) dtype=string>), 'Worker.country': SemanticTensor(semantic=<Semantic.CATEGORICAL: 2>, tensor=<tf.Tensor 'data_18:0' shape=(None,) dtype=string>), 'Worker.programmingLanguage': SemanticTensor(semantic=<Semantic.CATEGORICAL: 2>, tensor=<tf.Tensor 'data_19:0' shape=(None,) dtype=string>), 'complexity': SemanticTensor(semantic=<Semantic.NUMERICAL: 1>, tensor=<tf.Tensor 'Cast_11:0' shape=(None,) dtype=float32>)}\n",
      "Training dataset read in 0:00:00.290691. Found 1045 examples.\n",
      "Training model...\n",
      "Model trained in 0:01:23.015960\n",
      "Compiling model...\n",
      "Model compiled.\n",
      "1/1 [==============================] - 0s 388ms/step - loss: 0.0000e+00 - precision: 0.9032 - recall: 0.5600\n",
      "Use /var/folders/36/2qtcl0jx6r94h6345h20r6880000gn/T/tmpai9nczuh as temporary training directory\n",
      "Reading training dataset...\n",
      "Training tensor examples:\n",
      "Features: {'Answer.ID': <tf.Tensor 'data:0' shape=(None,) dtype=int64>, 'FailingMethod': <tf.Tensor 'data_1:0' shape=(None,) dtype=string>, 'Question.ID': <tf.Tensor 'data_2:0' shape=(None,) dtype=int64>, 'Answer.duration': <tf.Tensor 'data_3:0' shape=(None,) dtype=float64>, 'Answer.confidence': <tf.Tensor 'data_4:0' shape=(None,) dtype=int64>, 'Answer.difficulty': <tf.Tensor 'data_5:0' shape=(None,) dtype=int64>, 'Answer.option': <tf.Tensor 'data_6:0' shape=(None,) dtype=string>, 'Answer.order': <tf.Tensor 'data_7:0' shape=(None,) dtype=int64>, 'Answer.explanation': <tf.Tensor 'data_8:0' shape=(None,) dtype=string>, 'Code.LOC': <tf.Tensor 'data_9:0' shape=(None,) dtype=int64>, 'Code.complexity': <tf.Tensor 'data_10:0' shape=(None,) dtype=int64>, 'Worker.ID': <tf.Tensor 'data_11:0' shape=(None,) dtype=string>, 'Worker.score': <tf.Tensor 'data_12:0' shape=(None,) dtype=int64>, 'Worker.profession': <tf.Tensor 'data_13:0' shape=(None,) dtype=string>, 'Worker.yearsOfExperience': <tf.Tensor 'data_14:0' shape=(None,) dtype=float64>, 'Worker.age': <tf.Tensor 'data_15:0' shape=(None,) dtype=int64>, 'Worker.gender': <tf.Tensor 'data_16:0' shape=(None,) dtype=string>, 'Worker.whereLearnedToCode': <tf.Tensor 'data_17:0' shape=(None,) dtype=string>, 'Worker.country': <tf.Tensor 'data_18:0' shape=(None,) dtype=string>, 'Worker.programmingLanguage': <tf.Tensor 'data_19:0' shape=(None,) dtype=string>, 'complexity': <tf.Tensor 'data_20:0' shape=(None,) dtype=float64>}\n",
      "Label: Tensor(\"data_21:0\", shape=(None,), dtype=int64)\n",
      "Weights: None\n",
      "Normalized tensor features:\n",
      " {'Answer.ID': SemanticTensor(semantic=<Semantic.NUMERICAL: 1>, tensor=<tf.Tensor 'Cast:0' shape=(None,) dtype=float32>), 'FailingMethod': SemanticTensor(semantic=<Semantic.CATEGORICAL: 2>, tensor=<tf.Tensor 'data_1:0' shape=(None,) dtype=string>), 'Question.ID': SemanticTensor(semantic=<Semantic.NUMERICAL: 1>, tensor=<tf.Tensor 'Cast_1:0' shape=(None,) dtype=float32>), 'Answer.duration': SemanticTensor(semantic=<Semantic.NUMERICAL: 1>, tensor=<tf.Tensor 'Cast_2:0' shape=(None,) dtype=float32>), 'Answer.confidence': SemanticTensor(semantic=<Semantic.NUMERICAL: 1>, tensor=<tf.Tensor 'Cast_3:0' shape=(None,) dtype=float32>), 'Answer.difficulty': SemanticTensor(semantic=<Semantic.NUMERICAL: 1>, tensor=<tf.Tensor 'Cast_4:0' shape=(None,) dtype=float32>), 'Answer.option': SemanticTensor(semantic=<Semantic.CATEGORICAL: 2>, tensor=<tf.Tensor 'data_6:0' shape=(None,) dtype=string>), 'Answer.order': SemanticTensor(semantic=<Semantic.NUMERICAL: 1>, tensor=<tf.Tensor 'Cast_5:0' shape=(None,) dtype=float32>), 'Answer.explanation': SemanticTensor(semantic=<Semantic.CATEGORICAL: 2>, tensor=<tf.Tensor 'data_8:0' shape=(None,) dtype=string>), 'Code.LOC': SemanticTensor(semantic=<Semantic.NUMERICAL: 1>, tensor=<tf.Tensor 'Cast_6:0' shape=(None,) dtype=float32>), 'Code.complexity': SemanticTensor(semantic=<Semantic.NUMERICAL: 1>, tensor=<tf.Tensor 'Cast_7:0' shape=(None,) dtype=float32>), 'Worker.ID': SemanticTensor(semantic=<Semantic.CATEGORICAL: 2>, tensor=<tf.Tensor 'data_11:0' shape=(None,) dtype=string>), 'Worker.score': SemanticTensor(semantic=<Semantic.NUMERICAL: 1>, tensor=<tf.Tensor 'Cast_8:0' shape=(None,) dtype=float32>), 'Worker.profession': SemanticTensor(semantic=<Semantic.CATEGORICAL: 2>, tensor=<tf.Tensor 'data_13:0' shape=(None,) dtype=string>), 'Worker.yearsOfExperience': SemanticTensor(semantic=<Semantic.NUMERICAL: 1>, tensor=<tf.Tensor 'Cast_9:0' shape=(None,) dtype=float32>), 'Worker.age': SemanticTensor(semantic=<Semantic.NUMERICAL: 1>, tensor=<tf.Tensor 'Cast_10:0' shape=(None,) dtype=float32>), 'Worker.gender': SemanticTensor(semantic=<Semantic.CATEGORICAL: 2>, tensor=<tf.Tensor 'data_16:0' shape=(None,) dtype=string>), 'Worker.whereLearnedToCode': SemanticTensor(semantic=<Semantic.CATEGORICAL: 2>, tensor=<tf.Tensor 'data_17:0' shape=(None,) dtype=string>), 'Worker.country': SemanticTensor(semantic=<Semantic.CATEGORICAL: 2>, tensor=<tf.Tensor 'data_18:0' shape=(None,) dtype=string>), 'Worker.programmingLanguage': SemanticTensor(semantic=<Semantic.CATEGORICAL: 2>, tensor=<tf.Tensor 'data_19:0' shape=(None,) dtype=string>), 'complexity': SemanticTensor(semantic=<Semantic.NUMERICAL: 1>, tensor=<tf.Tensor 'Cast_11:0' shape=(None,) dtype=float32>)}\n",
      "Training dataset read in 0:00:00.312165. Found 1125 examples.\n",
      "Training model...\n",
      "Model trained in 0:01:31.019545\n",
      "Compiling model...\n",
      "Model compiled.\n",
      "1/1 [==============================] - 0s 418ms/step - loss: 0.0000e+00 - precision: 1.0000 - recall: 0.7455\n",
      "Use /var/folders/36/2qtcl0jx6r94h6345h20r6880000gn/T/tmp0ve1_uh9 as temporary training directory\n",
      "Reading training dataset...\n",
      "Training tensor examples:\n",
      "Features: {'Answer.ID': <tf.Tensor 'data:0' shape=(None,) dtype=int64>, 'FailingMethod': <tf.Tensor 'data_1:0' shape=(None,) dtype=string>, 'Question.ID': <tf.Tensor 'data_2:0' shape=(None,) dtype=int64>, 'Answer.duration': <tf.Tensor 'data_3:0' shape=(None,) dtype=float64>, 'Answer.confidence': <tf.Tensor 'data_4:0' shape=(None,) dtype=int64>, 'Answer.difficulty': <tf.Tensor 'data_5:0' shape=(None,) dtype=int64>, 'Answer.option': <tf.Tensor 'data_6:0' shape=(None,) dtype=string>, 'Answer.order': <tf.Tensor 'data_7:0' shape=(None,) dtype=int64>, 'Answer.explanation': <tf.Tensor 'data_8:0' shape=(None,) dtype=string>, 'Code.LOC': <tf.Tensor 'data_9:0' shape=(None,) dtype=int64>, 'Code.complexity': <tf.Tensor 'data_10:0' shape=(None,) dtype=int64>, 'Worker.ID': <tf.Tensor 'data_11:0' shape=(None,) dtype=string>, 'Worker.score': <tf.Tensor 'data_12:0' shape=(None,) dtype=int64>, 'Worker.profession': <tf.Tensor 'data_13:0' shape=(None,) dtype=string>, 'Worker.yearsOfExperience': <tf.Tensor 'data_14:0' shape=(None,) dtype=float64>, 'Worker.age': <tf.Tensor 'data_15:0' shape=(None,) dtype=int64>, 'Worker.gender': <tf.Tensor 'data_16:0' shape=(None,) dtype=string>, 'Worker.whereLearnedToCode': <tf.Tensor 'data_17:0' shape=(None,) dtype=string>, 'Worker.country': <tf.Tensor 'data_18:0' shape=(None,) dtype=string>, 'Worker.programmingLanguage': <tf.Tensor 'data_19:0' shape=(None,) dtype=string>, 'complexity': <tf.Tensor 'data_20:0' shape=(None,) dtype=float64>}\n",
      "Label: Tensor(\"data_21:0\", shape=(None,), dtype=int64)\n",
      "Weights: None\n",
      "Normalized tensor features:\n",
      " {'Answer.ID': SemanticTensor(semantic=<Semantic.NUMERICAL: 1>, tensor=<tf.Tensor 'Cast:0' shape=(None,) dtype=float32>), 'FailingMethod': SemanticTensor(semantic=<Semantic.CATEGORICAL: 2>, tensor=<tf.Tensor 'data_1:0' shape=(None,) dtype=string>), 'Question.ID': SemanticTensor(semantic=<Semantic.NUMERICAL: 1>, tensor=<tf.Tensor 'Cast_1:0' shape=(None,) dtype=float32>), 'Answer.duration': SemanticTensor(semantic=<Semantic.NUMERICAL: 1>, tensor=<tf.Tensor 'Cast_2:0' shape=(None,) dtype=float32>), 'Answer.confidence': SemanticTensor(semantic=<Semantic.NUMERICAL: 1>, tensor=<tf.Tensor 'Cast_3:0' shape=(None,) dtype=float32>), 'Answer.difficulty': SemanticTensor(semantic=<Semantic.NUMERICAL: 1>, tensor=<tf.Tensor 'Cast_4:0' shape=(None,) dtype=float32>), 'Answer.option': SemanticTensor(semantic=<Semantic.CATEGORICAL: 2>, tensor=<tf.Tensor 'data_6:0' shape=(None,) dtype=string>), 'Answer.order': SemanticTensor(semantic=<Semantic.NUMERICAL: 1>, tensor=<tf.Tensor 'Cast_5:0' shape=(None,) dtype=float32>), 'Answer.explanation': SemanticTensor(semantic=<Semantic.CATEGORICAL: 2>, tensor=<tf.Tensor 'data_8:0' shape=(None,) dtype=string>), 'Code.LOC': SemanticTensor(semantic=<Semantic.NUMERICAL: 1>, tensor=<tf.Tensor 'Cast_6:0' shape=(None,) dtype=float32>), 'Code.complexity': SemanticTensor(semantic=<Semantic.NUMERICAL: 1>, tensor=<tf.Tensor 'Cast_7:0' shape=(None,) dtype=float32>), 'Worker.ID': SemanticTensor(semantic=<Semantic.CATEGORICAL: 2>, tensor=<tf.Tensor 'data_11:0' shape=(None,) dtype=string>), 'Worker.score': SemanticTensor(semantic=<Semantic.NUMERICAL: 1>, tensor=<tf.Tensor 'Cast_8:0' shape=(None,) dtype=float32>), 'Worker.profession': SemanticTensor(semantic=<Semantic.CATEGORICAL: 2>, tensor=<tf.Tensor 'data_13:0' shape=(None,) dtype=string>), 'Worker.yearsOfExperience': SemanticTensor(semantic=<Semantic.NUMERICAL: 1>, tensor=<tf.Tensor 'Cast_9:0' shape=(None,) dtype=float32>), 'Worker.age': SemanticTensor(semantic=<Semantic.NUMERICAL: 1>, tensor=<tf.Tensor 'Cast_10:0' shape=(None,) dtype=float32>), 'Worker.gender': SemanticTensor(semantic=<Semantic.CATEGORICAL: 2>, tensor=<tf.Tensor 'data_16:0' shape=(None,) dtype=string>), 'Worker.whereLearnedToCode': SemanticTensor(semantic=<Semantic.CATEGORICAL: 2>, tensor=<tf.Tensor 'data_17:0' shape=(None,) dtype=string>), 'Worker.country': SemanticTensor(semantic=<Semantic.CATEGORICAL: 2>, tensor=<tf.Tensor 'data_18:0' shape=(None,) dtype=string>), 'Worker.programmingLanguage': SemanticTensor(semantic=<Semantic.CATEGORICAL: 2>, tensor=<tf.Tensor 'data_19:0' shape=(None,) dtype=string>), 'complexity': SemanticTensor(semantic=<Semantic.NUMERICAL: 1>, tensor=<tf.Tensor 'Cast_11:0' shape=(None,) dtype=float32>)}\n",
      "Training dataset read in 0:00:00.313172. Found 1205 examples.\n",
      "Training model...\n",
      "Model trained in 0:01:38.677709\n",
      "Compiling model...\n",
      "Model compiled.\n",
      "1/1 [==============================] - 0s 331ms/step - loss: 0.0000e+00 - precision: 1.0000 - recall: 0.6780\n",
      "Use /var/folders/36/2qtcl0jx6r94h6345h20r6880000gn/T/tmp3q1y2qi_ as temporary training directory\n",
      "Reading training dataset...\n",
      "Training tensor examples:\n",
      "Features: {'Answer.ID': <tf.Tensor 'data:0' shape=(None,) dtype=int64>, 'FailingMethod': <tf.Tensor 'data_1:0' shape=(None,) dtype=string>, 'Question.ID': <tf.Tensor 'data_2:0' shape=(None,) dtype=int64>, 'Answer.duration': <tf.Tensor 'data_3:0' shape=(None,) dtype=float64>, 'Answer.confidence': <tf.Tensor 'data_4:0' shape=(None,) dtype=int64>, 'Answer.difficulty': <tf.Tensor 'data_5:0' shape=(None,) dtype=int64>, 'Answer.option': <tf.Tensor 'data_6:0' shape=(None,) dtype=string>, 'Answer.order': <tf.Tensor 'data_7:0' shape=(None,) dtype=int64>, 'Answer.explanation': <tf.Tensor 'data_8:0' shape=(None,) dtype=string>, 'Code.LOC': <tf.Tensor 'data_9:0' shape=(None,) dtype=int64>, 'Code.complexity': <tf.Tensor 'data_10:0' shape=(None,) dtype=int64>, 'Worker.ID': <tf.Tensor 'data_11:0' shape=(None,) dtype=string>, 'Worker.score': <tf.Tensor 'data_12:0' shape=(None,) dtype=int64>, 'Worker.profession': <tf.Tensor 'data_13:0' shape=(None,) dtype=string>, 'Worker.yearsOfExperience': <tf.Tensor 'data_14:0' shape=(None,) dtype=float64>, 'Worker.age': <tf.Tensor 'data_15:0' shape=(None,) dtype=int64>, 'Worker.gender': <tf.Tensor 'data_16:0' shape=(None,) dtype=string>, 'Worker.whereLearnedToCode': <tf.Tensor 'data_17:0' shape=(None,) dtype=string>, 'Worker.country': <tf.Tensor 'data_18:0' shape=(None,) dtype=string>, 'Worker.programmingLanguage': <tf.Tensor 'data_19:0' shape=(None,) dtype=string>, 'complexity': <tf.Tensor 'data_20:0' shape=(None,) dtype=float64>}\n",
      "Label: Tensor(\"data_21:0\", shape=(None,), dtype=int64)\n",
      "Weights: None\n",
      "Normalized tensor features:\n",
      " {'Answer.ID': SemanticTensor(semantic=<Semantic.NUMERICAL: 1>, tensor=<tf.Tensor 'Cast:0' shape=(None,) dtype=float32>), 'FailingMethod': SemanticTensor(semantic=<Semantic.CATEGORICAL: 2>, tensor=<tf.Tensor 'data_1:0' shape=(None,) dtype=string>), 'Question.ID': SemanticTensor(semantic=<Semantic.NUMERICAL: 1>, tensor=<tf.Tensor 'Cast_1:0' shape=(None,) dtype=float32>), 'Answer.duration': SemanticTensor(semantic=<Semantic.NUMERICAL: 1>, tensor=<tf.Tensor 'Cast_2:0' shape=(None,) dtype=float32>), 'Answer.confidence': SemanticTensor(semantic=<Semantic.NUMERICAL: 1>, tensor=<tf.Tensor 'Cast_3:0' shape=(None,) dtype=float32>), 'Answer.difficulty': SemanticTensor(semantic=<Semantic.NUMERICAL: 1>, tensor=<tf.Tensor 'Cast_4:0' shape=(None,) dtype=float32>), 'Answer.option': SemanticTensor(semantic=<Semantic.CATEGORICAL: 2>, tensor=<tf.Tensor 'data_6:0' shape=(None,) dtype=string>), 'Answer.order': SemanticTensor(semantic=<Semantic.NUMERICAL: 1>, tensor=<tf.Tensor 'Cast_5:0' shape=(None,) dtype=float32>), 'Answer.explanation': SemanticTensor(semantic=<Semantic.CATEGORICAL: 2>, tensor=<tf.Tensor 'data_8:0' shape=(None,) dtype=string>), 'Code.LOC': SemanticTensor(semantic=<Semantic.NUMERICAL: 1>, tensor=<tf.Tensor 'Cast_6:0' shape=(None,) dtype=float32>), 'Code.complexity': SemanticTensor(semantic=<Semantic.NUMERICAL: 1>, tensor=<tf.Tensor 'Cast_7:0' shape=(None,) dtype=float32>), 'Worker.ID': SemanticTensor(semantic=<Semantic.CATEGORICAL: 2>, tensor=<tf.Tensor 'data_11:0' shape=(None,) dtype=string>), 'Worker.score': SemanticTensor(semantic=<Semantic.NUMERICAL: 1>, tensor=<tf.Tensor 'Cast_8:0' shape=(None,) dtype=float32>), 'Worker.profession': SemanticTensor(semantic=<Semantic.CATEGORICAL: 2>, tensor=<tf.Tensor 'data_13:0' shape=(None,) dtype=string>), 'Worker.yearsOfExperience': SemanticTensor(semantic=<Semantic.NUMERICAL: 1>, tensor=<tf.Tensor 'Cast_9:0' shape=(None,) dtype=float32>), 'Worker.age': SemanticTensor(semantic=<Semantic.NUMERICAL: 1>, tensor=<tf.Tensor 'Cast_10:0' shape=(None,) dtype=float32>), 'Worker.gender': SemanticTensor(semantic=<Semantic.CATEGORICAL: 2>, tensor=<tf.Tensor 'data_16:0' shape=(None,) dtype=string>), 'Worker.whereLearnedToCode': SemanticTensor(semantic=<Semantic.CATEGORICAL: 2>, tensor=<tf.Tensor 'data_17:0' shape=(None,) dtype=string>), 'Worker.country': SemanticTensor(semantic=<Semantic.CATEGORICAL: 2>, tensor=<tf.Tensor 'data_18:0' shape=(None,) dtype=string>), 'Worker.programmingLanguage': SemanticTensor(semantic=<Semantic.CATEGORICAL: 2>, tensor=<tf.Tensor 'data_19:0' shape=(None,) dtype=string>), 'complexity': SemanticTensor(semantic=<Semantic.NUMERICAL: 1>, tensor=<tf.Tensor 'Cast_11:0' shape=(None,) dtype=float32>)}\n",
      "Training dataset read in 0:00:00.276847. Found 1285 examples.\n",
      "Training model...\n",
      "Model trained in 0:01:44.059196\n",
      "Compiling model...\n",
      "Model compiled.\n",
      "1/1 [==============================] - 0s 362ms/step - loss: 0.0000e+00 - precision: 0.9821 - recall: 0.8730\n",
      "Use /var/folders/36/2qtcl0jx6r94h6345h20r6880000gn/T/tmprijqqvds as temporary training directory\n",
      "Reading training dataset...\n",
      "Training tensor examples:\n",
      "Features: {'Answer.ID': <tf.Tensor 'data:0' shape=(None,) dtype=int64>, 'FailingMethod': <tf.Tensor 'data_1:0' shape=(None,) dtype=string>, 'Question.ID': <tf.Tensor 'data_2:0' shape=(None,) dtype=int64>, 'Answer.duration': <tf.Tensor 'data_3:0' shape=(None,) dtype=float64>, 'Answer.confidence': <tf.Tensor 'data_4:0' shape=(None,) dtype=int64>, 'Answer.difficulty': <tf.Tensor 'data_5:0' shape=(None,) dtype=int64>, 'Answer.option': <tf.Tensor 'data_6:0' shape=(None,) dtype=string>, 'Answer.order': <tf.Tensor 'data_7:0' shape=(None,) dtype=int64>, 'Answer.explanation': <tf.Tensor 'data_8:0' shape=(None,) dtype=string>, 'Code.LOC': <tf.Tensor 'data_9:0' shape=(None,) dtype=int64>, 'Code.complexity': <tf.Tensor 'data_10:0' shape=(None,) dtype=int64>, 'Worker.ID': <tf.Tensor 'data_11:0' shape=(None,) dtype=string>, 'Worker.score': <tf.Tensor 'data_12:0' shape=(None,) dtype=int64>, 'Worker.profession': <tf.Tensor 'data_13:0' shape=(None,) dtype=string>, 'Worker.yearsOfExperience': <tf.Tensor 'data_14:0' shape=(None,) dtype=float64>, 'Worker.age': <tf.Tensor 'data_15:0' shape=(None,) dtype=int64>, 'Worker.gender': <tf.Tensor 'data_16:0' shape=(None,) dtype=string>, 'Worker.whereLearnedToCode': <tf.Tensor 'data_17:0' shape=(None,) dtype=string>, 'Worker.country': <tf.Tensor 'data_18:0' shape=(None,) dtype=string>, 'Worker.programmingLanguage': <tf.Tensor 'data_19:0' shape=(None,) dtype=string>, 'complexity': <tf.Tensor 'data_20:0' shape=(None,) dtype=float64>}\n",
      "Label: Tensor(\"data_21:0\", shape=(None,), dtype=int64)\n",
      "Weights: None\n",
      "Normalized tensor features:\n",
      " {'Answer.ID': SemanticTensor(semantic=<Semantic.NUMERICAL: 1>, tensor=<tf.Tensor 'Cast:0' shape=(None,) dtype=float32>), 'FailingMethod': SemanticTensor(semantic=<Semantic.CATEGORICAL: 2>, tensor=<tf.Tensor 'data_1:0' shape=(None,) dtype=string>), 'Question.ID': SemanticTensor(semantic=<Semantic.NUMERICAL: 1>, tensor=<tf.Tensor 'Cast_1:0' shape=(None,) dtype=float32>), 'Answer.duration': SemanticTensor(semantic=<Semantic.NUMERICAL: 1>, tensor=<tf.Tensor 'Cast_2:0' shape=(None,) dtype=float32>), 'Answer.confidence': SemanticTensor(semantic=<Semantic.NUMERICAL: 1>, tensor=<tf.Tensor 'Cast_3:0' shape=(None,) dtype=float32>), 'Answer.difficulty': SemanticTensor(semantic=<Semantic.NUMERICAL: 1>, tensor=<tf.Tensor 'Cast_4:0' shape=(None,) dtype=float32>), 'Answer.option': SemanticTensor(semantic=<Semantic.CATEGORICAL: 2>, tensor=<tf.Tensor 'data_6:0' shape=(None,) dtype=string>), 'Answer.order': SemanticTensor(semantic=<Semantic.NUMERICAL: 1>, tensor=<tf.Tensor 'Cast_5:0' shape=(None,) dtype=float32>), 'Answer.explanation': SemanticTensor(semantic=<Semantic.CATEGORICAL: 2>, tensor=<tf.Tensor 'data_8:0' shape=(None,) dtype=string>), 'Code.LOC': SemanticTensor(semantic=<Semantic.NUMERICAL: 1>, tensor=<tf.Tensor 'Cast_6:0' shape=(None,) dtype=float32>), 'Code.complexity': SemanticTensor(semantic=<Semantic.NUMERICAL: 1>, tensor=<tf.Tensor 'Cast_7:0' shape=(None,) dtype=float32>), 'Worker.ID': SemanticTensor(semantic=<Semantic.CATEGORICAL: 2>, tensor=<tf.Tensor 'data_11:0' shape=(None,) dtype=string>), 'Worker.score': SemanticTensor(semantic=<Semantic.NUMERICAL: 1>, tensor=<tf.Tensor 'Cast_8:0' shape=(None,) dtype=float32>), 'Worker.profession': SemanticTensor(semantic=<Semantic.CATEGORICAL: 2>, tensor=<tf.Tensor 'data_13:0' shape=(None,) dtype=string>), 'Worker.yearsOfExperience': SemanticTensor(semantic=<Semantic.NUMERICAL: 1>, tensor=<tf.Tensor 'Cast_9:0' shape=(None,) dtype=float32>), 'Worker.age': SemanticTensor(semantic=<Semantic.NUMERICAL: 1>, tensor=<tf.Tensor 'Cast_10:0' shape=(None,) dtype=float32>), 'Worker.gender': SemanticTensor(semantic=<Semantic.CATEGORICAL: 2>, tensor=<tf.Tensor 'data_16:0' shape=(None,) dtype=string>), 'Worker.whereLearnedToCode': SemanticTensor(semantic=<Semantic.CATEGORICAL: 2>, tensor=<tf.Tensor 'data_17:0' shape=(None,) dtype=string>), 'Worker.country': SemanticTensor(semantic=<Semantic.CATEGORICAL: 2>, tensor=<tf.Tensor 'data_18:0' shape=(None,) dtype=string>), 'Worker.programmingLanguage': SemanticTensor(semantic=<Semantic.CATEGORICAL: 2>, tensor=<tf.Tensor 'data_19:0' shape=(None,) dtype=string>), 'complexity': SemanticTensor(semantic=<Semantic.NUMERICAL: 1>, tensor=<tf.Tensor 'Cast_11:0' shape=(None,) dtype=float32>)}\n",
      "Training dataset read in 0:00:00.293239. Found 1365 examples.\n",
      "Training model...\n",
      "Model trained in 0:01:50.173907\n",
      "Compiling model...\n",
      "Model compiled.\n",
      "1/1 [==============================] - 0s 361ms/step - loss: 0.0000e+00 - precision: 1.0000 - recall: 0.8657\n",
      "Use /var/folders/36/2qtcl0jx6r94h6345h20r6880000gn/T/tmp2mj1zncv as temporary training directory\n",
      "Reading training dataset...\n",
      "Training tensor examples:\n",
      "Features: {'Answer.ID': <tf.Tensor 'data:0' shape=(None,) dtype=int64>, 'FailingMethod': <tf.Tensor 'data_1:0' shape=(None,) dtype=string>, 'Question.ID': <tf.Tensor 'data_2:0' shape=(None,) dtype=int64>, 'Answer.duration': <tf.Tensor 'data_3:0' shape=(None,) dtype=float64>, 'Answer.confidence': <tf.Tensor 'data_4:0' shape=(None,) dtype=int64>, 'Answer.difficulty': <tf.Tensor 'data_5:0' shape=(None,) dtype=int64>, 'Answer.option': <tf.Tensor 'data_6:0' shape=(None,) dtype=string>, 'Answer.order': <tf.Tensor 'data_7:0' shape=(None,) dtype=int64>, 'Answer.explanation': <tf.Tensor 'data_8:0' shape=(None,) dtype=string>, 'Code.LOC': <tf.Tensor 'data_9:0' shape=(None,) dtype=int64>, 'Code.complexity': <tf.Tensor 'data_10:0' shape=(None,) dtype=int64>, 'Worker.ID': <tf.Tensor 'data_11:0' shape=(None,) dtype=string>, 'Worker.score': <tf.Tensor 'data_12:0' shape=(None,) dtype=int64>, 'Worker.profession': <tf.Tensor 'data_13:0' shape=(None,) dtype=string>, 'Worker.yearsOfExperience': <tf.Tensor 'data_14:0' shape=(None,) dtype=float64>, 'Worker.age': <tf.Tensor 'data_15:0' shape=(None,) dtype=int64>, 'Worker.gender': <tf.Tensor 'data_16:0' shape=(None,) dtype=string>, 'Worker.whereLearnedToCode': <tf.Tensor 'data_17:0' shape=(None,) dtype=string>, 'Worker.country': <tf.Tensor 'data_18:0' shape=(None,) dtype=string>, 'Worker.programmingLanguage': <tf.Tensor 'data_19:0' shape=(None,) dtype=string>, 'complexity': <tf.Tensor 'data_20:0' shape=(None,) dtype=float64>}\n",
      "Label: Tensor(\"data_21:0\", shape=(None,), dtype=int64)\n",
      "Weights: None\n",
      "Normalized tensor features:\n",
      " {'Answer.ID': SemanticTensor(semantic=<Semantic.NUMERICAL: 1>, tensor=<tf.Tensor 'Cast:0' shape=(None,) dtype=float32>), 'FailingMethod': SemanticTensor(semantic=<Semantic.CATEGORICAL: 2>, tensor=<tf.Tensor 'data_1:0' shape=(None,) dtype=string>), 'Question.ID': SemanticTensor(semantic=<Semantic.NUMERICAL: 1>, tensor=<tf.Tensor 'Cast_1:0' shape=(None,) dtype=float32>), 'Answer.duration': SemanticTensor(semantic=<Semantic.NUMERICAL: 1>, tensor=<tf.Tensor 'Cast_2:0' shape=(None,) dtype=float32>), 'Answer.confidence': SemanticTensor(semantic=<Semantic.NUMERICAL: 1>, tensor=<tf.Tensor 'Cast_3:0' shape=(None,) dtype=float32>), 'Answer.difficulty': SemanticTensor(semantic=<Semantic.NUMERICAL: 1>, tensor=<tf.Tensor 'Cast_4:0' shape=(None,) dtype=float32>), 'Answer.option': SemanticTensor(semantic=<Semantic.CATEGORICAL: 2>, tensor=<tf.Tensor 'data_6:0' shape=(None,) dtype=string>), 'Answer.order': SemanticTensor(semantic=<Semantic.NUMERICAL: 1>, tensor=<tf.Tensor 'Cast_5:0' shape=(None,) dtype=float32>), 'Answer.explanation': SemanticTensor(semantic=<Semantic.CATEGORICAL: 2>, tensor=<tf.Tensor 'data_8:0' shape=(None,) dtype=string>), 'Code.LOC': SemanticTensor(semantic=<Semantic.NUMERICAL: 1>, tensor=<tf.Tensor 'Cast_6:0' shape=(None,) dtype=float32>), 'Code.complexity': SemanticTensor(semantic=<Semantic.NUMERICAL: 1>, tensor=<tf.Tensor 'Cast_7:0' shape=(None,) dtype=float32>), 'Worker.ID': SemanticTensor(semantic=<Semantic.CATEGORICAL: 2>, tensor=<tf.Tensor 'data_11:0' shape=(None,) dtype=string>), 'Worker.score': SemanticTensor(semantic=<Semantic.NUMERICAL: 1>, tensor=<tf.Tensor 'Cast_8:0' shape=(None,) dtype=float32>), 'Worker.profession': SemanticTensor(semantic=<Semantic.CATEGORICAL: 2>, tensor=<tf.Tensor 'data_13:0' shape=(None,) dtype=string>), 'Worker.yearsOfExperience': SemanticTensor(semantic=<Semantic.NUMERICAL: 1>, tensor=<tf.Tensor 'Cast_9:0' shape=(None,) dtype=float32>), 'Worker.age': SemanticTensor(semantic=<Semantic.NUMERICAL: 1>, tensor=<tf.Tensor 'Cast_10:0' shape=(None,) dtype=float32>), 'Worker.gender': SemanticTensor(semantic=<Semantic.CATEGORICAL: 2>, tensor=<tf.Tensor 'data_16:0' shape=(None,) dtype=string>), 'Worker.whereLearnedToCode': SemanticTensor(semantic=<Semantic.CATEGORICAL: 2>, tensor=<tf.Tensor 'data_17:0' shape=(None,) dtype=string>), 'Worker.country': SemanticTensor(semantic=<Semantic.CATEGORICAL: 2>, tensor=<tf.Tensor 'data_18:0' shape=(None,) dtype=string>), 'Worker.programmingLanguage': SemanticTensor(semantic=<Semantic.CATEGORICAL: 2>, tensor=<tf.Tensor 'data_19:0' shape=(None,) dtype=string>), 'complexity': SemanticTensor(semantic=<Semantic.NUMERICAL: 1>, tensor=<tf.Tensor 'Cast_11:0' shape=(None,) dtype=float32>)}\n",
      "Training dataset read in 0:00:00.279869. Found 1445 examples.\n",
      "Training model...\n",
      "Model trained in 0:01:59.094775\n",
      "Compiling model...\n",
      "Model compiled.\n",
      "1/1 [==============================] - 0s 318ms/step - loss: 0.0000e+00 - precision: 1.0000 - recall: 0.8611\n",
      "Use /var/folders/36/2qtcl0jx6r94h6345h20r6880000gn/T/tmpk0cv9ltv as temporary training directory\n",
      "Reading training dataset...\n",
      "Training tensor examples:\n",
      "Features: {'Answer.ID': <tf.Tensor 'data:0' shape=(None,) dtype=int64>, 'FailingMethod': <tf.Tensor 'data_1:0' shape=(None,) dtype=string>, 'Question.ID': <tf.Tensor 'data_2:0' shape=(None,) dtype=int64>, 'Answer.duration': <tf.Tensor 'data_3:0' shape=(None,) dtype=float64>, 'Answer.confidence': <tf.Tensor 'data_4:0' shape=(None,) dtype=int64>, 'Answer.difficulty': <tf.Tensor 'data_5:0' shape=(None,) dtype=int64>, 'Answer.option': <tf.Tensor 'data_6:0' shape=(None,) dtype=string>, 'Answer.order': <tf.Tensor 'data_7:0' shape=(None,) dtype=int64>, 'Answer.explanation': <tf.Tensor 'data_8:0' shape=(None,) dtype=string>, 'Code.LOC': <tf.Tensor 'data_9:0' shape=(None,) dtype=int64>, 'Code.complexity': <tf.Tensor 'data_10:0' shape=(None,) dtype=int64>, 'Worker.ID': <tf.Tensor 'data_11:0' shape=(None,) dtype=string>, 'Worker.score': <tf.Tensor 'data_12:0' shape=(None,) dtype=int64>, 'Worker.profession': <tf.Tensor 'data_13:0' shape=(None,) dtype=string>, 'Worker.yearsOfExperience': <tf.Tensor 'data_14:0' shape=(None,) dtype=float64>, 'Worker.age': <tf.Tensor 'data_15:0' shape=(None,) dtype=int64>, 'Worker.gender': <tf.Tensor 'data_16:0' shape=(None,) dtype=string>, 'Worker.whereLearnedToCode': <tf.Tensor 'data_17:0' shape=(None,) dtype=string>, 'Worker.country': <tf.Tensor 'data_18:0' shape=(None,) dtype=string>, 'Worker.programmingLanguage': <tf.Tensor 'data_19:0' shape=(None,) dtype=string>, 'complexity': <tf.Tensor 'data_20:0' shape=(None,) dtype=float64>}\n",
      "Label: Tensor(\"data_21:0\", shape=(None,), dtype=int64)\n",
      "Weights: None\n",
      "Normalized tensor features:\n",
      " {'Answer.ID': SemanticTensor(semantic=<Semantic.NUMERICAL: 1>, tensor=<tf.Tensor 'Cast:0' shape=(None,) dtype=float32>), 'FailingMethod': SemanticTensor(semantic=<Semantic.CATEGORICAL: 2>, tensor=<tf.Tensor 'data_1:0' shape=(None,) dtype=string>), 'Question.ID': SemanticTensor(semantic=<Semantic.NUMERICAL: 1>, tensor=<tf.Tensor 'Cast_1:0' shape=(None,) dtype=float32>), 'Answer.duration': SemanticTensor(semantic=<Semantic.NUMERICAL: 1>, tensor=<tf.Tensor 'Cast_2:0' shape=(None,) dtype=float32>), 'Answer.confidence': SemanticTensor(semantic=<Semantic.NUMERICAL: 1>, tensor=<tf.Tensor 'Cast_3:0' shape=(None,) dtype=float32>), 'Answer.difficulty': SemanticTensor(semantic=<Semantic.NUMERICAL: 1>, tensor=<tf.Tensor 'Cast_4:0' shape=(None,) dtype=float32>), 'Answer.option': SemanticTensor(semantic=<Semantic.CATEGORICAL: 2>, tensor=<tf.Tensor 'data_6:0' shape=(None,) dtype=string>), 'Answer.order': SemanticTensor(semantic=<Semantic.NUMERICAL: 1>, tensor=<tf.Tensor 'Cast_5:0' shape=(None,) dtype=float32>), 'Answer.explanation': SemanticTensor(semantic=<Semantic.CATEGORICAL: 2>, tensor=<tf.Tensor 'data_8:0' shape=(None,) dtype=string>), 'Code.LOC': SemanticTensor(semantic=<Semantic.NUMERICAL: 1>, tensor=<tf.Tensor 'Cast_6:0' shape=(None,) dtype=float32>), 'Code.complexity': SemanticTensor(semantic=<Semantic.NUMERICAL: 1>, tensor=<tf.Tensor 'Cast_7:0' shape=(None,) dtype=float32>), 'Worker.ID': SemanticTensor(semantic=<Semantic.CATEGORICAL: 2>, tensor=<tf.Tensor 'data_11:0' shape=(None,) dtype=string>), 'Worker.score': SemanticTensor(semantic=<Semantic.NUMERICAL: 1>, tensor=<tf.Tensor 'Cast_8:0' shape=(None,) dtype=float32>), 'Worker.profession': SemanticTensor(semantic=<Semantic.CATEGORICAL: 2>, tensor=<tf.Tensor 'data_13:0' shape=(None,) dtype=string>), 'Worker.yearsOfExperience': SemanticTensor(semantic=<Semantic.NUMERICAL: 1>, tensor=<tf.Tensor 'Cast_9:0' shape=(None,) dtype=float32>), 'Worker.age': SemanticTensor(semantic=<Semantic.NUMERICAL: 1>, tensor=<tf.Tensor 'Cast_10:0' shape=(None,) dtype=float32>), 'Worker.gender': SemanticTensor(semantic=<Semantic.CATEGORICAL: 2>, tensor=<tf.Tensor 'data_16:0' shape=(None,) dtype=string>), 'Worker.whereLearnedToCode': SemanticTensor(semantic=<Semantic.CATEGORICAL: 2>, tensor=<tf.Tensor 'data_17:0' shape=(None,) dtype=string>), 'Worker.country': SemanticTensor(semantic=<Semantic.CATEGORICAL: 2>, tensor=<tf.Tensor 'data_18:0' shape=(None,) dtype=string>), 'Worker.programmingLanguage': SemanticTensor(semantic=<Semantic.CATEGORICAL: 2>, tensor=<tf.Tensor 'data_19:0' shape=(None,) dtype=string>), 'complexity': SemanticTensor(semantic=<Semantic.NUMERICAL: 1>, tensor=<tf.Tensor 'Cast_11:0' shape=(None,) dtype=float32>)}\n",
      "Training dataset read in 0:00:00.278022. Found 1525 examples.\n",
      "Training model...\n",
      "Model trained in 0:02:09.657695\n",
      "Compiling model...\n",
      "Model compiled.\n",
      "1/1 [==============================] - 0s 384ms/step - loss: 0.0000e+00 - precision: 1.0000 - recall: 0.8684\n",
      "Use /var/folders/36/2qtcl0jx6r94h6345h20r6880000gn/T/tmpur4vkhq9 as temporary training directory\n",
      "Reading training dataset...\n",
      "Training tensor examples:\n",
      "Features: {'Answer.ID': <tf.Tensor 'data:0' shape=(None,) dtype=int64>, 'FailingMethod': <tf.Tensor 'data_1:0' shape=(None,) dtype=string>, 'Question.ID': <tf.Tensor 'data_2:0' shape=(None,) dtype=int64>, 'Answer.duration': <tf.Tensor 'data_3:0' shape=(None,) dtype=float64>, 'Answer.confidence': <tf.Tensor 'data_4:0' shape=(None,) dtype=int64>, 'Answer.difficulty': <tf.Tensor 'data_5:0' shape=(None,) dtype=int64>, 'Answer.option': <tf.Tensor 'data_6:0' shape=(None,) dtype=string>, 'Answer.order': <tf.Tensor 'data_7:0' shape=(None,) dtype=int64>, 'Answer.explanation': <tf.Tensor 'data_8:0' shape=(None,) dtype=string>, 'Code.LOC': <tf.Tensor 'data_9:0' shape=(None,) dtype=int64>, 'Code.complexity': <tf.Tensor 'data_10:0' shape=(None,) dtype=int64>, 'Worker.ID': <tf.Tensor 'data_11:0' shape=(None,) dtype=string>, 'Worker.score': <tf.Tensor 'data_12:0' shape=(None,) dtype=int64>, 'Worker.profession': <tf.Tensor 'data_13:0' shape=(None,) dtype=string>, 'Worker.yearsOfExperience': <tf.Tensor 'data_14:0' shape=(None,) dtype=float64>, 'Worker.age': <tf.Tensor 'data_15:0' shape=(None,) dtype=int64>, 'Worker.gender': <tf.Tensor 'data_16:0' shape=(None,) dtype=string>, 'Worker.whereLearnedToCode': <tf.Tensor 'data_17:0' shape=(None,) dtype=string>, 'Worker.country': <tf.Tensor 'data_18:0' shape=(None,) dtype=string>, 'Worker.programmingLanguage': <tf.Tensor 'data_19:0' shape=(None,) dtype=string>, 'complexity': <tf.Tensor 'data_20:0' shape=(None,) dtype=float64>}\n",
      "Label: Tensor(\"data_21:0\", shape=(None,), dtype=int64)\n",
      "Weights: None\n",
      "Normalized tensor features:\n",
      " {'Answer.ID': SemanticTensor(semantic=<Semantic.NUMERICAL: 1>, tensor=<tf.Tensor 'Cast:0' shape=(None,) dtype=float32>), 'FailingMethod': SemanticTensor(semantic=<Semantic.CATEGORICAL: 2>, tensor=<tf.Tensor 'data_1:0' shape=(None,) dtype=string>), 'Question.ID': SemanticTensor(semantic=<Semantic.NUMERICAL: 1>, tensor=<tf.Tensor 'Cast_1:0' shape=(None,) dtype=float32>), 'Answer.duration': SemanticTensor(semantic=<Semantic.NUMERICAL: 1>, tensor=<tf.Tensor 'Cast_2:0' shape=(None,) dtype=float32>), 'Answer.confidence': SemanticTensor(semantic=<Semantic.NUMERICAL: 1>, tensor=<tf.Tensor 'Cast_3:0' shape=(None,) dtype=float32>), 'Answer.difficulty': SemanticTensor(semantic=<Semantic.NUMERICAL: 1>, tensor=<tf.Tensor 'Cast_4:0' shape=(None,) dtype=float32>), 'Answer.option': SemanticTensor(semantic=<Semantic.CATEGORICAL: 2>, tensor=<tf.Tensor 'data_6:0' shape=(None,) dtype=string>), 'Answer.order': SemanticTensor(semantic=<Semantic.NUMERICAL: 1>, tensor=<tf.Tensor 'Cast_5:0' shape=(None,) dtype=float32>), 'Answer.explanation': SemanticTensor(semantic=<Semantic.CATEGORICAL: 2>, tensor=<tf.Tensor 'data_8:0' shape=(None,) dtype=string>), 'Code.LOC': SemanticTensor(semantic=<Semantic.NUMERICAL: 1>, tensor=<tf.Tensor 'Cast_6:0' shape=(None,) dtype=float32>), 'Code.complexity': SemanticTensor(semantic=<Semantic.NUMERICAL: 1>, tensor=<tf.Tensor 'Cast_7:0' shape=(None,) dtype=float32>), 'Worker.ID': SemanticTensor(semantic=<Semantic.CATEGORICAL: 2>, tensor=<tf.Tensor 'data_11:0' shape=(None,) dtype=string>), 'Worker.score': SemanticTensor(semantic=<Semantic.NUMERICAL: 1>, tensor=<tf.Tensor 'Cast_8:0' shape=(None,) dtype=float32>), 'Worker.profession': SemanticTensor(semantic=<Semantic.CATEGORICAL: 2>, tensor=<tf.Tensor 'data_13:0' shape=(None,) dtype=string>), 'Worker.yearsOfExperience': SemanticTensor(semantic=<Semantic.NUMERICAL: 1>, tensor=<tf.Tensor 'Cast_9:0' shape=(None,) dtype=float32>), 'Worker.age': SemanticTensor(semantic=<Semantic.NUMERICAL: 1>, tensor=<tf.Tensor 'Cast_10:0' shape=(None,) dtype=float32>), 'Worker.gender': SemanticTensor(semantic=<Semantic.CATEGORICAL: 2>, tensor=<tf.Tensor 'data_16:0' shape=(None,) dtype=string>), 'Worker.whereLearnedToCode': SemanticTensor(semantic=<Semantic.CATEGORICAL: 2>, tensor=<tf.Tensor 'data_17:0' shape=(None,) dtype=string>), 'Worker.country': SemanticTensor(semantic=<Semantic.CATEGORICAL: 2>, tensor=<tf.Tensor 'data_18:0' shape=(None,) dtype=string>), 'Worker.programmingLanguage': SemanticTensor(semantic=<Semantic.CATEGORICAL: 2>, tensor=<tf.Tensor 'data_19:0' shape=(None,) dtype=string>), 'complexity': SemanticTensor(semantic=<Semantic.NUMERICAL: 1>, tensor=<tf.Tensor 'Cast_11:0' shape=(None,) dtype=float32>)}\n",
      "Training dataset read in 0:00:00.366822. Found 1605 examples.\n",
      "Training model...\n",
      "Model trained in 0:02:12.428072\n",
      "Compiling model...\n",
      "Model compiled.\n",
      "1/1 [==============================] - 0s 329ms/step - loss: 0.0000e+00 - precision: 1.0000 - recall: 0.9250\n",
      "Use /var/folders/36/2qtcl0jx6r94h6345h20r6880000gn/T/tmpge7vv5rk as temporary training directory\n",
      "Reading training dataset...\n",
      "Training tensor examples:\n",
      "Features: {'Answer.ID': <tf.Tensor 'data:0' shape=(None,) dtype=int64>, 'FailingMethod': <tf.Tensor 'data_1:0' shape=(None,) dtype=string>, 'Question.ID': <tf.Tensor 'data_2:0' shape=(None,) dtype=int64>, 'Answer.duration': <tf.Tensor 'data_3:0' shape=(None,) dtype=float64>, 'Answer.confidence': <tf.Tensor 'data_4:0' shape=(None,) dtype=int64>, 'Answer.difficulty': <tf.Tensor 'data_5:0' shape=(None,) dtype=int64>, 'Answer.option': <tf.Tensor 'data_6:0' shape=(None,) dtype=string>, 'Answer.order': <tf.Tensor 'data_7:0' shape=(None,) dtype=int64>, 'Answer.explanation': <tf.Tensor 'data_8:0' shape=(None,) dtype=string>, 'Code.LOC': <tf.Tensor 'data_9:0' shape=(None,) dtype=int64>, 'Code.complexity': <tf.Tensor 'data_10:0' shape=(None,) dtype=int64>, 'Worker.ID': <tf.Tensor 'data_11:0' shape=(None,) dtype=string>, 'Worker.score': <tf.Tensor 'data_12:0' shape=(None,) dtype=int64>, 'Worker.profession': <tf.Tensor 'data_13:0' shape=(None,) dtype=string>, 'Worker.yearsOfExperience': <tf.Tensor 'data_14:0' shape=(None,) dtype=float64>, 'Worker.age': <tf.Tensor 'data_15:0' shape=(None,) dtype=int64>, 'Worker.gender': <tf.Tensor 'data_16:0' shape=(None,) dtype=string>, 'Worker.whereLearnedToCode': <tf.Tensor 'data_17:0' shape=(None,) dtype=string>, 'Worker.country': <tf.Tensor 'data_18:0' shape=(None,) dtype=string>, 'Worker.programmingLanguage': <tf.Tensor 'data_19:0' shape=(None,) dtype=string>, 'complexity': <tf.Tensor 'data_20:0' shape=(None,) dtype=float64>}\n",
      "Label: Tensor(\"data_21:0\", shape=(None,), dtype=int64)\n",
      "Weights: None\n",
      "Normalized tensor features:\n",
      " {'Answer.ID': SemanticTensor(semantic=<Semantic.NUMERICAL: 1>, tensor=<tf.Tensor 'Cast:0' shape=(None,) dtype=float32>), 'FailingMethod': SemanticTensor(semantic=<Semantic.CATEGORICAL: 2>, tensor=<tf.Tensor 'data_1:0' shape=(None,) dtype=string>), 'Question.ID': SemanticTensor(semantic=<Semantic.NUMERICAL: 1>, tensor=<tf.Tensor 'Cast_1:0' shape=(None,) dtype=float32>), 'Answer.duration': SemanticTensor(semantic=<Semantic.NUMERICAL: 1>, tensor=<tf.Tensor 'Cast_2:0' shape=(None,) dtype=float32>), 'Answer.confidence': SemanticTensor(semantic=<Semantic.NUMERICAL: 1>, tensor=<tf.Tensor 'Cast_3:0' shape=(None,) dtype=float32>), 'Answer.difficulty': SemanticTensor(semantic=<Semantic.NUMERICAL: 1>, tensor=<tf.Tensor 'Cast_4:0' shape=(None,) dtype=float32>), 'Answer.option': SemanticTensor(semantic=<Semantic.CATEGORICAL: 2>, tensor=<tf.Tensor 'data_6:0' shape=(None,) dtype=string>), 'Answer.order': SemanticTensor(semantic=<Semantic.NUMERICAL: 1>, tensor=<tf.Tensor 'Cast_5:0' shape=(None,) dtype=float32>), 'Answer.explanation': SemanticTensor(semantic=<Semantic.CATEGORICAL: 2>, tensor=<tf.Tensor 'data_8:0' shape=(None,) dtype=string>), 'Code.LOC': SemanticTensor(semantic=<Semantic.NUMERICAL: 1>, tensor=<tf.Tensor 'Cast_6:0' shape=(None,) dtype=float32>), 'Code.complexity': SemanticTensor(semantic=<Semantic.NUMERICAL: 1>, tensor=<tf.Tensor 'Cast_7:0' shape=(None,) dtype=float32>), 'Worker.ID': SemanticTensor(semantic=<Semantic.CATEGORICAL: 2>, tensor=<tf.Tensor 'data_11:0' shape=(None,) dtype=string>), 'Worker.score': SemanticTensor(semantic=<Semantic.NUMERICAL: 1>, tensor=<tf.Tensor 'Cast_8:0' shape=(None,) dtype=float32>), 'Worker.profession': SemanticTensor(semantic=<Semantic.CATEGORICAL: 2>, tensor=<tf.Tensor 'data_13:0' shape=(None,) dtype=string>), 'Worker.yearsOfExperience': SemanticTensor(semantic=<Semantic.NUMERICAL: 1>, tensor=<tf.Tensor 'Cast_9:0' shape=(None,) dtype=float32>), 'Worker.age': SemanticTensor(semantic=<Semantic.NUMERICAL: 1>, tensor=<tf.Tensor 'Cast_10:0' shape=(None,) dtype=float32>), 'Worker.gender': SemanticTensor(semantic=<Semantic.CATEGORICAL: 2>, tensor=<tf.Tensor 'data_16:0' shape=(None,) dtype=string>), 'Worker.whereLearnedToCode': SemanticTensor(semantic=<Semantic.CATEGORICAL: 2>, tensor=<tf.Tensor 'data_17:0' shape=(None,) dtype=string>), 'Worker.country': SemanticTensor(semantic=<Semantic.CATEGORICAL: 2>, tensor=<tf.Tensor 'data_18:0' shape=(None,) dtype=string>), 'Worker.programmingLanguage': SemanticTensor(semantic=<Semantic.CATEGORICAL: 2>, tensor=<tf.Tensor 'data_19:0' shape=(None,) dtype=string>), 'complexity': SemanticTensor(semantic=<Semantic.NUMERICAL: 1>, tensor=<tf.Tensor 'Cast_11:0' shape=(None,) dtype=float32>)}\n",
      "Training dataset read in 0:00:00.262399. Found 1685 examples.\n",
      "Training model...\n",
      "Model trained in 0:02:12.044907\n",
      "Compiling model...\n",
      "Model compiled.\n",
      "1/1 [==============================] - 0s 389ms/step - loss: 0.0000e+00 - precision: 1.0000 - recall: 0.9176\n",
      "Use /var/folders/36/2qtcl0jx6r94h6345h20r6880000gn/T/tmp59z7gstt as temporary training directory\n",
      "Reading training dataset...\n",
      "Training tensor examples:\n",
      "Features: {'Answer.ID': <tf.Tensor 'data:0' shape=(None,) dtype=int64>, 'FailingMethod': <tf.Tensor 'data_1:0' shape=(None,) dtype=string>, 'Question.ID': <tf.Tensor 'data_2:0' shape=(None,) dtype=int64>, 'Answer.duration': <tf.Tensor 'data_3:0' shape=(None,) dtype=float64>, 'Answer.confidence': <tf.Tensor 'data_4:0' shape=(None,) dtype=int64>, 'Answer.difficulty': <tf.Tensor 'data_5:0' shape=(None,) dtype=int64>, 'Answer.option': <tf.Tensor 'data_6:0' shape=(None,) dtype=string>, 'Answer.order': <tf.Tensor 'data_7:0' shape=(None,) dtype=int64>, 'Answer.explanation': <tf.Tensor 'data_8:0' shape=(None,) dtype=string>, 'Code.LOC': <tf.Tensor 'data_9:0' shape=(None,) dtype=int64>, 'Code.complexity': <tf.Tensor 'data_10:0' shape=(None,) dtype=int64>, 'Worker.ID': <tf.Tensor 'data_11:0' shape=(None,) dtype=string>, 'Worker.score': <tf.Tensor 'data_12:0' shape=(None,) dtype=int64>, 'Worker.profession': <tf.Tensor 'data_13:0' shape=(None,) dtype=string>, 'Worker.yearsOfExperience': <tf.Tensor 'data_14:0' shape=(None,) dtype=float64>, 'Worker.age': <tf.Tensor 'data_15:0' shape=(None,) dtype=int64>, 'Worker.gender': <tf.Tensor 'data_16:0' shape=(None,) dtype=string>, 'Worker.whereLearnedToCode': <tf.Tensor 'data_17:0' shape=(None,) dtype=string>, 'Worker.country': <tf.Tensor 'data_18:0' shape=(None,) dtype=string>, 'Worker.programmingLanguage': <tf.Tensor 'data_19:0' shape=(None,) dtype=string>, 'complexity': <tf.Tensor 'data_20:0' shape=(None,) dtype=float64>}\n",
      "Label: Tensor(\"data_21:0\", shape=(None,), dtype=int64)\n",
      "Weights: None\n",
      "Normalized tensor features:\n",
      " {'Answer.ID': SemanticTensor(semantic=<Semantic.NUMERICAL: 1>, tensor=<tf.Tensor 'Cast:0' shape=(None,) dtype=float32>), 'FailingMethod': SemanticTensor(semantic=<Semantic.CATEGORICAL: 2>, tensor=<tf.Tensor 'data_1:0' shape=(None,) dtype=string>), 'Question.ID': SemanticTensor(semantic=<Semantic.NUMERICAL: 1>, tensor=<tf.Tensor 'Cast_1:0' shape=(None,) dtype=float32>), 'Answer.duration': SemanticTensor(semantic=<Semantic.NUMERICAL: 1>, tensor=<tf.Tensor 'Cast_2:0' shape=(None,) dtype=float32>), 'Answer.confidence': SemanticTensor(semantic=<Semantic.NUMERICAL: 1>, tensor=<tf.Tensor 'Cast_3:0' shape=(None,) dtype=float32>), 'Answer.difficulty': SemanticTensor(semantic=<Semantic.NUMERICAL: 1>, tensor=<tf.Tensor 'Cast_4:0' shape=(None,) dtype=float32>), 'Answer.option': SemanticTensor(semantic=<Semantic.CATEGORICAL: 2>, tensor=<tf.Tensor 'data_6:0' shape=(None,) dtype=string>), 'Answer.order': SemanticTensor(semantic=<Semantic.NUMERICAL: 1>, tensor=<tf.Tensor 'Cast_5:0' shape=(None,) dtype=float32>), 'Answer.explanation': SemanticTensor(semantic=<Semantic.CATEGORICAL: 2>, tensor=<tf.Tensor 'data_8:0' shape=(None,) dtype=string>), 'Code.LOC': SemanticTensor(semantic=<Semantic.NUMERICAL: 1>, tensor=<tf.Tensor 'Cast_6:0' shape=(None,) dtype=float32>), 'Code.complexity': SemanticTensor(semantic=<Semantic.NUMERICAL: 1>, tensor=<tf.Tensor 'Cast_7:0' shape=(None,) dtype=float32>), 'Worker.ID': SemanticTensor(semantic=<Semantic.CATEGORICAL: 2>, tensor=<tf.Tensor 'data_11:0' shape=(None,) dtype=string>), 'Worker.score': SemanticTensor(semantic=<Semantic.NUMERICAL: 1>, tensor=<tf.Tensor 'Cast_8:0' shape=(None,) dtype=float32>), 'Worker.profession': SemanticTensor(semantic=<Semantic.CATEGORICAL: 2>, tensor=<tf.Tensor 'data_13:0' shape=(None,) dtype=string>), 'Worker.yearsOfExperience': SemanticTensor(semantic=<Semantic.NUMERICAL: 1>, tensor=<tf.Tensor 'Cast_9:0' shape=(None,) dtype=float32>), 'Worker.age': SemanticTensor(semantic=<Semantic.NUMERICAL: 1>, tensor=<tf.Tensor 'Cast_10:0' shape=(None,) dtype=float32>), 'Worker.gender': SemanticTensor(semantic=<Semantic.CATEGORICAL: 2>, tensor=<tf.Tensor 'data_16:0' shape=(None,) dtype=string>), 'Worker.whereLearnedToCode': SemanticTensor(semantic=<Semantic.CATEGORICAL: 2>, tensor=<tf.Tensor 'data_17:0' shape=(None,) dtype=string>), 'Worker.country': SemanticTensor(semantic=<Semantic.CATEGORICAL: 2>, tensor=<tf.Tensor 'data_18:0' shape=(None,) dtype=string>), 'Worker.programmingLanguage': SemanticTensor(semantic=<Semantic.CATEGORICAL: 2>, tensor=<tf.Tensor 'data_19:0' shape=(None,) dtype=string>), 'complexity': SemanticTensor(semantic=<Semantic.NUMERICAL: 1>, tensor=<tf.Tensor 'Cast_11:0' shape=(None,) dtype=float32>)}\n",
      "Training dataset read in 0:00:00.317504. Found 1764 examples.\n",
      "Training model...\n",
      "Model trained in 0:02:31.723188\n",
      "Compiling model...\n",
      "Model compiled.\n",
      "1/1 [==============================] - 0s 405ms/step - loss: 0.0000e+00 - precision: 1.0000 - recall: 0.9551\n",
      "Use /var/folders/36/2qtcl0jx6r94h6345h20r6880000gn/T/tmpc2a6sudy as temporary training directory\n",
      "Reading training dataset...\n",
      "Training tensor examples:\n",
      "Features: {'Answer.ID': <tf.Tensor 'data:0' shape=(None,) dtype=int64>, 'FailingMethod': <tf.Tensor 'data_1:0' shape=(None,) dtype=string>, 'Question.ID': <tf.Tensor 'data_2:0' shape=(None,) dtype=int64>, 'Answer.duration': <tf.Tensor 'data_3:0' shape=(None,) dtype=float64>, 'Answer.confidence': <tf.Tensor 'data_4:0' shape=(None,) dtype=int64>, 'Answer.difficulty': <tf.Tensor 'data_5:0' shape=(None,) dtype=int64>, 'Answer.option': <tf.Tensor 'data_6:0' shape=(None,) dtype=string>, 'Answer.order': <tf.Tensor 'data_7:0' shape=(None,) dtype=int64>, 'Answer.explanation': <tf.Tensor 'data_8:0' shape=(None,) dtype=string>, 'Code.LOC': <tf.Tensor 'data_9:0' shape=(None,) dtype=int64>, 'Code.complexity': <tf.Tensor 'data_10:0' shape=(None,) dtype=int64>, 'Worker.ID': <tf.Tensor 'data_11:0' shape=(None,) dtype=string>, 'Worker.score': <tf.Tensor 'data_12:0' shape=(None,) dtype=int64>, 'Worker.profession': <tf.Tensor 'data_13:0' shape=(None,) dtype=string>, 'Worker.yearsOfExperience': <tf.Tensor 'data_14:0' shape=(None,) dtype=float64>, 'Worker.age': <tf.Tensor 'data_15:0' shape=(None,) dtype=int64>, 'Worker.gender': <tf.Tensor 'data_16:0' shape=(None,) dtype=string>, 'Worker.whereLearnedToCode': <tf.Tensor 'data_17:0' shape=(None,) dtype=string>, 'Worker.country': <tf.Tensor 'data_18:0' shape=(None,) dtype=string>, 'Worker.programmingLanguage': <tf.Tensor 'data_19:0' shape=(None,) dtype=string>, 'complexity': <tf.Tensor 'data_20:0' shape=(None,) dtype=float64>}\n",
      "Label: Tensor(\"data_21:0\", shape=(None,), dtype=int64)\n",
      "Weights: None\n",
      "Normalized tensor features:\n",
      " {'Answer.ID': SemanticTensor(semantic=<Semantic.NUMERICAL: 1>, tensor=<tf.Tensor 'Cast:0' shape=(None,) dtype=float32>), 'FailingMethod': SemanticTensor(semantic=<Semantic.CATEGORICAL: 2>, tensor=<tf.Tensor 'data_1:0' shape=(None,) dtype=string>), 'Question.ID': SemanticTensor(semantic=<Semantic.NUMERICAL: 1>, tensor=<tf.Tensor 'Cast_1:0' shape=(None,) dtype=float32>), 'Answer.duration': SemanticTensor(semantic=<Semantic.NUMERICAL: 1>, tensor=<tf.Tensor 'Cast_2:0' shape=(None,) dtype=float32>), 'Answer.confidence': SemanticTensor(semantic=<Semantic.NUMERICAL: 1>, tensor=<tf.Tensor 'Cast_3:0' shape=(None,) dtype=float32>), 'Answer.difficulty': SemanticTensor(semantic=<Semantic.NUMERICAL: 1>, tensor=<tf.Tensor 'Cast_4:0' shape=(None,) dtype=float32>), 'Answer.option': SemanticTensor(semantic=<Semantic.CATEGORICAL: 2>, tensor=<tf.Tensor 'data_6:0' shape=(None,) dtype=string>), 'Answer.order': SemanticTensor(semantic=<Semantic.NUMERICAL: 1>, tensor=<tf.Tensor 'Cast_5:0' shape=(None,) dtype=float32>), 'Answer.explanation': SemanticTensor(semantic=<Semantic.CATEGORICAL: 2>, tensor=<tf.Tensor 'data_8:0' shape=(None,) dtype=string>), 'Code.LOC': SemanticTensor(semantic=<Semantic.NUMERICAL: 1>, tensor=<tf.Tensor 'Cast_6:0' shape=(None,) dtype=float32>), 'Code.complexity': SemanticTensor(semantic=<Semantic.NUMERICAL: 1>, tensor=<tf.Tensor 'Cast_7:0' shape=(None,) dtype=float32>), 'Worker.ID': SemanticTensor(semantic=<Semantic.CATEGORICAL: 2>, tensor=<tf.Tensor 'data_11:0' shape=(None,) dtype=string>), 'Worker.score': SemanticTensor(semantic=<Semantic.NUMERICAL: 1>, tensor=<tf.Tensor 'Cast_8:0' shape=(None,) dtype=float32>), 'Worker.profession': SemanticTensor(semantic=<Semantic.CATEGORICAL: 2>, tensor=<tf.Tensor 'data_13:0' shape=(None,) dtype=string>), 'Worker.yearsOfExperience': SemanticTensor(semantic=<Semantic.NUMERICAL: 1>, tensor=<tf.Tensor 'Cast_9:0' shape=(None,) dtype=float32>), 'Worker.age': SemanticTensor(semantic=<Semantic.NUMERICAL: 1>, tensor=<tf.Tensor 'Cast_10:0' shape=(None,) dtype=float32>), 'Worker.gender': SemanticTensor(semantic=<Semantic.CATEGORICAL: 2>, tensor=<tf.Tensor 'data_16:0' shape=(None,) dtype=string>), 'Worker.whereLearnedToCode': SemanticTensor(semantic=<Semantic.CATEGORICAL: 2>, tensor=<tf.Tensor 'data_17:0' shape=(None,) dtype=string>), 'Worker.country': SemanticTensor(semantic=<Semantic.CATEGORICAL: 2>, tensor=<tf.Tensor 'data_18:0' shape=(None,) dtype=string>), 'Worker.programmingLanguage': SemanticTensor(semantic=<Semantic.CATEGORICAL: 2>, tensor=<tf.Tensor 'data_19:0' shape=(None,) dtype=string>), 'complexity': SemanticTensor(semantic=<Semantic.NUMERICAL: 1>, tensor=<tf.Tensor 'Cast_11:0' shape=(None,) dtype=float32>)}\n",
      "Training dataset read in 0:00:00.328898. Found 1845 examples.\n",
      "Training model...\n",
      "Model trained in 0:02:46.979442\n",
      "Compiling model...\n",
      "Model compiled.\n",
      "1/1 [==============================] - 1s 661ms/step - loss: 0.0000e+00 - precision: 0.9888 - recall: 0.9670\n"
     ]
    }
   ],
   "source": [
    "# Start of question 1.2\n",
    "\n",
    "import sklearn.model_selection\n",
    "\n",
    "\n",
    "others_df_shuffled = sklearn.utils.shuffle(others_df)\n",
    "combined_df = students_df.copy()\n",
    "\n",
    "results = []\n",
    "trials = 5\n",
    "size = 100\n",
    "runs = 16\n",
    "\n",
    "for i in range(0,runs):\n",
    "    combined_df = students_df.copy()\n",
    "    combined_df = pd.concat([combined_df, others_df_shuffled.iloc[0:i*size]])\n",
    "    combined_df_gt = combined_df[combined_df['GroundTruth'] == 1]\n",
    "    combined_df_ngt = combined_df[combined_df['GroundTruth'] == 0]\n",
    "\n",
    "    combined_df_gt_train, combined_df_gt_holdout = sklearn.model_selection.train_test_split(combined_df_gt, test_size=0.2)\n",
    "    combined_df_ngt_train, combined_df_ngt_holdout = sklearn.model_selection.train_test_split(combined_df_ngt, test_size=0.2)\n",
    "\n",
    "    combined_train_ds = tfdf.keras.pd_dataframe_to_tf_dataset(pd.concat([combined_df_gt_train, combined_df_ngt_train]).drop(columns=['TP', 'TN', 'FP', 'FN']), label=label)\n",
    "    combined_holdout_ds = tfdf.keras.pd_dataframe_to_tf_dataset(pd.concat([combined_df_gt_holdout, combined_df_ngt_holdout]).drop(columns=['TP', 'TN', 'FP', 'FN']), label=label)\n",
    "\n",
    "    combined_tuner = tfdf.tuner.RandomSearch(num_trials=trials, use_predefined_hps=True)\n",
    "    model = tfdf.keras.RandomForestModel(tuner=combined_tuner)\n",
    "    model.fit(combined_train_ds, verbose=2)\n",
    "\n",
    "    model.compile(['Precision', 'Recall'])\n",
    "    results.append(model.evaluate(combined_holdout_ds, return_dict=True))\n"
   ]
  },
  {
   "cell_type": "code",
   "execution_count": 64,
   "metadata": {},
   "outputs": [
    {
     "data": {
      "text/plain": [
       "[{'loss': 0.0, 'precision': 1.0, 'recall': 0.35483869910240173},\n",
       " {'loss': 0.0, 'precision': 1.0, 'recall': 0.4285714328289032},\n",
       " {'loss': 0.0, 'precision': 1.0, 'recall': 0.2631579041481018},\n",
       " {'loss': 0.0, 'precision': 1.0, 'recall': 0.4285714328289032},\n",
       " {'loss': 0.0, 'precision': 1.0, 'recall': 0.5652173757553101},\n",
       " {'loss': 0.0, 'precision': 0.9032257795333862, 'recall': 0.5600000023841858},\n",
       " {'loss': 0.0, 'precision': 1.0, 'recall': 0.7454545497894287},\n",
       " {'loss': 0.0, 'precision': 1.0, 'recall': 0.6779661178588867},\n",
       " {'loss': 0.0, 'precision': 0.9821428656578064, 'recall': 0.8730158805847168},\n",
       " {'loss': 0.0, 'precision': 1.0, 'recall': 0.8656716346740723},\n",
       " {'loss': 0.0, 'precision': 1.0, 'recall': 0.8611111044883728},\n",
       " {'loss': 0.0, 'precision': 1.0, 'recall': 0.8684210777282715},\n",
       " {'loss': 0.0, 'precision': 1.0, 'recall': 0.925000011920929},\n",
       " {'loss': 0.0, 'precision': 1.0, 'recall': 0.9176470637321472},\n",
       " {'loss': 0.0, 'precision': 1.0, 'recall': 0.9550561904907227},\n",
       " {'loss': 0.0, 'precision': 0.9887640476226807, 'recall': 0.9670329689979553}]"
      ]
     },
     "execution_count": 64,
     "metadata": {},
     "output_type": "execute_result"
    }
   ],
   "source": [
    "results"
   ]
  },
  {
   "cell_type": "code",
   "execution_count": 66,
   "metadata": {},
   "outputs": [
    {
     "data": {
      "image/png": "[encoded data removed]",
      "text/plain": [
       "<Figure size 640x480 with 1 Axes>"
      ]
     },
     "metadata": {},
     "output_type": "display_data"
    }
   ],
   "source": [
    "training_eval_df = df.from_records(results)\n",
    "plot_2 = training_eval_df.plot(kind='line', y='recall')"
   ]
  },
  {
   "cell_type": "code",
   "execution_count": 4,
   "metadata": {},
   "outputs": [],
   "source": [
    "# Start of Task 2\n",
    "import requests\n",
    "import json\n",
    "\n",
    "url = \"http://localhost:11434/api/generate\"\n",
    "headers = {\n",
    "    \"Content-Type\": \"application/json\"\n",
    "}\n",
    "model_deepseek = \"deepseek-r1:7b\"\n",
    "model_llama = \"llama3.2:1b\"\n",
    "data = {\n",
    "    \"model\": model_llama,\n",
    "    \"prompt\": \"\",\n",
    "    \"stream\": False\n",
    "}\n",
    "\n",
    "explanations_df = df[(df['FailingMethod'] == 'HIT01_8') & (df['TP'] == 1)]\n",
    "ground_truth = 'The specification states, that the method \"DateTimeZone()\" accepts a minutes offset value in the range of -59 to 59 inlcusive. The method checks if this value, stored as \"minutesOffset\", is within these bounds on line 279, but incorrectly throws an \"IllegalArgumentException\" for any minutes offset less than zero instead of less than -59. To fix the issue and satisfy the specification, the conditional on line 279 should check for \"minutesOffset < -59\" instead.'"
   ]
  },
  {
   "cell_type": "code",
   "execution_count": 12,
   "metadata": {},
   "outputs": [
    {
     "name": "stderr",
     "output_type": "stream",
     "text": [
      "100%|██████████| 31/31 [05:16<00:00, 10.21s/it]\n"
     ]
    }
   ],
   "source": [
    "# Start of loop here\n",
    "\n",
    "prompt = \"### Task:\\nYour are a professional software developer. Please consolidate the following failure explanations into a single explanation, that contains all the information required to understand and fix the bug. The explanation should be succinct and without redundant information.\\n\\n### Output:\\nReturn a JSON with a single field consolidated_explanation that contains the generated explanation.\\n\\n### Input:\\nHere is a list of explanations that should be consolidated:\\n\\n\"\n",
    "\n",
    "prompt_task = \"### Task:\\nYou are a professional software developer. You are given a number of explanations of a software failure. Please consolidate the following failure explanations into a single explanation, that contains all the information required to understand and fix the bug. The explanation should be succinct and without redundant information.\\n\\n\"\n",
    "\n",
    "prompt_task_2 = \"###Task:\\nYou are a professional software developer. You are given a number of explanations describing the root of cause and possible fix to a software failure. Based on the given explanations, write a single explanation that contains all the information required to understand and fix the bug. The explanation should be succinct and without redundant information\"\n",
    "\n",
    "prompt_input = \"### Input:\\n\\nHere are the failure explanations to consolidate:\\n\\n\"\n",
    "\n",
    "prompt_input_2 = \"### Input:\\n\\nHere are the failure explanations:\\n\\n\"\n",
    "\n",
    "prompt_output = \"### Output:\\n Format your response in valid JSON format. Use the field 'consolidated_explanation' for your generated explanation. Output an empty string in case no consolidated explanation could be generated. Use the field 'notes' for any other notes or remarks.\\n\\n\"\n",
    "\n",
    "prompt_output_2 = \"### Output:\\n Format your response in valid JSON format. Use the field 'failure_explanation' for your generated explanation. Output an empty string in case no sufficient explanation could be generated. Use the field 'notes' for any other notes or remarks.\\n\\n\"\n",
    "\n",
    "explanation_list = [\"'''\\n\" + explanation + \"\\n'''\\n\\n\" for explanation in explanations_df['Answer.explanation'].to_list()]\n",
    "\n",
    "task2_runs = 31\n",
    "responses = []\n",
    "\n",
    "for i in tqdm.tqdm(range(task2_runs)):\n",
    "    if i >= len(explanation_list):\n",
    "        break\n",
    "    inputs = ''.join(explanation_list[0:i])\n",
    "\n",
    "    temp_prompt_2 = prompt_task_2 + prompt_input_2 + inputs + prompt_output_2\n",
    "\n",
    "    temp_prompt = prompt_task + prompt_input + inputs + prompt_output\n",
    "    data[\"prompt\"] = temp_prompt_2\n",
    "\n",
    "    response = requests.post(url, headers=headers, data=json.dumps(data))\n",
    "\n",
    "    if (response.status_code == 200):\n",
    "        responses.append(json.loads(response.text)[\"response\"])\n",
    "    else:\n",
    "        # print(\"Error: \", response.status_code, response.text)\n",
    "        pass"
   ]
  },
  {
   "cell_type": "code",
   "execution_count": 21,
   "metadata": {},
   "outputs": [
    {
     "name": "stdout",
     "output_type": "stream",
     "text": [
      "```json\n",
      "{\n",
      "  \"failure_explanation\": \"The variable `minutesOffset` is checked incorrectly by the IF statement on line 279. It should be `< -59` to correctly handle negative input. This causes an `IllegalArgumentException` to be thrown when `minutesOffset` is less than 0.\",\n",
      "  \"notes\": \"This issue is with the way the `DateTimeZone.forOffsetHoursMinutes()` method handles negative hours and minutes when used as a parameter for the function. It incorrectly throws an exception when both hours and minutes are negative, instead of correctly handling them.\"\n",
      "}\n",
      "```\n"
     ]
    }
   ],
   "source": [
    "print(responses[-1])"
   ]
  },
  {
   "cell_type": "code",
   "execution_count": null,
   "metadata": {},
   "outputs": [],
   "source": [
    "for item in responses:\n",
    "    print(item)"
   ]
  },
  {
   "cell_type": "code",
   "execution_count": 74,
   "metadata": {},
   "outputs": [],
   "source": [
    "from rouge_metric import PyRouge\n",
    "from bleurt import score\n",
    "import textstat\n",
    "\n",
    "def calculateFKScore(candidate) -> float:\n",
    "        return textstat.flesch_reading_ease(candidate)\n",
    "\n",
    "def calculateRougeScore(reference, candidate) -> dict:\n",
    "        rouge = PyRouge(rouge_n=(1, 2, 4), rouge_l=True, skip_gap=4)\n",
    "        rouge_scores = rouge.evaluate([candidate], [reference])\n",
    "        return rouge_scores\n",
    "\n",
    "def calculateBleurtScore(references, candidates) -> list:\n",
    "        scorer = score.LengthBatchingBleurtScorer(checkpoint='BLEURT-20')\n",
    "        bleurt_scores = scorer.score(references=references, candidates=candidates)\n",
    "        # assert isinstance(bleurt_scores, list) and len(bleurt_scores) == 1\n",
    "        return bleurt_scores\n"
   ]
  },
  {
   "cell_type": "code",
   "execution_count": 48,
   "metadata": {},
   "outputs": [
    {
     "name": "stdout",
     "output_type": "stream",
     "text": [
      "4\n"
     ]
    }
   ],
   "source": [
    "for i in range(len(g_e)):\n",
    "    try:\n",
    "        json.loads(g_e[i])\n",
    "    except:\n",
    "        print(i)\n",
    "        break"
   ]
  },
  {
   "cell_type": "code",
   "execution_count": 56,
   "metadata": {},
   "outputs": [],
   "source": [
    "generated_explanations = [re.search('\\{[.\\s\\S]*\\}', expl) for expl in responses]\n",
    "# generated_explanations = [e.group() if e is not None else None for e in generated_explanations]\n",
    "generated_explanations = [e.group() for e in generated_explanations if e is not None]\n",
    "ge = []\n",
    "for e in generated_explanations:\n",
    "    try:\n",
    "        ge.append(json.loads(e))\n",
    "    except:\n",
    "        ge.append(None)\n",
    "generated_explanations = [next(iter(e.values())) if e is not None else '' for e in ge]"
   ]
  },
  {
   "cell_type": "code",
   "execution_count": 66,
   "metadata": {},
   "outputs": [],
   "source": [
    "rouge_score = []\n",
    "for e in generated_explanations:\n",
    "    if e != '':\n",
    "        rouge_score.append(calculateRougeScore(ground_truth, e))\n",
    "        # bleurt_score.append(calculateBleurtScore(ground_truth, e))\n",
    "    else:\n",
    "        rouge_score.append({})\n",
    "        # bleurt_score.append([])"
   ]
  },
  {
   "cell_type": "code",
   "execution_count": 64,
   "metadata": {},
   "outputs": [
    {
     "name": "stdout",
     "output_type": "stream",
     "text": [
      "INFO:tensorflow:Reading checkpoint BLEURT-20.\n"
     ]
    },
    {
     "name": "stderr",
     "output_type": "stream",
     "text": [
      "INFO:tensorflow:Reading checkpoint BLEURT-20.\n"
     ]
    },
    {
     "name": "stdout",
     "output_type": "stream",
     "text": [
      "INFO:tensorflow:Config file found, reading.\n"
     ]
    },
    {
     "name": "stderr",
     "output_type": "stream",
     "text": [
      "INFO:tensorflow:Config file found, reading.\n"
     ]
    },
    {
     "name": "stdout",
     "output_type": "stream",
     "text": [
      "INFO:tensorflow:Will load checkpoint BLEURT-20\n"
     ]
    },
    {
     "name": "stderr",
     "output_type": "stream",
     "text": [
      "INFO:tensorflow:Will load checkpoint BLEURT-20\n"
     ]
    },
    {
     "name": "stdout",
     "output_type": "stream",
     "text": [
      "INFO:tensorflow:Loads full paths and checks that files exists.\n"
     ]
    },
    {
     "name": "stderr",
     "output_type": "stream",
     "text": [
      "INFO:tensorflow:Loads full paths and checks that files exists.\n"
     ]
    },
    {
     "name": "stdout",
     "output_type": "stream",
     "text": [
      "INFO:tensorflow:... name:BLEURT-20\n"
     ]
    },
    {
     "name": "stderr",
     "output_type": "stream",
     "text": [
      "INFO:tensorflow:... name:BLEURT-20\n"
     ]
    },
    {
     "name": "stdout",
     "output_type": "stream",
     "text": [
      "INFO:tensorflow:... bert_config_file:bert_config.json\n"
     ]
    },
    {
     "name": "stderr",
     "output_type": "stream",
     "text": [
      "INFO:tensorflow:... bert_config_file:bert_config.json\n"
     ]
    },
    {
     "name": "stdout",
     "output_type": "stream",
     "text": [
      "INFO:tensorflow:... max_seq_length:512\n"
     ]
    },
    {
     "name": "stderr",
     "output_type": "stream",
     "text": [
      "INFO:tensorflow:... max_seq_length:512\n"
     ]
    },
    {
     "name": "stdout",
     "output_type": "stream",
     "text": [
      "INFO:tensorflow:... vocab_file:None\n"
     ]
    },
    {
     "name": "stderr",
     "output_type": "stream",
     "text": [
      "INFO:tensorflow:... vocab_file:None\n"
     ]
    },
    {
     "name": "stdout",
     "output_type": "stream",
     "text": [
      "INFO:tensorflow:... do_lower_case:None\n"
     ]
    },
    {
     "name": "stderr",
     "output_type": "stream",
     "text": [
      "INFO:tensorflow:... do_lower_case:None\n"
     ]
    },
    {
     "name": "stdout",
     "output_type": "stream",
     "text": [
      "INFO:tensorflow:... sp_model:sent_piece\n"
     ]
    },
    {
     "name": "stderr",
     "output_type": "stream",
     "text": [
      "INFO:tensorflow:... sp_model:sent_piece\n"
     ]
    },
    {
     "name": "stdout",
     "output_type": "stream",
     "text": [
      "INFO:tensorflow:... dynamic_seq_length:True\n"
     ]
    },
    {
     "name": "stderr",
     "output_type": "stream",
     "text": [
      "INFO:tensorflow:... dynamic_seq_length:True\n"
     ]
    },
    {
     "name": "stdout",
     "output_type": "stream",
     "text": [
      "INFO:tensorflow:Creating BLEURT scorer.\n"
     ]
    },
    {
     "name": "stderr",
     "output_type": "stream",
     "text": [
      "INFO:tensorflow:Creating BLEURT scorer.\n"
     ]
    },
    {
     "name": "stdout",
     "output_type": "stream",
     "text": [
      "INFO:tensorflow:Creating SentencePiece tokenizer.\n"
     ]
    },
    {
     "name": "stderr",
     "output_type": "stream",
     "text": [
      "INFO:tensorflow:Creating SentencePiece tokenizer.\n"
     ]
    },
    {
     "name": "stdout",
     "output_type": "stream",
     "text": [
      "INFO:tensorflow:Creating SentencePiece tokenizer.\n"
     ]
    },
    {
     "name": "stderr",
     "output_type": "stream",
     "text": [
      "INFO:tensorflow:Creating SentencePiece tokenizer.\n"
     ]
    },
    {
     "name": "stdout",
     "output_type": "stream",
     "text": [
      "INFO:tensorflow:Will load model: BLEURT-20/sent_piece.model.\n"
     ]
    },
    {
     "name": "stderr",
     "output_type": "stream",
     "text": [
      "INFO:tensorflow:Will load model: BLEURT-20/sent_piece.model.\n"
     ]
    },
    {
     "name": "stdout",
     "output_type": "stream",
     "text": [
      "INFO:tensorflow:SentencePiece tokenizer created.\n"
     ]
    },
    {
     "name": "stderr",
     "output_type": "stream",
     "text": [
      "INFO:tensorflow:SentencePiece tokenizer created.\n"
     ]
    },
    {
     "name": "stdout",
     "output_type": "stream",
     "text": [
      "INFO:tensorflow:Creating Eager Mode predictor.\n"
     ]
    },
    {
     "name": "stderr",
     "output_type": "stream",
     "text": [
      "INFO:tensorflow:Creating Eager Mode predictor.\n"
     ]
    },
    {
     "name": "stdout",
     "output_type": "stream",
     "text": [
      "INFO:tensorflow:Loading model.\n"
     ]
    },
    {
     "name": "stderr",
     "output_type": "stream",
     "text": [
      "INFO:tensorflow:Loading model.\n"
     ]
    },
    {
     "name": "stdout",
     "output_type": "stream",
     "text": [
      "INFO:tensorflow:BLEURT initialized.\n"
     ]
    },
    {
     "name": "stderr",
     "output_type": "stream",
     "text": [
      "INFO:tensorflow:BLEURT initialized.\n"
     ]
    },
    {
     "name": "stdout",
     "output_type": "stream",
     "text": [
      "INFO:tensorflow:Average batch sequence length: 190.0\n"
     ]
    },
    {
     "name": "stderr",
     "output_type": "stream",
     "text": [
      "INFO:tensorflow:Average batch sequence length: 190.0\n"
     ]
    }
   ],
   "source": [
    "ground_truth_list = []\n",
    "bleurt_score = []\n",
    "for i in range(len(generated_explanations)):\n",
    "    ground_truth_list.append(ground_truth)\n",
    "\n",
    "bleurt_score = calculateBleurtScore(ground_truth_list, generated_explanations)"
   ]
  },
  {
   "cell_type": "code",
   "execution_count": 68,
   "metadata": {},
   "outputs": [
    {
     "data": {
      "text/plain": [
       "[0.3249141573905945,\n",
       " 0.4257364869117737,\n",
       " 0.43702423572540283,\n",
       " 0.40799134969711304,\n",
       " 0.067359060049057,\n",
       " 0.4318205714225769,\n",
       " 0.41227179765701294,\n",
       " 0.33928704261779785,\n",
       " 0.4399755001068115,\n",
       " 0.46148884296417236,\n",
       " 0.40926170349121094,\n",
       " 0.47955751419067383,\n",
       " 0.44182026386260986,\n",
       " 0.41406530141830444,\n",
       " 0.41227227449417114,\n",
       " 0.42311233282089233,\n",
       " 0.44158077239990234,\n",
       " 0.41530275344848633,\n",
       " 0.4525569677352905,\n",
       " 0.067359060049057,\n",
       " 0.14106303453445435,\n",
       " 0.4146652817726135,\n",
       " 0.4155564308166504,\n",
       " 0.4645983576774597,\n",
       " 0.4427146315574646,\n",
       " 0.067359060049057,\n",
       " 0.45555955171585083,\n",
       " 0.4833563566207886]"
      ]
     },
     "execution_count": 68,
     "metadata": {},
     "output_type": "execute_result"
    }
   ],
   "source": [
    "bleurt_score"
   ]
  },
  {
   "cell_type": "code",
   "execution_count": 92,
   "metadata": {},
   "outputs": [
    {
     "data": {
      "text/plain": [
       "'The variable `minutesOffset` is checked incorrectly by the IF statement on line 279. Any negative value for `minutesOffset` will throw an exception; while the documentation states that `minutesOffset` can be negative in some cases. This error occurs when the code tests if `minutesOffset` < 0, which it should instead check for `minutesOffset < -59`. Also noted is that versions before 2.3 had to set minutesOffset to 0 or positive.'"
      ]
     },
     "execution_count": 92,
     "metadata": {},
     "output_type": "execute_result"
    }
   ],
   "source": [
    "generated_explanations[9]"
   ]
  },
  {
   "cell_type": "code",
   "execution_count": 75,
   "metadata": {},
   "outputs": [
    {
     "name": "stderr",
     "output_type": "stream",
     "text": [
      "100%|██████████| 28/28 [00:00<00:00, 167532.83it/s]\n"
     ]
    }
   ],
   "source": [
    "readability_score = []\n",
    "\n",
    "for e in tqdm.tqdm(generated_explanations):\n",
    "    if e != '':\n",
    "          readability_score.append(calculateFKScore(e))\n",
    "    else:\n",
    "        readability_score.append(-1.0)\n"
   ]
  },
  {
   "cell_type": "code",
   "execution_count": 78,
   "metadata": {},
   "outputs": [
    {
     "data": {
      "text/plain": [
       "[-79.76,\n",
       " 64.71,\n",
       " 64.71,\n",
       " 58.89,\n",
       " -1.0,\n",
       " 37.6,\n",
       " 28.84,\n",
       " 46.1,\n",
       " 60.14,\n",
       " 49.41,\n",
       " 77.06,\n",
       " 52.19,\n",
       " 64.54,\n",
       " 30.2,\n",
       " 28.84,\n",
       " 49.15,\n",
       " 47.62,\n",
       " 58.62,\n",
       " 40.04,\n",
       " -1.0,\n",
       " -132.59,\n",
       " 46.1,\n",
       " 54.73,\n",
       " 50.67,\n",
       " 50.16,\n",
       " -1.0,\n",
       " 42.41,\n",
       " 51.14]"
      ]
     },
     "execution_count": 78,
     "metadata": {},
     "output_type": "execute_result"
    }
   ],
   "source": [
    "readability_score"
   ]
  },
  {
   "cell_type": "code",
   "execution_count": 91,
   "metadata": {},
   "outputs": [
    {
     "data": {
      "text/plain": [
       "47.12"
      ]
     },
     "execution_count": 91,
     "metadata": {},
     "output_type": "execute_result"
    }
   ],
   "source": [
    "gt_readability = calculateFKScore(ground_truth)\n",
    "gt_readability"
   ]
  },
  {
   "cell_type": "code",
   "execution_count": 88,
   "metadata": {},
   "outputs": [
    {
     "data": {
      "text/plain": [
       "<function matplotlib.pyplot.show(close=None, block=None)>"
      ]
     },
     "execution_count": 88,
     "metadata": {},
     "output_type": "execute_result"
    },
    {
     "data": {
      "image/png": "[encoded data removed]",
      "text/plain": [
       "<Figure size 640x480 with 1 Axes>"
      ]
     },
     "metadata": {},
     "output_type": "display_data"
    }
   ],
   "source": [
    "import matplotlib.pyplot as plt\n",
    "\n",
    "xs = [x for x in range(len(readability_score))]\n",
    "plt.plot(xs, readability_score)\n",
    "plt.hlines(y=gt_readability, xmin=0, xmax=len(readability_score), color='r')\n",
    "plt.show"
   ]
  },
  {
   "cell_type": "code",
   "execution_count": 81,
   "metadata": {},
   "outputs": [
    {
     "data": {
      "text/plain": [
       "<function matplotlib.pyplot.show(close=None, block=None)>"
      ]
     },
     "execution_count": 81,
     "metadata": {},
     "output_type": "execute_result"
    },
    {
     "data": {
      "image/png": "[encoded data removed]",
      "text/plain": [
       "<Figure size 640x480 with 1 Axes>"
      ]
     },
     "metadata": {},
     "output_type": "display_data"
    }
   ],
   "source": [
    "plt.plot(xs, bleurt_score)\n",
    "plt.show"
   ]
  },
  {
   "cell_type": "code",
   "execution_count": null,
   "metadata": {},
   "outputs": [],
   "source": []
  }
 ],
 "metadata": {
  "kernelspec": {
   "display_name": "Python 3",
   "language": "python",
   "name": "python3"
  },
  "language_info": {
   "codemirror_mode": {
    "name": "ipython",
    "version": 3
   },
   "file_extension": ".py",
   "mimetype": "text/x-python",
   "name": "python",
   "nbconvert_exporter": "python",
   "pygments_lexer": "ipython3",
   "version": "3.9.21"
  }
 },
 "nbformat": 4,
 "nbformat_minor": 2
}
