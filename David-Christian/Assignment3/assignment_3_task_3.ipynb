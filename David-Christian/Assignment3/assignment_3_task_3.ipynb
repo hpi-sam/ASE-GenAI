{
 "cells": [
  {
   "cell_type": "markdown",
   "metadata": {},
   "source": [
    "# Assignment 3 - Task 3\n",
    "\n",
    "Group: David, Christian\n",
    "\n",
    "## Approach/general idea\n",
    "\n",
    "### 3.1\n",
    "\n",
    "Define/describe a way to calculate or describe how diverse a number of the original explanations are as a set. Base diversity on demographics of the original dataset: gender, profession, age, ...\n",
    "\n",
    "### 3.2\n",
    "\n",
    "Report on maximum readability and semantic similarity of consolidated explanations. Base this on task 2 or generate explanations based on arbitrary (?) sets of original explanations to see what the max can be.\n",
    "\n",
    "### 3.3\n",
    "\n",
    "Disregard readability. We should know the maximum semantic similarity we achieved for 3.2.\n",
    "Now we choose sets of original explanations in such a way, that the diversity is maximized, and consolidate explanations and hope they reach our max semantic similarity. Report how diverse the set can be while still being at max semantic similarity."
   ]
  },
  {
   "cell_type": "markdown",
   "metadata": {},
   "source": [
    "## Task 3\n",
    "\n",
    "To determione diversity we calculate the Shannon entropy of select columns of the original dataset. Relevant columns are `Worker.profession`, `Worker.yearsOfExperience`, `Worker.age`, and `Worker.gender`. To reduce variance in continuous columns, we bucketize `Worker.yearsOfExperience` and `Worker.age`.\n",
    "\n",
    "To calculate the combined diversity score we calculate the entropy of each relevant column of the subset and sum the 4 values. To maximize diversity we are therefore looking for the largest combined value."
   ]
  },
  {
   "cell_type": "code",
   "execution_count": 393,
   "metadata": {},
   "outputs": [
    {
     "name": "stderr",
     "output_type": "stream",
     "text": [
      "2025-02-10 18:15:19.503884: I tensorflow/core/util/port.cc:153] oneDNN custom operations are on. You may see slightly different numerical results due to floating-point round-off errors from different computation orders. To turn them off, set the environment variable `TF_ENABLE_ONEDNN_OPTS=0`.\n",
      "2025-02-10 18:15:21.684579: E external/local_xla/xla/stream_executor/cuda/cuda_fft.cc:477] Unable to register cuFFT factory: Attempting to register factory for plugin cuFFT when one has already been registered\n",
      "WARNING: All log messages before absl::InitializeLog() is called are written to STDERR\n",
      "E0000 00:00:1739207722.499633   27921 cuda_dnn.cc:8310] Unable to register cuDNN factory: Attempting to register factory for plugin cuDNN when one has already been registered\n",
      "E0000 00:00:1739207722.752432   27921 cuda_blas.cc:1418] Unable to register cuBLAS factory: Attempting to register factory for plugin cuBLAS when one has already been registered\n",
      "2025-02-10 18:15:25.054581: I tensorflow/core/platform/cpu_feature_guard.cc:210] This TensorFlow binary is optimized to use available CPU instructions in performance-critical operations.\n",
      "To enable the following instructions: AVX2 AVX_VNNI FMA, in other operations, rebuild TensorFlow with the appropriate compiler flags.\n"
     ]
    }
   ],
   "source": [
    "import scipy\n",
    "import pandas as pd\n",
    "import textstat\n",
    "import bleurt\n",
    "from bleurt import score\n",
    "from scipy.stats import entropy\n",
    "\n",
    "import requests\n",
    "import json\n",
    "import tqdm\n",
    "import sklearn\n",
    "\n",
    "import matplotlib.pyplot as plt"
   ]
  },
  {
   "cell_type": "code",
   "execution_count": 396,
   "metadata": {},
   "outputs": [],
   "source": [
    "def calculateFleschReadingEase(candidate) -> float:\n",
    "    return textstat.flesch_reading_ease(candidate)\n",
    "\n",
    "# Calculates BLEURT score of candidate compared to reference\n",
    "# Requires the BLEURT-20 checkpoint to run\n",
    "def calculateBleurtScore(references, candidates) -> list:\n",
    "    scorer = bleurt.score.LengthBatchingBleurtScorer(checkpoint='BLEURT-20')\n",
    "    bleurt_scores = scorer.score(references=references, candidates=candidates)\n",
    "    return bleurt_scores"
   ]
  },
  {
   "cell_type": "code",
   "execution_count": 397,
   "metadata": {},
   "outputs": [],
   "source": [
    "df = pd.read_csv('answerList_data.csv')\n",
    "\n",
    "explanations_df = df[(df['FailingMethod'] == 'HIT01_8') & (df['TP'] == 1)]\n",
    "ground_truth = 'The specification states, that the method \"DateTimeZone()\" accepts a minutes offset value in the range of -59 to 59 inlcusive. The method checks if this value, stored as \"minutesOffset\", is within these bounds on line 279, but incorrectly throws an \"IllegalArgumentException\" for any minutes offset less than zero instead of less than -59. To fix the issue and satisfy the specification, the conditional on line 279 should check for \"minutesOffset < -59\" instead.'"
   ]
  },
  {
   "cell_type": "code",
   "execution_count": 414,
   "metadata": {},
   "outputs": [
    {
     "name": "stderr",
     "output_type": "stream",
     "text": [
      "/tmp/ipykernel_27921/2363039779.py:7: SettingWithCopyWarning: \n",
      "A value is trying to be set on a copy of a slice from a DataFrame.\n",
      "Try using .loc[row_indexer,col_indexer] = value instead\n",
      "\n",
      "See the caveats in the documentation: https://pandas.pydata.org/pandas-docs/stable/user_guide/indexing.html#returning-a-view-versus-a-copy\n",
      "  explanations_df['Worker.age_bucket'] = bucketize(df['Worker.age'], 10)\n",
      "/tmp/ipykernel_27921/2363039779.py:8: SettingWithCopyWarning: \n",
      "A value is trying to be set on a copy of a slice from a DataFrame.\n",
      "Try using .loc[row_indexer,col_indexer] = value instead\n",
      "\n",
      "See the caveats in the documentation: https://pandas.pydata.org/pandas-docs/stable/user_guide/indexing.html#returning-a-view-versus-a-copy\n",
      "  explanations_df['Worker.yearsOfExperience_bucket'] = bucketize(df['Worker.yearsOfExperience'], 5)\n"
     ]
    }
   ],
   "source": [
    "def calculate_diversity(entries):\n",
    "    return entropy(entries.value_counts(normalize=True))\n",
    "\n",
    "def bucketize(number, step):\n",
    "    return round(number / step) * step\n",
    "\n",
    "explanations_df['Worker.age_bucket'] = bucketize(df['Worker.age'], 10)\n",
    "explanations_df['Worker.yearsOfExperience_bucket'] = bucketize(df['Worker.yearsOfExperience'], 5)\n",
    "\n",
    "relevant_columns = ['Worker.profession', 'Worker.yearsOfExperience_bucket', 'Worker.age_bucket', 'Worker.gender']\n",
    "explanations_reference_diversity = {col: calculate_diversity(explanations_df[col]) for col in relevant_columns}"
   ]
  },
  {
   "cell_type": "markdown",
   "metadata": {},
   "source": [
    "### Maximum readability and similarity\n",
    "\n",
    "As for Task 2, we measure readability with the Flesch reading ease score, and similarity using the BLEURT score.\n",
    "\n",
    "We have already calculated both readability and similarity (BLEURT) scores of consolidated explanations during Task 2. The highest BLEURT and readability scores were `0.515562` and `72.66`, respectively.\n",
    "\n",
    "### Maximizing similarity with max diversity\n",
    "\n",
    "To determine the diversity of explanations that, when consolidated, produce an explanation with a similarly high BLEURT score, we proceed like in Task 2 by first calculating the similarity score of the original explanations compared to our ground truth. We then sort the original explanations by similarity score and start consolidating answers, while calculating the diversity of the combined explanations."
   ]
  },
  {
   "cell_type": "code",
   "execution_count": 415,
   "metadata": {},
   "outputs": [
    {
     "name": "stdout",
     "output_type": "stream",
     "text": [
      "INFO:tensorflow:Reading checkpoint BLEURT-20.\n"
     ]
    },
    {
     "name": "stderr",
     "output_type": "stream",
     "text": [
      "INFO:tensorflow:Reading checkpoint BLEURT-20.\n"
     ]
    },
    {
     "name": "stdout",
     "output_type": "stream",
     "text": [
      "INFO:tensorflow:Config file found, reading.\n"
     ]
    },
    {
     "name": "stderr",
     "output_type": "stream",
     "text": [
      "INFO:tensorflow:Config file found, reading.\n"
     ]
    },
    {
     "name": "stdout",
     "output_type": "stream",
     "text": [
      "INFO:tensorflow:Will load checkpoint BLEURT-20\n"
     ]
    },
    {
     "name": "stderr",
     "output_type": "stream",
     "text": [
      "INFO:tensorflow:Will load checkpoint BLEURT-20\n"
     ]
    },
    {
     "name": "stdout",
     "output_type": "stream",
     "text": [
      "INFO:tensorflow:Loads full paths and checks that files exists.\n"
     ]
    },
    {
     "name": "stderr",
     "output_type": "stream",
     "text": [
      "INFO:tensorflow:Loads full paths and checks that files exists.\n"
     ]
    },
    {
     "name": "stdout",
     "output_type": "stream",
     "text": [
      "INFO:tensorflow:... name:BLEURT-20\n"
     ]
    },
    {
     "name": "stderr",
     "output_type": "stream",
     "text": [
      "INFO:tensorflow:... name:BLEURT-20\n"
     ]
    },
    {
     "name": "stdout",
     "output_type": "stream",
     "text": [
      "INFO:tensorflow:... bert_config_file:bert_config.json\n"
     ]
    },
    {
     "name": "stderr",
     "output_type": "stream",
     "text": [
      "INFO:tensorflow:... bert_config_file:bert_config.json\n"
     ]
    },
    {
     "name": "stdout",
     "output_type": "stream",
     "text": [
      "INFO:tensorflow:... max_seq_length:512\n"
     ]
    },
    {
     "name": "stderr",
     "output_type": "stream",
     "text": [
      "INFO:tensorflow:... max_seq_length:512\n"
     ]
    },
    {
     "name": "stdout",
     "output_type": "stream",
     "text": [
      "INFO:tensorflow:... vocab_file:None\n"
     ]
    },
    {
     "name": "stderr",
     "output_type": "stream",
     "text": [
      "INFO:tensorflow:... vocab_file:None\n"
     ]
    },
    {
     "name": "stdout",
     "output_type": "stream",
     "text": [
      "INFO:tensorflow:... do_lower_case:None\n"
     ]
    },
    {
     "name": "stderr",
     "output_type": "stream",
     "text": [
      "INFO:tensorflow:... do_lower_case:None\n"
     ]
    },
    {
     "name": "stdout",
     "output_type": "stream",
     "text": [
      "INFO:tensorflow:... sp_model:sent_piece\n"
     ]
    },
    {
     "name": "stderr",
     "output_type": "stream",
     "text": [
      "INFO:tensorflow:... sp_model:sent_piece\n"
     ]
    },
    {
     "name": "stdout",
     "output_type": "stream",
     "text": [
      "INFO:tensorflow:... dynamic_seq_length:True\n"
     ]
    },
    {
     "name": "stderr",
     "output_type": "stream",
     "text": [
      "INFO:tensorflow:... dynamic_seq_length:True\n"
     ]
    },
    {
     "name": "stdout",
     "output_type": "stream",
     "text": [
      "INFO:tensorflow:Creating BLEURT scorer.\n"
     ]
    },
    {
     "name": "stderr",
     "output_type": "stream",
     "text": [
      "INFO:tensorflow:Creating BLEURT scorer.\n"
     ]
    },
    {
     "name": "stdout",
     "output_type": "stream",
     "text": [
      "INFO:tensorflow:Creating SentencePiece tokenizer.\n"
     ]
    },
    {
     "name": "stderr",
     "output_type": "stream",
     "text": [
      "INFO:tensorflow:Creating SentencePiece tokenizer.\n"
     ]
    },
    {
     "name": "stdout",
     "output_type": "stream",
     "text": [
      "INFO:tensorflow:Creating SentencePiece tokenizer.\n"
     ]
    },
    {
     "name": "stderr",
     "output_type": "stream",
     "text": [
      "INFO:tensorflow:Creating SentencePiece tokenizer.\n"
     ]
    },
    {
     "name": "stdout",
     "output_type": "stream",
     "text": [
      "INFO:tensorflow:Will load model: BLEURT-20/sent_piece.model.\n"
     ]
    },
    {
     "name": "stderr",
     "output_type": "stream",
     "text": [
      "INFO:tensorflow:Will load model: BLEURT-20/sent_piece.model.\n"
     ]
    },
    {
     "name": "stdout",
     "output_type": "stream",
     "text": [
      "INFO:tensorflow:SentencePiece tokenizer created.\n"
     ]
    },
    {
     "name": "stderr",
     "output_type": "stream",
     "text": [
      "INFO:tensorflow:SentencePiece tokenizer created.\n"
     ]
    },
    {
     "name": "stdout",
     "output_type": "stream",
     "text": [
      "INFO:tensorflow:Creating Eager Mode predictor.\n"
     ]
    },
    {
     "name": "stderr",
     "output_type": "stream",
     "text": [
      "INFO:tensorflow:Creating Eager Mode predictor.\n"
     ]
    },
    {
     "name": "stdout",
     "output_type": "stream",
     "text": [
      "INFO:tensorflow:Loading model.\n"
     ]
    },
    {
     "name": "stderr",
     "output_type": "stream",
     "text": [
      "INFO:tensorflow:Loading model.\n"
     ]
    },
    {
     "name": "stdout",
     "output_type": "stream",
     "text": [
      "INFO:tensorflow:BLEURT initialized.\n"
     ]
    },
    {
     "name": "stderr",
     "output_type": "stream",
     "text": [
      "INFO:tensorflow:BLEURT initialized.\n"
     ]
    },
    {
     "name": "stdout",
     "output_type": "stream",
     "text": [
      "INFO:tensorflow:Average batch sequence length: 194.5\n"
     ]
    },
    {
     "name": "stderr",
     "output_type": "stream",
     "text": [
      "INFO:tensorflow:Average batch sequence length: 194.5\n",
      "/tmp/ipykernel_27921/1497583290.py:2: SettingWithCopyWarning: \n",
      "A value is trying to be set on a copy of a slice from a DataFrame.\n",
      "Try using .loc[row_indexer,col_indexer] = value instead\n",
      "\n",
      "See the caveats in the documentation: https://pandas.pydata.org/pandas-docs/stable/user_guide/indexing.html#returning-a-view-versus-a-copy\n",
      "  explanations_df['bleurt'] = explanation_bleurt\n"
     ]
    }
   ],
   "source": [
    "explanation_bleurt = calculateBleurtScore([ground_truth] * len(explanations_df), explanations_df['Answer.explanation'].to_list())\n",
    "explanations_df['bleurt'] = explanation_bleurt"
   ]
  },
  {
   "cell_type": "markdown",
   "metadata": {},
   "source": [
    "As for Task 2 we use a locally running instance of `Ollama` to prompt `deepseek-llm` to consolidate the original explanations."
   ]
  },
  {
   "cell_type": "code",
   "execution_count": 405,
   "metadata": {},
   "outputs": [],
   "source": [
    "# API provided by running llm using Ollama locally\n",
    "url = \"http://localhost:11434/api/generate\"\n",
    "headers = {\n",
    "    \"Content-Type\": \"application/json\"\n",
    "}\n",
    "model_deepseek_llm = \"deepseek-llm:7b\"\n",
    "model_llama = \"llama3.2:3b\"\n",
    "schema = {\n",
    "    \"$schema\": \"ase-schema\",\n",
    "    \"title\": \"Explanation\",\n",
    "    \"description\": \"A failure explanation\",\n",
    "    \"type\": \"object\",\n",
    "    \"properties\": {\n",
    "        \"explanation\": {\n",
    "            \"description\": \"The generated explanation\",\n",
    "            \"type\": \"string\"\n",
    "        }\n",
    "    },\n",
    "    \"required\": [\"explanation\"]\n",
    "}\n",
    "data_json = {\n",
    "    \"model\": model_deepseek_llm,\n",
    "    \"prompt\": \"\",\n",
    "    \"stream\": False,\n",
    "    \"format\": schema\n",
    "}\n",
    "\n",
    "explanations_df = df[(df['FailingMethod'] == 'HIT01_8') & (df['TP'] == 1)]\n",
    "ground_truth = 'The specification states, that the method \"DateTimeZone()\" accepts a minutes offset value in the range of -59 to 59 inlcusive. The method checks if this value, stored as \"minutesOffset\", is within these bounds on line 279, but incorrectly throws an \"IllegalArgumentException\" for any minutes offset less than zero instead of less than -59. To fix the issue and satisfy the specification, the conditional on line 279 should check for \"minutesOffset < -59\" instead.'\n",
    "\n",
    "prompt_task = \"###Task:\\nYou are a professional software developer. You are given a number of explanations describing the root of cause and possible fix to a software failure. Based on the given explanations, write a single explanation that contains all the information required to understand and fix the bug. The explanation should be succinct and without redundant information\"\n",
    "\n",
    "prompt_input = \"### Input:\\n\\nHere are the failure explanations:\\n\\n\"\n",
    "\n",
    "prompt_output = \"### Output:\\nFormat your response in valid JSON format with a single field 'explanation' of type string containing your generated explanation.\""
   ]
  },
  {
   "cell_type": "code",
   "execution_count": 408,
   "metadata": {},
   "outputs": [],
   "source": [
    "def generate_explanations(expl_df, url, header, data, prompt_task, prompt_input, prompt_output=''):\n",
    "    responses = []\n",
    "\n",
    "    for i in tqdm.tqdm(range(1, len(expl_df))):\n",
    "        slice = expl_df[0:i]\n",
    "        input = ''.join(\"'''\\n\" + expl + \"\\n'''\\n\\n\" for expl in slice['Answer.explanation'].to_list())\n",
    "        slice_diversity = sum([calculate_diversity(slice[col]) for col in relevant_columns])\n",
    "        prompt = prompt_task + prompt_input + input + prompt_output\n",
    "        data['prompt'] = prompt\n",
    "        response = requests.post(url, headers=headers, data=json.dumps(data))\n",
    "        if (response.status_code == 200):\n",
    "            responses.append({'prompt': prompt, 'result': json.loads(response.text)['response'], 'diversity': slice_diversity})\n",
    "    return responses"
   ]
  },
  {
   "cell_type": "code",
   "execution_count": 416,
   "metadata": {},
   "outputs": [
    {
     "name": "stderr",
     "output_type": "stream",
     "text": [
      "100%|██████████| 30/30 [05:54<00:00, 11.82s/it]\n"
     ]
    }
   ],
   "source": [
    "responses_json = generate_explanations(explanations_df.sort_values(by=['bleurt'], ascending=False), url, headers, data_json, prompt_task, prompt_input, prompt_output)"
   ]
  },
  {
   "cell_type": "code",
   "execution_count": 417,
   "metadata": {},
   "outputs": [
    {
     "name": "stdout",
     "output_type": "stream",
     "text": [
      "INFO:tensorflow:Reading checkpoint BLEURT-20.\n"
     ]
    },
    {
     "name": "stderr",
     "output_type": "stream",
     "text": [
      "INFO:tensorflow:Reading checkpoint BLEURT-20.\n"
     ]
    },
    {
     "name": "stdout",
     "output_type": "stream",
     "text": [
      "INFO:tensorflow:Config file found, reading.\n"
     ]
    },
    {
     "name": "stderr",
     "output_type": "stream",
     "text": [
      "INFO:tensorflow:Config file found, reading.\n"
     ]
    },
    {
     "name": "stdout",
     "output_type": "stream",
     "text": [
      "INFO:tensorflow:Will load checkpoint BLEURT-20\n"
     ]
    },
    {
     "name": "stderr",
     "output_type": "stream",
     "text": [
      "INFO:tensorflow:Will load checkpoint BLEURT-20\n"
     ]
    },
    {
     "name": "stdout",
     "output_type": "stream",
     "text": [
      "INFO:tensorflow:Loads full paths and checks that files exists.\n"
     ]
    },
    {
     "name": "stderr",
     "output_type": "stream",
     "text": [
      "INFO:tensorflow:Loads full paths and checks that files exists.\n"
     ]
    },
    {
     "name": "stdout",
     "output_type": "stream",
     "text": [
      "INFO:tensorflow:... name:BLEURT-20\n"
     ]
    },
    {
     "name": "stderr",
     "output_type": "stream",
     "text": [
      "INFO:tensorflow:... name:BLEURT-20\n"
     ]
    },
    {
     "name": "stdout",
     "output_type": "stream",
     "text": [
      "INFO:tensorflow:... bert_config_file:bert_config.json\n"
     ]
    },
    {
     "name": "stderr",
     "output_type": "stream",
     "text": [
      "INFO:tensorflow:... bert_config_file:bert_config.json\n"
     ]
    },
    {
     "name": "stdout",
     "output_type": "stream",
     "text": [
      "INFO:tensorflow:... max_seq_length:512\n"
     ]
    },
    {
     "name": "stderr",
     "output_type": "stream",
     "text": [
      "INFO:tensorflow:... max_seq_length:512\n"
     ]
    },
    {
     "name": "stdout",
     "output_type": "stream",
     "text": [
      "INFO:tensorflow:... vocab_file:None\n"
     ]
    },
    {
     "name": "stderr",
     "output_type": "stream",
     "text": [
      "INFO:tensorflow:... vocab_file:None\n"
     ]
    },
    {
     "name": "stdout",
     "output_type": "stream",
     "text": [
      "INFO:tensorflow:... do_lower_case:None\n"
     ]
    },
    {
     "name": "stderr",
     "output_type": "stream",
     "text": [
      "INFO:tensorflow:... do_lower_case:None\n"
     ]
    },
    {
     "name": "stdout",
     "output_type": "stream",
     "text": [
      "INFO:tensorflow:... sp_model:sent_piece\n"
     ]
    },
    {
     "name": "stderr",
     "output_type": "stream",
     "text": [
      "INFO:tensorflow:... sp_model:sent_piece\n"
     ]
    },
    {
     "name": "stdout",
     "output_type": "stream",
     "text": [
      "INFO:tensorflow:... dynamic_seq_length:True\n"
     ]
    },
    {
     "name": "stderr",
     "output_type": "stream",
     "text": [
      "INFO:tensorflow:... dynamic_seq_length:True\n"
     ]
    },
    {
     "name": "stdout",
     "output_type": "stream",
     "text": [
      "INFO:tensorflow:Creating BLEURT scorer.\n"
     ]
    },
    {
     "name": "stderr",
     "output_type": "stream",
     "text": [
      "INFO:tensorflow:Creating BLEURT scorer.\n"
     ]
    },
    {
     "name": "stdout",
     "output_type": "stream",
     "text": [
      "INFO:tensorflow:Creating SentencePiece tokenizer.\n"
     ]
    },
    {
     "name": "stderr",
     "output_type": "stream",
     "text": [
      "INFO:tensorflow:Creating SentencePiece tokenizer.\n"
     ]
    },
    {
     "name": "stdout",
     "output_type": "stream",
     "text": [
      "INFO:tensorflow:Creating SentencePiece tokenizer.\n"
     ]
    },
    {
     "name": "stderr",
     "output_type": "stream",
     "text": [
      "INFO:tensorflow:Creating SentencePiece tokenizer.\n"
     ]
    },
    {
     "name": "stdout",
     "output_type": "stream",
     "text": [
      "INFO:tensorflow:Will load model: BLEURT-20/sent_piece.model.\n"
     ]
    },
    {
     "name": "stderr",
     "output_type": "stream",
     "text": [
      "INFO:tensorflow:Will load model: BLEURT-20/sent_piece.model.\n"
     ]
    },
    {
     "name": "stdout",
     "output_type": "stream",
     "text": [
      "INFO:tensorflow:SentencePiece tokenizer created.\n"
     ]
    },
    {
     "name": "stderr",
     "output_type": "stream",
     "text": [
      "INFO:tensorflow:SentencePiece tokenizer created.\n"
     ]
    },
    {
     "name": "stdout",
     "output_type": "stream",
     "text": [
      "INFO:tensorflow:Creating Eager Mode predictor.\n"
     ]
    },
    {
     "name": "stderr",
     "output_type": "stream",
     "text": [
      "INFO:tensorflow:Creating Eager Mode predictor.\n"
     ]
    },
    {
     "name": "stdout",
     "output_type": "stream",
     "text": [
      "INFO:tensorflow:Loading model.\n"
     ]
    },
    {
     "name": "stderr",
     "output_type": "stream",
     "text": [
      "INFO:tensorflow:Loading model.\n"
     ]
    },
    {
     "name": "stdout",
     "output_type": "stream",
     "text": [
      "INFO:tensorflow:BLEURT initialized.\n"
     ]
    },
    {
     "name": "stderr",
     "output_type": "stream",
     "text": [
      "INFO:tensorflow:BLEURT initialized.\n"
     ]
    },
    {
     "name": "stdout",
     "output_type": "stream",
     "text": [
      "INFO:tensorflow:Average batch sequence length: 192.5\n"
     ]
    },
    {
     "name": "stderr",
     "output_type": "stream",
     "text": [
      "INFO:tensorflow:Average batch sequence length: 192.5\n"
     ]
    }
   ],
   "source": [
    "generated_explanations = [json.loads(r['result'])['explanation'] for r in responses_json]\n",
    "generated_explanations_bleurt = calculateBleurtScore([ground_truth] * len(generated_explanations), generated_explanations)\n",
    "df_data = {\n",
    "    'generated_explanation': generated_explanations,\n",
    "    'bleurt': generated_explanations_bleurt,\n",
    "    'diversity': [r['diversity'] for r in responses_json]\n",
    "}\n",
    "generated_explanations_df = pd.DataFrame(df_data)"
   ]
  },
  {
   "cell_type": "code",
   "execution_count": 418,
   "metadata": {},
   "outputs": [
    {
     "data": {
      "text/plain": [
       "array([<Axes: >, <Axes: >], dtype=object)"
      ]
     },
     "execution_count": 418,
     "metadata": {},
     "output_type": "execute_result"
    },
    {
     "data": {
      "image/png": "[encoded data removed]",
      "text/plain": [
       "<Figure size 640x480 with 2 Axes>"
      ]
     },
     "metadata": {},
     "output_type": "display_data"
    }
   ],
   "source": [
    "generated_explanations_df.plot(subplots=True)"
   ]
  },
  {
   "cell_type": "code",
   "execution_count": 421,
   "metadata": {},
   "outputs": [
    {
     "data": {
      "text/html": [
       "<div>\n",
       "<style scoped>\n",
       "    .dataframe tbody tr th:only-of-type {\n",
       "        vertical-align: middle;\n",
       "    }\n",
       "\n",
       "    .dataframe tbody tr th {\n",
       "        vertical-align: top;\n",
       "    }\n",
       "\n",
       "    .dataframe thead th {\n",
       "        text-align: right;\n",
       "    }\n",
       "</style>\n",
       "<table border=\"1\" class=\"dataframe\">\n",
       "  <thead>\n",
       "    <tr style=\"text-align: right;\">\n",
       "      <th></th>\n",
       "      <th>generated_explanation</th>\n",
       "      <th>bleurt</th>\n",
       "      <th>diversity</th>\n",
       "    </tr>\n",
       "  </thead>\n",
       "  <tbody>\n",
       "    <tr>\n",
       "      <th>14</th>\n",
       "      <td>The issue occurs on line 279 due to the condit...</td>\n",
       "      <td>0.504215</td>\n",
       "      <td>4.580003</td>\n",
       "    </tr>\n",
       "    <tr>\n",
       "      <th>27</th>\n",
       "      <td>The issue lies on line 279, where the conditio...</td>\n",
       "      <td>0.503526</td>\n",
       "      <td>4.833083</td>\n",
       "    </tr>\n",
       "    <tr>\n",
       "      <th>26</th>\n",
       "      <td>The error is occurring on line 279 due to the ...</td>\n",
       "      <td>0.492197</td>\n",
       "      <td>4.886238</td>\n",
       "    </tr>\n",
       "    <tr>\n",
       "      <th>2</th>\n",
       "      <td>The error occurs on line 279 due to an incorre...</td>\n",
       "      <td>0.487354</td>\n",
       "      <td>2.371641</td>\n",
       "    </tr>\n",
       "    <tr>\n",
       "      <th>12</th>\n",
       "      <td>The issue lies on line 279, where the variable...</td>\n",
       "      <td>0.484784</td>\n",
       "      <td>4.329704</td>\n",
       "    </tr>\n",
       "    <tr>\n",
       "      <th>29</th>\n",
       "      <td>The issue occurs on line 279 due to the condit...</td>\n",
       "      <td>0.477121</td>\n",
       "      <td>4.839115</td>\n",
       "    </tr>\n",
       "    <tr>\n",
       "      <th>21</th>\n",
       "      <td>The issue occurs on line 279 due to the condit...</td>\n",
       "      <td>0.474249</td>\n",
       "      <td>4.994951</td>\n",
       "    </tr>\n",
       "    <tr>\n",
       "      <th>23</th>\n",
       "      <td>The issue lies on line 279, where it incorrect...</td>\n",
       "      <td>0.471431</td>\n",
       "      <td>4.930282</td>\n",
       "    </tr>\n",
       "    <tr>\n",
       "      <th>15</th>\n",
       "      <td>The issue lies on line 279 where the condition...</td>\n",
       "      <td>0.470020</td>\n",
       "      <td>4.561635</td>\n",
       "    </tr>\n",
       "    <tr>\n",
       "      <th>18</th>\n",
       "      <td>The error occurs on line 279 due to the variab...</td>\n",
       "      <td>0.462780</td>\n",
       "      <td>4.776839</td>\n",
       "    </tr>\n",
       "    <tr>\n",
       "      <th>1</th>\n",
       "      <td>The error on line 279 occurs because the condi...</td>\n",
       "      <td>0.456536</td>\n",
       "      <td>1.386294</td>\n",
       "    </tr>\n",
       "    <tr>\n",
       "      <th>11</th>\n",
       "      <td>The issue lies on line 279, where the variable...</td>\n",
       "      <td>0.456332</td>\n",
       "      <td>4.181273</td>\n",
       "    </tr>\n",
       "    <tr>\n",
       "      <th>13</th>\n",
       "      <td>The issue lies on line 279 where the variable ...</td>\n",
       "      <td>0.452716</td>\n",
       "      <td>4.440404</td>\n",
       "    </tr>\n",
       "    <tr>\n",
       "      <th>22</th>\n",
       "      <td>The issue lies on line 279 where the condition...</td>\n",
       "      <td>0.449925</td>\n",
       "      <td>4.936238</td>\n",
       "    </tr>\n",
       "    <tr>\n",
       "      <th>28</th>\n",
       "      <td>The issue occurs on line 279 due to the condit...</td>\n",
       "      <td>0.448362</td>\n",
       "      <td>4.866132</td>\n",
       "    </tr>\n",
       "    <tr>\n",
       "      <th>5</th>\n",
       "      <td>The issue lies on line 279, where the conditio...</td>\n",
       "      <td>0.448341</td>\n",
       "      <td>3.901776</td>\n",
       "    </tr>\n",
       "    <tr>\n",
       "      <th>25</th>\n",
       "      <td>The issue occurs on line 279 due to the condit...</td>\n",
       "      <td>0.448097</td>\n",
       "      <td>4.915638</td>\n",
       "    </tr>\n",
       "    <tr>\n",
       "      <th>3</th>\n",
       "      <td>The conditional clause on line 279 throws an e...</td>\n",
       "      <td>0.436842</td>\n",
       "      <td>3.334924</td>\n",
       "    </tr>\n",
       "    <tr>\n",
       "      <th>9</th>\n",
       "      <td>The issue lies on line 279, where the variable...</td>\n",
       "      <td>0.435971</td>\n",
       "      <td>3.748757</td>\n",
       "    </tr>\n",
       "    <tr>\n",
       "      <th>17</th>\n",
       "      <td>The issue is on line 279, where the variable \"...</td>\n",
       "      <td>0.435570</td>\n",
       "      <td>4.758127</td>\n",
       "    </tr>\n",
       "    <tr>\n",
       "      <th>8</th>\n",
       "      <td>The issue on line 279 relates to the condition...</td>\n",
       "      <td>0.433113</td>\n",
       "      <td>3.833767</td>\n",
       "    </tr>\n",
       "    <tr>\n",
       "      <th>16</th>\n",
       "      <td>The issue is located on line 279, where the va...</td>\n",
       "      <td>0.432213</td>\n",
       "      <td>4.805444</td>\n",
       "    </tr>\n",
       "    <tr>\n",
       "      <th>10</th>\n",
       "      <td>The issue on line 279 arises when the variable...</td>\n",
       "      <td>0.431928</td>\n",
       "      <td>4.020970</td>\n",
       "    </tr>\n",
       "    <tr>\n",
       "      <th>4</th>\n",
       "      <td>The variable 'minutesOffset' is checked incorr...</td>\n",
       "      <td>0.419700</td>\n",
       "      <td>4.010381</td>\n",
       "    </tr>\n",
       "    <tr>\n",
       "      <th>20</th>\n",
       "      <td>The issue occurs on line 279, where the variab...</td>\n",
       "      <td>0.419048</td>\n",
       "      <td>4.997481</td>\n",
       "    </tr>\n",
       "    <tr>\n",
       "      <th>24</th>\n",
       "      <td>The issue occurs on line 279 due to the condit...</td>\n",
       "      <td>0.418787</td>\n",
       "      <td>4.926271</td>\n",
       "    </tr>\n",
       "    <tr>\n",
       "      <th>6</th>\n",
       "      <td>The issue on line 279 is that the variable \"mi...</td>\n",
       "      <td>0.418708</td>\n",
       "      <td>3.994634</td>\n",
       "    </tr>\n",
       "    <tr>\n",
       "      <th>0</th>\n",
       "      <td>The failure occurs due to the conditional stat...</td>\n",
       "      <td>0.415587</td>\n",
       "      <td>0.000000</td>\n",
       "    </tr>\n",
       "    <tr>\n",
       "      <th>19</th>\n",
       "      <td>The issue on line 279 occurs because the code ...</td>\n",
       "      <td>0.407957</td>\n",
       "      <td>5.086470</td>\n",
       "    </tr>\n",
       "    <tr>\n",
       "      <th>7</th>\n",
       "      <td>The issue on line 279 is that the conditional ...</td>\n",
       "      <td>0.399301</td>\n",
       "      <td>3.814548</td>\n",
       "    </tr>\n",
       "  </tbody>\n",
       "</table>\n",
       "</div>"
      ],
      "text/plain": [
       "                                generated_explanation    bleurt  diversity\n",
       "14  The issue occurs on line 279 due to the condit...  0.504215   4.580003\n",
       "27  The issue lies on line 279, where the conditio...  0.503526   4.833083\n",
       "26  The error is occurring on line 279 due to the ...  0.492197   4.886238\n",
       "2   The error occurs on line 279 due to an incorre...  0.487354   2.371641\n",
       "12  The issue lies on line 279, where the variable...  0.484784   4.329704\n",
       "29  The issue occurs on line 279 due to the condit...  0.477121   4.839115\n",
       "21  The issue occurs on line 279 due to the condit...  0.474249   4.994951\n",
       "23  The issue lies on line 279, where it incorrect...  0.471431   4.930282\n",
       "15  The issue lies on line 279 where the condition...  0.470020   4.561635\n",
       "18  The error occurs on line 279 due to the variab...  0.462780   4.776839\n",
       "1   The error on line 279 occurs because the condi...  0.456536   1.386294\n",
       "11  The issue lies on line 279, where the variable...  0.456332   4.181273\n",
       "13  The issue lies on line 279 where the variable ...  0.452716   4.440404\n",
       "22  The issue lies on line 279 where the condition...  0.449925   4.936238\n",
       "28  The issue occurs on line 279 due to the condit...  0.448362   4.866132\n",
       "5   The issue lies on line 279, where the conditio...  0.448341   3.901776\n",
       "25  The issue occurs on line 279 due to the condit...  0.448097   4.915638\n",
       "3   The conditional clause on line 279 throws an e...  0.436842   3.334924\n",
       "9   The issue lies on line 279, where the variable...  0.435971   3.748757\n",
       "17  The issue is on line 279, where the variable \"...  0.435570   4.758127\n",
       "8   The issue on line 279 relates to the condition...  0.433113   3.833767\n",
       "16  The issue is located on line 279, where the va...  0.432213   4.805444\n",
       "10  The issue on line 279 arises when the variable...  0.431928   4.020970\n",
       "4   The variable 'minutesOffset' is checked incorr...  0.419700   4.010381\n",
       "20  The issue occurs on line 279, where the variab...  0.419048   4.997481\n",
       "24  The issue occurs on line 279 due to the condit...  0.418787   4.926271\n",
       "6   The issue on line 279 is that the variable \"mi...  0.418708   3.994634\n",
       "0   The failure occurs due to the conditional stat...  0.415587   0.000000\n",
       "19  The issue on line 279 occurs because the code ...  0.407957   5.086470\n",
       "7   The issue on line 279 is that the conditional ...  0.399301   3.814548"
      ]
     },
     "execution_count": 421,
     "metadata": {},
     "output_type": "execute_result"
    }
   ],
   "source": [
    "generated_explanations_df.sort_values(by=['bleurt', 'diversity'], ascending=False)"
   ]
  },
  {
   "cell_type": "markdown",
   "metadata": {},
   "source": [
    "As we can see, by sorting the generated explanations by BLEURT score, the highest similarity to our ground truth is `0.504215`. This value lies relatively close to our previously observes maximum of `0.515562` from Task 2. The corresponding diversity score for this explanation lies at `4.580003`, with the maximum diversity score being `5.086470`. The explanation with the maximum diversity score has, however, a comparatively low similarity score. The explanations where both scores are high in combination are 26 and 27."
   ]
  }
 ],
 "metadata": {
  "kernelspec": {
   "display_name": ".venv",
   "language": "python",
   "name": "python3"
  },
  "language_info": {
   "codemirror_mode": {
    "name": "ipython",
    "version": 3
   },
   "file_extension": ".py",
   "mimetype": "text/x-python",
   "name": "python",
   "nbconvert_exporter": "python",
   "pygments_lexer": "ipython3",
   "version": "3.10.12"
  }
 },
 "nbformat": 4,
 "nbformat_minor": 2
}
