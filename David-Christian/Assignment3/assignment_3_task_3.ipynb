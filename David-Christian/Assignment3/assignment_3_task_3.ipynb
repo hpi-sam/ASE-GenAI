{
 "cells": [
  {
   "cell_type": "markdown",
   "metadata": {},
   "source": [
    "# Assignment 3 - Task 3\n",
    "\n",
    "Group: David, Christian\n",
    "\n",
    "## Approach/general idea\n",
    "\n",
    "### 3.1\n",
    "\n",
    "Define/describe a way to calculate or describe how diverse a number of the original explanations are as a set. Base diversity on demographics of the original dataset: gender, profession, age, ...\n",
    "\n",
    "### 3.2\n",
    "\n",
    "Report on maximum readability and semantic similarity of consolidated explanations. Base this on task 2 or generate explanations based on arbitrary (?) sets of original explanations to see what the max can be.\n",
    "\n",
    "### 3.3\n",
    "\n",
    "Disregard readability. We should know the maximum semantic similarity we achieved for 3.2.\n",
    "Now we choose sets of original explanations in such a way, that the diversity is maximized, and consolidate explanations and hope they reach our max semantic similarity. Report how diverse the set can be while still being at max semantic similarity."
   ]
  }
 ],
 "metadata": {
  "language_info": {
   "name": "python"
  }
 },
 "nbformat": 4,
 "nbformat_minor": 2
}
