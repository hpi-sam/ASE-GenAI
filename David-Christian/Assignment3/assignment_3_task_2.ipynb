{
 "cells": [
  {
   "cell_type": "markdown",
   "metadata": {},
   "source": [
    "# Assignment 3 - Task 2\n",
    "\n",
    "Group: David, Chrisitan\n",
    "\n",
    "Goal: Select minimal number of explanations, so that merging them contains all necessary and sufficient information to understand and fix the bug.\n",
    "\n",
    "## Approach\n",
    "\n",
    "We have chosen the bug `HIT01_8` for this task. The following explanation serves as our ground truth benchmark:\n",
    "\n",
    "```\n",
    "The specification states, that the method \"DateTimeZone()\" accepts a minutes offset value in the range of -59 to 59 inlcusive. The method checks if this value, stored as \"minutesOffset\", is within these bounds on line 279, but incorrectly throws an \"IllegalArgumentException\" for any minutes offset less than zero instead of less than -59. To fix the issue and satisfy the specification, the conditional on line 279 should check for \"minutesOffset < -59\" instead.\n",
    "```\n",
    "\n",
    "### LLM\n",
    "\n",
    "We use the `deepseek-llm:7b` model, which we query via the `REST-API` provided by locally running the model using `Ollama`.\n",
    "\n",
    "### Metrics\n",
    "\n",
    "As our readability and semantic similarity metrics we have chosen the \"Flesch reading ease\" and \"BLEURT\" metrics respectively. The former grades how easy an english text is to read on a scale of 0-100, higher scores meaning a text is more easily readable, while the latter is a regression-model-based metric that compares a candidate text to a reference and returns a score that indicates to what extent the candidate is fluent and conveys the meaning of the reference ([bleurt on github](https://github.com/google-research/bleurt)).\n",
    "\n",
    "Since the Flesch reading ease grades the readability of a given text, and our ground truth represents an acceptable level of readability (subjectively speaking), the readability score of the generated explanation should be at or above this threshold. A score that is significantly above this threshold, i.e. an explanation that is much easier to read than our ground truth, might not be desirable however, since this could indicate a strong deviation from out ground truth.\n",
    "\n",
    "The BLEURT scoring metric generates scores between 0.0 and 1.0, with higher scores indicating, that the candidate shows higher similarity to the reference, our ground truth in this case. As such a higher BLEURT score would be desirable. We think a threshold of 0.75 might be appropriate."
   ]
  },
  {
   "cell_type": "code",
   "execution_count": null,
   "metadata": {},
   "outputs": [],
   "source": [
    "import requests\n",
    "import json\n",
    "import textstat\n",
    "import bleurt\n",
    "import tqdm\n",
    "import re\n",
    "import itertools\n",
    "import pandas as pd\n",
    "import matplotlib.pyplot as plt"
   ]
  },
  {
   "cell_type": "code",
   "execution_count": 11,
   "metadata": {},
   "outputs": [
    {
     "name": "stderr",
     "output_type": "stream",
     "text": [
      "2025-02-09 16:45:16.561819: I tensorflow/core/util/port.cc:153] oneDNN custom operations are on. You may see slightly different numerical results due to floating-point round-off errors from different computation orders. To turn them off, set the environment variable `TF_ENABLE_ONEDNN_OPTS=0`.\n",
      "2025-02-09 16:45:17.571662: E external/local_xla/xla/stream_executor/cuda/cuda_fft.cc:477] Unable to register cuFFT factory: Attempting to register factory for plugin cuFFT when one has already been registered\n",
      "WARNING: All log messages before absl::InitializeLog() is called are written to STDERR\n",
      "E0000 00:00:1739115918.040355   59059 cuda_dnn.cc:8310] Unable to register cuDNN factory: Attempting to register factory for plugin cuDNN when one has already been registered\n",
      "E0000 00:00:1739115918.153817   59059 cuda_blas.cc:1418] Unable to register cuBLAS factory: Attempting to register factory for plugin cuBLAS when one has already been registered\n",
      "2025-02-09 16:45:19.241231: I tensorflow/core/platform/cpu_feature_guard.cc:210] This TensorFlow binary is optimized to use available CPU instructions in performance-critical operations.\n",
      "To enable the following instructions: AVX2 AVX_VNNI FMA, in other operations, rebuild TensorFlow with the appropriate compiler flags.\n"
     ]
    }
   ],
   "source": [
    "from bleurt import score"
   ]
  },
  {
   "cell_type": "code",
   "execution_count": null,
   "metadata": {},
   "outputs": [],
   "source": [
    "df = pd.read_csv('answerList_data.csv')\n",
    "\n",
    "# API provided by running llm using Ollama locally\n",
    "url = \"http://localhost:11434/api/generate\"\n",
    "headers = {\n",
    "    \"Content-Type\": \"application/json\"\n",
    "}\n",
    "model_deepseek_llm = \"deepseek-llm:7b\"\n",
    "model_llama = \"llama3.2:3b\"\n",
    "data = {\n",
    "    \"model\": model_deepseek_llm,\n",
    "    \"prompt\": \"\",\n",
    "    \"stream\": False\n",
    "}\n",
    "\n",
    "explanations_df = df[(df['FailingMethod'] == 'HIT01_8') & (df['TP'] == 1)]\n",
    "ground_truth = 'The specification states, that the method \"DateTimeZone()\" accepts a minutes offset value in the range of -59 to 59 inlcusive. The method checks if this value, stored as \"minutesOffset\", is within these bounds on line 279, but incorrectly throws an \"IllegalArgumentException\" for any minutes offset less than zero instead of less than -59. To fix the issue and satisfy the specification, the conditional on line 279 should check for \"minutesOffset < -59\" instead.'"
   ]
  },
  {
   "cell_type": "markdown",
   "metadata": {},
   "source": [
    "## Prompting\n",
    "\n",
    "We prompt the model to generate an explanation of the failure, including a fix, based on the given explanations. We prompt the model to present the output in valid json.\n",
    "\n",
    "During each run we increase the number of explanations given to the model."
   ]
  },
  {
   "cell_type": "code",
   "execution_count": 93,
   "metadata": {},
   "outputs": [],
   "source": [
    "prompt_task = \"###Task:\\nYou are a professional software developer. You are given a number of explanations describing the root of cause and possible fix to a software failure. Based on the given explanations, write a single explanation that contains all the information required to understand and fix the bug. The explanation should be succinct and without redundant information\"\n",
    "\n",
    "prompt_input = \"### Input:\\n\\nHere are the failure explanations:\\n\\n\"\n",
    "\n",
    "prompt_output = \"### Output:\\nFormat your response in valid JSON format with a single field 'explanation' of type string containing your generated explanation.\""
   ]
  },
  {
   "cell_type": "code",
   "execution_count": 94,
   "metadata": {},
   "outputs": [],
   "source": [
    "def calculateFleschReadingEase(candidate) -> float:\n",
    "    return textstat.flesch_reading_ease(candidate)\n",
    "\n",
    "# Calculates BLEURT score of candidate compared to reference\n",
    "# Requires the BLEURT-20 checkpoint to run\n",
    "def calculateBleurtScore(references, candidates) -> list:\n",
    "    scorer = bleurt.score.LengthBatchingBleurtScorer(checkpoint='BLEURT-20')\n",
    "    bleurt_scores = scorer.score(references=references, candidates=candidates)\n",
    "    return bleurt_scores"
   ]
  },
  {
   "cell_type": "code",
   "execution_count": 96,
   "metadata": {},
   "outputs": [
    {
     "name": "stdout",
     "output_type": "stream",
     "text": [
      "INFO:tensorflow:Reading checkpoint BLEURT-20.\n"
     ]
    },
    {
     "name": "stderr",
     "output_type": "stream",
     "text": [
      "INFO:tensorflow:Reading checkpoint BLEURT-20.\n"
     ]
    },
    {
     "name": "stdout",
     "output_type": "stream",
     "text": [
      "INFO:tensorflow:Config file found, reading.\n"
     ]
    },
    {
     "name": "stderr",
     "output_type": "stream",
     "text": [
      "INFO:tensorflow:Config file found, reading.\n"
     ]
    },
    {
     "name": "stdout",
     "output_type": "stream",
     "text": [
      "INFO:tensorflow:Will load checkpoint BLEURT-20\n"
     ]
    },
    {
     "name": "stderr",
     "output_type": "stream",
     "text": [
      "INFO:tensorflow:Will load checkpoint BLEURT-20\n"
     ]
    },
    {
     "name": "stdout",
     "output_type": "stream",
     "text": [
      "INFO:tensorflow:Loads full paths and checks that files exists.\n"
     ]
    },
    {
     "name": "stderr",
     "output_type": "stream",
     "text": [
      "INFO:tensorflow:Loads full paths and checks that files exists.\n"
     ]
    },
    {
     "name": "stdout",
     "output_type": "stream",
     "text": [
      "INFO:tensorflow:... name:BLEURT-20\n"
     ]
    },
    {
     "name": "stderr",
     "output_type": "stream",
     "text": [
      "INFO:tensorflow:... name:BLEURT-20\n"
     ]
    },
    {
     "name": "stdout",
     "output_type": "stream",
     "text": [
      "INFO:tensorflow:... bert_config_file:bert_config.json\n"
     ]
    },
    {
     "name": "stderr",
     "output_type": "stream",
     "text": [
      "INFO:tensorflow:... bert_config_file:bert_config.json\n"
     ]
    },
    {
     "name": "stdout",
     "output_type": "stream",
     "text": [
      "INFO:tensorflow:... max_seq_length:512\n"
     ]
    },
    {
     "name": "stderr",
     "output_type": "stream",
     "text": [
      "INFO:tensorflow:... max_seq_length:512\n"
     ]
    },
    {
     "name": "stdout",
     "output_type": "stream",
     "text": [
      "INFO:tensorflow:... vocab_file:None\n"
     ]
    },
    {
     "name": "stderr",
     "output_type": "stream",
     "text": [
      "INFO:tensorflow:... vocab_file:None\n"
     ]
    },
    {
     "name": "stdout",
     "output_type": "stream",
     "text": [
      "INFO:tensorflow:... do_lower_case:None\n"
     ]
    },
    {
     "name": "stderr",
     "output_type": "stream",
     "text": [
      "INFO:tensorflow:... do_lower_case:None\n"
     ]
    },
    {
     "name": "stdout",
     "output_type": "stream",
     "text": [
      "INFO:tensorflow:... sp_model:sent_piece\n"
     ]
    },
    {
     "name": "stderr",
     "output_type": "stream",
     "text": [
      "INFO:tensorflow:... sp_model:sent_piece\n"
     ]
    },
    {
     "name": "stdout",
     "output_type": "stream",
     "text": [
      "INFO:tensorflow:... dynamic_seq_length:True\n"
     ]
    },
    {
     "name": "stderr",
     "output_type": "stream",
     "text": [
      "INFO:tensorflow:... dynamic_seq_length:True\n"
     ]
    },
    {
     "name": "stdout",
     "output_type": "stream",
     "text": [
      "INFO:tensorflow:Creating BLEURT scorer.\n"
     ]
    },
    {
     "name": "stderr",
     "output_type": "stream",
     "text": [
      "INFO:tensorflow:Creating BLEURT scorer.\n"
     ]
    },
    {
     "name": "stdout",
     "output_type": "stream",
     "text": [
      "INFO:tensorflow:Creating SentencePiece tokenizer.\n"
     ]
    },
    {
     "name": "stderr",
     "output_type": "stream",
     "text": [
      "INFO:tensorflow:Creating SentencePiece tokenizer.\n"
     ]
    },
    {
     "name": "stdout",
     "output_type": "stream",
     "text": [
      "INFO:tensorflow:Creating SentencePiece tokenizer.\n"
     ]
    },
    {
     "name": "stderr",
     "output_type": "stream",
     "text": [
      "INFO:tensorflow:Creating SentencePiece tokenizer.\n"
     ]
    },
    {
     "name": "stdout",
     "output_type": "stream",
     "text": [
      "INFO:tensorflow:Will load model: BLEURT-20/sent_piece.model.\n"
     ]
    },
    {
     "name": "stderr",
     "output_type": "stream",
     "text": [
      "INFO:tensorflow:Will load model: BLEURT-20/sent_piece.model.\n"
     ]
    },
    {
     "name": "stdout",
     "output_type": "stream",
     "text": [
      "INFO:tensorflow:SentencePiece tokenizer created.\n"
     ]
    },
    {
     "name": "stderr",
     "output_type": "stream",
     "text": [
      "INFO:tensorflow:SentencePiece tokenizer created.\n"
     ]
    },
    {
     "name": "stdout",
     "output_type": "stream",
     "text": [
      "INFO:tensorflow:Creating Eager Mode predictor.\n"
     ]
    },
    {
     "name": "stderr",
     "output_type": "stream",
     "text": [
      "INFO:tensorflow:Creating Eager Mode predictor.\n"
     ]
    },
    {
     "name": "stdout",
     "output_type": "stream",
     "text": [
      "INFO:tensorflow:Loading model.\n"
     ]
    },
    {
     "name": "stderr",
     "output_type": "stream",
     "text": [
      "INFO:tensorflow:Loading model.\n"
     ]
    },
    {
     "name": "stdout",
     "output_type": "stream",
     "text": [
      "INFO:tensorflow:BLEURT initialized.\n"
     ]
    },
    {
     "name": "stderr",
     "output_type": "stream",
     "text": [
      "INFO:tensorflow:BLEURT initialized.\n"
     ]
    },
    {
     "name": "stdout",
     "output_type": "stream",
     "text": [
      "INFO:tensorflow:Average batch sequence length: 194.5\n"
     ]
    },
    {
     "name": "stderr",
     "output_type": "stream",
     "text": [
      "INFO:tensorflow:Average batch sequence length: 194.5\n"
     ]
    }
   ],
   "source": [
    "# Calculate readability and BLEURT of original explanations\n",
    "\n",
    "def calculate_original_metrics(original_df):\n",
    "    original_id = original_df['Answer.ID'].to_list()\n",
    "    original_explanations = original_df['Answer.explanation'].to_list()\n",
    "    explanation_readability = [calculateFleschReadingEase(expl) for expl in original_explanations]\n",
    "    explanation_bleurt = calculateBleurtScore([ground_truth] * len(original_explanations), original_explanations)\n",
    "    data = {\n",
    "        'Answer.ID': original_id,\n",
    "        'Answer.explanation': original_explanations,\n",
    "        'Answer.readability': explanation_readability,\n",
    "        'Answer.bleurt': explanation_bleurt\n",
    "    }\n",
    "    return pd.DataFrame(data)\n",
    "\n",
    "original_explanations_df = calculate_original_metrics(explanations_df)"
   ]
  },
  {
   "cell_type": "markdown",
   "metadata": {},
   "source": [
    "In order to choose which explanations we consolidate, we sort by which explanations that pass the readability threshold of `47.12` set by our ground truth have the highest similarity (BLEURT) score."
   ]
  },
  {
   "cell_type": "code",
   "execution_count": 98,
   "metadata": {},
   "outputs": [],
   "source": [
    "ground_truth_readability = calculateFleschReadingEase(ground_truth)\n",
    "original_explanations_df['Answer.readability_threshold'] = original_explanations_df['Answer.readability'] >= ground_truth_readability\n",
    "explanations_sorted_df = original_explanations_df.sort_values(by=['Answer.readability_threshold', 'Answer.bleurt'], ascending=False)"
   ]
  },
  {
   "cell_type": "code",
   "execution_count": 100,
   "metadata": {},
   "outputs": [],
   "source": [
    "def generate_explanations(explanations, url, headers, data, prompt_task, prompt_input, prompt_output=''):\n",
    "    explanation_text = explanations['Answer.explanation'].to_list()\n",
    "    input = ''\n",
    "    responses = []\n",
    "\n",
    "    for expl in tqdm.tqdm(explanation_text):\n",
    "        input = input + \"'''\\n\" + expl + \"\\n'''\\n\\n\"\n",
    "        prompt = prompt_task + prompt_input + input + prompt_output\n",
    "        data['prompt'] = prompt\n",
    "        response = requests.post(url, headers=headers, data=json.dumps(data))\n",
    "        if (response.status_code == 200):\n",
    "            responses.append({'prompt': prompt, 'result': json.loads(response.text)['response']})\n",
    "    return responses"
   ]
  },
  {
   "cell_type": "code",
   "execution_count": null,
   "metadata": {},
   "outputs": [
    {
     "name": "stderr",
     "output_type": "stream",
     "text": [
      "100%|██████████| 31/31 [06:16<00:00, 12.14s/it]\n"
     ]
    }
   ],
   "source": [
    "data_llama = data.copy()\n",
    "data_llama['model'] = model_llama\n",
    "responses = generate_explanations(explanations_sorted_df, url, headers, data, prompt_task, prompt_input)\n",
    "responses_llama = generate_explanations(explanations_sorted_df, url, headers, data_llama, prompt_task, prompt_input)"
   ]
  },
  {
   "cell_type": "code",
   "execution_count": 101,
   "metadata": {},
   "outputs": [
    {
     "name": "stderr",
     "output_type": "stream",
     "text": [
      "100%|██████████| 31/31 [04:52<00:00,  9.45s/it]\n"
     ]
    }
   ],
   "source": [
    "schema = {\n",
    "    \"$schema\": \"ase-schema\",\n",
    "    \"title\": \"Explanation\",\n",
    "    \"description\": \"A failure explanation\",\n",
    "    \"type\": \"object\",\n",
    "    \"properties\": {\n",
    "        \"explanation\": {\n",
    "            \"description\": \"The generated explanation\",\n",
    "            \"type\": \"string\"\n",
    "        }\n",
    "    },\n",
    "    \"required\": [\"explanation\"]\n",
    "}\n",
    "# data_json = {\n",
    "#     \"model\": model_deepseek_llm,\n",
    "#     \"prompt\": \"\",\n",
    "#     \"stream\": False,\n",
    "#     \"format\": \"json\"\n",
    "# }\n",
    "data_json = {\n",
    "    \"model\": model_deepseek_llm,\n",
    "    \"prompt\": \"\",\n",
    "    \"stream\": False,\n",
    "    \"format\": schema\n",
    "}\n",
    "responses_json = generate_explanations(explanations_sorted_df, url, headers, data_json, prompt_task, prompt_input, prompt_output)"
   ]
  },
  {
   "cell_type": "code",
   "execution_count": 102,
   "metadata": {},
   "outputs": [
    {
     "name": "stdout",
     "output_type": "stream",
     "text": [
      "INFO:tensorflow:Reading checkpoint BLEURT-20.\n"
     ]
    },
    {
     "name": "stderr",
     "output_type": "stream",
     "text": [
      "INFO:tensorflow:Reading checkpoint BLEURT-20.\n"
     ]
    },
    {
     "name": "stdout",
     "output_type": "stream",
     "text": [
      "INFO:tensorflow:Config file found, reading.\n"
     ]
    },
    {
     "name": "stderr",
     "output_type": "stream",
     "text": [
      "INFO:tensorflow:Config file found, reading.\n"
     ]
    },
    {
     "name": "stdout",
     "output_type": "stream",
     "text": [
      "INFO:tensorflow:Will load checkpoint BLEURT-20\n"
     ]
    },
    {
     "name": "stderr",
     "output_type": "stream",
     "text": [
      "INFO:tensorflow:Will load checkpoint BLEURT-20\n"
     ]
    },
    {
     "name": "stdout",
     "output_type": "stream",
     "text": [
      "INFO:tensorflow:Loads full paths and checks that files exists.\n"
     ]
    },
    {
     "name": "stderr",
     "output_type": "stream",
     "text": [
      "INFO:tensorflow:Loads full paths and checks that files exists.\n"
     ]
    },
    {
     "name": "stdout",
     "output_type": "stream",
     "text": [
      "INFO:tensorflow:... name:BLEURT-20\n"
     ]
    },
    {
     "name": "stderr",
     "output_type": "stream",
     "text": [
      "INFO:tensorflow:... name:BLEURT-20\n"
     ]
    },
    {
     "name": "stdout",
     "output_type": "stream",
     "text": [
      "INFO:tensorflow:... bert_config_file:bert_config.json\n"
     ]
    },
    {
     "name": "stderr",
     "output_type": "stream",
     "text": [
      "INFO:tensorflow:... bert_config_file:bert_config.json\n"
     ]
    },
    {
     "name": "stdout",
     "output_type": "stream",
     "text": [
      "INFO:tensorflow:... max_seq_length:512\n"
     ]
    },
    {
     "name": "stderr",
     "output_type": "stream",
     "text": [
      "INFO:tensorflow:... max_seq_length:512\n"
     ]
    },
    {
     "name": "stdout",
     "output_type": "stream",
     "text": [
      "INFO:tensorflow:... vocab_file:None\n"
     ]
    },
    {
     "name": "stderr",
     "output_type": "stream",
     "text": [
      "INFO:tensorflow:... vocab_file:None\n"
     ]
    },
    {
     "name": "stdout",
     "output_type": "stream",
     "text": [
      "INFO:tensorflow:... do_lower_case:None\n"
     ]
    },
    {
     "name": "stderr",
     "output_type": "stream",
     "text": [
      "INFO:tensorflow:... do_lower_case:None\n"
     ]
    },
    {
     "name": "stdout",
     "output_type": "stream",
     "text": [
      "INFO:tensorflow:... sp_model:sent_piece\n"
     ]
    },
    {
     "name": "stderr",
     "output_type": "stream",
     "text": [
      "INFO:tensorflow:... sp_model:sent_piece\n"
     ]
    },
    {
     "name": "stdout",
     "output_type": "stream",
     "text": [
      "INFO:tensorflow:... dynamic_seq_length:True\n"
     ]
    },
    {
     "name": "stderr",
     "output_type": "stream",
     "text": [
      "INFO:tensorflow:... dynamic_seq_length:True\n"
     ]
    },
    {
     "name": "stdout",
     "output_type": "stream",
     "text": [
      "INFO:tensorflow:Creating BLEURT scorer.\n"
     ]
    },
    {
     "name": "stderr",
     "output_type": "stream",
     "text": [
      "INFO:tensorflow:Creating BLEURT scorer.\n"
     ]
    },
    {
     "name": "stdout",
     "output_type": "stream",
     "text": [
      "INFO:tensorflow:Creating SentencePiece tokenizer.\n"
     ]
    },
    {
     "name": "stderr",
     "output_type": "stream",
     "text": [
      "INFO:tensorflow:Creating SentencePiece tokenizer.\n"
     ]
    },
    {
     "name": "stdout",
     "output_type": "stream",
     "text": [
      "INFO:tensorflow:Creating SentencePiece tokenizer.\n"
     ]
    },
    {
     "name": "stderr",
     "output_type": "stream",
     "text": [
      "INFO:tensorflow:Creating SentencePiece tokenizer.\n"
     ]
    },
    {
     "name": "stdout",
     "output_type": "stream",
     "text": [
      "INFO:tensorflow:Will load model: BLEURT-20/sent_piece.model.\n"
     ]
    },
    {
     "name": "stderr",
     "output_type": "stream",
     "text": [
      "INFO:tensorflow:Will load model: BLEURT-20/sent_piece.model.\n"
     ]
    },
    {
     "name": "stdout",
     "output_type": "stream",
     "text": [
      "INFO:tensorflow:SentencePiece tokenizer created.\n"
     ]
    },
    {
     "name": "stderr",
     "output_type": "stream",
     "text": [
      "INFO:tensorflow:SentencePiece tokenizer created.\n"
     ]
    },
    {
     "name": "stdout",
     "output_type": "stream",
     "text": [
      "INFO:tensorflow:Creating Eager Mode predictor.\n"
     ]
    },
    {
     "name": "stderr",
     "output_type": "stream",
     "text": [
      "INFO:tensorflow:Creating Eager Mode predictor.\n"
     ]
    },
    {
     "name": "stdout",
     "output_type": "stream",
     "text": [
      "INFO:tensorflow:Loading model.\n"
     ]
    },
    {
     "name": "stderr",
     "output_type": "stream",
     "text": [
      "INFO:tensorflow:Loading model.\n"
     ]
    },
    {
     "name": "stdout",
     "output_type": "stream",
     "text": [
      "INFO:tensorflow:BLEURT initialized.\n"
     ]
    },
    {
     "name": "stderr",
     "output_type": "stream",
     "text": [
      "INFO:tensorflow:BLEURT initialized.\n"
     ]
    },
    {
     "name": "stdout",
     "output_type": "stream",
     "text": [
      "INFO:tensorflow:Average batch sequence length: 181.0\n"
     ]
    },
    {
     "name": "stderr",
     "output_type": "stream",
     "text": [
      "INFO:tensorflow:Average batch sequence length: 181.0\n"
     ]
    }
   ],
   "source": [
    "generated_explanations = [json.loads(r['result'])['explanation'] for r in responses_json]\n",
    "generated_explanations_readability = [calculateFleschReadingEase(expl) for expl in generated_explanations]\n",
    "generated_explanations_bleurt = calculateBleurtScore([ground_truth] * len(generated_explanations), generated_explanations)\n",
    "df_data = {\n",
    "    'generated_explanation': generated_explanations,\n",
    "    'readability': generated_explanations_readability,\n",
    "    'bleurt': generated_explanations_bleurt\n",
    "}\n",
    "generated_explanations_df = pd.DataFrame(df_data)"
   ]
  },
  {
   "cell_type": "code",
   "execution_count": 103,
   "metadata": {},
   "outputs": [
    {
     "data": {
      "text/plain": [
       "array([<Axes: >, <Axes: >], dtype=object)"
      ]
     },
     "execution_count": 103,
     "metadata": {},
     "output_type": "execute_result"
    },
    {
     "data": {
      "image/png": "[encoded data removed]",
      "text/plain": [
       "<Figure size 640x480 with 2 Axes>"
      ]
     },
     "metadata": {},
     "output_type": "display_data"
    }
   ],
   "source": [
    "generated_explanations_df.plot(subplots=True)"
   ]
  },
  {
   "cell_type": "code",
   "execution_count": 104,
   "metadata": {},
   "outputs": [
    {
     "data": {
      "text/plain": [
       "47.12"
      ]
     },
     "execution_count": 104,
     "metadata": {},
     "output_type": "execute_result"
    }
   ],
   "source": [
    "calculateFleschReadingEase(ground_truth)"
   ]
  },
  {
   "cell_type": "code",
   "execution_count": 105,
   "metadata": {},
   "outputs": [
    {
     "data": {
      "text/html": [
       "<div>\n",
       "<style scoped>\n",
       "    .dataframe tbody tr th:only-of-type {\n",
       "        vertical-align: middle;\n",
       "    }\n",
       "\n",
       "    .dataframe tbody tr th {\n",
       "        vertical-align: top;\n",
       "    }\n",
       "\n",
       "    .dataframe thead th {\n",
       "        text-align: right;\n",
       "    }\n",
       "</style>\n",
       "<table border=\"1\" class=\"dataframe\">\n",
       "  <thead>\n",
       "    <tr style=\"text-align: right;\">\n",
       "      <th></th>\n",
       "      <th>generated_explanation</th>\n",
       "      <th>readability</th>\n",
       "      <th>bleurt</th>\n",
       "    </tr>\n",
       "  </thead>\n",
       "  <tbody>\n",
       "    <tr>\n",
       "      <th>28</th>\n",
       "      <td>The error occurs on line 279 when checking if ...</td>\n",
       "      <td>72.66</td>\n",
       "      <td>0.515562</td>\n",
       "    </tr>\n",
       "    <tr>\n",
       "      <th>30</th>\n",
       "      <td>The exception is thrown on line 279 due to the...</td>\n",
       "      <td>47.28</td>\n",
       "      <td>0.512807</td>\n",
       "    </tr>\n",
       "    <tr>\n",
       "      <th>19</th>\n",
       "      <td>The code is checking if the value of 'minutesO...</td>\n",
       "      <td>55.58</td>\n",
       "      <td>0.510120</td>\n",
       "    </tr>\n",
       "    <tr>\n",
       "      <th>26</th>\n",
       "      <td>The error occurs on line 279 due to the value ...</td>\n",
       "      <td>70.47</td>\n",
       "      <td>0.489959</td>\n",
       "    </tr>\n",
       "    <tr>\n",
       "      <th>27</th>\n",
       "      <td>The error is occurring on line 279 because the...</td>\n",
       "      <td>58.62</td>\n",
       "      <td>0.482011</td>\n",
       "    </tr>\n",
       "    <tr>\n",
       "      <th>23</th>\n",
       "      <td>The error is occurring on line 279 due to the ...</td>\n",
       "      <td>52.90</td>\n",
       "      <td>0.476840</td>\n",
       "    </tr>\n",
       "    <tr>\n",
       "      <th>22</th>\n",
       "      <td>The error is occurring on line 279 due to the ...</td>\n",
       "      <td>55.24</td>\n",
       "      <td>0.475518</td>\n",
       "    </tr>\n",
       "    <tr>\n",
       "      <th>16</th>\n",
       "      <td>The given error occurs at line 279 when the mi...</td>\n",
       "      <td>49.49</td>\n",
       "      <td>0.462552</td>\n",
       "    </tr>\n",
       "    <tr>\n",
       "      <th>4</th>\n",
       "      <td>The conditional statement on line 279 is check...</td>\n",
       "      <td>60.65</td>\n",
       "      <td>0.461841</td>\n",
       "    </tr>\n",
       "    <tr>\n",
       "      <th>5</th>\n",
       "      <td>The given negative minuteOffset value (-15) is...</td>\n",
       "      <td>34.94</td>\n",
       "      <td>0.458791</td>\n",
       "    </tr>\n",
       "    <tr>\n",
       "      <th>14</th>\n",
       "      <td>The error occurs when the value of minutesOffs...</td>\n",
       "      <td>57.77</td>\n",
       "      <td>0.458162</td>\n",
       "    </tr>\n",
       "    <tr>\n",
       "      <th>3</th>\n",
       "      <td>The issue lies within the conditional statemen...</td>\n",
       "      <td>46.27</td>\n",
       "      <td>0.457763</td>\n",
       "    </tr>\n",
       "    <tr>\n",
       "      <th>8</th>\n",
       "      <td>The conditional clause checks if the value of ...</td>\n",
       "      <td>66.57</td>\n",
       "      <td>0.452272</td>\n",
       "    </tr>\n",
       "    <tr>\n",
       "      <th>21</th>\n",
       "      <td>The error is occurring on line 279 due to the ...</td>\n",
       "      <td>56.08</td>\n",
       "      <td>0.447966</td>\n",
       "    </tr>\n",
       "    <tr>\n",
       "      <th>20</th>\n",
       "      <td>The code checks if the value of minutesOffset ...</td>\n",
       "      <td>54.90</td>\n",
       "      <td>0.444290</td>\n",
       "    </tr>\n",
       "    <tr>\n",
       "      <th>15</th>\n",
       "      <td>The code throws an exception when the value fo...</td>\n",
       "      <td>44.07</td>\n",
       "      <td>0.442140</td>\n",
       "    </tr>\n",
       "    <tr>\n",
       "      <th>13</th>\n",
       "      <td>The software failure occurs when the value of ...</td>\n",
       "      <td>44.41</td>\n",
       "      <td>0.439394</td>\n",
       "    </tr>\n",
       "    <tr>\n",
       "      <th>18</th>\n",
       "      <td>The code checks if the value of 'minutesOffset...</td>\n",
       "      <td>52.87</td>\n",
       "      <td>0.438497</td>\n",
       "    </tr>\n",
       "    <tr>\n",
       "      <th>24</th>\n",
       "      <td>The code is checking if the value of minutesOf...</td>\n",
       "      <td>71.65</td>\n",
       "      <td>0.435711</td>\n",
       "    </tr>\n",
       "    <tr>\n",
       "      <th>11</th>\n",
       "      <td>The error occurs when passing a negative value...</td>\n",
       "      <td>44.24</td>\n",
       "      <td>0.435073</td>\n",
       "    </tr>\n",
       "    <tr>\n",
       "      <th>0</th>\n",
       "      <td>The failure occurs due to a condition check in...</td>\n",
       "      <td>53.55</td>\n",
       "      <td>0.434821</td>\n",
       "    </tr>\n",
       "    <tr>\n",
       "      <th>17</th>\n",
       "      <td>The error occurs on line 279 of the code due t...</td>\n",
       "      <td>57.61</td>\n",
       "      <td>0.434540</td>\n",
       "    </tr>\n",
       "    <tr>\n",
       "      <th>12</th>\n",
       "      <td>The code is checking if the `minutesOffset` va...</td>\n",
       "      <td>42.04</td>\n",
       "      <td>0.431753</td>\n",
       "    </tr>\n",
       "    <tr>\n",
       "      <th>6</th>\n",
       "      <td>The conditional clause on lines 279-280 reject...</td>\n",
       "      <td>42.04</td>\n",
       "      <td>0.431526</td>\n",
       "    </tr>\n",
       "    <tr>\n",
       "      <th>2</th>\n",
       "      <td>The error occurs due to the conditional clause...</td>\n",
       "      <td>45.09</td>\n",
       "      <td>0.425581</td>\n",
       "    </tr>\n",
       "    <tr>\n",
       "      <th>1</th>\n",
       "      <td>The failure occurs due to a conditional clause...</td>\n",
       "      <td>45.43</td>\n",
       "      <td>0.415969</td>\n",
       "    </tr>\n",
       "    <tr>\n",
       "      <th>10</th>\n",
       "      <td>The software failure occurs when you pass a ne...</td>\n",
       "      <td>59.64</td>\n",
       "      <td>0.412279</td>\n",
       "    </tr>\n",
       "    <tr>\n",
       "      <th>29</th>\n",
       "      <td>The issue arises from line 279, where the vari...</td>\n",
       "      <td>41.66</td>\n",
       "      <td>0.399567</td>\n",
       "    </tr>\n",
       "    <tr>\n",
       "      <th>9</th>\n",
       "      <td>The given error occurs when the value of minut...</td>\n",
       "      <td>35.61</td>\n",
       "      <td>0.395894</td>\n",
       "    </tr>\n",
       "    <tr>\n",
       "      <th>7</th>\n",
       "      <td>The program checks for negative or greater tha...</td>\n",
       "      <td>52.53</td>\n",
       "      <td>0.391541</td>\n",
       "    </tr>\n",
       "    <tr>\n",
       "      <th>25</th>\n",
       "      <td>The given value for minutesOffset, -15, is les...</td>\n",
       "      <td>55.58</td>\n",
       "      <td>0.383958</td>\n",
       "    </tr>\n",
       "  </tbody>\n",
       "</table>\n",
       "</div>"
      ],
      "text/plain": [
       "                                generated_explanation  readability    bleurt\n",
       "28  The error occurs on line 279 when checking if ...        72.66  0.515562\n",
       "30  The exception is thrown on line 279 due to the...        47.28  0.512807\n",
       "19  The code is checking if the value of 'minutesO...        55.58  0.510120\n",
       "26  The error occurs on line 279 due to the value ...        70.47  0.489959\n",
       "27  The error is occurring on line 279 because the...        58.62  0.482011\n",
       "23  The error is occurring on line 279 due to the ...        52.90  0.476840\n",
       "22  The error is occurring on line 279 due to the ...        55.24  0.475518\n",
       "16  The given error occurs at line 279 when the mi...        49.49  0.462552\n",
       "4   The conditional statement on line 279 is check...        60.65  0.461841\n",
       "5   The given negative minuteOffset value (-15) is...        34.94  0.458791\n",
       "14  The error occurs when the value of minutesOffs...        57.77  0.458162\n",
       "3   The issue lies within the conditional statemen...        46.27  0.457763\n",
       "8   The conditional clause checks if the value of ...        66.57  0.452272\n",
       "21  The error is occurring on line 279 due to the ...        56.08  0.447966\n",
       "20  The code checks if the value of minutesOffset ...        54.90  0.444290\n",
       "15  The code throws an exception when the value fo...        44.07  0.442140\n",
       "13  The software failure occurs when the value of ...        44.41  0.439394\n",
       "18  The code checks if the value of 'minutesOffset...        52.87  0.438497\n",
       "24  The code is checking if the value of minutesOf...        71.65  0.435711\n",
       "11  The error occurs when passing a negative value...        44.24  0.435073\n",
       "0   The failure occurs due to a condition check in...        53.55  0.434821\n",
       "17  The error occurs on line 279 of the code due t...        57.61  0.434540\n",
       "12  The code is checking if the `minutesOffset` va...        42.04  0.431753\n",
       "6   The conditional clause on lines 279-280 reject...        42.04  0.431526\n",
       "2   The error occurs due to the conditional clause...        45.09  0.425581\n",
       "1   The failure occurs due to a conditional clause...        45.43  0.415969\n",
       "10  The software failure occurs when you pass a ne...        59.64  0.412279\n",
       "29  The issue arises from line 279, where the vari...        41.66  0.399567\n",
       "9   The given error occurs when the value of minut...        35.61  0.395894\n",
       "7   The program checks for negative or greater tha...        52.53  0.391541\n",
       "25  The given value for minutesOffset, -15, is les...        55.58  0.383958"
      ]
     },
     "execution_count": 105,
     "metadata": {},
     "output_type": "execute_result"
    }
   ],
   "source": [
    "generated_explanations_df.sort_values(by=['bleurt', 'readability'], ascending=False)"
   ]
  },
  {
   "cell_type": "code",
   "execution_count": 106,
   "metadata": {},
   "outputs": [],
   "source": [
    "generated_explanations_df.to_csv('generated_explanations_w_score.csv', encoding='utf-8')"
   ]
  },
  {
   "cell_type": "markdown",
   "metadata": {},
   "source": [
    "As we can see, none of the generated explanations lie above our previously postulated similarity threshold of `0.75`. The highest BLEURT score being `0.515562`, with a readability of `72.66` that is above our reference threshhold of `47.12`, however. This is the best explanation in terms of our metrics, achieved after combining 29 (indexing starts at 0) original explanations.\n",
    "\n",
    "A relatively close explanation, in terms of both metrics, was generated with only 20 explanations with a BLEURT score of `0.510120` and a readability of `55.58`.\n",
    "\n",
    "The generation of consolidated explanations seems not very consistent, however, since combining 5 explanations already yielded a BLEURT score of `0.461841` and a readability of `60.65`, with a lot of generated explanations based on additional input resulting in explanations with lower BLEURT scores, although the gap is relatively small in general."
   ]
  }
 ],
 "metadata": {
  "kernelspec": {
   "display_name": ".venv",
   "language": "python",
   "name": "python3"
  },
  "language_info": {
   "codemirror_mode": {
    "name": "ipython",
    "version": 3
   },
   "file_extension": ".py",
   "mimetype": "text/x-python",
   "name": "python",
   "nbconvert_exporter": "python",
   "pygments_lexer": "ipython3",
   "version": "3.10.12"
  }
 },
 "nbformat": 4,
 "nbformat_minor": 2
}
