{
 "cells": [
  {
   "cell_type": "markdown",
   "metadata": {},
   "source": [
    "### Import & Preprocessing"
   ]
  },
  {
   "cell_type": "code",
   "execution_count": 57,
   "metadata": {},
   "outputs": [
    {
     "name": "stdout",
     "output_type": "stream",
     "text": [
      "   Answer.ID FailingMethod  Question.ID  Answer.duration  Answer.confidence  \\\n",
      "0        261       HIT01_8            0           90.984                  4   \n",
      "1        262       HIT01_8            0          133.711                  5   \n",
      "\n",
      "   Answer.difficulty  GroundTruth  TP  TN  FN  ...  Code.complexity  \\\n",
      "0                  2            0   0   1   0  ...                1   \n",
      "1                  1            0   0   1   0  ...                1   \n",
      "\n",
      "                       Worker.ID  Worker.score      Worker.profession  \\\n",
      "0  832cg-7G1i-462:73eI-8E-2g-985             5  Undergraduate_Student   \n",
      "1                  98ce7A-4i-507             4  Undergraduate_Student   \n",
      "\n",
      "   Worker.yearsOfExperience  Worker.age Worker.gender  \\\n",
      "0                       7.0          21          Male   \n",
      "1                      10.0          25        Female   \n",
      "\n",
      "    Worker.whereLearnedToCode Worker.country  Worker.programmingLanguage  \n",
      "0                 High School  United States               Java; C++; C#  \n",
      "1  High School;University;Web  United States                          c#  \n",
      "\n",
      "[2 rows x 25 columns]\n"
     ]
    }
   ],
   "source": [
    "import pandas as pd\n",
    "import random\n",
    "import re\n",
    "\n",
    "# read the data\n",
    "data = pd.read_csv(\"../../data/answerList_data.csv\")\n",
    "print(data.head(2))\n"
   ]
  },
  {
   "cell_type": "code",
   "execution_count": 58,
   "metadata": {},
   "outputs": [
    {
     "name": "stdout",
     "output_type": "stream",
     "text": [
      "0    0.875000\n",
      "1    0.846154\n",
      "2    0.733333\n",
      "3    0.909091\n",
      "4    0.882353\n",
      "Name: TTR, dtype: float64\n",
      "0    hoursOffset accepts negative numbers between -...\n",
      "1    the conditional clause is correct for the give...\n",
      "2    The argument -2 is within the range (-23;23); ...\n",
      "3    The exception is in no way related to the hour...\n",
      "4    The issue cannot be with hoursOffset since the...\n",
      "Name: Answer.explanation, dtype: object\n"
     ]
    }
   ],
   "source": [
    "# Calculate Type-Token Ratio (TTR)\n",
    "def calculate_ttr(text):\n",
    "    # Tokenize the text by splitting on non-alphabetic characters and converting to lowercase\n",
    "    text = str(text)\n",
    "    tokens = re.findall(r'\\b\\w+\\b', text.lower())  # Tokenize and ignore case\n",
    "    types = set(tokens)  # Unique words\n",
    "    num_tokens = len(tokens)\n",
    "    num_types = len(types)\n",
    "    \n",
    "    # Calculate TTR\n",
    "    return num_types / num_tokens if num_tokens > 0 else 0\n",
    "\n",
    "# Apply the function to the 'Answer.explanation' column\n",
    "data['TTR'] = data['Answer.explanation'].apply(calculate_ttr)\n",
    "\n",
    "print(data['TTR'].head())\n",
    "print(data['Answer.explanation'].head())"
   ]
  },
  {
   "cell_type": "code",
   "execution_count": 59,
   "metadata": {},
   "outputs": [],
   "source": [
    "# prepare the relevant columns\n",
    "\n",
    "# Worker profession is a string, convert to a number\n",
    "data[\"Worker.profession\"] = data[\"Worker.profession\"].astype('category').cat.codes\n",
    "#data['Worker.profession'] = data['Worker.profession'].map({'Other': 0, 'Hobbyist': 1, 'Undergraduate_Student': 2, 'Graduate_Student': 3, 'Professional_Developer':4})\n",
    "\n",
    "\n",
    "# Convert the Answer.option to a binary value\n",
    "# We decided to consider IDK as NO\n",
    "data['Answer.option'] = data['Answer.option'].map({'NO': 0, 'IDK': 0, 'YES': 1})\n",
    "\n",
    "# Override GroundTruth: 1 if GroundTruth == Answer.option, else 0\n",
    "# Meaning 1 if the participant answered correctly in accordance with the ground truth, else 0\n",
    "data[\"GroundTruth\"] = data.apply(lambda row: 1 if row[\"GroundTruth\"] == row[\"Answer.option\"] else 0, axis=1)\n",
    "\n",
    "# participant score and profession, duration, explanation size/complexity, confidence and difficulty\n",
    "relevant_columns=[\"Worker.score\", \"Worker.profession\", \"Answer.duration\", \"TTR\", \"Answer.confidence\", \n",
    "                  \"Answer.difficulty\", \"GroundTruth\", \"FailingMethod\", \"Answer.explanation\"]#, \"Answer.option\"]\n",
    "\n",
    "# discard the rest\n",
    "data = data[relevant_columns]"
   ]
  },
  {
   "cell_type": "code",
   "execution_count": 60,
   "metadata": {},
   "outputs": [],
   "source": [
    "# Ensure reproducibility\n",
    "random.seed(42)\n",
    "\n",
    "# Get all bug report names\n",
    "failing_methods = data['FailingMethod'].unique()\n",
    "\n",
    "# Create holdout and training set\n",
    "number_of_holdout_bug_reports = 2\n",
    "selected_failing_methods = random.sample(list(failing_methods), number_of_holdout_bug_reports)\n",
    "holdout_set = data[data['FailingMethod'].isin(selected_failing_methods)]\n",
    "training_set = data[~data['FailingMethod'].isin(selected_failing_methods)]"
   ]
  },
  {
   "cell_type": "code",
   "execution_count": 61,
   "metadata": {},
   "outputs": [
    {
     "name": "stdout",
     "output_type": "stream",
     "text": [
      "bug reports for training set: ['HIT03_6' 'HIT04_7' 'HIT05_35' 'HIT06_51' 'HIT07_33' 'HIT08_54']\n",
      "bug reports for holdout set: ['HIT01_8' 'HIT02_24']\n"
     ]
    }
   ],
   "source": [
    "print(\"bug reports for training set:\", training_set['FailingMethod'].unique())\n",
    "print(\"bug reports for holdout set:\", holdout_set['FailingMethod'].unique())"
   ]
  },
  {
   "cell_type": "markdown",
   "metadata": {},
   "source": [
    "### Training & Inference"
   ]
  },
  {
   "cell_type": "code",
   "execution_count": 62,
   "metadata": {},
   "outputs": [
    {
     "name": "stdout",
     "output_type": "stream",
     "text": [
      "Cross-Validation Precision: 0.738430583501006\n",
      "Cross-Validation Recall: 0.8951219512195122\n",
      "\n",
      "Cross-Validation Metrics per Bug Report:\n",
      "HIT03_6: Precision=0.71, Recall=0.90\n",
      "HIT04_7: Precision=0.76, Recall=0.89\n",
      "HIT05_35: Precision=0.62, Recall=0.81\n",
      "HIT06_51: Precision=0.75, Recall=0.91\n",
      "HIT07_33: Precision=0.70, Recall=0.88\n",
      "HIT08_54: Precision=0.77, Recall=0.91\n"
     ]
    },
    {
     "data": {
      "text/plain": [
       "RandomForestClassifier(random_state=42)"
      ]
     },
     "execution_count": 62,
     "metadata": {},
     "output_type": "execute_result"
    }
   ],
   "source": [
    "# train a decision tree based approach e.g. random forest\n",
    "\n",
    "from sklearn.ensemble import RandomForestClassifier\n",
    "from sklearn.model_selection import train_test_split, cross_val_score, cross_val_predict\n",
    "from sklearn.metrics import precision_score, recall_score, classification_report, accuracy_score\n",
    "\n",
    "# Use Ground_Truth as the target\n",
    "X = training_set.drop(columns=[\"GroundTruth\", \"FailingMethod\", \"Answer.explanation\"])\n",
    "y = training_set[\"GroundTruth\"]\n",
    "\n",
    "# Split the data into training and validation sets for cross-validation\n",
    "X_train, X_val, y_train, y_val = train_test_split(X, y, test_size=0.2, random_state=42)\n",
    "\n",
    "rf_classifier = RandomForestClassifier(random_state=42, n_estimators=100)\n",
    "\n",
    "cv_predictions = cross_val_predict(rf_classifier, X, y, cv=5) # cross validation\n",
    "\n",
    "# Calculate precision and recall\n",
    "cv_precision = precision_score(y, cv_predictions, average='binary')\n",
    "cv_recall = recall_score(y, cv_predictions, average='binary')\n",
    "\n",
    "print(\"Cross-Validation Precision:\", cv_precision)\n",
    "print(\"Cross-Validation Recall:\", cv_recall)\n",
    "\n",
    "# Calculate precision and recall per bug report \n",
    "bug_report_metrics = {}\n",
    "for bug_report in training_set[\"FailingMethod\"].unique():\n",
    "    mask = training_set[\"FailingMethod\"] == bug_report\n",
    "    # Filter both y and cv_predictions for the specific bug report\n",
    "    report_precision = precision_score(y[mask], cv_predictions[mask], average='binary')\n",
    "    report_recall = recall_score(y[mask], cv_predictions[mask], average='binary')\n",
    "    bug_report_metrics[bug_report] = {\"precision\": report_precision, \"recall\": report_recall}\n",
    "\n",
    "print(\"\\nCross-Validation Metrics per Bug Report:\")\n",
    "for bug_report, metrics in bug_report_metrics.items():\n",
    "    print(f\"{bug_report}: Precision={metrics['precision']:.2f}, Recall={metrics['recall']:.2f}\")\n",
    "\n",
    "# Train the model on the training set\n",
    "rf_classifier.fit(X_train, y_train)"
   ]
  },
  {
   "cell_type": "code",
   "execution_count": 63,
   "metadata": {},
   "outputs": [
    {
     "name": "stdout",
     "output_type": "stream",
     "text": [
      "1    1640\n",
      "0     620\n",
      "Name: GroundTruth, dtype: int64\n"
     ]
    }
   ],
   "source": [
    "# show distribution of data that should be predicted\n",
    "print(training_set[\"GroundTruth\"].value_counts())"
   ]
  },
  {
   "cell_type": "code",
   "execution_count": 64,
   "metadata": {},
   "outputs": [
    {
     "name": "stdout",
     "output_type": "stream",
     "text": [
      "0\n",
      "Empty DataFrame\n",
      "Columns: [Worker.score, Worker.profession, Answer.duration, TTR, Answer.confidence, Answer.difficulty, GroundTruth, FailingMethod, Answer.explanation]\n",
      "Index: []\n"
     ]
    }
   ],
   "source": [
    "print(holdout_set[\"GroundTruth\"].isnull().sum())\n",
    "\n",
    "# find out where the Nan values are\n",
    "print(holdout_set[holdout_set[\"GroundTruth\"].isnull()])"
   ]
  },
  {
   "cell_type": "code",
   "execution_count": 65,
   "metadata": {},
   "outputs": [
    {
     "name": "stdout",
     "output_type": "stream",
     "text": [
      "\n",
      "Holdout Precision: 0.7448275862068966\n",
      "Holdout Recall: 0.9230769230769231\n",
      "\n",
      "Holdout Set Metrics per Bug Report:\n",
      "HIT01_8: Precision=0.84, Recall=0.92\n",
      "HIT02_24: Precision=0.59, Recall=0.93\n"
     ]
    }
   ],
   "source": [
    "# predict on the holdout set\n",
    "X_holdout = holdout_set.drop(columns=[\"GroundTruth\", \"FailingMethod\", \"Answer.explanation\"])\n",
    "y_holdout = holdout_set[\"GroundTruth\"]\n",
    "holdout_predictions = rf_classifier.predict(X_holdout)\n",
    "# Calculate precision and recall on the holdout set\n",
    "holdout_precision = precision_score(y_holdout, holdout_predictions, average='binary')\n",
    "holdout_recall = recall_score(y_holdout, holdout_predictions, average='binary')\n",
    "print(\"\\nHoldout Precision:\", holdout_precision)\n",
    "print(\"Holdout Recall:\", holdout_recall)\n",
    "# Calculate holdout set metrics per bug report\n",
    "holdout_bug_report_metrics = {}\n",
    "for bug_report in holdout_set[\"FailingMethod\"].unique():\n",
    "    mask = holdout_set[\"FailingMethod\"] == bug_report\n",
    "    report_precision = precision_score(y_holdout[mask], holdout_predictions[mask], average='binary')\n",
    "    report_recall = recall_score(y_holdout[mask], holdout_predictions[mask], average='binary')\n",
    "    holdout_bug_report_metrics[bug_report] = {\"precision\": report_precision, \"recall\": report_recall}\n",
    "print(\"\\nHoldout Set Metrics per Bug Report:\")\n",
    "for bug_report, metrics in holdout_bug_report_metrics.items():\n",
    "    print(f\"{bug_report}: Precision={metrics['precision']:.2f}, Recall={metrics['recall']:.2f}\")"
   ]
  },
  {
   "cell_type": "code",
   "execution_count": 66,
   "metadata": {},
   "outputs": [
    {
     "name": "stdout",
     "output_type": "stream",
     "text": [
      "\n",
      "Feature Importances:\n",
      "Answer.duration: 0.418\n",
      "TTR: 0.245\n",
      "Answer.confidence: 0.102\n",
      "Answer.difficulty: 0.088\n",
      "Worker.profession: 0.088\n",
      "Worker.score: 0.059\n"
     ]
    },
    {
     "data": {
      "image/png": "[encoded data removed]",
      "text/plain": [
       "<Figure size 1000x600 with 1 Axes>"
      ]
     },
     "metadata": {},
     "output_type": "display_data"
    }
   ],
   "source": [
    "# identify the most important features\n",
    "feature_importances = rf_classifier.feature_importances_\n",
    "feature_names = X.columns\n",
    "feature_importance_dict = dict(zip(feature_names, feature_importances))\n",
    "sorted_feature_importances = sorted(feature_importance_dict.items(), key=lambda x: x[1], reverse=True)\n",
    "print(\"\\nFeature Importances:\")\n",
    "for feature, importance in sorted_feature_importances:\n",
    "    print(f\"{feature}: {importance:.3f}\")\n",
    "\n",
    "# make plot\n",
    "import matplotlib.pyplot as plt\n",
    "import seaborn as sns\n",
    "sns.set(style='whitegrid')\n",
    "plt.figure(figsize=(10, 6))\n",
    "sns.barplot(x=[x[1] for x in sorted_feature_importances], y=[x[0] for x in sorted_feature_importances])\n",
    "plt.xlabel('Feature Importance')\n",
    "plt.ylabel('Feature')\n",
    "plt.title('Random Forest Feature Importance')\n",
    "plt.show()"
   ]
  },
  {
   "cell_type": "code",
   "execution_count": 67,
   "metadata": {},
   "outputs": [
    {
     "ename": "KeyError",
     "evalue": "'Ground_Truth'",
     "output_type": "error",
     "traceback": [
      "\u001b[1;31m---------------------------------------------------------------------------\u001b[0m",
      "\u001b[1;31mKeyError\u001b[0m                                  Traceback (most recent call last)",
      "File \u001b[1;32mc:\\Users\\bzwad\\anaconda3\\envs\\DSWebscrape\\lib\\site-packages\\pandas\\core\\indexes\\base.py:3803\u001b[0m, in \u001b[0;36mIndex.get_loc\u001b[1;34m(self, key, method, tolerance)\u001b[0m\n\u001b[0;32m   3802\u001b[0m \u001b[38;5;28;01mtry\u001b[39;00m:\n\u001b[1;32m-> 3803\u001b[0m     \u001b[38;5;28;01mreturn\u001b[39;00m \u001b[38;5;28;43mself\u001b[39;49m\u001b[38;5;241;43m.\u001b[39;49m\u001b[43m_engine\u001b[49m\u001b[38;5;241;43m.\u001b[39;49m\u001b[43mget_loc\u001b[49m\u001b[43m(\u001b[49m\u001b[43mcasted_key\u001b[49m\u001b[43m)\u001b[49m\n\u001b[0;32m   3804\u001b[0m \u001b[38;5;28;01mexcept\u001b[39;00m \u001b[38;5;167;01mKeyError\u001b[39;00m \u001b[38;5;28;01mas\u001b[39;00m err:\n",
      "File \u001b[1;32mc:\\Users\\bzwad\\anaconda3\\envs\\DSWebscrape\\lib\\site-packages\\pandas\\_libs\\index.pyx:138\u001b[0m, in \u001b[0;36mpandas._libs.index.IndexEngine.get_loc\u001b[1;34m()\u001b[0m\n",
      "File \u001b[1;32mc:\\Users\\bzwad\\anaconda3\\envs\\DSWebscrape\\lib\\site-packages\\pandas\\_libs\\index.pyx:165\u001b[0m, in \u001b[0;36mpandas._libs.index.IndexEngine.get_loc\u001b[1;34m()\u001b[0m\n",
      "File \u001b[1;32mpandas\\_libs\\hashtable_class_helper.pxi:5745\u001b[0m, in \u001b[0;36mpandas._libs.hashtable.PyObjectHashTable.get_item\u001b[1;34m()\u001b[0m\n",
      "File \u001b[1;32mpandas\\_libs\\hashtable_class_helper.pxi:5753\u001b[0m, in \u001b[0;36mpandas._libs.hashtable.PyObjectHashTable.get_item\u001b[1;34m()\u001b[0m\n",
      "\u001b[1;31mKeyError\u001b[0m: 'Ground_Truth'",
      "\nThe above exception was the direct cause of the following exception:\n",
      "\u001b[1;31mKeyError\u001b[0m                                  Traceback (most recent call last)",
      "Cell \u001b[1;32mIn[67], line 14\u001b[0m\n\u001b[0;32m     12\u001b[0m \u001b[38;5;66;03m# Add a column indicating whether the prediction is correct\u001b[39;00m\n\u001b[0;32m     13\u001b[0m holdout_set \u001b[38;5;241m=\u001b[39m holdout_set\u001b[38;5;241m.\u001b[39mcopy()  \u001b[38;5;66;03m# Avoid SettingWithCopyWarning\u001b[39;00m\n\u001b[1;32m---> 14\u001b[0m holdout_set\u001b[38;5;241m.\u001b[39mloc[:, \u001b[38;5;124m'\u001b[39m\u001b[38;5;124mCorrect\u001b[39m\u001b[38;5;124m'\u001b[39m] \u001b[38;5;241m=\u001b[39m \u001b[43mholdout_set\u001b[49m\u001b[43m[\u001b[49m\u001b[38;5;124;43m'\u001b[39;49m\u001b[38;5;124;43mGround_Truth\u001b[39;49m\u001b[38;5;124;43m'\u001b[39;49m\u001b[43m]\u001b[49m \u001b[38;5;241m==\u001b[39m holdout_predictions\n\u001b[0;32m     16\u001b[0m \u001b[38;5;66;03m# Ensure 'Explanation.size' exists\u001b[39;00m\n\u001b[0;32m     17\u001b[0m holdout_set[\u001b[38;5;124m'\u001b[39m\u001b[38;5;124mExplanation.size\u001b[39m\u001b[38;5;124m'\u001b[39m] \u001b[38;5;241m=\u001b[39m holdout_set[\u001b[38;5;124m'\u001b[39m\u001b[38;5;124mAnswer.explanation\u001b[39m\u001b[38;5;124m'\u001b[39m]\u001b[38;5;241m.\u001b[39mapply(\u001b[38;5;28;01mlambda\u001b[39;00m x: \u001b[38;5;28mlen\u001b[39m(\u001b[38;5;28mstr\u001b[39m(x)))\n",
      "File \u001b[1;32mc:\\Users\\bzwad\\anaconda3\\envs\\DSWebscrape\\lib\\site-packages\\pandas\\core\\frame.py:3804\u001b[0m, in \u001b[0;36mDataFrame.__getitem__\u001b[1;34m(self, key)\u001b[0m\n\u001b[0;32m   3802\u001b[0m \u001b[38;5;28;01mif\u001b[39;00m \u001b[38;5;28mself\u001b[39m\u001b[38;5;241m.\u001b[39mcolumns\u001b[38;5;241m.\u001b[39mnlevels \u001b[38;5;241m>\u001b[39m \u001b[38;5;241m1\u001b[39m:\n\u001b[0;32m   3803\u001b[0m     \u001b[38;5;28;01mreturn\u001b[39;00m \u001b[38;5;28mself\u001b[39m\u001b[38;5;241m.\u001b[39m_getitem_multilevel(key)\n\u001b[1;32m-> 3804\u001b[0m indexer \u001b[38;5;241m=\u001b[39m \u001b[38;5;28;43mself\u001b[39;49m\u001b[38;5;241;43m.\u001b[39;49m\u001b[43mcolumns\u001b[49m\u001b[38;5;241;43m.\u001b[39;49m\u001b[43mget_loc\u001b[49m\u001b[43m(\u001b[49m\u001b[43mkey\u001b[49m\u001b[43m)\u001b[49m\n\u001b[0;32m   3805\u001b[0m \u001b[38;5;28;01mif\u001b[39;00m is_integer(indexer):\n\u001b[0;32m   3806\u001b[0m     indexer \u001b[38;5;241m=\u001b[39m [indexer]\n",
      "File \u001b[1;32mc:\\Users\\bzwad\\anaconda3\\envs\\DSWebscrape\\lib\\site-packages\\pandas\\core\\indexes\\base.py:3805\u001b[0m, in \u001b[0;36mIndex.get_loc\u001b[1;34m(self, key, method, tolerance)\u001b[0m\n\u001b[0;32m   3803\u001b[0m     \u001b[38;5;28;01mreturn\u001b[39;00m \u001b[38;5;28mself\u001b[39m\u001b[38;5;241m.\u001b[39m_engine\u001b[38;5;241m.\u001b[39mget_loc(casted_key)\n\u001b[0;32m   3804\u001b[0m \u001b[38;5;28;01mexcept\u001b[39;00m \u001b[38;5;167;01mKeyError\u001b[39;00m \u001b[38;5;28;01mas\u001b[39;00m err:\n\u001b[1;32m-> 3805\u001b[0m     \u001b[38;5;28;01mraise\u001b[39;00m \u001b[38;5;167;01mKeyError\u001b[39;00m(key) \u001b[38;5;28;01mfrom\u001b[39;00m \u001b[38;5;21;01merr\u001b[39;00m\n\u001b[0;32m   3806\u001b[0m \u001b[38;5;28;01mexcept\u001b[39;00m \u001b[38;5;167;01mTypeError\u001b[39;00m:\n\u001b[0;32m   3807\u001b[0m     \u001b[38;5;66;03m# If we have a listlike key, _check_indexing_error will raise\u001b[39;00m\n\u001b[0;32m   3808\u001b[0m     \u001b[38;5;66;03m#  InvalidIndexError. Otherwise we fall through and re-raise\u001b[39;00m\n\u001b[0;32m   3809\u001b[0m     \u001b[38;5;66;03m#  the TypeError.\u001b[39;00m\n\u001b[0;32m   3810\u001b[0m     \u001b[38;5;28mself\u001b[39m\u001b[38;5;241m.\u001b[39m_check_indexing_error(key)\n",
      "\u001b[1;31mKeyError\u001b[0m: 'Ground_Truth'"
     ]
    }
   ],
   "source": [
    "# For the inspection tasks (rows) that host the bug, show the distribution of correct labels by\n",
    "# explanation size and complexity\n",
    "\n",
    "# meaning: take all rows with ground truth == 1 and ground truth == 0 respectively\n",
    "# show the distribution of correct labels by explanation size and complexity(TTR)\n",
    "# correct labels are when the Ground truth == the prediction\n",
    "\n",
    "import matplotlib.pyplot as plt\n",
    "import seaborn as sns\n",
    "\n",
    "\n",
    "# Add a column indicating whether the prediction is correct\n",
    "holdout_set = holdout_set.copy()  # Avoid SettingWithCopyWarning\n",
    "holdout_set.loc[:, 'Correct'] = holdout_set['GroundTruth'] == holdout_predictions\n",
    "\n",
    "# Ensure 'Explanation.size' exists\n",
    "holdout_set['Explanation.size'] = holdout_set['Answer.explanation'].apply(lambda x: len(str(x)))\n",
    "\n",
    "# Filter data for Ground_Truth == 1 and GroundTruth == 0\n",
    "ground_truth_1 = holdout_set[holdout_set['GroundTruth'] == 1].copy()\n",
    "ground_truth_0 = holdout_set[holdout_set['GroundTruth'] == 0].copy()\n",
    "\n",
    "# Plot distribution function\n",
    "def plot_distribution(data, feature, title, ax):\n",
    "    sns.histplot(data=data, x=feature, hue='Correct', multiple='stack', kde=False, palette='muted', ax=ax)\n",
    "    ax.set_title(title)\n",
    "    ax.set_xlabel(feature)\n",
    "    ax.set_ylabel('Count')\n",
    "\n",
    "# Set up the plotting grid\n",
    "fig, axes = plt.subplots(2, 2, figsize=(16, 12), sharey=True)\n",
    "\n",
    "# Plot for Explanation.size and TTR for Ground_Truth == 1\n",
    "plot_distribution(ground_truth_1, 'Explanation.size', 'Correct Labels by Explanation Size (GT=1)', axes[0, 0])\n",
    "plot_distribution(ground_truth_1, 'TTR', 'Correct Labels by TTR (GT=1)', axes[0, 1])\n",
    "\n",
    "# Plot for Explanation.size and TTR for Ground_Truth == 0\n",
    "plot_distribution(ground_truth_0, 'Explanation.size', 'Correct Labels by Explanation Size (GT=0)', axes[1, 0])\n",
    "plot_distribution(ground_truth_0, 'TTR', 'Correct Labels by TTR (GT=0)', axes[1, 1])\n",
    "\n",
    "# Adjust layout and show the plots\n",
    "plt.tight_layout()\n",
    "plt.show()\n"
   ]
  },
  {
   "cell_type": "code",
   "execution_count": 68,
   "metadata": {},
   "outputs": [
    {
     "ename": "NameError",
     "evalue": "name 'ground_truth_1' is not defined",
     "output_type": "error",
     "traceback": [
      "\u001b[1;31m---------------------------------------------------------------------------\u001b[0m",
      "\u001b[1;31mNameError\u001b[0m                                 Traceback (most recent call last)",
      "Cell \u001b[1;32mIn[68], line 2\u001b[0m\n\u001b[0;32m      1\u001b[0m \u001b[38;5;66;03m# Filter only correct predictions\u001b[39;00m\n\u001b[1;32m----> 2\u001b[0m ground_truth_1_correct \u001b[38;5;241m=\u001b[39m \u001b[43mground_truth_1\u001b[49m[ground_truth_1[\u001b[38;5;124m'\u001b[39m\u001b[38;5;124mCorrect\u001b[39m\u001b[38;5;124m'\u001b[39m] \u001b[38;5;241m==\u001b[39m \u001b[38;5;28;01mTrue\u001b[39;00m]\n\u001b[0;32m      3\u001b[0m ground_truth_0_correct \u001b[38;5;241m=\u001b[39m ground_truth_0[ground_truth_0[\u001b[38;5;124m'\u001b[39m\u001b[38;5;124mCorrect\u001b[39m\u001b[38;5;124m'\u001b[39m] \u001b[38;5;241m==\u001b[39m \u001b[38;5;28;01mTrue\u001b[39;00m]\n\u001b[0;32m      5\u001b[0m \u001b[38;5;66;03m# Create a function to plot distributions for correct labels only\u001b[39;00m\n",
      "\u001b[1;31mNameError\u001b[0m: name 'ground_truth_1' is not defined"
     ]
    }
   ],
   "source": [
    "# Filter only correct predictions\n",
    "ground_truth_1_correct = ground_truth_1[ground_truth_1['Correct'] == True]\n",
    "ground_truth_0_correct = ground_truth_0[ground_truth_0['Correct'] == True]\n",
    "\n",
    "# Create a function to plot distributions for correct labels only\n",
    "def plot_correct_distribution(data, feature, title, ax):\n",
    "    sns.histplot(data=data, x=feature, kde=False, palette='muted', ax=ax)\n",
    "    ax.set_title(title)\n",
    "    ax.set_xlabel(feature)\n",
    "    ax.set_ylabel('Count')\n",
    "\n",
    "# Set up the plotting grid\n",
    "fig, axes = plt.subplots(2, 2, figsize=(16, 12), sharey=True)\n",
    "\n",
    "# Plot for Explanation.size and TTR for Ground_Truth == 1\n",
    "plot_correct_distribution(ground_truth_1_correct, 'Explanation.size', 'Correct Labels by Explanation Size (GT=1)', axes[0, 0])\n",
    "plot_correct_distribution(ground_truth_1_correct, 'TTR', 'Correct Labels by TTR (GT=1)', axes[0, 1])\n",
    "\n",
    "# Plot for Explanation.size and TTR for Ground_Truth == 0\n",
    "plot_correct_distribution(ground_truth_0_correct, 'Explanation.size', 'Correct Labels by Explanation Size (GT=0)', axes[1, 0])\n",
    "plot_correct_distribution(ground_truth_0_correct, 'TTR', 'Correct Labels by TTR (GT=0)', axes[1, 1])\n",
    "\n",
    "# Adjust layout and show the plots\n",
    "plt.tight_layout()\n",
    "plt.show()\n"
   ]
  },
  {
   "cell_type": "code",
   "execution_count": null,
   "metadata": {},
   "outputs": [
    {
     "ename": "KeyError",
     "evalue": "'Ground_Truth'",
     "output_type": "error",
     "traceback": [
      "\u001b[1;31m---------------------------------------------------------------------------\u001b[0m",
      "\u001b[1;31mKeyError\u001b[0m                                  Traceback (most recent call last)",
      "File \u001b[1;32mc:\\Users\\bzwad\\anaconda3\\envs\\DSWebscrape\\lib\\site-packages\\pandas\\core\\indexes\\base.py:3803\u001b[0m, in \u001b[0;36mIndex.get_loc\u001b[1;34m(self, key, method, tolerance)\u001b[0m\n\u001b[0;32m   3802\u001b[0m \u001b[38;5;28;01mtry\u001b[39;00m:\n\u001b[1;32m-> 3803\u001b[0m     \u001b[38;5;28;01mreturn\u001b[39;00m \u001b[38;5;28;43mself\u001b[39;49m\u001b[38;5;241;43m.\u001b[39;49m\u001b[43m_engine\u001b[49m\u001b[38;5;241;43m.\u001b[39;49m\u001b[43mget_loc\u001b[49m\u001b[43m(\u001b[49m\u001b[43mcasted_key\u001b[49m\u001b[43m)\u001b[49m\n\u001b[0;32m   3804\u001b[0m \u001b[38;5;28;01mexcept\u001b[39;00m \u001b[38;5;167;01mKeyError\u001b[39;00m \u001b[38;5;28;01mas\u001b[39;00m err:\n",
      "File \u001b[1;32mc:\\Users\\bzwad\\anaconda3\\envs\\DSWebscrape\\lib\\site-packages\\pandas\\_libs\\index.pyx:138\u001b[0m, in \u001b[0;36mpandas._libs.index.IndexEngine.get_loc\u001b[1;34m()\u001b[0m\n",
      "File \u001b[1;32mc:\\Users\\bzwad\\anaconda3\\envs\\DSWebscrape\\lib\\site-packages\\pandas\\_libs\\index.pyx:165\u001b[0m, in \u001b[0;36mpandas._libs.index.IndexEngine.get_loc\u001b[1;34m()\u001b[0m\n",
      "File \u001b[1;32mpandas\\_libs\\hashtable_class_helper.pxi:5745\u001b[0m, in \u001b[0;36mpandas._libs.hashtable.PyObjectHashTable.get_item\u001b[1;34m()\u001b[0m\n",
      "File \u001b[1;32mpandas\\_libs\\hashtable_class_helper.pxi:5753\u001b[0m, in \u001b[0;36mpandas._libs.hashtable.PyObjectHashTable.get_item\u001b[1;34m()\u001b[0m\n",
      "\u001b[1;31mKeyError\u001b[0m: 'Ground_Truth'",
      "\nThe above exception was the direct cause of the following exception:\n",
      "\u001b[1;31mKeyError\u001b[0m                                  Traceback (most recent call last)",
      "Cell \u001b[1;32mIn[69], line 6\u001b[0m\n\u001b[0;32m      3\u001b[0m fig, axes \u001b[38;5;241m=\u001b[39m plt\u001b[38;5;241m.\u001b[39msubplots(\u001b[38;5;241m2\u001b[39m, \u001b[38;5;241m2\u001b[39m, figsize\u001b[38;5;241m=\u001b[39m(\u001b[38;5;241m16\u001b[39m, \u001b[38;5;241m12\u001b[39m), sharey\u001b[38;5;241m=\u001b[39m\u001b[38;5;28;01mTrue\u001b[39;00m)\n\u001b[0;32m      5\u001b[0m data[\u001b[38;5;124m'\u001b[39m\u001b[38;5;124mExplanation.size\u001b[39m\u001b[38;5;124m'\u001b[39m] \u001b[38;5;241m=\u001b[39m data[\u001b[38;5;124m'\u001b[39m\u001b[38;5;124mAnswer.explanation\u001b[39m\u001b[38;5;124m'\u001b[39m]\u001b[38;5;241m.\u001b[39mapply(\u001b[38;5;28;01mlambda\u001b[39;00m x: \u001b[38;5;28mlen\u001b[39m(\u001b[38;5;28mstr\u001b[39m(x)))\n\u001b[1;32m----> 6\u001b[0m ground_truth_1 \u001b[38;5;241m=\u001b[39m data[\u001b[43mdata\u001b[49m\u001b[43m[\u001b[49m\u001b[38;5;124;43m'\u001b[39;49m\u001b[38;5;124;43mGround_Truth\u001b[39;49m\u001b[38;5;124;43m'\u001b[39;49m\u001b[43m]\u001b[49m \u001b[38;5;241m==\u001b[39m \u001b[38;5;241m1\u001b[39m]\u001b[38;5;241m.\u001b[39mcopy()\n\u001b[0;32m      7\u001b[0m ground_truth_0 \u001b[38;5;241m=\u001b[39m data[data[\u001b[38;5;124m'\u001b[39m\u001b[38;5;124mGround_Truth\u001b[39m\u001b[38;5;124m'\u001b[39m] \u001b[38;5;241m==\u001b[39m \u001b[38;5;241m0\u001b[39m]\u001b[38;5;241m.\u001b[39mcopy()\n\u001b[0;32m      9\u001b[0m sns\u001b[38;5;241m.\u001b[39mhistplot(data\u001b[38;5;241m=\u001b[39mground_truth_1, x\u001b[38;5;241m=\u001b[39m\u001b[38;5;124m'\u001b[39m\u001b[38;5;124mExplanation.size\u001b[39m\u001b[38;5;124m'\u001b[39m, kde\u001b[38;5;241m=\u001b[39m\u001b[38;5;28;01mFalse\u001b[39;00m, palette\u001b[38;5;241m=\u001b[39m\u001b[38;5;124m'\u001b[39m\u001b[38;5;124mmuted\u001b[39m\u001b[38;5;124m'\u001b[39m, ax\u001b[38;5;241m=\u001b[39maxes[\u001b[38;5;241m0\u001b[39m, \u001b[38;5;241m0\u001b[39m])\n",
      "File \u001b[1;32mc:\\Users\\bzwad\\anaconda3\\envs\\DSWebscrape\\lib\\site-packages\\pandas\\core\\frame.py:3804\u001b[0m, in \u001b[0;36mDataFrame.__getitem__\u001b[1;34m(self, key)\u001b[0m\n\u001b[0;32m   3802\u001b[0m \u001b[38;5;28;01mif\u001b[39;00m \u001b[38;5;28mself\u001b[39m\u001b[38;5;241m.\u001b[39mcolumns\u001b[38;5;241m.\u001b[39mnlevels \u001b[38;5;241m>\u001b[39m \u001b[38;5;241m1\u001b[39m:\n\u001b[0;32m   3803\u001b[0m     \u001b[38;5;28;01mreturn\u001b[39;00m \u001b[38;5;28mself\u001b[39m\u001b[38;5;241m.\u001b[39m_getitem_multilevel(key)\n\u001b[1;32m-> 3804\u001b[0m indexer \u001b[38;5;241m=\u001b[39m \u001b[38;5;28;43mself\u001b[39;49m\u001b[38;5;241;43m.\u001b[39;49m\u001b[43mcolumns\u001b[49m\u001b[38;5;241;43m.\u001b[39;49m\u001b[43mget_loc\u001b[49m\u001b[43m(\u001b[49m\u001b[43mkey\u001b[49m\u001b[43m)\u001b[49m\n\u001b[0;32m   3805\u001b[0m \u001b[38;5;28;01mif\u001b[39;00m is_integer(indexer):\n\u001b[0;32m   3806\u001b[0m     indexer \u001b[38;5;241m=\u001b[39m [indexer]\n",
      "File \u001b[1;32mc:\\Users\\bzwad\\anaconda3\\envs\\DSWebscrape\\lib\\site-packages\\pandas\\core\\indexes\\base.py:3805\u001b[0m, in \u001b[0;36mIndex.get_loc\u001b[1;34m(self, key, method, tolerance)\u001b[0m\n\u001b[0;32m   3803\u001b[0m     \u001b[38;5;28;01mreturn\u001b[39;00m \u001b[38;5;28mself\u001b[39m\u001b[38;5;241m.\u001b[39m_engine\u001b[38;5;241m.\u001b[39mget_loc(casted_key)\n\u001b[0;32m   3804\u001b[0m \u001b[38;5;28;01mexcept\u001b[39;00m \u001b[38;5;167;01mKeyError\u001b[39;00m \u001b[38;5;28;01mas\u001b[39;00m err:\n\u001b[1;32m-> 3805\u001b[0m     \u001b[38;5;28;01mraise\u001b[39;00m \u001b[38;5;167;01mKeyError\u001b[39;00m(key) \u001b[38;5;28;01mfrom\u001b[39;00m \u001b[38;5;21;01merr\u001b[39;00m\n\u001b[0;32m   3806\u001b[0m \u001b[38;5;28;01mexcept\u001b[39;00m \u001b[38;5;167;01mTypeError\u001b[39;00m:\n\u001b[0;32m   3807\u001b[0m     \u001b[38;5;66;03m# If we have a listlike key, _check_indexing_error will raise\u001b[39;00m\n\u001b[0;32m   3808\u001b[0m     \u001b[38;5;66;03m#  InvalidIndexError. Otherwise we fall through and re-raise\u001b[39;00m\n\u001b[0;32m   3809\u001b[0m     \u001b[38;5;66;03m#  the TypeError.\u001b[39;00m\n\u001b[0;32m   3810\u001b[0m     \u001b[38;5;28mself\u001b[39m\u001b[38;5;241m.\u001b[39m_check_indexing_error(key)\n",
      "\u001b[1;31mKeyError\u001b[0m: 'Ground_Truth'"
     ]
    },
    {
     "data": {
      "image/png": "[encoded data removed]",
      "text/plain": [
       "<Figure size 1600x1200 with 4 Axes>"
      ]
     },
     "metadata": {},
     "output_type": "display_data"
    }
   ],
   "source": [
    "# show explanation size and TTR for GT=1 and GT=0 respectively, disregarding the correctness of the prediction\n",
    "# Set up the plotting grid\n",
    "fig, axes = plt.subplots(2, 2, figsize=(16, 12), sharey=True)\n",
    "\n",
    "data['Explanation.size'] = data['Answer.explanation'].apply(lambda x: len(str(x)))\n",
    "ground_truth_1 = data[data['GroundTruth'] == 1].copy()\n",
    "ground_truth_0 = data[data['GroundTruth'] == 0].copy()\n",
    "\n",
    "sns.histplot(data=ground_truth_1, x='Explanation.size', kde=False, palette='muted', ax=axes[0, 0])\n",
    "axes[0, 0].set_title('Explanation Size Distribution (GT=1)')\n",
    "axes[0, 0].set_xlabel('Explanation Size')\n",
    "axes[0, 0].set_ylabel('Count')\n",
    "\n",
    "sns.histplot(data=ground_truth_1, x='TTR', kde=False, palette='muted', ax=axes[0, 1])\n",
    "axes[0, 1].set_title('TTR Distribution (GT=1)')\n",
    "axes[0, 1].set_xlabel('TTR')\n",
    "axes[0, 1].set_ylabel('Count')\n",
    "\n",
    "sns.histplot(data=ground_truth_0, x='Explanation.size', kde=False, palette='muted', ax=axes[1, 0])\n",
    "axes[1, 0].set_title('Explanation Size Distribution (GT=0)')\n",
    "axes[1, 0].set_xlabel('Explanation Size')\n",
    "axes[1, 0].set_ylabel('Count')\n",
    "\n",
    "sns.histplot(data=ground_truth_0, x='TTR', kde=False, palette='muted', ax=axes[1, 1])\n",
    "axes[1, 1].set_title('TTR Distribution (GT=0)')\n",
    "axes[1, 1].set_xlabel('TTR')\n",
    "axes[1, 1].set_ylabel('Count')\n",
    "\n",
    "# Adjust layout and show the plots\n",
    "data.drop(columns=['Explanation.size'], inplace=True)\n",
    "plt.tight_layout()\n",
    "plt.show()"
   ]
  },
  {
   "cell_type": "code",
   "execution_count": 70,
   "metadata": {},
   "outputs": [
    {
     "name": "stdout",
     "output_type": "stream",
     "text": [
      "Predicted Ground Truth 1: 290\n",
      "Predicted Ground Truth 0: 30\n"
     ]
    }
   ],
   "source": [
    "# how often do we predict ground truth 1 and 0 respectively?\n",
    "print(\"Predicted Ground Truth 1:\", (holdout_predictions == 1).sum())\n",
    "print(\"Predicted Ground Truth 0:\", (holdout_predictions == 0).sum())"
   ]
  },
  {
   "cell_type": "code",
   "execution_count": 71,
   "metadata": {},
   "outputs": [
    {
     "ename": "KeyError",
     "evalue": "'Ground_Truth'",
     "output_type": "error",
     "traceback": [
      "\u001b[1;31m---------------------------------------------------------------------------\u001b[0m",
      "\u001b[1;31mKeyError\u001b[0m                                  Traceback (most recent call last)",
      "File \u001b[1;32mc:\\Users\\bzwad\\anaconda3\\envs\\DSWebscrape\\lib\\site-packages\\pandas\\core\\indexes\\base.py:3803\u001b[0m, in \u001b[0;36mIndex.get_loc\u001b[1;34m(self, key, method, tolerance)\u001b[0m\n\u001b[0;32m   3802\u001b[0m \u001b[38;5;28;01mtry\u001b[39;00m:\n\u001b[1;32m-> 3803\u001b[0m     \u001b[38;5;28;01mreturn\u001b[39;00m \u001b[38;5;28;43mself\u001b[39;49m\u001b[38;5;241;43m.\u001b[39;49m\u001b[43m_engine\u001b[49m\u001b[38;5;241;43m.\u001b[39;49m\u001b[43mget_loc\u001b[49m\u001b[43m(\u001b[49m\u001b[43mcasted_key\u001b[49m\u001b[43m)\u001b[49m\n\u001b[0;32m   3804\u001b[0m \u001b[38;5;28;01mexcept\u001b[39;00m \u001b[38;5;167;01mKeyError\u001b[39;00m \u001b[38;5;28;01mas\u001b[39;00m err:\n",
      "File \u001b[1;32mc:\\Users\\bzwad\\anaconda3\\envs\\DSWebscrape\\lib\\site-packages\\pandas\\_libs\\index.pyx:138\u001b[0m, in \u001b[0;36mpandas._libs.index.IndexEngine.get_loc\u001b[1;34m()\u001b[0m\n",
      "File \u001b[1;32mc:\\Users\\bzwad\\anaconda3\\envs\\DSWebscrape\\lib\\site-packages\\pandas\\_libs\\index.pyx:165\u001b[0m, in \u001b[0;36mpandas._libs.index.IndexEngine.get_loc\u001b[1;34m()\u001b[0m\n",
      "File \u001b[1;32mpandas\\_libs\\hashtable_class_helper.pxi:5745\u001b[0m, in \u001b[0;36mpandas._libs.hashtable.PyObjectHashTable.get_item\u001b[1;34m()\u001b[0m\n",
      "File \u001b[1;32mpandas\\_libs\\hashtable_class_helper.pxi:5753\u001b[0m, in \u001b[0;36mpandas._libs.hashtable.PyObjectHashTable.get_item\u001b[1;34m()\u001b[0m\n",
      "\u001b[1;31mKeyError\u001b[0m: 'Ground_Truth'",
      "\nThe above exception was the direct cause of the following exception:\n",
      "\u001b[1;31mKeyError\u001b[0m                                  Traceback (most recent call last)",
      "Cell \u001b[1;32mIn[71], line 3\u001b[0m\n\u001b[0;32m      1\u001b[0m \u001b[38;5;66;03m# Or are correct answers just be those with ground truth == 1?\u001b[39;00m\n\u001b[1;32m----> 3\u001b[0m correct_answers \u001b[38;5;241m=\u001b[39m data[\u001b[43mdata\u001b[49m\u001b[43m[\u001b[49m\u001b[38;5;124;43m'\u001b[39;49m\u001b[38;5;124;43mGround_Truth\u001b[39;49m\u001b[38;5;124;43m'\u001b[39;49m\u001b[43m]\u001b[49m \u001b[38;5;241m==\u001b[39m \u001b[38;5;241m1\u001b[39m]\n\u001b[0;32m      5\u001b[0m \u001b[38;5;66;03m# only keep columns Ground_Truth,FailingMethod,Answer.explanation\u001b[39;00m\n\u001b[0;32m      6\u001b[0m correct_answers \u001b[38;5;241m=\u001b[39m correct_answers[[\u001b[38;5;124m\"\u001b[39m\u001b[38;5;124mGround_Truth\u001b[39m\u001b[38;5;124m\"\u001b[39m, \u001b[38;5;124m\"\u001b[39m\u001b[38;5;124mFailingMethod\u001b[39m\u001b[38;5;124m\"\u001b[39m, \u001b[38;5;124m\"\u001b[39m\u001b[38;5;124mAnswer.explanation\u001b[39m\u001b[38;5;124m\"\u001b[39m]]\n",
      "File \u001b[1;32mc:\\Users\\bzwad\\anaconda3\\envs\\DSWebscrape\\lib\\site-packages\\pandas\\core\\frame.py:3804\u001b[0m, in \u001b[0;36mDataFrame.__getitem__\u001b[1;34m(self, key)\u001b[0m\n\u001b[0;32m   3802\u001b[0m \u001b[38;5;28;01mif\u001b[39;00m \u001b[38;5;28mself\u001b[39m\u001b[38;5;241m.\u001b[39mcolumns\u001b[38;5;241m.\u001b[39mnlevels \u001b[38;5;241m>\u001b[39m \u001b[38;5;241m1\u001b[39m:\n\u001b[0;32m   3803\u001b[0m     \u001b[38;5;28;01mreturn\u001b[39;00m \u001b[38;5;28mself\u001b[39m\u001b[38;5;241m.\u001b[39m_getitem_multilevel(key)\n\u001b[1;32m-> 3804\u001b[0m indexer \u001b[38;5;241m=\u001b[39m \u001b[38;5;28;43mself\u001b[39;49m\u001b[38;5;241;43m.\u001b[39;49m\u001b[43mcolumns\u001b[49m\u001b[38;5;241;43m.\u001b[39;49m\u001b[43mget_loc\u001b[49m\u001b[43m(\u001b[49m\u001b[43mkey\u001b[49m\u001b[43m)\u001b[49m\n\u001b[0;32m   3805\u001b[0m \u001b[38;5;28;01mif\u001b[39;00m is_integer(indexer):\n\u001b[0;32m   3806\u001b[0m     indexer \u001b[38;5;241m=\u001b[39m [indexer]\n",
      "File \u001b[1;32mc:\\Users\\bzwad\\anaconda3\\envs\\DSWebscrape\\lib\\site-packages\\pandas\\core\\indexes\\base.py:3805\u001b[0m, in \u001b[0;36mIndex.get_loc\u001b[1;34m(self, key, method, tolerance)\u001b[0m\n\u001b[0;32m   3803\u001b[0m     \u001b[38;5;28;01mreturn\u001b[39;00m \u001b[38;5;28mself\u001b[39m\u001b[38;5;241m.\u001b[39m_engine\u001b[38;5;241m.\u001b[39mget_loc(casted_key)\n\u001b[0;32m   3804\u001b[0m \u001b[38;5;28;01mexcept\u001b[39;00m \u001b[38;5;167;01mKeyError\u001b[39;00m \u001b[38;5;28;01mas\u001b[39;00m err:\n\u001b[1;32m-> 3805\u001b[0m     \u001b[38;5;28;01mraise\u001b[39;00m \u001b[38;5;167;01mKeyError\u001b[39;00m(key) \u001b[38;5;28;01mfrom\u001b[39;00m \u001b[38;5;21;01merr\u001b[39;00m\n\u001b[0;32m   3806\u001b[0m \u001b[38;5;28;01mexcept\u001b[39;00m \u001b[38;5;167;01mTypeError\u001b[39;00m:\n\u001b[0;32m   3807\u001b[0m     \u001b[38;5;66;03m# If we have a listlike key, _check_indexing_error will raise\u001b[39;00m\n\u001b[0;32m   3808\u001b[0m     \u001b[38;5;66;03m#  InvalidIndexError. Otherwise we fall through and re-raise\u001b[39;00m\n\u001b[0;32m   3809\u001b[0m     \u001b[38;5;66;03m#  the TypeError.\u001b[39;00m\n\u001b[0;32m   3810\u001b[0m     \u001b[38;5;28mself\u001b[39m\u001b[38;5;241m.\u001b[39m_check_indexing_error(key)\n",
      "\u001b[1;31mKeyError\u001b[0m: 'Ground_Truth'"
     ]
    }
   ],
   "source": [
    "# Or are correct answers just be those with ground truth == 1?\n",
    "\n",
    "correct_answers = data[data['GroundTruth'] == 1]\n",
    "\n",
    "# only keep columns GroundTruth,FailingMethod,Answer.explanation\n",
    "correct_answers = correct_answers[[\"GroundTruth\", \"FailingMethod\", \"Answer.explanation\"]]\n",
    "\n",
    "# Save the correct answers to a CSV file\n",
    "correct_answers.to_csv(\"ground_truth_1.csv\", index=False)"
   ]
  },
  {
   "cell_type": "code",
   "execution_count": 72,
   "metadata": {},
   "outputs": [
    {
     "ename": "KeyError",
     "evalue": "'Ground_Truth'",
     "output_type": "error",
     "traceback": [
      "\u001b[1;31m---------------------------------------------------------------------------\u001b[0m",
      "\u001b[1;31mKeyError\u001b[0m                                  Traceback (most recent call last)",
      "File \u001b[1;32mc:\\Users\\bzwad\\anaconda3\\envs\\DSWebscrape\\lib\\site-packages\\pandas\\core\\indexes\\base.py:3803\u001b[0m, in \u001b[0;36mIndex.get_loc\u001b[1;34m(self, key, method, tolerance)\u001b[0m\n\u001b[0;32m   3802\u001b[0m \u001b[38;5;28;01mtry\u001b[39;00m:\n\u001b[1;32m-> 3803\u001b[0m     \u001b[38;5;28;01mreturn\u001b[39;00m \u001b[38;5;28;43mself\u001b[39;49m\u001b[38;5;241;43m.\u001b[39;49m\u001b[43m_engine\u001b[49m\u001b[38;5;241;43m.\u001b[39;49m\u001b[43mget_loc\u001b[49m\u001b[43m(\u001b[49m\u001b[43mcasted_key\u001b[49m\u001b[43m)\u001b[49m\n\u001b[0;32m   3804\u001b[0m \u001b[38;5;28;01mexcept\u001b[39;00m \u001b[38;5;167;01mKeyError\u001b[39;00m \u001b[38;5;28;01mas\u001b[39;00m err:\n",
      "File \u001b[1;32mc:\\Users\\bzwad\\anaconda3\\envs\\DSWebscrape\\lib\\site-packages\\pandas\\_libs\\index.pyx:138\u001b[0m, in \u001b[0;36mpandas._libs.index.IndexEngine.get_loc\u001b[1;34m()\u001b[0m\n",
      "File \u001b[1;32mc:\\Users\\bzwad\\anaconda3\\envs\\DSWebscrape\\lib\\site-packages\\pandas\\_libs\\index.pyx:165\u001b[0m, in \u001b[0;36mpandas._libs.index.IndexEngine.get_loc\u001b[1;34m()\u001b[0m\n",
      "File \u001b[1;32mpandas\\_libs\\hashtable_class_helper.pxi:5745\u001b[0m, in \u001b[0;36mpandas._libs.hashtable.PyObjectHashTable.get_item\u001b[1;34m()\u001b[0m\n",
      "File \u001b[1;32mpandas\\_libs\\hashtable_class_helper.pxi:5753\u001b[0m, in \u001b[0;36mpandas._libs.hashtable.PyObjectHashTable.get_item\u001b[1;34m()\u001b[0m\n",
      "\u001b[1;31mKeyError\u001b[0m: 'Ground_Truth'",
      "\nThe above exception was the direct cause of the following exception:\n",
      "\u001b[1;31mKeyError\u001b[0m                                  Traceback (most recent call last)",
      "Cell \u001b[1;32mIn[72], line 6\u001b[0m\n\u001b[0;32m      4\u001b[0m \u001b[38;5;28;01mfor\u001b[39;00m failing_method \u001b[38;5;129;01min\u001b[39;00m data[\u001b[38;5;124m'\u001b[39m\u001b[38;5;124mFailingMethod\u001b[39m\u001b[38;5;124m'\u001b[39m]\u001b[38;5;241m.\u001b[39munique():\n\u001b[0;32m      5\u001b[0m     failing_method_data \u001b[38;5;241m=\u001b[39m data[data[\u001b[38;5;124m'\u001b[39m\u001b[38;5;124mFailingMethod\u001b[39m\u001b[38;5;124m'\u001b[39m] \u001b[38;5;241m==\u001b[39m failing_method]\n\u001b[1;32m----> 6\u001b[0m     failing_method_data \u001b[38;5;241m=\u001b[39m failing_method_data[\u001b[43mfailing_method_data\u001b[49m\u001b[43m[\u001b[49m\u001b[38;5;124;43m'\u001b[39;49m\u001b[38;5;124;43mGround_Truth\u001b[39;49m\u001b[38;5;124;43m'\u001b[39;49m\u001b[43m]\u001b[49m \u001b[38;5;241m==\u001b[39m \u001b[38;5;241m1\u001b[39m]\n\u001b[0;32m      7\u001b[0m     failing_method_data \u001b[38;5;241m=\u001b[39m failing_method_data[[\u001b[38;5;124m\"\u001b[39m\u001b[38;5;124mAnswer.explanation\u001b[39m\u001b[38;5;124m\"\u001b[39m]]\n\u001b[0;32m      9\u001b[0m     \u001b[38;5;66;03m#failing_method_data.to_csv(failing_method + \".csv\", index=False)\u001b[39;00m\n\u001b[0;32m     10\u001b[0m     \u001b[38;5;66;03m# export as txt\u001b[39;00m\n",
      "File \u001b[1;32mc:\\Users\\bzwad\\anaconda3\\envs\\DSWebscrape\\lib\\site-packages\\pandas\\core\\frame.py:3804\u001b[0m, in \u001b[0;36mDataFrame.__getitem__\u001b[1;34m(self, key)\u001b[0m\n\u001b[0;32m   3802\u001b[0m \u001b[38;5;28;01mif\u001b[39;00m \u001b[38;5;28mself\u001b[39m\u001b[38;5;241m.\u001b[39mcolumns\u001b[38;5;241m.\u001b[39mnlevels \u001b[38;5;241m>\u001b[39m \u001b[38;5;241m1\u001b[39m:\n\u001b[0;32m   3803\u001b[0m     \u001b[38;5;28;01mreturn\u001b[39;00m \u001b[38;5;28mself\u001b[39m\u001b[38;5;241m.\u001b[39m_getitem_multilevel(key)\n\u001b[1;32m-> 3804\u001b[0m indexer \u001b[38;5;241m=\u001b[39m \u001b[38;5;28;43mself\u001b[39;49m\u001b[38;5;241;43m.\u001b[39;49m\u001b[43mcolumns\u001b[49m\u001b[38;5;241;43m.\u001b[39;49m\u001b[43mget_loc\u001b[49m\u001b[43m(\u001b[49m\u001b[43mkey\u001b[49m\u001b[43m)\u001b[49m\n\u001b[0;32m   3805\u001b[0m \u001b[38;5;28;01mif\u001b[39;00m is_integer(indexer):\n\u001b[0;32m   3806\u001b[0m     indexer \u001b[38;5;241m=\u001b[39m [indexer]\n",
      "File \u001b[1;32mc:\\Users\\bzwad\\anaconda3\\envs\\DSWebscrape\\lib\\site-packages\\pandas\\core\\indexes\\base.py:3805\u001b[0m, in \u001b[0;36mIndex.get_loc\u001b[1;34m(self, key, method, tolerance)\u001b[0m\n\u001b[0;32m   3803\u001b[0m     \u001b[38;5;28;01mreturn\u001b[39;00m \u001b[38;5;28mself\u001b[39m\u001b[38;5;241m.\u001b[39m_engine\u001b[38;5;241m.\u001b[39mget_loc(casted_key)\n\u001b[0;32m   3804\u001b[0m \u001b[38;5;28;01mexcept\u001b[39;00m \u001b[38;5;167;01mKeyError\u001b[39;00m \u001b[38;5;28;01mas\u001b[39;00m err:\n\u001b[1;32m-> 3805\u001b[0m     \u001b[38;5;28;01mraise\u001b[39;00m \u001b[38;5;167;01mKeyError\u001b[39;00m(key) \u001b[38;5;28;01mfrom\u001b[39;00m \u001b[38;5;21;01merr\u001b[39;00m\n\u001b[0;32m   3806\u001b[0m \u001b[38;5;28;01mexcept\u001b[39;00m \u001b[38;5;167;01mTypeError\u001b[39;00m:\n\u001b[0;32m   3807\u001b[0m     \u001b[38;5;66;03m# If we have a listlike key, _check_indexing_error will raise\u001b[39;00m\n\u001b[0;32m   3808\u001b[0m     \u001b[38;5;66;03m#  InvalidIndexError. Otherwise we fall through and re-raise\u001b[39;00m\n\u001b[0;32m   3809\u001b[0m     \u001b[38;5;66;03m#  the TypeError.\u001b[39;00m\n\u001b[0;32m   3810\u001b[0m     \u001b[38;5;28mself\u001b[39m\u001b[38;5;241m.\u001b[39m_check_indexing_error(key)\n",
      "\u001b[1;31mKeyError\u001b[0m: 'Ground_Truth'"
     ]
    }
   ],
   "source": [
    "# create one file per failing method\n",
    "# the file should only contain all correct explanations for the respective failing method\n",
    "\n",
    "for failing_method in data['FailingMethod'].unique():\n",
    "    failing_method_data = data[data['FailingMethod'] == failing_method]\n",
    "    failing_method_data = failing_method_data[failing_method_data['GroundTruth'] == 1]\n",
    "    failing_method_data = failing_method_data[[\"Answer.explanation\"]]\n",
    "    \n",
    "    #failing_method_data.to_csv(failing_method + \".csv\", index=False)\n",
    "    # export as txt\n",
    "    with open(failing_method + \".txt\", \"w\") as file:\n",
    "        for explanation in failing_method_data[\"Answer.explanation\"]:\n",
    "            file.write(str(explanation) + \"\\n\")"
   ]
  },
  {
   "cell_type": "markdown",
   "metadata": {},
   "source": [
    "### Comparing Explanations"
   ]
  },
  {
   "cell_type": "code",
   "execution_count": 74,
   "metadata": {},
   "outputs": [
    {
     "ename": "FileNotFoundError",
     "evalue": "[Errno 2] No such file or directory: 'HIT01_8_summary.txt'",
     "output_type": "error",
     "traceback": [
      "\u001b[1;31m---------------------------------------------------------------------------\u001b[0m",
      "\u001b[1;31mFileNotFoundError\u001b[0m                         Traceback (most recent call last)",
      "Cell \u001b[1;32mIn[74], line 17\u001b[0m\n\u001b[0;32m     10\u001b[0m \u001b[38;5;28;01mfor\u001b[39;00m failing_method \u001b[38;5;129;01min\u001b[39;00m failing_methods:\n\u001b[0;32m     11\u001b[0m     \u001b[38;5;66;03m# Extract reference explanations from the data\u001b[39;00m\n\u001b[0;32m     12\u001b[0m     reference_explanations \u001b[38;5;241m=\u001b[39m data[\n\u001b[0;32m     13\u001b[0m         (data[\u001b[38;5;124m'\u001b[39m\u001b[38;5;124mFailingMethod\u001b[39m\u001b[38;5;124m'\u001b[39m] \u001b[38;5;241m==\u001b[39m failing_method) \u001b[38;5;241m&\u001b[39m \n\u001b[0;32m     14\u001b[0m         (data[\u001b[38;5;124m'\u001b[39m\u001b[38;5;124mGroundTruth\u001b[39m\u001b[38;5;124m'\u001b[39m] \u001b[38;5;241m==\u001b[39m \u001b[38;5;241m1\u001b[39m)\n\u001b[0;32m     15\u001b[0m     ][\u001b[38;5;124m'\u001b[39m\u001b[38;5;124mAnswer.explanation\u001b[39m\u001b[38;5;124m'\u001b[39m]\n\u001b[1;32m---> 17\u001b[0m     \u001b[38;5;28;01mwith\u001b[39;00m \u001b[38;5;28;43mopen\u001b[39;49m\u001b[43m(\u001b[49m\u001b[43mfailing_method\u001b[49m\u001b[43m \u001b[49m\u001b[38;5;241;43m+\u001b[39;49m\u001b[43m \u001b[49m\u001b[38;5;124;43m\"\u001b[39;49m\u001b[38;5;124;43m_summary\u001b[39;49m\u001b[38;5;124;43m\"\u001b[39;49m\u001b[43m \u001b[49m\u001b[38;5;241;43m+\u001b[39;49m\u001b[43m \u001b[49m\u001b[38;5;124;43m\"\u001b[39;49m\u001b[38;5;124;43m.txt\u001b[39;49m\u001b[38;5;124;43m\"\u001b[39;49m\u001b[43m,\u001b[49m\u001b[43m \u001b[49m\u001b[38;5;124;43m\"\u001b[39;49m\u001b[38;5;124;43mr\u001b[39;49m\u001b[38;5;124;43m\"\u001b[39;49m\u001b[43m)\u001b[49m \u001b[38;5;28;01mas\u001b[39;00m file:\n\u001b[0;32m     18\u001b[0m         llm_explanation \u001b[38;5;241m=\u001b[39m file\u001b[38;5;241m.\u001b[39mreadlines()\n\u001b[0;32m     20\u001b[0m     \u001b[38;5;66;03m# Split each reference explanation into a list of words\u001b[39;00m\n",
      "File \u001b[1;32mc:\\Users\\bzwad\\anaconda3\\envs\\DSWebscrape\\lib\\site-packages\\IPython\\core\\interactiveshell.py:282\u001b[0m, in \u001b[0;36m_modified_open\u001b[1;34m(file, *args, **kwargs)\u001b[0m\n\u001b[0;32m    275\u001b[0m \u001b[38;5;28;01mif\u001b[39;00m file \u001b[38;5;129;01min\u001b[39;00m {\u001b[38;5;241m0\u001b[39m, \u001b[38;5;241m1\u001b[39m, \u001b[38;5;241m2\u001b[39m}:\n\u001b[0;32m    276\u001b[0m     \u001b[38;5;28;01mraise\u001b[39;00m \u001b[38;5;167;01mValueError\u001b[39;00m(\n\u001b[0;32m    277\u001b[0m         \u001b[38;5;124mf\u001b[39m\u001b[38;5;124m\"\u001b[39m\u001b[38;5;124mIPython won\u001b[39m\u001b[38;5;124m'\u001b[39m\u001b[38;5;124mt let you open fd=\u001b[39m\u001b[38;5;132;01m{\u001b[39;00mfile\u001b[38;5;132;01m}\u001b[39;00m\u001b[38;5;124m by default \u001b[39m\u001b[38;5;124m\"\u001b[39m\n\u001b[0;32m    278\u001b[0m         \u001b[38;5;124m\"\u001b[39m\u001b[38;5;124mas it is likely to crash IPython. If you know what you are doing, \u001b[39m\u001b[38;5;124m\"\u001b[39m\n\u001b[0;32m    279\u001b[0m         \u001b[38;5;124m\"\u001b[39m\u001b[38;5;124myou can use builtins\u001b[39m\u001b[38;5;124m'\u001b[39m\u001b[38;5;124m open.\u001b[39m\u001b[38;5;124m\"\u001b[39m\n\u001b[0;32m    280\u001b[0m     )\n\u001b[1;32m--> 282\u001b[0m \u001b[38;5;28;01mreturn\u001b[39;00m io_open(file, \u001b[38;5;241m*\u001b[39margs, \u001b[38;5;241m*\u001b[39m\u001b[38;5;241m*\u001b[39mkwargs)\n",
      "\u001b[1;31mFileNotFoundError\u001b[0m: [Errno 2] No such file or directory: 'HIT01_8_summary.txt'"
     ]
    }
   ],
   "source": [
    "# compute BLEU score for the explanations\n",
    "# Bleu score ranges between 0 and 1, with values closer to 1 indicating more similar texts from the translation.\n",
    "# https://thepythoncode.com/article/bleu-score-in-python\n",
    "\n",
    "from nltk.translate.bleu_score import sentence_bleu\n",
    "\n",
    "failing_methods = data['FailingMethod'].unique()\n",
    "#failing_methods = [\"HIT01_8\"]  # testing\n",
    "\n",
    "for failing_method in failing_methods:\n",
    "    # Extract reference explanations from the data\n",
    "    reference_explanations = data[\n",
    "        (data['FailingMethod'] == failing_method) & \n",
    "        (data['GroundTruth'] == 1)\n",
    "    ]['Answer.explanation']\n",
    "    \n",
    "    with open(failing_method + \"_summary\" + \".txt\", \"r\") as file:\n",
    "        llm_explanation = file.readlines()\n",
    "    \n",
    "    # Split each reference explanation into a list of words\n",
    "    reference_explanations = [str(explanation).split() for explanation in reference_explanations]\n",
    "    # Split the hypothesis (LLM explanation) into a list of words\n",
    "    llm_explanation = llm_explanation[0].split()  # Remove the outer list wrapping\n",
    "\n",
    "    # Compute BLEU score\n",
    "    bleu_score = sentence_bleu(reference_explanations, llm_explanation)\n",
    "    print(f\"{failing_method} BLEU Score: {bleu_score:.2f}\")\n"
   ]
  },
  {
   "cell_type": "code",
   "execution_count": 76,
   "metadata": {},
   "outputs": [
    {
     "ename": "FileNotFoundError",
     "evalue": "[Errno 2] No such file or directory: 'HIT01_8_summary.txt'",
     "output_type": "error",
     "traceback": [
      "\u001b[1;31m---------------------------------------------------------------------------\u001b[0m",
      "\u001b[1;31mFileNotFoundError\u001b[0m                         Traceback (most recent call last)",
      "Cell \u001b[1;32mIn[76], line 81\u001b[0m\n\u001b[0;32m     75\u001b[0m reference_explanations \u001b[38;5;241m=\u001b[39m data[\n\u001b[0;32m     76\u001b[0m     (data[\u001b[38;5;124m'\u001b[39m\u001b[38;5;124mFailingMethod\u001b[39m\u001b[38;5;124m'\u001b[39m] \u001b[38;5;241m==\u001b[39m failing_method) \u001b[38;5;241m&\u001b[39m\n\u001b[0;32m     77\u001b[0m     (data[\u001b[38;5;124m'\u001b[39m\u001b[38;5;124mGroundTruth\u001b[39m\u001b[38;5;124m'\u001b[39m] \u001b[38;5;241m==\u001b[39m \u001b[38;5;241m1\u001b[39m)\n\u001b[0;32m     78\u001b[0m ][\u001b[38;5;124m'\u001b[39m\u001b[38;5;124mAnswer.explanation\u001b[39m\u001b[38;5;124m'\u001b[39m]\n\u001b[0;32m     80\u001b[0m \u001b[38;5;66;03m# Read LLM explanation\u001b[39;00m\n\u001b[1;32m---> 81\u001b[0m \u001b[38;5;28;01mwith\u001b[39;00m \u001b[38;5;28;43mopen\u001b[39;49m\u001b[43m(\u001b[49m\u001b[43mfailing_method\u001b[49m\u001b[43m \u001b[49m\u001b[38;5;241;43m+\u001b[39;49m\u001b[43m \u001b[49m\u001b[38;5;124;43m\"\u001b[39;49m\u001b[38;5;124;43m_summary.txt\u001b[39;49m\u001b[38;5;124;43m\"\u001b[39;49m\u001b[43m,\u001b[49m\u001b[43m \u001b[49m\u001b[38;5;124;43m\"\u001b[39;49m\u001b[38;5;124;43mr\u001b[39;49m\u001b[38;5;124;43m\"\u001b[39;49m\u001b[43m)\u001b[49m \u001b[38;5;28;01mas\u001b[39;00m file:\n\u001b[0;32m     82\u001b[0m     llm_explanation \u001b[38;5;241m=\u001b[39m file\u001b[38;5;241m.\u001b[39mreadline()\u001b[38;5;241m.\u001b[39mstrip()\n\u001b[0;32m     84\u001b[0m \u001b[38;5;66;03m# Calculate BLEU score\u001b[39;00m\n",
      "File \u001b[1;32mc:\\Users\\bzwad\\anaconda3\\envs\\DSWebscrape\\lib\\site-packages\\IPython\\core\\interactiveshell.py:282\u001b[0m, in \u001b[0;36m_modified_open\u001b[1;34m(file, *args, **kwargs)\u001b[0m\n\u001b[0;32m    275\u001b[0m \u001b[38;5;28;01mif\u001b[39;00m file \u001b[38;5;129;01min\u001b[39;00m {\u001b[38;5;241m0\u001b[39m, \u001b[38;5;241m1\u001b[39m, \u001b[38;5;241m2\u001b[39m}:\n\u001b[0;32m    276\u001b[0m     \u001b[38;5;28;01mraise\u001b[39;00m \u001b[38;5;167;01mValueError\u001b[39;00m(\n\u001b[0;32m    277\u001b[0m         \u001b[38;5;124mf\u001b[39m\u001b[38;5;124m\"\u001b[39m\u001b[38;5;124mIPython won\u001b[39m\u001b[38;5;124m'\u001b[39m\u001b[38;5;124mt let you open fd=\u001b[39m\u001b[38;5;132;01m{\u001b[39;00mfile\u001b[38;5;132;01m}\u001b[39;00m\u001b[38;5;124m by default \u001b[39m\u001b[38;5;124m\"\u001b[39m\n\u001b[0;32m    278\u001b[0m         \u001b[38;5;124m\"\u001b[39m\u001b[38;5;124mas it is likely to crash IPython. If you know what you are doing, \u001b[39m\u001b[38;5;124m\"\u001b[39m\n\u001b[0;32m    279\u001b[0m         \u001b[38;5;124m\"\u001b[39m\u001b[38;5;124myou can use builtins\u001b[39m\u001b[38;5;124m'\u001b[39m\u001b[38;5;124m open.\u001b[39m\u001b[38;5;124m\"\u001b[39m\n\u001b[0;32m    280\u001b[0m     )\n\u001b[1;32m--> 282\u001b[0m \u001b[38;5;28;01mreturn\u001b[39;00m io_open(file, \u001b[38;5;241m*\u001b[39margs, \u001b[38;5;241m*\u001b[39m\u001b[38;5;241m*\u001b[39mkwargs)\n",
      "\u001b[1;31mFileNotFoundError\u001b[0m: [Errno 2] No such file or directory: 'HIT01_8_summary.txt'"
     ]
    }
   ],
   "source": [
    "from math import log, exp\n",
    "from collections import Counter\n",
    "from nltk.translate.bleu_score import sentence_bleu\n",
    "\n",
    "def get_ngrams(text, order):\n",
    "    \"\"\"\n",
    "    Given a string `text` and an integer `order`, returns a Counter object containing\n",
    "    the frequency counts of all ngrams of size `order` in the string.\n",
    "    \"\"\"\n",
    "    ngrams = Counter()\n",
    "    words = text.split()\n",
    "    for i in range(len(words) - order + 1):\n",
    "        ngram = \" \".join(words[i:i + order])\n",
    "        ngrams[ngram] += 1\n",
    "    return ngrams\n",
    "\n",
    "def calculate_bleu(hypothesis, references):\n",
    "    \"\"\"\n",
    "    Calculate BLEU score between hypothesis and multiple references.\n",
    "    \n",
    "    Args:\n",
    "        hypothesis (str): The machine translation to evaluate\n",
    "        references (list): List of reference translations\n",
    "        \n",
    "    Returns:\n",
    "        tuple: (bleu_score, p1, p2, p3, p4, brevity_penalty)\n",
    "    \"\"\"\n",
    "    # 1. Find the reference with length closest to hypothesis\n",
    "    hyp_len = len(hypothesis.split())\n",
    "    ref_lens = [len(ref.split()) for ref in references]\n",
    "    closest_ref_len = min(ref_lens, key=lambda x: abs(x - hyp_len))\n",
    "    \n",
    "    # 2. Calculate modified precision scores for n-grams (p1, p2, p3, p4)\n",
    "    pns = []\n",
    "    for order in range(1, 5):\n",
    "        # Get hypothesis n-grams\n",
    "        hyp_ngrams = get_ngrams(hypothesis, order)\n",
    "        \n",
    "        # Get maximum reference n-gram counts\n",
    "        max_ref_counts = Counter()\n",
    "        for ref in references:\n",
    "            ref_ngrams = get_ngrams(ref, order)\n",
    "            for ngram, count in ref_ngrams.items():\n",
    "                max_ref_counts[ngram] = max(max_ref_counts[ngram], count)\n",
    "        \n",
    "        # Calculate clipped counts\n",
    "        clipped_counts = Counter()\n",
    "        for ngram, count in hyp_ngrams.items():\n",
    "            clipped_counts[ngram] = min(count, max_ref_counts[ngram])\n",
    "        \n",
    "        # Calculate modified precision\n",
    "        denominator = max(sum(hyp_ngrams.values()), 1)\n",
    "        numerator = sum(clipped_counts.values())\n",
    "        p_n = numerator / denominator\n",
    "        pns.append(p_n)\n",
    "    \n",
    "    # 3. Calculate brevity penalty\n",
    "    bp = 1.0\n",
    "    if hyp_len < closest_ref_len:\n",
    "        bp = exp(1 - closest_ref_len / hyp_len)\n",
    "    \n",
    "    # 4. Calculate final BLEU score\n",
    "    weights = [0.25] * 4\n",
    "    if all(p_n > 0 for p_n in pns):\n",
    "        bleu = bp * exp(sum(w * log(p_n) for w, p_n in zip(weights, pns)))\n",
    "    else:\n",
    "        bleu = 0.0\n",
    "    \n",
    "    p1, p2, p3, p4 = pns\n",
    "    return bleu, p1, p2, p3, p4, bp\n",
    "\n",
    "\n",
    "for failing_method in failing_methods:\n",
    "    # Extract reference explanations\n",
    "    reference_explanations = data[\n",
    "        (data['FailingMethod'] == failing_method) &\n",
    "        (data['GroundTruth'] == 1)\n",
    "    ]['Answer.explanation']\n",
    "    \n",
    "    # Read LLM explanation\n",
    "    with open(failing_method + \"_summary.txt\", \"r\") as file:\n",
    "        llm_explanation = file.readline().strip()\n",
    "    \n",
    "    # Calculate BLEU score\n",
    "    bleu_score, p1, p2, p3, p4, bp = calculate_bleu(\n",
    "        llm_explanation,\n",
    "        [str(exp) for exp in reference_explanations]\n",
    "    )\n",
    "    \n",
    "    print(f\"{failing_method} BLEU Score: {bleu_score:.2f}, \"\n",
    "            f\"P1: {p1:.2f}, P2: {p2:.2f}, P3: {p3:.2f}, P4: {p4:.2f}, BP: {bp:.2f}\")\n"
   ]
  },
  {
   "cell_type": "code",
   "execution_count": 72,
   "metadata": {},
   "outputs": [
    {
     "name": "stdout",
     "output_type": "stream",
     "text": [
      "HIT01_8\n",
      "rougeL - avg score: 0.13, all scores: [0.09638554216867469, 0.27350427350427353, 0.10638297872340424, 0.16326530612244897, 0.1728395061728395, 0.1782178217821782, 0.14516129032258063, 0.19999999999999998, 0.23728813559322032, 0.2204724409448819, 0.048192771084337345, 0.12048192771084336, 0.051948051948051945, 0.05405405405405406, 0.15053763440860213, 0.14814814814814814, 0.2391304347826087, 0.027397260273972605, 0.12280701754385967, 0.07894736842105263, 0.13636363636363635, 0.12195121951219512, 0.21238938053097345, 0.025641025641025644, 0.23655913978494625, 0.125, 0.13592233009708737, 0.1818181818181818, 0.15789473684210525, 0.02777777777777778, 0.027397260273972605, 0.18947368421052632, 0.18604651162790695, 0.08888888888888888, 0.08, 0.14457831325301204, 0.027397260273972605, 0.10526315789473685, 0.10256410256410257, 0.15384615384615383]\n",
      "rouge1 - avg score: 0.22, all scores: [0.16867469879518074, 0.39316239316239315, 0.2553191489361702, 0.2040816326530612, 0.3209876543209877, 0.3366336633663366, 0.27419354838709675, 0.38181818181818183, 0.3389830508474576, 0.4094488188976378, 0.048192771084337345, 0.26506024096385544, 0.10389610389610389, 0.08108108108108107, 0.1935483870967742, 0.25925925925925924, 0.391304347826087, 0.027397260273972605, 0.21052631578947364, 0.07894736842105263, 0.20454545454545453, 0.21951219512195122, 0.35398230088495575, 0.025641025641025644, 0.3225806451612903, 0.17857142857142855, 0.3106796116504854, 0.2828282828282829, 0.2631578947368421, 0.02777777777777778, 0.027397260273972605, 0.2526315789473684, 0.2945736434108527, 0.2222222222222222, 0.13333333333333333, 0.21686746987951808, 0.0821917808219178, 0.13157894736842105, 0.1282051282051282, 0.19780219780219782]\n",
      "rouge2 - avg score: 0.03, all scores: [0.024691358024691357, 0.12173913043478261, 0.0, 0.020833333333333332, 0.07499999999999998, 0.060606060606060615, 0.03278688524590164, 0.09259259259259259, 0.1206896551724138, 0.112, 0.0, 0.024691358024691357, 0.0, 0.0, 0.0, 0.01886792452830189, 0.08888888888888888, 0.0, 0.0, 0.0, 0.023255813953488375, 0.025, 0.07207207207207207, 0.0, 0.10989010989010989, 0.01818181818181818, 0.019801980198019802, 0.041237113402061855, 0.01785714285714286, 0.0, 0.0, 0.04301075268817204, 0.047244094488188976, 0.0, 0.0, 0.024691358024691357, 0.0, 0.027027027027027032, 0.0, 0.04494382022471911]\n",
      "\n",
      "\n",
      "HIT02_24\n",
      "rougeL - avg score: 0.11, all scores: [0.163265306122449, 0.17094017094017094, 0.10416666666666667, 0.12048192771084337, 0.15384615384615385, 0.19565217391304351, 0.18867924528301885, 0.07792207792207792, 0.06, 0.11570247933884296, 0.0, 0.1702127659574468, 0.0909090909090909, 0.10389610389610389, 0.17094017094017094, 0.1098901098901099, 0.09876543209876543, 0.0879120879120879, 0.0, 0.1372549019607843, 0.2156862745098039, 0.125, 0.15172413793103448, 0.0547945205479452, 0.14634146341463417, 0.20370370370370375, 0.1651376146788991, 0.051948051948051945, 0.10389610389610389, 0.1206896551724138, 0.0, 0.10416666666666667, 0.10126582278481011, 0.12048192771084337, 0.09302325581395347, 0.06060606060606061, 0.13043478260869565, 0.0547945205479452, 0.0, 0.02631578947368421]\n",
      "rouge1 - avg score: 0.17, all scores: [0.2448979591836735, 0.2905982905982906, 0.22916666666666663, 0.14457831325301207, 0.2857142857142857, 0.2826086956521739, 0.3584905660377359, 0.10389610389610389, 0.07999999999999999, 0.19834710743801656, 0.0, 0.23404255319148937, 0.20454545454545453, 0.10389610389610389, 0.3076923076923077, 0.13186813186813187, 0.14814814814814817, 0.2197802197802198, 0.0, 0.17647058823529413, 0.2549019607843137, 0.20833333333333334, 0.27586206896551724, 0.0547945205479452, 0.1951219512195122, 0.33333333333333337, 0.2568807339449541, 0.07792207792207792, 0.15584415584415584, 0.29310344827586204, 0.0, 0.25, 0.12658227848101267, 0.1686746987951807, 0.11627906976744186, 0.10101010101010102, 0.2173913043478261, 0.0547945205479452, 0.0, 0.05263157894736842]\n",
      "rouge2 - avg score: 0.01, all scores: [0.08333333333333331, 0.017391304347826087, 0.0, 0.024691358024691357, 0.02247191011235955, 0.08888888888888888, 0.09615384615384616, 0.0, 0.0, 0.0, 0.0, 0.0, 0.0, 0.0, 0.034782608695652174, 0.0, 0.0, 0.02247191011235955, 0.0, 0.02, 0.08, 0.0, 0.013986013986013984, 0.0, 0.049999999999999996, 0.018867924528301883, 0.018691588785046728, 0.0, 0.0, 0.0, 0.0, 0.0, 0.0, 0.0, 0.0, 0.0, 0.0, 0.0, 0.0, 0.0]\n",
      "\n",
      "\n",
      "HIT03_6\n",
      "rougeL - avg score: 0.09, all scores: [0.12121212121212122, 0.07017543859649122, 0.18461538461538463, 0.1408450704225352, 0.06779661016949153, 0.03636363636363636, 0.14285714285714285, 0.09836065573770493, 0.07272727272727272, 0.09655172413793105, 0.06557377049180328, 0.07317073170731708, 0.17910447761194032, 0.11940298507462685, 0.10169491525423728, 0.12962962962962962, 0.0, 0.14492753623188406, 0.06349206349206349, 0.07547169811320754, 0.06060606060606061, 0.039999999999999994, 0.08823529411764705, 0.1320754716981132, 0.08823529411764705, 0.0, 0.0392156862745098, 0.12195121951219512, 0.0, 0.07407407407407407, 0.14035087719298248, 0.13698630136986303, 0.0, 0.08571428571428573, 0.09090909090909091, 0.07407407407407407, 0.0, 0.1917808219178082, 0.11999999999999998, 0.034482758620689655, 0.09523809523809523, 0.051948051948051945, 0.13333333333333333, 0.03508771929824561, 0.10169491525423728, 0.06451612903225806, 0.1, 0.125, 0.06779661016949153, 0.1282051282051282, 0.10344827586206898, 0.1111111111111111, 0.12048192771084337, 0.12195121951219512, 0.14457831325301204, 0.07317073170731708, 0.07894736842105263, 0.0, 0.13888888888888887, 0, 0.17948717948717946, 0.09836065573770493, 0.2028985507246377, 0.09230769230769231, 0.05797101449275363, 0.0, 0.0, 0.1818181818181818, 0.0, 0.039999999999999994, 0.14814814814814814, 0.17073170731707318, 0.13333333333333333, 0.03389830508474576, 0.13559322033898305, 0.09230769230769231, 0.06896551724137931, 0.13636363636363638, 0.12631578947368424, 0.07547169811320754]\n",
      "rouge1 - avg score: 0.14, all scores: [0.18181818181818182, 0.10526315789473685, 0.21538461538461537, 0.2816901408450704, 0.06779661016949153, 0.03636363636363636, 0.14285714285714285, 0.13114754098360656, 0.1818181818181818, 0.13793103448275865, 0.09836065573770493, 0.12195121951219512, 0.29850746268656714, 0.2686567164179105, 0.13559322033898305, 0.2777777777777778, 0.0, 0.23188405797101452, 0.06349206349206349, 0.07547169811320754, 0.15151515151515152, 0.039999999999999994, 0.14705882352941177, 0.24528301886792453, 0.1764705882352941, 0.0, 0.0392156862745098, 0.1951219512195122, 0.0, 0.14814814814814814, 0.22807017543859648, 0.2191780821917808, 0.0, 0.14285714285714285, 0.12121212121212122, 0.07407407407407407, 0.0, 0.27397260273972607, 0.13999999999999999, 0.034482758620689655, 0.11904761904761904, 0.10389610389610389, 0.2074074074074074, 0.07017543859649122, 0.13559322033898305, 0.09677419354838708, 0.1, 0.125, 0.10169491525423728, 0.15384615384615383, 0.13793103448275862, 0.19444444444444445, 0.24096385542168675, 0.1951219512195122, 0.3132530120481927, 0.12195121951219512, 0.15789473684210525, 0.0, 0.2222222222222222, 0.0, 0.28205128205128205, 0.13114754098360656, 0.2898550724637681, 0.12307692307692307, 0.14492753623188406, 0.0, 0.0, 0.2545454545454545, 0.0, 0.039999999999999994, 0.19753086419753085, 0.24390243902439024, 0.2, 0.06779661016949153, 0.20338983050847456, 0.09230769230769231, 0.06896551724137931, 0.2159090909090909, 0.2105263157894737, 0.07547169811320754]\n",
      "rouge2 - avg score: 0.01, all scores: [0.0, 0.0, 0.06349206349206349, 0.0, 0.0, 0.0, 0.0, 0.0, 0.0, 0.0, 0.0, 0.0, 0.0, 0.030769230769230767, 0.0, 0.03773584905660377, 0.0, 0.059701492537313425, 0.0, 0.0, 0.0, 0.0, 0.0, 0.047619047619047616, 0.0, 0.0, 0.0, 0.0, 0.0, 0.0, 0.017857142857142856, 0.056338028169014086, 0.0, 0.0, 0.0, 0.0, 0.0, 0.028169014084507043, 0.02040816326530612, 0.0, 0.0, 0.0, 0.030075187969924814, 0.0, 0.0, 0.0, 0.0, 0.032258064516129024, 0.0, 0.0, 0.0, 0.0, 0.0, 0.049999999999999996, 0.02469135802469136, 0.0, 0.0, 0.0, 0.0, 0.0, 0.052631578947368425, 0.0, 0.059701492537313425, 0.0, 0.0, 0.0, 0.0, 0.07547169811320754, 0.0, 0.0, 0.05063291139240506, 0.075, 0.034482758620689655, 0.0, 0.0, 0.0, 0.0, 0.04597701149425288, 0.0, 0.0]\n",
      "\n",
      "\n",
      "HIT04_7\n",
      "rougeL - avg score: 0.07, all scores: [0.17142857142857143, 0.13592233009708737, 0.022222222222222223, 0.096, 0.022222222222222223, 0.0594059405940594, 0.021505376344086023, 0.044444444444444446, 0.10084033613445378, 0.022222222222222223, 0.1, 0.0, 0.022988505747126436, 0.07272727272727272, 0.021052631578947368, 0.11764705882352941, 0.037037037037037035, 0.021505376344086023, 0.0396039603960396, 0.08403361344537814, 0.10370370370370371, 0.09615384615384615, 0.17142857142857143, 0.0625, 0.07272727272727272, 0.0625, 0.07339449541284404, 0.06382978723404255, 0.0, 0.0631578947368421, 0.061855670103092786, 0.0, 0.08333333333333333, 0.11666666666666665, 0.08974358974358974, 0.10185185185185183, 0.043010752688172046, 0.12068965517241378, 0.07142857142857142, 0.021978021978021973, 0.1201716738197425, 0.12280701754385966, 0.0792079207920792, 0.13750000000000004, 0.037037037037037035, 0.08333333333333333, 0.10810810810810811, 0.08, 0.061855670103092786, 0.02247191011235955, 0.09523809523809523, 0.125, 0.0, 0.0625, 0.10169491525423728, 0.099009900990099, 0.03809523809523809, 0.10606060606060605, 0.0, 0.05084745762711864, 0.06060606060606061, 0.0425531914893617, 0.058823529411764705, 0.10687022900763359, 0.13333333333333333, 0.09090909090909091, 0.04597701149425287, 0.10638297872340424, 0.021505376344086023, 0.08333333333333333, 0.06060606060606061, 0.042105263157894736, 0.058823529411764705, 0.04347826086956521, 0.0404040404040404, 0.08, 0.1276595744680851, 0.08602150537634409, 0.023255813953488372, 0.07339449541284404, 0.140625, 0.09677419354838708, 0.022727272727272724, 0.06956521739130433, 0.12307692307692307, 0.022222222222222223, 0.043010752688172046, 0.07142857142857142, 0.061855670103092786, 0.07766990291262135, 0.1456953642384106, 0.043956043956043946, 0.10714285714285714, 0.12068965517241378, 0.02247191011235955, 0.058823529411764705, 0.022222222222222223, 0.042105263157894736, 0.15503875968992248, 0.10738255033557047]\n",
      "rouge1 - avg score: 0.11, all scores: [0.3714285714285715, 0.17475728155339806, 0.022222222222222223, 0.17600000000000002, 0.022222222222222223, 0.0594059405940594, 0.06451612903225806, 0.06666666666666667, 0.18487394957983194, 0.022222222222222223, 0.16666666666666663, 0.0, 0.022988505747126436, 0.12727272727272726, 0.021052631578947368, 0.11764705882352941, 0.05555555555555556, 0.043010752688172046, 0.099009900990099, 0.11764705882352941, 0.16296296296296298, 0.1346153846153846, 0.2857142857142857, 0.0625, 0.10909090909090909, 0.08333333333333333, 0.16513761467889906, 0.0851063829787234, 0.0, 0.0631578947368421, 0.061855670103092786, 0.0, 0.125, 0.18333333333333338, 0.1923076923076923, 0.2222222222222222, 0.043010752688172046, 0.15517241379310343, 0.125, 0.043956043956043946, 0.240343347639485, 0.19298245614035087, 0.0792079207920792, 0.23750000000000002, 0.05555555555555556, 0.125, 0.18018018018018017, 0.12, 0.061855670103092786, 0.0449438202247191, 0.20634920634920637, 0.17857142857142858, 0.0, 0.08333333333333333, 0.13559322033898302, 0.17821782178217824, 0.09523809523809523, 0.18181818181818182, 0.0, 0.08474576271186442, 0.0808080808080808, 0.0425531914893617, 0.1372549019607843, 0.16793893129770995, 0.18333333333333338, 0.10909090909090909, 0.04597701149425287, 0.1702127659574468, 0.021505376344086023, 0.14583333333333331, 0.06060606060606061, 0.0631578947368421, 0.0980392156862745, 0.04347826086956521, 0.0404040404040404, 0.09999999999999999, 0.1276595744680851, 0.08602150537634409, 0.023255813953488372, 0.09174311926605504, 0.26562499999999994, 0.16129032258064516, 0.022727272727272724, 0.12173913043478259, 0.2153846153846154, 0.022222222222222223, 0.06451612903225806, 0.125, 0.10309278350515462, 0.07766990291262135, 0.2649006622516556, 0.043956043956043946, 0.10714285714285714, 0.20689655172413796, 0.02247191011235955, 0.0784313725490196, 0.044444444444444446, 0.08421052631578947, 0.23255813953488372, 0.29530201342281875]\n",
      "rouge2 - avg score: 0.01, all scores: [0.043478260869565216, 0.0, 0.0, 0.016260162601626015, 0.0, 0.0, 0.0, 0.0, 0.0, 0.0, 0.01694915254237288, 0.0, 0.0, 0.0, 0.0, 0.0, 0.0, 0.0, 0.0, 0.017094017094017092, 0.030075187969924814, 0.019607843137254905, 0.09708737864077671, 0.0, 0.0, 0.021276595744680854, 0.0, 0.0, 0.0, 0.0, 0.0, 0.0, 0.0, 0.01694915254237288, 0.012987012987012988, 0.009345794392523366, 0.0, 0.01754385964912281, 0.0, 0.0, 0.05194805194805195, 0.0, 0.0, 0.025316455696202535, 0.01886792452830189, 0.0, 0.03669724770642202, 0.0, 0.0, 0.0, 0.0, 0.0, 0.0, 0.0, 0.0, 0.0, 0.0, 0.015384615384615384, 0.0, 0.0, 0.0, 0.0, 0.0, 0.015503875968992251, 0.01694915254237288, 0.0, 0.0, 0.021739130434782608, 0.0, 0.0, 0.0, 0.0, 0.0, 0.0, 0.0, 0.0, 0.043478260869565216, 0.0, 0.0, 0.0, 0.015873015873015876, 0.032786885245901634, 0.0, 0.0, 0.078125, 0.0, 0.0, 0.0, 0.0, 0.0, 0.0, 0.0, 0.0, 0.0, 0.0, 0.0, 0.0, 0.0, 0.015748031496062992, 0.0]\n",
      "\n",
      "\n",
      "HIT05_35\n",
      "rougeL - avg score: 0.08, all scores: [0.08, 0.07017543859649122, 0.14492753623188404, 0.04081632653061225, 0.11538461538461539, 0.0425531914893617, 0.0851063829787234, 0.07407407407407407, 0.03846153846153846, 0.0909090909090909, 0.09230769230769231, 0.0925925925925926, 0.14285714285714285, 0.1090909090909091, 0.0909090909090909, 0.0392156862745098, 0.0, 0.08888888888888888, 0.048780487804878044, 0.03225806451612904, 0.11111111111111112, 0.1111111111111111, 0.10666666666666666, 0.1639344262295082, 0.11320754716981131, 0.11320754716981131, 0.09999999999999999, 0.08450704225352113, 0.07407407407407407, 0.049999999999999996, 0.03773584905660377, 0.048780487804878044, 0.049999999999999996, 0.10714285714285714, 0.1111111111111111, 0.07894736842105264, 0.034188034188034185, 0.0, 0.11764705882352941, 0.06944444444444445, 0.14285714285714285, 0.09230769230769231, 0.04347826086956522, 0.13333333333333333, 0.0851063829787234, 0.10169491525423728, 0.09356725146198831, 0.0909090909090909, 0.06349206349206349, 0.09615384615384615, 0.10526315789473684, 0.07142857142857142, 0.0816326530612245, 0.0, 0.07142857142857142, 0.11650485436893203, 0.029850746268656712, 0.10526315789473684, 0.1694915254237288, 0.07272727272727272]\n",
      "rouge1 - avg score: 0.13, all scores: [0.24, 0.10526315789473685, 0.2318840579710145, 0.0816326530612245, 0.15384615384615383, 0.0851063829787234, 0.1702127659574468, 0.14814814814814814, 0.11538461538461539, 0.1212121212121212, 0.18461538461538463, 0.20370370370370372, 0.21428571428571427, 0.18181818181818182, 0.0909090909090909, 0.11764705882352941, 0.0, 0.13333333333333333, 0.048780487804878044, 0.03225806451612904, 0.2, 0.2222222222222222, 0.16, 0.1639344262295082, 0.18867924528301885, 0.18867924528301885, 0.125, 0.16901408450704225, 0.07407407407407407, 0.049999999999999996, 0.11320754716981131, 0.048780487804878044, 0.049999999999999996, 0.14285714285714285, 0.1851851851851852, 0.14473684210526314, 0.11965811965811965, 0.0, 0.1568627450980392, 0.125, 0.17857142857142858, 0.18461538461538463, 0.04347826086956522, 0.13333333333333333, 0.1276595744680851, 0.1694915254237288, 0.19883040935672514, 0.0909090909090909, 0.06349206349206349, 0.23076923076923078, 0.19548872180451124, 0.17857142857142858, 0.12244897959183675, 0.0, 0.10714285714285714, 0.1553398058252427, 0.059701492537313425, 0.16541353383458646, 0.1694915254237288, 0.14545454545454545]\n",
      "rouge2 - avg score: 0.01, all scores: [0.041666666666666664, 0.0, 0.0, 0.0, 0.0, 0.0, 0.0, 0.0, 0.0, 0.0, 0.0, 0.018867924528301886, 0.037037037037037035, 0.0, 0.0, 0.0, 0.0, 0.0, 0.0, 0.0, 0.022727272727272724, 0.038461538461538464, 0.0, 0.0, 0.0392156862745098, 0.0392156862745098, 0.0, 0.0, 0.0, 0.0, 0.0, 0.0, 0.0, 0.0, 0.0, 0.0, 0.0, 0.0, 0.0, 0.0, 0.07407407407407407, 0.0, 0.0, 0.0, 0.0, 0.0, 0.03550295857988166, 0.0, 0.0, 0.0, 0.030534351145038163, 0.0, 0.0, 0.0, 0.0, 0.0, 0.0, 0.015267175572519082, 0.0, 0.0]\n",
      "\n",
      "\n",
      "HIT06_51\n",
      "rougeL - avg score: 0.06, all scores: [0.11999999999999998, 0.09195402298850575, 0.0, 0.10687022900763357, 0.07874015748031496, 0.14285714285714285, 0.06896551724137931, 0.05504587155963304, 0.07058823529411765, 0.07142857142857142, 0.02380952380952381, 0.06122448979591836, 0.04597701149425287, 0.050420168067226885, 0.08928571428571429, 0.024390243902439022, 0.04597701149425287, 0.06956521739130435, 0.06818181818181818, 0.0410958904109589, 0.07207207207207207, 0.1238938053097345, 0.07476635514018691, 0.04081632653061224, 0.023529411764705882, 0.047058823529411764, 0.11382113821138211, 0.02531645569620253, 0.06611570247933883, 0.0449438202247191, 0.04301075268817204, 0.0449438202247191, 0.11111111111111109, 0.047058823529411764, 0.10101010101010101, 0.072992700729927, 0.11881188118811879, 0.0, 0.08163265306122448, 0.06451612903225808, 0.04395604395604395, 0.07692307692307691, 0.0930232558139535, 0.08695652173913043, 0.046511627906976744, 0.046511627906976744, 0.10457516339869281, 0.0, 0.022222222222222223, 0.07142857142857142, 0.04838709677419355, 0.03571428571428571, 0.0, 0.0898876404494382, 0.05952380952380952, 0.05999999999999999, 0.07339449541284404, 0.02247191011235955, 0.05797101449275362, 0.021739130434782608]\n",
      "rouge1 - avg score: 0.09, all scores: [0.13999999999999999, 0.11494252873563217, 0.0, 0.13740458015267176, 0.09448818897637795, 0.17142857142857143, 0.06896551724137931, 0.05504587155963304, 0.09411764705882353, 0.125, 0.02380952380952381, 0.06122448979591836, 0.06896551724137931, 0.08403361344537814, 0.08928571428571429, 0.07317073170731707, 0.04597701149425287, 0.10434782608695652, 0.09090909090909091, 0.10958904109589042, 0.16216216216216217, 0.1238938053097345, 0.13084112149532712, 0.06122448979591836, 0.047058823529411764, 0.047058823529411764, 0.19512195121951217, 0.02531645569620253, 0.09917355371900827, 0.06741573033707864, 0.04301075268817204, 0.0449438202247191, 0.16666666666666666, 0.047058823529411764, 0.1414141414141414, 0.145985401459854, 0.13861386138613863, 0.0, 0.08163265306122448, 0.12903225806451615, 0.04395604395604395, 0.13846153846153844, 0.14728682170542637, 0.10869565217391304, 0.046511627906976744, 0.046511627906976744, 0.18300653594771243, 0.0, 0.022222222222222223, 0.11904761904761904, 0.0967741935483871, 0.07142857142857142, 0.0, 0.13483146067415727, 0.07142857142857144, 0.09999999999999999, 0.09174311926605505, 0.0449438202247191, 0.10144927536231883, 0.021739130434782608]\n",
      "rouge2 - avg score: 0.01, all scores: [0.0, 0.0, 0.0, 0.046511627906976744, 0.016, 0.043478260869565216, 0.0, 0.0, 0.024096385542168676, 0.018181818181818184, 0.0, 0.0, 0.0, 0.0, 0.0, 0.0, 0.0, 0.0, 0.0, 0.0, 0.01834862385321101, 0.0, 0.0380952380952381, 0.020833333333333332, 0.0, 0.0, 0.0, 0.0, 0.0, 0.0, 0.0, 0.0, 0.018867924528301886, 0.0, 0.0, 0.0, 0.0202020202020202, 0.0, 0.0, 0.0, 0.0, 0.0, 0.015624999999999997, 0.022222222222222223, 0.023809523809523808, 0.023809523809523808, 0.039735099337748346, 0.0, 0.0, 0.024390243902439025, 0.0, 0.0, 0.0, 0.022988505747126436, 0.012048192771084338, 0.0, 0.018691588785046728, 0.0, 0.0, 0.0]\n",
      "\n",
      "\n",
      "HIT07_33\n",
      "rougeL - avg score: 0.11, all scores: [0.06382978723404255, 0.1, 0.05128205128205128, 0.12962962962962962, 0.0898876404494382, 0.21311475409836067, 0.06818181818181819, 0.12903225806451613, 0.06521739130434782, 0.05263157894736842, 0.13270142180094785, 0.11235955056179774, 0.06666666666666667, 0.05263157894736842, 0.08333333333333333, 0.17543859649122806, 0.13043478260869565, 0.10101010101010101, 0.05263157894736842, 0.058823529411764705, 0.1443298969072165, 0.19354838709677416, 0.08602150537634409, 0.1509433962264151, 0.17142857142857143, 0.07058823529411765, 0.10126582278481013, 0.16216216216216217, 0.14285714285714288, 0.026666666666666665, 0.09195402298850575, 0.024999999999999998, 0.09523809523809525, 0.04938271604938271, 0.12962962962962962, 0.12244897959183675, 0.02631578947368421, 0.12121212121212122, 0.024390243902439022, 0.1, 0.09302325581395349, 0.13953488372093023, 0.15476190476190474, 0.0625, 0.023255813953488372, 0.10638297872340427, 0.0, 0.17204301075268819, 0.1276595744680851, 0.08695652173913045, 0.2051282051282051, 0.15841584158415842, 0.037037037037037035, 0.18947368421052635, 0.11904761904761905, 0.16260162601626016, 0.07317073170731707, 0.21276595744680854, 0.047058823529411764, 0.17543859649122806]\n",
      "rouge1 - avg score: 0.14, all scores: [0.0851063829787234, 0.12, 0.05128205128205128, 0.2222222222222222, 0.0898876404494382, 0.3770491803278688, 0.06818181818181819, 0.17204301075268819, 0.06521739130434782, 0.05263157894736842, 0.2559241706161138, 0.11235955056179774, 0.06666666666666667, 0.05263157894736842, 0.125, 0.29824561403508776, 0.13043478260869565, 0.12121212121212122, 0.05263157894736842, 0.058823529411764705, 0.18556701030927836, 0.27956989247311825, 0.12903225806451613, 0.2452830188679245, 0.2476190476190476, 0.07058823529411765, 0.12658227848101267, 0.25225225225225223, 0.1836734693877551, 0.026666666666666665, 0.09195402298850575, 0.024999999999999998, 0.09523809523809525, 0.04938271604938271, 0.1851851851851852, 0.1836734693877551, 0.02631578947368421, 0.1616161616161616, 0.024390243902439022, 0.12, 0.09302325581395349, 0.16279069767441862, 0.2738095238095238, 0.08333333333333333, 0.023255813953488372, 0.1276595744680851, 0.0, 0.17204301075268819, 0.2553191489361702, 0.08695652173913045, 0.35897435897435903, 0.21782178217821785, 0.037037037037037035, 0.2947368421052632, 0.14285714285714285, 0.2764227642276422, 0.07317073170731707, 0.2553191489361702, 0.047058823529411764, 0.29824561403508776]\n",
      "rouge2 - avg score: 0.02, all scores: [0.021739130434782608, 0.0, 0.0, 0.0, 0.0, 0.11666666666666667, 0.0, 0.0, 0.0, 0.0, 0.05741626794258373, 0.0, 0.0, 0.0, 0.02127659574468085, 0.035398230088495575, 0.022222222222222223, 0.02061855670103093, 0.0, 0.0, 0.042105263157894736, 0.04395604395604396, 0.0, 0.05769230769230769, 0.0, 0.0, 0.0, 0.03669724770642201, 0.020833333333333332, 0.0, 0.0, 0.0, 0.0, 0.0, 0.018867924528301886, 0.020833333333333332, 0.0, 0.0, 0.0, 0.02040816326530612, 0.0, 0.0, 0.03614457831325301, 0.0, 0.0, 0.043478260869565216, 0.0, 0.04395604395604396, 0.043478260869565216, 0.022222222222222223, 0.08695652173913043, 0.0202020202020202, 0.0, 0.021505376344086023, 0.02439024390243903, 0.049586776859504134, 0.0, 0.06521739130434782, 0.0, 0.035398230088495575]\n",
      "\n",
      "\n",
      "HIT08_54\n",
      "rougeL - avg score: 0.09, all scores: [0.13333333333333333, 0.14285714285714288, 0.07692307692307693, 0.14893617021276595, 0.0, 0.05263157894736842, 0.06451612903225806, 0.17857142857142858, 0.14814814814814814, 0.12121212121212122, 0.11214953271028037, 0.2111801242236025, 0.12658227848101267, 0.10666666666666667, 0.03225806451612903, 0.0819672131147541, 0.0303030303030303, 0.08, 0.08275862068965517, 0.11363636363636362, 0.14814814814814814, 0.056338028169014086, 0.0303030303030303, 0.06451612903225808, 0.03125, 0.05, 0.0963855421686747, 0.025974025974025972, 0.08695652173913043, 0.03076923076923077, 0.1, 0.03076923076923077, 0.12820512820512822, 0.0, 0.09615384615384616, 0.0821917808219178, 0.05405405405405405, 0.14814814814814814, 0.10126582278481011, 0.15126050420168066, 0.12820512820512822, 0.0, 0.1, 0.1686746987951807, 0.0, 0.07692307692307693, 0.09090909090909091, 0.10416666666666667, 0.14814814814814814, 0.14634146341463414, 0.10294117647058823, 0.19834710743801656, 0.075, 0.051948051948051945, 0.0, 0.06593406593406594, 0.0, 0.12121212121212119, 0.1103448275862069, 0.1081081081081081]\n",
      "rouge1 - avg score: 0.14, all scores: [0.24444444444444444, 0.2, 0.10256410256410257, 0.1702127659574468, 0.0, 0.07894736842105264, 0.06451612903225806, 0.2857142857142857, 0.19753086419753085, 0.196969696969697, 0.1869158878504673, 0.37267080745341613, 0.1518987341772152, 0.13333333333333333, 0.06451612903225806, 0.13114754098360656, 0.0606060606060606, 0.08, 0.2206896551724138, 0.20454545454545456, 0.2222222222222222, 0.11267605633802817, 0.0303030303030303, 0.08602150537634408, 0.03125, 0.05, 0.12048192771084339, 0.07792207792207792, 0.08695652173913043, 0.03076923076923077, 0.12500000000000003, 0.03076923076923077, 0.20512820512820515, 0.0, 0.19230769230769232, 0.0821917808219178, 0.05405405405405405, 0.19753086419753085, 0.10126582278481011, 0.25210084033613445, 0.20512820512820515, 0.0, 0.1, 0.24096385542168677, 0.0, 0.12820512820512822, 0.1212121212121212, 0.16666666666666666, 0.19753086419753085, 0.22764227642276422, 0.19117647058823528, 0.38016528925619836, 0.15, 0.07792207792207792, 0.0, 0.13186813186813187, 0.0, 0.18181818181818182, 0.2620689655172414, 0.13513513513513514]\n",
      "rouge2 - avg score: 0.03, all scores: [0.04545454545454545, 0.058823529411764705, 0.0, 0.06521739130434782, 0.0, 0.027027027027027025, 0.03333333333333333, 0.03636363636363636, 0.05063291139240506, 0.06153846153846154, 0.01904761904761905, 0.12578616352201258, 0.051948051948051945, 0.0, 0.0, 0.016666666666666666, 0.0, 0.0, 0.02797202797202797, 0.046511627906976744, 0.05063291139240506, 0.0, 0.0, 0.04395604395604395, 0.0, 0.0, 0.024691358024691357, 0.0, 0.029850746268656716, 0.0, 0.02564102564102564, 0.0, 0.07894736842105263, 0.0, 0.019607843137254898, 0.0, 0.0, 0.05063291139240506, 0.025974025974025972, 0.05128205128205128, 0.05263157894736842, 0.0, 0.02564102564102564, 0.04938271604938271, 0.0, 0.05263157894736842, 0.0, 0.0, 0.05063291139240506, 0.03305785123966942, 0.029850746268656716, 0.10084033613445377, 0.02564102564102564, 0.0, 0.0, 0.0, 0.0, 0.041237113402061855, 0.04195804195804195, 0.02777777777777778]\n",
      "\n",
      "\n"
     ]
    }
   ],
   "source": [
    "from rouge_score import rouge_scorer\n",
    "\n",
    "scorer = rouge_scorer.RougeScorer(['rougeL', 'rouge1', 'rouge2'], use_stemmer=True)\n",
    "\n",
    "failing_methods = data['FailingMethod'].unique()\n",
    "\n",
    "for failing_method in failing_methods:\n",
    "    # Extract reference explanations from the data\n",
    "    reference_explanations = data[\n",
    "        (data['FailingMethod'] == failing_method) & \n",
    "        (data['GroundTruth'] == 1)\n",
    "    ]['Answer.explanation']\n",
    "    \n",
    "    with open(failing_method + \"_summary\" + \".txt\", \"r\") as file:\n",
    "        llm_explanation = file.read().strip()  # Read entire content as a string and strip extra whitespace\n",
    "    \n",
    "    # Compute ROUGE scores individually for each reference\n",
    "    scores = {key: [] for key in ['rougeL', 'rouge1', 'rouge2']}\n",
    "    for ref in reference_explanations:\n",
    "        ref_str = str(ref).strip()  # Ensure ref is a string and strip extra whitespace\n",
    "        temp_scores = scorer.score(ref_str, llm_explanation)\n",
    "\n",
    "        for key in temp_scores:\n",
    "            scores[key].append(temp_scores[key].fmeasure)  # Use the F-measure as the score\n",
    "\n",
    "    # Print the scores for each failing method\n",
    "    print(f'{failing_method}')\n",
    "    for key in scores:\n",
    "        print(f'{key} - avg score: {sum(scores[key]) / len(scores[key]):.2f}, all scores: {scores[key]}')\n",
    "\n",
    "    print(\"\\n\")\n"
   ]
  },
  {
   "cell_type": "code",
   "execution_count": null,
   "metadata": {},
   "outputs": [],
   "source": [
    "\n"
   ]
  }
 ],
 "metadata": {
  "kernelspec": {
   "display_name": "DSWebscrape",
   "language": "python",
   "name": "python3"
  },
  "language_info": {
   "codemirror_mode": {
    "name": "ipython",
    "version": 3
   },
   "file_extension": ".py",
   "mimetype": "text/x-python",
   "name": "python",
   "nbconvert_exporter": "python",
   "pygments_lexer": "ipython3",
   "version": "3.10.8"
  }
 },
 "nbformat": 4,
 "nbformat_minor": 2
}
