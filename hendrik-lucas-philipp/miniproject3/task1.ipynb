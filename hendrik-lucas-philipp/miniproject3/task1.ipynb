{
 "cells": [
  {
   "cell_type": "markdown",
   "id": "899893f41aedf30d",
   "metadata": {},
   "source": [
    "# Task 1\n",
    "\n",
    "## Data preparation"
   ]
  },
  {
   "cell_type": "code",
   "execution_count": 241,
   "id": "initial_id",
   "metadata": {
    "ExecuteTime": {
     "end_time": "2025-01-22T13:26:42.496349Z",
     "start_time": "2025-01-22T13:26:42.326858Z"
    },
    "collapsed": true
   },
   "outputs": [],
   "source": [
    "import pandas as pd\n",
    "import numpy as np\n",
    "from sklearn.ensemble import RandomForestClassifier, GradientBoostingClassifier\n",
    "from tqdm.notebook import tqdm\n",
    "from sklearn.tree import DecisionTreeClassifier, plot_tree\n",
    "from sklearn.model_selection import GroupShuffleSplit, cross_validate, cross_val_score, StratifiedKFold\n",
    "from sklearn.metrics import precision_score, recall_score\n",
    "import matplotlib.pyplot as plt\n",
    "import seaborn as sns\n",
    "from tqdm import tqdm"
   ]
  },
  {
   "cell_type": "code",
   "execution_count": 242,
   "id": "6629de57d3d4ebc5",
   "metadata": {
    "ExecuteTime": {
     "end_time": "2025-01-22T13:18:18.450754Z",
     "start_time": "2025-01-22T13:18:18.427654Z"
    }
   },
   "outputs": [
    {
     "data": {
      "text/html": [
       "<div>\n",
       "<style scoped>\n",
       "    .dataframe tbody tr th:only-of-type {\n",
       "        vertical-align: middle;\n",
       "    }\n",
       "\n",
       "    .dataframe tbody tr th {\n",
       "        vertical-align: top;\n",
       "    }\n",
       "\n",
       "    .dataframe thead th {\n",
       "        text-align: right;\n",
       "    }\n",
       "</style>\n",
       "<table border=\"1\" class=\"dataframe\">\n",
       "  <thead>\n",
       "    <tr style=\"text-align: right;\">\n",
       "      <th></th>\n",
       "      <th>Answer.ID</th>\n",
       "      <th>FailingMethod</th>\n",
       "      <th>Question.ID</th>\n",
       "      <th>Answer.duration</th>\n",
       "      <th>Answer.confidence</th>\n",
       "      <th>Answer.difficulty</th>\n",
       "      <th>GroundTruth</th>\n",
       "      <th>TP</th>\n",
       "      <th>TN</th>\n",
       "      <th>FN</th>\n",
       "      <th>...</th>\n",
       "      <th>Worker.ID</th>\n",
       "      <th>Worker.score</th>\n",
       "      <th>Worker.profession</th>\n",
       "      <th>Worker.yearsOfExperience</th>\n",
       "      <th>Worker.age</th>\n",
       "      <th>Worker.gender</th>\n",
       "      <th>Worker.whereLearnedToCode</th>\n",
       "      <th>Worker.country</th>\n",
       "      <th>Worker.programmingLanguage</th>\n",
       "      <th>correctness</th>\n",
       "    </tr>\n",
       "  </thead>\n",
       "  <tbody>\n",
       "    <tr>\n",
       "      <th>0</th>\n",
       "      <td>261</td>\n",
       "      <td>HIT01_8</td>\n",
       "      <td>0</td>\n",
       "      <td>90.984</td>\n",
       "      <td>4</td>\n",
       "      <td>2</td>\n",
       "      <td>0</td>\n",
       "      <td>0</td>\n",
       "      <td>1</td>\n",
       "      <td>0</td>\n",
       "      <td>...</td>\n",
       "      <td>832cg-7G1i-462:73eI-8E-2g-985</td>\n",
       "      <td>5</td>\n",
       "      <td>Undergraduate_Student</td>\n",
       "      <td>7.0</td>\n",
       "      <td>21</td>\n",
       "      <td>Male</td>\n",
       "      <td>High School</td>\n",
       "      <td>United States</td>\n",
       "      <td>Java; C++; C#</td>\n",
       "      <td>1</td>\n",
       "    </tr>\n",
       "    <tr>\n",
       "      <th>1</th>\n",
       "      <td>262</td>\n",
       "      <td>HIT01_8</td>\n",
       "      <td>0</td>\n",
       "      <td>133.711</td>\n",
       "      <td>5</td>\n",
       "      <td>1</td>\n",
       "      <td>0</td>\n",
       "      <td>0</td>\n",
       "      <td>1</td>\n",
       "      <td>0</td>\n",
       "      <td>...</td>\n",
       "      <td>98ce7A-4i-507</td>\n",
       "      <td>4</td>\n",
       "      <td>Undergraduate_Student</td>\n",
       "      <td>10.0</td>\n",
       "      <td>25</td>\n",
       "      <td>Female</td>\n",
       "      <td>High School;University;Web</td>\n",
       "      <td>United States</td>\n",
       "      <td>c#</td>\n",
       "      <td>1</td>\n",
       "    </tr>\n",
       "    <tr>\n",
       "      <th>2</th>\n",
       "      <td>263</td>\n",
       "      <td>HIT01_8</td>\n",
       "      <td>0</td>\n",
       "      <td>77.696</td>\n",
       "      <td>5</td>\n",
       "      <td>2</td>\n",
       "      <td>0</td>\n",
       "      <td>0</td>\n",
       "      <td>1</td>\n",
       "      <td>0</td>\n",
       "      <td>...</td>\n",
       "      <td>881AC0I2E-625:135cI3E-7e8-86</td>\n",
       "      <td>5</td>\n",
       "      <td>Professional_Developer</td>\n",
       "      <td>7.0</td>\n",
       "      <td>24</td>\n",
       "      <td>Male</td>\n",
       "      <td>High School;University;Web</td>\n",
       "      <td>United States</td>\n",
       "      <td>C++;Java;PHP</td>\n",
       "      <td>1</td>\n",
       "    </tr>\n",
       "    <tr>\n",
       "      <th>3</th>\n",
       "      <td>264</td>\n",
       "      <td>HIT01_8</td>\n",
       "      <td>0</td>\n",
       "      <td>46.644</td>\n",
       "      <td>1</td>\n",
       "      <td>1</td>\n",
       "      <td>0</td>\n",
       "      <td>0</td>\n",
       "      <td>1</td>\n",
       "      <td>0</td>\n",
       "      <td>...</td>\n",
       "      <td>270eG-5c6A3-46:65eI-2i-2I-9-36</td>\n",
       "      <td>5</td>\n",
       "      <td>Professional_Developer</td>\n",
       "      <td>20.0</td>\n",
       "      <td>38</td>\n",
       "      <td>Male</td>\n",
       "      <td>High School;University;Other On the job</td>\n",
       "      <td>USA</td>\n",
       "      <td>C#</td>\n",
       "      <td>1</td>\n",
       "    </tr>\n",
       "    <tr>\n",
       "      <th>4</th>\n",
       "      <td>265</td>\n",
       "      <td>HIT01_8</td>\n",
       "      <td>0</td>\n",
       "      <td>215.416</td>\n",
       "      <td>5</td>\n",
       "      <td>5</td>\n",
       "      <td>0</td>\n",
       "      <td>0</td>\n",
       "      <td>1</td>\n",
       "      <td>0</td>\n",
       "      <td>...</td>\n",
       "      <td>844Cg1g5e1-17:255ei-8G8E85-8</td>\n",
       "      <td>3</td>\n",
       "      <td>Undergraduate_Student</td>\n",
       "      <td>5.0</td>\n",
       "      <td>19</td>\n",
       "      <td>Male</td>\n",
       "      <td>High School;University;Web</td>\n",
       "      <td>United States</td>\n",
       "      <td>C++; Java</td>\n",
       "      <td>1</td>\n",
       "    </tr>\n",
       "    <tr>\n",
       "      <th>...</th>\n",
       "      <td>...</td>\n",
       "      <td>...</td>\n",
       "      <td>...</td>\n",
       "      <td>...</td>\n",
       "      <td>...</td>\n",
       "      <td>...</td>\n",
       "      <td>...</td>\n",
       "      <td>...</td>\n",
       "      <td>...</td>\n",
       "      <td>...</td>\n",
       "      <td>...</td>\n",
       "      <td>...</td>\n",
       "      <td>...</td>\n",
       "      <td>...</td>\n",
       "      <td>...</td>\n",
       "      <td>...</td>\n",
       "      <td>...</td>\n",
       "      <td>...</td>\n",
       "      <td>...</td>\n",
       "      <td>...</td>\n",
       "      <td>...</td>\n",
       "    </tr>\n",
       "    <tr>\n",
       "      <th>2575</th>\n",
       "      <td>2316</td>\n",
       "      <td>HIT08_54</td>\n",
       "      <td>128</td>\n",
       "      <td>220.420</td>\n",
       "      <td>2</td>\n",
       "      <td>4</td>\n",
       "      <td>0</td>\n",
       "      <td>0</td>\n",
       "      <td>1</td>\n",
       "      <td>0</td>\n",
       "      <td>...</td>\n",
       "      <td>1171ea-4g-6C-73-8</td>\n",
       "      <td>3</td>\n",
       "      <td>Graduate_Student</td>\n",
       "      <td>2.0</td>\n",
       "      <td>28</td>\n",
       "      <td>Male</td>\n",
       "      <td>University</td>\n",
       "      <td>USA</td>\n",
       "      <td>C#</td>\n",
       "      <td>1</td>\n",
       "    </tr>\n",
       "    <tr>\n",
       "      <th>2576</th>\n",
       "      <td>2317</td>\n",
       "      <td>HIT08_54</td>\n",
       "      <td>128</td>\n",
       "      <td>322.790</td>\n",
       "      <td>4</td>\n",
       "      <td>3</td>\n",
       "      <td>0</td>\n",
       "      <td>0</td>\n",
       "      <td>0</td>\n",
       "      <td>0</td>\n",
       "      <td>...</td>\n",
       "      <td>66AC-5a0g-47-9:1443IA-7C-6e967</td>\n",
       "      <td>5</td>\n",
       "      <td>Professional_Developer</td>\n",
       "      <td>17.0</td>\n",
       "      <td>39</td>\n",
       "      <td>Male</td>\n",
       "      <td>University;Web</td>\n",
       "      <td>USA</td>\n",
       "      <td>C#; VB.NET; Java</td>\n",
       "      <td>0</td>\n",
       "    </tr>\n",
       "    <tr>\n",
       "      <th>2577</th>\n",
       "      <td>2318</td>\n",
       "      <td>HIT08_54</td>\n",
       "      <td>128</td>\n",
       "      <td>159.530</td>\n",
       "      <td>5</td>\n",
       "      <td>1</td>\n",
       "      <td>0</td>\n",
       "      <td>0</td>\n",
       "      <td>1</td>\n",
       "      <td>0</td>\n",
       "      <td>...</td>\n",
       "      <td>106iG8G-9I-9-80:590CG-6G-7i-71-9</td>\n",
       "      <td>4</td>\n",
       "      <td>Professional_Developer</td>\n",
       "      <td>10.0</td>\n",
       "      <td>31</td>\n",
       "      <td>Male</td>\n",
       "      <td>High School;University;Web;Other work</td>\n",
       "      <td>usa</td>\n",
       "      <td>C++</td>\n",
       "      <td>1</td>\n",
       "    </tr>\n",
       "    <tr>\n",
       "      <th>2578</th>\n",
       "      <td>2319</td>\n",
       "      <td>HIT08_54</td>\n",
       "      <td>128</td>\n",
       "      <td>68.578</td>\n",
       "      <td>5</td>\n",
       "      <td>1</td>\n",
       "      <td>0</td>\n",
       "      <td>0</td>\n",
       "      <td>1</td>\n",
       "      <td>0</td>\n",
       "      <td>...</td>\n",
       "      <td>1221iC8A5A242:495CC9e6a691:11aE2c-4c-9-86</td>\n",
       "      <td>4</td>\n",
       "      <td>Undergraduate_Student</td>\n",
       "      <td>4.0</td>\n",
       "      <td>19</td>\n",
       "      <td>Male</td>\n",
       "      <td>University;Web;Other FIRST Robotics</td>\n",
       "      <td>United States</td>\n",
       "      <td>C++</td>\n",
       "      <td>1</td>\n",
       "    </tr>\n",
       "    <tr>\n",
       "      <th>2579</th>\n",
       "      <td>2320</td>\n",
       "      <td>HIT08_54</td>\n",
       "      <td>128</td>\n",
       "      <td>72.605</td>\n",
       "      <td>4</td>\n",
       "      <td>4</td>\n",
       "      <td>0</td>\n",
       "      <td>0</td>\n",
       "      <td>1</td>\n",
       "      <td>0</td>\n",
       "      <td>...</td>\n",
       "      <td>1520Ea3c0E3-65:9AI0g4a-386</td>\n",
       "      <td>5</td>\n",
       "      <td>Graduate_Student</td>\n",
       "      <td>3.0</td>\n",
       "      <td>24</td>\n",
       "      <td>Male</td>\n",
       "      <td>University;Web</td>\n",
       "      <td>India</td>\n",
       "      <td>Java</td>\n",
       "      <td>1</td>\n",
       "    </tr>\n",
       "  </tbody>\n",
       "</table>\n",
       "<p>2580 rows × 26 columns</p>\n",
       "</div>"
      ],
      "text/plain": [
       "      Answer.ID FailingMethod  Question.ID  Answer.duration  \\\n",
       "0           261       HIT01_8            0           90.984   \n",
       "1           262       HIT01_8            0          133.711   \n",
       "2           263       HIT01_8            0           77.696   \n",
       "3           264       HIT01_8            0           46.644   \n",
       "4           265       HIT01_8            0          215.416   \n",
       "...         ...           ...          ...              ...   \n",
       "2575       2316      HIT08_54          128          220.420   \n",
       "2576       2317      HIT08_54          128          322.790   \n",
       "2577       2318      HIT08_54          128          159.530   \n",
       "2578       2319      HIT08_54          128           68.578   \n",
       "2579       2320      HIT08_54          128           72.605   \n",
       "\n",
       "      Answer.confidence  Answer.difficulty  GroundTruth  TP  TN  FN  ...  \\\n",
       "0                     4                  2            0   0   1   0  ...   \n",
       "1                     5                  1            0   0   1   0  ...   \n",
       "2                     5                  2            0   0   1   0  ...   \n",
       "3                     1                  1            0   0   1   0  ...   \n",
       "4                     5                  5            0   0   1   0  ...   \n",
       "...                 ...                ...          ...  ..  ..  ..  ...   \n",
       "2575                  2                  4            0   0   1   0  ...   \n",
       "2576                  4                  3            0   0   0   0  ...   \n",
       "2577                  5                  1            0   0   1   0  ...   \n",
       "2578                  5                  1            0   0   1   0  ...   \n",
       "2579                  4                  4            0   0   1   0  ...   \n",
       "\n",
       "                                      Worker.ID Worker.score  \\\n",
       "0                 832cg-7G1i-462:73eI-8E-2g-985            5   \n",
       "1                                 98ce7A-4i-507            4   \n",
       "2                  881AC0I2E-625:135cI3E-7e8-86            5   \n",
       "3                270eG-5c6A3-46:65eI-2i-2I-9-36            5   \n",
       "4                  844Cg1g5e1-17:255ei-8G8E85-8            3   \n",
       "...                                         ...          ...   \n",
       "2575                          1171ea-4g-6C-73-8            3   \n",
       "2576             66AC-5a0g-47-9:1443IA-7C-6e967            5   \n",
       "2577           106iG8G-9I-9-80:590CG-6G-7i-71-9            4   \n",
       "2578  1221iC8A5A242:495CC9e6a691:11aE2c-4c-9-86            4   \n",
       "2579                 1520Ea3c0E3-65:9AI0g4a-386            5   \n",
       "\n",
       "           Worker.profession Worker.yearsOfExperience  Worker.age  \\\n",
       "0      Undergraduate_Student                      7.0          21   \n",
       "1      Undergraduate_Student                     10.0          25   \n",
       "2     Professional_Developer                      7.0          24   \n",
       "3     Professional_Developer                     20.0          38   \n",
       "4      Undergraduate_Student                      5.0          19   \n",
       "...                      ...                      ...         ...   \n",
       "2575        Graduate_Student                      2.0          28   \n",
       "2576  Professional_Developer                     17.0          39   \n",
       "2577  Professional_Developer                     10.0          31   \n",
       "2578   Undergraduate_Student                      4.0          19   \n",
       "2579        Graduate_Student                      3.0          24   \n",
       "\n",
       "      Worker.gender                Worker.whereLearnedToCode  Worker.country  \\\n",
       "0              Male                              High School   United States   \n",
       "1            Female               High School;University;Web   United States   \n",
       "2              Male               High School;University;Web   United States   \n",
       "3              Male  High School;University;Other On the job             USA   \n",
       "4              Male               High School;University;Web   United States   \n",
       "...             ...                                      ...             ...   \n",
       "2575           Male                               University             USA   \n",
       "2576           Male                           University;Web             USA   \n",
       "2577           Male    High School;University;Web;Other work             usa   \n",
       "2578           Male      University;Web;Other FIRST Robotics   United States   \n",
       "2579           Male                           University;Web           India   \n",
       "\n",
       "     Worker.programmingLanguage  correctness  \n",
       "0                 Java; C++; C#            1  \n",
       "1                            c#            1  \n",
       "2                  C++;Java;PHP            1  \n",
       "3                            C#            1  \n",
       "4                     C++; Java            1  \n",
       "...                         ...          ...  \n",
       "2575                         C#            1  \n",
       "2576           C#; VB.NET; Java            0  \n",
       "2577                        C++            1  \n",
       "2578                        C++            1  \n",
       "2579                       Java            1  \n",
       "\n",
       "[2580 rows x 26 columns]"
      ]
     },
     "execution_count": 242,
     "metadata": {},
     "output_type": "execute_result"
    }
   ],
   "source": [
    "df = pd.read_csv('../../data/answerList_data.csv')\n",
    "df['correctness'] = (((df['GroundTruth'] == 0.0) & (df['Answer.option'] == 'NO')) | (\n",
    "            (df['GroundTruth'] == 1.0) & (df['Answer.option'] == 'YES'))).astype(int)\n",
    "\n",
    "df"
   ]
  },
  {
   "cell_type": "code",
   "execution_count": 243,
   "id": "ab127292e946fabe",
   "metadata": {
    "ExecuteTime": {
     "end_time": "2025-01-22T13:18:18.574557Z",
     "start_time": "2025-01-22T13:18:18.559324Z"
    }
   },
   "outputs": [],
   "source": [
    "def calculate_ttr(text):\n",
    "    tokens = text.split()\n",
    "    unique_tokens = set(tokens)\n",
    "    ttr = len(unique_tokens) / len(tokens) if tokens else 0\n",
    "    return ttr\n",
    "\n",
    "\n",
    "df['TTR'] = df['Answer.explanation'].astype(str).apply(calculate_ttr)"
   ]
  },
  {
   "cell_type": "code",
   "execution_count": 244,
   "id": "45ce83578a834016",
   "metadata": {
    "ExecuteTime": {
     "end_time": "2025-01-22T13:18:18.708246Z",
     "start_time": "2025-01-22T13:18:18.703787Z"
    }
   },
   "outputs": [],
   "source": [
    "df['explanation_size'] = df['Answer.explanation'].astype(str).apply(len)\n",
    "df['Answer.option.int'] = df['Answer.option'].map({'NO': 0, 'IDK': 0.5, 'YES': 1})\n",
    "df['Worker.gender.int'] = df['Worker.gender'].map({'Male': -1, 'Other': 0, 'Female': 1})\n",
    "df['Worker.profession.int'] = df['Worker.profession'].map(\n",
    "    {'Other': 0, 'Hobbyist': 1, 'Undergraduate_Student': 2, 'Graduate_Student': 3, 'Professional_Developer': 4})\n"
   ]
  },
  {
   "cell_type": "code",
   "execution_count": 245,
   "id": "9e551301ce07686b",
   "metadata": {
    "ExecuteTime": {
     "end_time": "2025-01-22T13:18:18.780881Z",
     "start_time": "2025-01-22T13:18:18.766861Z"
    }
   },
   "outputs": [],
   "source": [
    "df_holdout = df[df['FailingMethod'].isin(['HIT01_8', 'HIT02_24'])]\n",
    "df_train = df[~df['FailingMethod'].isin(['HIT01_8', 'HIT02_24'])]\n",
    "\n",
    "df_train_students = df_train[df_train['Worker.profession'].isin(['Undergraduate_Student', 'Graduate_Student'])]\n",
    "df_train_non_students = df_train[~df_train['Worker.profession'].isin(['Undergraduate_Student', 'Graduate_Student'])]\n",
    "df_holdout_students = df_holdout[df_holdout['Worker.profession'].isin(['Undergraduate_Student', 'Graduate_Student'])]\n",
    "df_holdout_non_students = df_holdout[\n",
    "    ~df_holdout['Worker.profession'].isin(['Undergraduate_Student', 'Graduate_Student'])]"
   ]
  },
  {
   "cell_type": "code",
   "execution_count": 246,
   "id": "125ffbb2",
   "metadata": {},
   "outputs": [],
   "source": [
    "# We balance the dataset by taking the same number of samples for each class\n",
    "def balance_df(df: pd.DataFrame) -> pd.DataFrame:\n",
    "    df_0 = df[df['correctness'] == 0]\n",
    "    df_1 = df[df['correctness'] == 1]\n",
    "\n",
    "    if len(df_0) > len(df_1):\n",
    "        df_0_balanced = df_0.sample(len(df_1))\n",
    "        df_balanced = pd.concat([df_0_balanced, df_1])\n",
    "    else:\n",
    "        df_1_balanced = df_1.sample(len(df_0))\n",
    "        df_balanced = pd.concat([df_0, df_1_balanced])\n",
    "\n",
    "    df_balanced = df_balanced.sample(frac=1).reset_index(drop=True)\n",
    "\n",
    "    return df_balanced"
   ]
  },
  {
   "cell_type": "code",
   "execution_count": 247,
   "id": "4b084665",
   "metadata": {},
   "outputs": [
    {
     "data": {
      "text/plain": [
       "correctness\n",
       "0    297\n",
       "1    297\n",
       "dtype: int64"
      ]
     },
     "execution_count": 247,
     "metadata": {},
     "output_type": "execute_result"
    }
   ],
   "source": [
    "df_train_students_balanced = balance_df(df_train_students)\n",
    "df_train_students_balanced.groupby('correctness').size()"
   ]
  },
  {
   "cell_type": "code",
   "execution_count": 248,
   "id": "f1e18d8c",
   "metadata": {},
   "outputs": [
    {
     "data": {
      "text/plain": [
       "correctness\n",
       "0    562\n",
       "1    562\n",
       "dtype: int64"
      ]
     },
     "execution_count": 248,
     "metadata": {},
     "output_type": "execute_result"
    }
   ],
   "source": [
    "df_train_non_students_balanced = balance_df(df_train_non_students)\n",
    "df_train_non_students_balanced.groupby('correctness').size()\n"
   ]
  },
  {
   "cell_type": "code",
   "execution_count": 249,
   "id": "97bc8e30662ceed9",
   "metadata": {
    "ExecuteTime": {
     "end_time": "2025-01-22T13:18:18.853739Z",
     "start_time": "2025-01-22T13:18:18.849938Z"
    }
   },
   "outputs": [],
   "source": [
    "input_cols = ['Worker.score', 'Answer.duration', 'TTR', 'explanation_size', 'Answer.confidence',\n",
    "              'Answer.difficulty'] # only use these input columns, because specified in the task\n",
    "output_col = 'correctness'\n"
   ]
  },
  {
   "cell_type": "markdown",
   "id": "f7c0eccdb520137a",
   "metadata": {},
   "source": [
    "---\n",
    "# Evaluating the classifier on student and non-student data"
   ]
  },
  {
   "cell_type": "markdown",
   "id": "551af0a0",
   "metadata": {},
   "source": [
    "Training a RandomForestClassifier on the student-only train set and comparing predictions on student-only vs non-student holdout set: "
   ]
  },
  {
   "cell_type": "code",
   "execution_count": 250,
   "id": "aa5c1d21",
   "metadata": {},
   "outputs": [],
   "source": [
    "def evaluate_model(df_train, df_holdout_students, df_holdout_non_students):\n",
    "\n",
    "    clf = RandomForestClassifier(random_state=42)\n",
    "    clf.fit(df_train[input_cols], df_train[output_col])\n",
    "\n",
    "    student_precision = precision_score(df_holdout_students[output_col], clf.predict(df_holdout_students[input_cols]))\n",
    "    student_recall = recall_score(df_holdout_students[output_col], clf.predict(df_holdout_students[input_cols]))\n",
    "\n",
    "    non_student_precision = precision_score(df_holdout_non_students[output_col], clf.predict(df_holdout_non_students[input_cols]))\n",
    "    non_student_recall = recall_score(df_holdout_non_students[output_col], clf.predict(df_holdout_non_students[input_cols]))\n",
    "\n",
    "    return student_precision, student_recall, non_student_precision, non_student_recall\n",
    "\n",
    "def evaluate_model_print(df_train, df_holdout_students, df_holdout_non_students):\n",
    "    student_precision, student_recall, non_student_precision, non_student_recall = evaluate_model(df_train, df_holdout_students, df_holdout_non_students)\n",
    "\n",
    "    print(\"Student precision:\", np.mean(student_precision))\n",
    "    print(\"Student recall:\", np.mean(student_recall))\n",
    "    print(\"Student F1 score:\", 2 * np.mean(student_precision) * np.mean(student_recall) / (np.mean(student_precision) + np.mean(student_recall)))\n",
    "    print(\"Non-student precision:\", np.mean(non_student_precision))\n",
    "    print(\"Non-student recall:\", np.mean(non_student_recall))\n",
    "    print(\"Non-student F1 score:\", 2 * np.mean(non_student_precision) * np.mean(non_student_recall) / (np.mean(non_student_precision) + np.mean(non_student_recall)))"
   ]
  },
  {
   "cell_type": "code",
   "execution_count": 251,
   "id": "fc78d808",
   "metadata": {},
   "outputs": [
    {
     "name": "stdout",
     "output_type": "stream",
     "text": [
      "Student precision: 0.726027397260274\n",
      "Student recall: 0.7681159420289855\n",
      "Student F1 score: 0.7464788732394365\n",
      "Non-student precision: 0.78125\n",
      "Non-student recall: 0.8064516129032258\n",
      "Non-student F1 score: 0.7936507936507936\n"
     ]
    }
   ],
   "source": [
    "evaluate_model_print(df_train_students_balanced, df_holdout_students, df_holdout_non_students)"
   ]
  },
  {
   "cell_type": "markdown",
   "id": "2e654953",
   "metadata": {},
   "source": [
    "We expected the classifier to perform better on the student-only holdout set, because it was explicitly trained on student-only data (and we expect the non-student data to differ).\n",
    "Strangely, the F1 score is even slightly better when predicting on the non-student data.\n",
    "We inspect the data to gain a better understanding of these results."
   ]
  },
  {
   "cell_type": "code",
   "execution_count": 252,
   "id": "db3c437b",
   "metadata": {},
   "outputs": [
    {
     "name": "stdout",
     "output_type": "stream",
     "text": [
      "count    103.000000\n",
      "mean       0.669903\n",
      "std        0.472547\n",
      "min        0.000000\n",
      "25%        0.000000\n",
      "50%        1.000000\n",
      "75%        1.000000\n",
      "max        1.000000\n",
      "Name: correctness, dtype: float64\n",
      "       Worker.score  Answer.duration         TTR  explanation_size  \\\n",
      "count    103.000000       103.000000  103.000000        103.000000   \n",
      "mean       3.970874       231.341951    0.899959        154.543689   \n",
      "std        0.868358       277.551315    0.098046        168.151179   \n",
      "min        3.000000        17.746000    0.519481         11.000000   \n",
      "25%        3.000000        86.631000    0.840407         58.500000   \n",
      "50%        4.000000       148.875000    0.923077         98.000000   \n",
      "75%        5.000000       249.111500    1.000000        165.000000   \n",
      "max        5.000000      2105.108000    1.000000        970.000000   \n",
      "\n",
      "       Answer.confidence  Answer.difficulty  \n",
      "count         103.000000         103.000000  \n",
      "mean            3.864078           2.446602  \n",
      "std             1.527837           1.265904  \n",
      "min             0.000000           1.000000  \n",
      "25%             3.000000           1.000000  \n",
      "50%             4.000000           2.000000  \n",
      "75%             5.000000           3.000000  \n",
      "max             5.000000           5.000000  \n"
     ]
    }
   ],
   "source": [
    "print(df_holdout_students[output_col].describe())\n",
    "print(df_holdout_students[input_cols].describe())\n"
   ]
  },
  {
   "cell_type": "code",
   "execution_count": 253,
   "id": "735a7d31",
   "metadata": {},
   "outputs": [
    {
     "name": "stdout",
     "output_type": "stream",
     "text": [
      "count    217.000000\n",
      "mean       0.714286\n",
      "std        0.452798\n",
      "min        0.000000\n",
      "25%        0.000000\n",
      "50%        1.000000\n",
      "75%        1.000000\n",
      "max        1.000000\n",
      "Name: correctness, dtype: float64\n",
      "       Worker.score  Answer.duration         TTR  explanation_size  \\\n",
      "count    217.000000       217.000000  217.000000        217.000000   \n",
      "mean       4.271889       471.678005    0.890624        150.428571   \n",
      "std        0.830435      1263.769459    0.096088        116.544562   \n",
      "min        3.000000         7.328000    0.581818          2.000000   \n",
      "25%        4.000000        70.300000    0.826087         64.000000   \n",
      "50%        5.000000       133.565000    0.900000        130.000000   \n",
      "75%        5.000000       322.857000    1.000000        194.000000   \n",
      "max        5.000000     10791.162000    1.000000        591.000000   \n",
      "\n",
      "       Answer.confidence  Answer.difficulty  \n",
      "count         217.000000         217.000000  \n",
      "mean            3.986175           2.626728  \n",
      "std             1.267395           1.270690  \n",
      "min             0.000000           1.000000  \n",
      "25%             4.000000           2.000000  \n",
      "50%             4.000000           3.000000  \n",
      "75%             5.000000           4.000000  \n",
      "max             5.000000           5.000000  \n"
     ]
    }
   ],
   "source": [
    "print(df_holdout_non_students[output_col].describe())\n",
    "print(df_holdout_non_students[input_cols].describe())\n"
   ]
  },
  {
   "cell_type": "markdown",
   "id": "d83c4231",
   "metadata": {},
   "source": [
    "We see that the input columns have a pretty similar structure. Only the explanation size and the answer confidence means differ about 10%. The average answer duration is way higher for the non-students, but this seems to be caused by the extreme high maximum value that seems to be an outlier.\n",
    "More interesting is the difference in the output values that we try to predict: In the non-student holdout set we see a 'mean' of 0.71 which means that we have more positives than negatives in this data. In comparison, for the student-only data it is closer to 50%. \n",
    "Lets use our balancing to see whether this might be the cause."
   ]
  },
  {
   "cell_type": "code",
   "execution_count": 254,
   "id": "a0b8164b",
   "metadata": {},
   "outputs": [
    {
     "data": {
      "text/plain": [
       "correctness\n",
       "0    34\n",
       "1    34\n",
       "dtype: int64"
      ]
     },
     "execution_count": 254,
     "metadata": {},
     "output_type": "execute_result"
    }
   ],
   "source": [
    "df_holdout_students_balanced = balance_df(df_holdout_students)\n",
    "df_holdout_students_balanced.groupby('correctness').size()"
   ]
  },
  {
   "cell_type": "code",
   "execution_count": 255,
   "id": "79ddfb53",
   "metadata": {},
   "outputs": [
    {
     "data": {
      "text/plain": [
       "correctness\n",
       "0    62\n",
       "1    62\n",
       "dtype: int64"
      ]
     },
     "execution_count": 255,
     "metadata": {},
     "output_type": "execute_result"
    }
   ],
   "source": [
    "df_holdout_non_students_balanced = balance_df(df_holdout_non_students)\n",
    "df_holdout_non_students_balanced.groupby('correctness').size()"
   ]
  },
  {
   "cell_type": "code",
   "execution_count": 256,
   "id": "e38a6d57",
   "metadata": {},
   "outputs": [
    {
     "name": "stdout",
     "output_type": "stream",
     "text": [
      "Student precision: 0.6\n",
      "Student recall: 0.8823529411764706\n",
      "Student F1 score: 0.7142857142857143\n",
      "Non-student precision: 0.5783132530120482\n",
      "Non-student recall: 0.7741935483870968\n",
      "Non-student F1 score: 0.6620689655172414\n"
     ]
    }
   ],
   "source": [
    "\n",
    "evaluate_model_print(df_train_students_balanced, df_holdout_students_balanced, df_holdout_non_students_balanced)\n"
   ]
  },
  {
   "cell_type": "markdown",
   "id": "c14f44c4",
   "metadata": {},
   "source": [
    "Here the results are as expected. This strengthens our hypotheses that the bad results of the classifier trained on student-only data predicting non-student data points might be due to the distribution of the data.\n",
    "\n",
    "---\n",
    "\n",
    "## Question 1: Gradually adding more non-students to the holdout set\n",
    "\n",
    "We see a clear downward trend for the recall if we gradually add more and more non-student data to the holdout set.\n",
    "For the recall, a loss of 5% is reached with 50% non-student data added. With more non-student data, it further decreases but does not come down to a 10% loss.\n",
    "\n",
    "The precision seems to have random ups and downs around 0.6, so we cannot really determine a ratio for when it drops by 5% or more.\n",
    "\n",
    "\n",
    "(original recall: 0.885 -> 5% loss: 0.84, 10% loss: 0.797)\n",
    "(original precision: 0.6 -> 5% loss: 0.57, 10% loss: 0.54)"
   ]
  },
  {
   "cell_type": "code",
   "execution_count": 257,
   "id": "361e5dbc",
   "metadata": {},
   "outputs": [
    {
     "data": {
      "image/png": "[encoded data removed]",
      "text/plain": [
       "<Figure size 640x480 with 1 Axes>"
      ]
     },
     "metadata": {},
     "output_type": "display_data"
    },
    {
     "data": {
      "image/png": "[encoded data removed]",
      "text/plain": [
       "<Figure size 640x480 with 1 Axes>"
      ]
     },
     "metadata": {},
     "output_type": "display_data"
    }
   ],
   "source": [
    "precisions = []\n",
    "recalls = []\n",
    "for i in range(10):\n",
    "    # add i*10% from non-student data to student data\n",
    "    non_student_data_points = df_holdout_non_students_balanced.sample(frac=0.1*i, random_state=0)\n",
    "    df_holdout_mixed = pd.concat([df_holdout_students_balanced, non_student_data_points])\n",
    "    _, _, non_student_precision, non_student_recall = evaluate_model(df_train_students_balanced, df_holdout_students, df_holdout_mixed)\n",
    "    precisions.append(np.mean(non_student_precision))\n",
    "    recalls.append(np.mean(non_student_recall))\n",
    "\n",
    "plt.plot(precisions, label='Precision')\n",
    "plt.show()\n",
    "plt.plot(recalls, label='Recall')\n",
    "plt.show()\n",
    "    "
   ]
  },
  {
   "cell_type": "markdown",
   "id": "6a4b9061",
   "metadata": {},
   "source": [
    "---\n",
    "## Question 2: Gradually adding non-students to train data\n",
    "\n",
    "Here again, we can see the upward trend as expected, but it is not very strong. Both precision and recall are pretty far away from the original model's performance.\n",
    "\n",
    "We wonder why the balancing of the input and output data has such a strong effect on our model's performance while making the holdout data more similar to the train data (or the other way around) does not really have a high impact. Our assumption is that the model does not really generalize so it is very affected by changes to class distribution. "
   ]
  },
  {
   "cell_type": "code",
   "execution_count": 261,
   "id": "e714e2d4",
   "metadata": {},
   "outputs": [
    {
     "data": {
      "image/png": "[encoded data removed]",
      "text/plain": [
       "<Figure size 640x480 with 1 Axes>"
      ]
     },
     "metadata": {},
     "output_type": "display_data"
    },
    {
     "data": {
      "image/png": "[encoded data removed]",
      "text/plain": [
       "<Figure size 640x480 with 1 Axes>"
      ]
     },
     "metadata": {},
     "output_type": "display_data"
    }
   ],
   "source": [
    "precisions = []\n",
    "recalls = []\n",
    "for i in range(10):\n",
    "    # add i*10% from non-student data to student data\n",
    "    non_student_data_points = df_train_non_students_balanced.sample(frac=0.1*i, random_state=42)\n",
    "    df_train_mixed = pd.concat([df_train_students_balanced, non_student_data_points])\n",
    "    _, _, non_student_precision, non_student_recall = evaluate_model(df_train_mixed, df_holdout_students, df_holdout_non_students_balanced)\n",
    "    precisions.append(np.mean(non_student_precision))\n",
    "    recalls.append(np.mean(non_student_recall))\n",
    "\n",
    "plt.plot(precisions, label='Precision')\n",
    "plt.show()\n",
    "plt.plot(recalls, label='Recall')\n",
    "plt.show()"
   ]
  },
  {
   "cell_type": "code",
   "execution_count": 262,
   "id": "d02ba2d7",
   "metadata": {},
   "outputs": [
    {
     "name": "stdout",
     "output_type": "stream",
     "text": [
      "Student precision: 0.7638376383763837\n",
      "Student recall: 0.9241071428571429\n",
      "Student F1 score: 0.8363636363636364\n",
      "Non-student precision: 0.7638376383763837\n",
      "Non-student recall: 0.9241071428571429\n",
      "Non-student F1 score: 0.8363636363636364\n"
     ]
    }
   ],
   "source": [
    "evaluate_model_print(df_train, df_holdout, df_holdout)"
   ]
  }
 ],
 "metadata": {
  "kernelspec": {
   "display_name": ".venv",
   "language": "python",
   "name": "python3"
  },
  "language_info": {
   "codemirror_mode": {
    "name": "ipython",
    "version": 3
   },
   "file_extension": ".py",
   "mimetype": "text/x-python",
   "name": "python",
   "nbconvert_exporter": "python",
   "pygments_lexer": "ipython3",
   "version": "3.13.1"
  }
 },
 "nbformat": 4,
 "nbformat_minor": 5
}
