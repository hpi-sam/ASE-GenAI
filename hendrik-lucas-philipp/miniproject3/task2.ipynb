{
 "cells": [
  {
   "cell_type": "markdown",
   "metadata": {},
   "source": [
    "1. pick one bug with all its explanations\n",
    "2. manually write a merged explanation\n",
    "3. find a metric to evaluate the quality of the merged explanation\n",
    "4. set a threshold\n",
    "5. try for different numbers of raw explanations merged\n",
    "6. qualitatively evaluate"
   ]
  }
 ],
 "metadata": {
  "language_info": {
   "name": "python"
  }
 },
 "nbformat": 4,
 "nbformat_minor": 2
}
